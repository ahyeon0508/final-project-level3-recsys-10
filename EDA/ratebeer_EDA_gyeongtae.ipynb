{
 "cells": [
  {
   "cell_type": "code",
   "execution_count": 1,
   "metadata": {},
   "outputs": [],
   "source": [
    "import os, sys\n",
    "import pandas as pd\n",
    "import numpy as np\n",
    "import matplotlib\n",
    "import time\n",
    "import matplotlib.pyplot as plt"
   ]
  },
  {
   "cell_type": "markdown",
   "metadata": {},
   "source": [
    "# 파일 불러오기\n",
    "데이터 출처 - https://cseweb.ucsd.edu/~jmcauley/datasets.html#multi_aspect\n",
    "\n",
    "1. 행간이 \"\\n\" 으로 구분된 \".json\" file 업로드 (```pd.read_json```)\n",
    "2. 결측치 1개 제거 (마지막행이 업로드시 이슈가 발생하는 것 같다) (```pd.DataFrame.dropna()```)"
   ]
  },
  {
   "cell_type": "code",
   "execution_count": 5,
   "metadata": {},
   "outputs": [],
   "source": [
    "ratebeer = pd.read_json(\"../data/new_ratebeer.json\", lines=True).dropna()"
   ]
  },
  {
   "cell_type": "markdown",
   "metadata": {},
   "source": [
    "# 데이터 탐색"
   ]
  },
  {
   "cell_type": "markdown",
   "metadata": {},
   "source": [
    "## 변수 설명\n",
    "참고자료 - https://www.ratebeer.com/Story.asp?StoryID=292\n",
    "\n",
    "- `beer/name`: 맥주 이름(상표)\n",
    "- `beer/beerId`: 맥주 일련번호(코드)\n",
    "- `beer/brewerId`: 맥주 생산자 일련번호\n",
    "- `beer/ABV`: 맥주 알코올 도수(Alcohol by volume, %)\n",
    "- `beer/style`: 맥주 카테고리\n",
    "- `review/appearance`: 평가점수-외관(look) \n",
    "- `review/aroma`: 평가점수-향기(smell)\n",
    "- `review/palate`: 평가점수-the sense of taste(feel)\n",
    "- `review/taste`: 평가점수-맛\n",
    "- `review/overall`: 평가점수-종합\n",
    "- `review/time`: 평가 시간\n",
    "- `review/profileName`: 유저ID\n",
    "- `review/text`: 리뷰 코멘트\n",
    "  \n",
    "  \n",
    "\n"
   ]
  },
  {
   "cell_type": "code",
   "execution_count": 6,
   "metadata": {},
   "outputs": [
    {
     "data": {
      "text/html": [
       "<div>\n",
       "<style scoped>\n",
       "    .dataframe tbody tr th:only-of-type {\n",
       "        vertical-align: middle;\n",
       "    }\n",
       "\n",
       "    .dataframe tbody tr th {\n",
       "        vertical-align: top;\n",
       "    }\n",
       "\n",
       "    .dataframe thead th {\n",
       "        text-align: right;\n",
       "    }\n",
       "</style>\n",
       "<table border=\"1\" class=\"dataframe\">\n",
       "  <thead>\n",
       "    <tr style=\"text-align: right;\">\n",
       "      <th></th>\n",
       "      <th>beer/name</th>\n",
       "      <th>beer/beerId</th>\n",
       "      <th>beer/brewerId</th>\n",
       "      <th>beer/ABV</th>\n",
       "      <th>beer/style</th>\n",
       "      <th>review/appearance</th>\n",
       "      <th>review/aroma</th>\n",
       "      <th>review/palate</th>\n",
       "      <th>review/taste</th>\n",
       "      <th>review/overall</th>\n",
       "      <th>review/time</th>\n",
       "      <th>review/profileName</th>\n",
       "      <th>review/text</th>\n",
       "    </tr>\n",
       "  </thead>\n",
       "  <tbody>\n",
       "    <tr>\n",
       "      <th>0</th>\n",
       "      <td>John Harvards Simcoe IPA</td>\n",
       "      <td>63836</td>\n",
       "      <td>8481.0</td>\n",
       "      <td>5.4</td>\n",
       "      <td>India Pale Ale &amp;#40;IPA&amp;#41;</td>\n",
       "      <td>4/5</td>\n",
       "      <td>6/10</td>\n",
       "      <td>3/5</td>\n",
       "      <td>6/10</td>\n",
       "      <td>13/20</td>\n",
       "      <td>1.157587e+09</td>\n",
       "      <td>hopdog</td>\n",
       "      <td>On tap at the Springfield, PA location. Poured...</td>\n",
       "    </tr>\n",
       "    <tr>\n",
       "      <th>1</th>\n",
       "      <td>John Harvards Simcoe IPA</td>\n",
       "      <td>63836</td>\n",
       "      <td>8481.0</td>\n",
       "      <td>5.4</td>\n",
       "      <td>India Pale Ale &amp;#40;IPA&amp;#41;</td>\n",
       "      <td>4/5</td>\n",
       "      <td>6/10</td>\n",
       "      <td>4/5</td>\n",
       "      <td>7/10</td>\n",
       "      <td>13/20</td>\n",
       "      <td>1.157242e+09</td>\n",
       "      <td>TomDecapolis</td>\n",
       "      <td>On tap at the John Harvards in Springfield PA....</td>\n",
       "    </tr>\n",
       "    <tr>\n",
       "      <th>2</th>\n",
       "      <td>John Harvards Cristal Pilsner</td>\n",
       "      <td>71716</td>\n",
       "      <td>8481.0</td>\n",
       "      <td>5</td>\n",
       "      <td>Bohemian Pilsener</td>\n",
       "      <td>4/5</td>\n",
       "      <td>5/10</td>\n",
       "      <td>3/5</td>\n",
       "      <td>6/10</td>\n",
       "      <td>14/20</td>\n",
       "      <td>9.586944e+08</td>\n",
       "      <td>PhillyBeer2112</td>\n",
       "      <td>UPDATED: FEB 19, 2003 Springfield, PA. I've ne...</td>\n",
       "    </tr>\n",
       "  </tbody>\n",
       "</table>\n",
       "</div>"
      ],
      "text/plain": [
       "                       beer/name beer/beerId  beer/brewerId beer/ABV  \\\n",
       "0       John Harvards Simcoe IPA       63836         8481.0      5.4   \n",
       "1       John Harvards Simcoe IPA       63836         8481.0      5.4   \n",
       "2  John Harvards Cristal Pilsner       71716         8481.0        5   \n",
       "\n",
       "                     beer/style review/appearance review/aroma review/palate  \\\n",
       "0  India Pale Ale &#40;IPA&#41;               4/5         6/10           3/5   \n",
       "1  India Pale Ale &#40;IPA&#41;               4/5         6/10           4/5   \n",
       "2             Bohemian Pilsener               4/5         5/10           3/5   \n",
       "\n",
       "  review/taste review/overall   review/time review/profileName  \\\n",
       "0         6/10          13/20  1.157587e+09             hopdog   \n",
       "1         7/10          13/20  1.157242e+09       TomDecapolis   \n",
       "2         6/10          14/20  9.586944e+08     PhillyBeer2112   \n",
       "\n",
       "                                         review/text  \n",
       "0  On tap at the Springfield, PA location. Poured...  \n",
       "1  On tap at the John Harvards in Springfield PA....  \n",
       "2  UPDATED: FEB 19, 2003 Springfield, PA. I've ne...  "
      ]
     },
     "execution_count": 6,
     "metadata": {},
     "output_type": "execute_result"
    }
   ],
   "source": [
    "ratebeer.head(3)"
   ]
  },
  {
   "cell_type": "code",
   "execution_count": 11,
   "metadata": {},
   "outputs": [
    {
     "name": "stdout",
     "output_type": "stream",
     "text": [
      "[ratebeer] 데이터 길이 :  2,924,163\n",
      "[ratebeer] 변수 개수  :  13\n"
     ]
    }
   ],
   "source": [
    "n_data, n_var = ratebeer.shape\n",
    "print('[ratebeer] 데이터 길이 : ',format(n_data, ','))\n",
    "print('[ratebeer] 변수 개수  : ', format(n_var, ','))"
   ]
  },
  {
   "cell_type": "code",
   "execution_count": 12,
   "metadata": {},
   "outputs": [
    {
     "data": {
      "text/plain": [
       "beer/name             0\n",
       "beer/beerId           0\n",
       "beer/brewerId         0\n",
       "beer/ABV              0\n",
       "beer/style            0\n",
       "review/appearance     0\n",
       "review/aroma          0\n",
       "review/palate         0\n",
       "review/taste          0\n",
       "review/overall        0\n",
       "review/time           0\n",
       "review/profileName    0\n",
       "review/text           0\n",
       "dtype: int64"
      ]
     },
     "execution_count": 12,
     "metadata": {},
     "output_type": "execute_result"
    }
   ],
   "source": [
    "# 표면상 데이터 결측치 확인\n",
    "ratebeer.isna().sum()"
   ]
  },
  {
   "cell_type": "markdown",
   "metadata": {},
   "source": [
    "### beer/name - 맥주 이름 (상표) 탐색"
   ]
  },
  {
   "cell_type": "code",
   "execution_count": 126,
   "metadata": {},
   "outputs": [
    {
     "name": "stdout",
     "output_type": "stream",
     "text": [
      "[ratebeer] 맥주의 종류: 110,299가지\n",
      "[ratebeer] 맥주의 일련번호: 110,369가지\n"
     ]
    }
   ],
   "source": [
    "# beer/name 맥주 이름 (상표) 탐색\n",
    "n_item = ratebeer['beer/name'].nunique()\n",
    "print(f\"[ratebeer] 맥주의 종류: {n_item:,}가지\")\n",
    "# print(f\"[ratebeer] 맥주의 스타일 종류: {ratebeer['beer/style'].nunique():,}\")\n",
    "\n",
    "# beer/beerId 와의 관계\n",
    "n_itemId = ratebeer['beer/beerId'].nunique() # 개념상 개수가 같아야하는데, `beer/beerId`가 조금 더 많다. Why?\n",
    "print(f\"[ratebeer] 맥주의 일련번호: {n_itemId:,}가지\")\n"
   ]
  },
  {
   "cell_type": "code",
   "execution_count": 142,
   "metadata": {},
   "outputs": [
    {
     "name": "stdout",
     "output_type": "stream",
     "text": [
      ">>> 1 대 1 관계에 있는 맥주이름-맥주ID 개수: 110,231\n",
      ">>> 1 대 N 관계에 있는 맥주이름-맥주ID 개수:      68\n",
      "\n",
      "하나의 맥주 이름(beer/name)에 \n",
      "- 2 개의 중복된 맥주 일련번호가 존재하는 맥주는 66 개 이다.\n",
      "- 3 개의 중복된 맥주 일련번호가 존재하는 맥주는  2 개 이다.\n"
     ]
    }
   ],
   "source": [
    "# 포함관계 확인;  (가정) beer/name 개수가 더 적기 때문에, 더 상위의 개념일 것이다. \n",
    "rel_beer = ratebeer.groupby([\"beer/name\", \"beer/beerId\"]).count().reset_index([0, 1])[[\"beer/name\", \"beer/beerId\", \"beer/brewerId\"]]\n",
    "rel_beer.columns = [\"beer/name\", \"beer/beerId\", \"counts\"]\n",
    "\n",
    "# 1 대 1 관계에 있는 맥주이름-맥주ID 개수\n",
    "item_1to1 = sum(rel_beer.groupby(\"beer/name\")['beer/beerId'].count() == 1)\n",
    "print(f\">>> 1 대 1 관계에 있는 맥주이름-맥주ID 개수: {item_1to1:7,}\")\n",
    "\n",
    "# 1 대 N 관계에 있는 맥주이름-맥주ID 개수\n",
    "item_1toN = sum(rel_beer.groupby(\"beer/name\")['beer/beerId'].count() != 1)\n",
    "print(f\">>> 1 대 N 관계에 있는 맥주이름-맥주ID 개수: {item_1toN:7,}\")\n",
    "\n",
    "print()\n",
    "table_1toN = rel_beer.groupby(\"beer/name\")['beer/beerId'].count()[rel_beer.groupby(\"beer/name\")['beer/beerId'].count() != 1].value_counts()#.reset_index()\n",
    "print(\"하나의 맥주 이름(beer/name)에 \")\n",
    "for i, value in table_1toN.iteritems():\n",
    "    print(f\"- {i} 개의 중복된 맥주 일련번호가 존재하는 맥주는 {value:2} 개 이다.\")"
   ]
  },
  {
   "cell_type": "code",
   "execution_count": 143,
   "metadata": {},
   "outputs": [],
   "source": [
    "# 68개에 해당하는 맥주에 대해서 탐사해볼필요가 있다."
   ]
  },
  {
   "cell_type": "code",
   "execution_count": 28,
   "metadata": {},
   "outputs": [
    {
     "data": {
      "image/png": "[encoded data removed]",
      "text/plain": [
       "<Figure size 432x288 with 1 Axes>"
      ]
     },
     "metadata": {
      "needs_background": "light"
     },
     "output_type": "display_data"
    }
   ],
   "source": [
    "# 어떤 맥주가 리뷰 횟수가 많을까? 상위 15개의 맥주만 한 번 뽑아보자.\n",
    "ratebeer['beer/name'].value_counts()[:15][::-1].plot(kind = 'barh')\n",
    "plt.title(\"Most Review Beer [TOP 15]\")\n",
    "plt.show()"
   ]
  },
  {
   "cell_type": "code",
   "execution_count": 32,
   "metadata": {},
   "outputs": [
    {
     "data": {
      "text/plain": [
       "<AxesSubplot:>"
      ]
     },
     "execution_count": 32,
     "metadata": {},
     "output_type": "execute_result"
    },
    {
     "data": {
      "image/png": "[encoded data removed]",
      "text/plain": [
       "<Figure size 432x288 with 1 Axes>"
      ]
     },
     "metadata": {
      "needs_background": "light"
     },
     "output_type": "display_data"
    }
   ],
   "source": [
    "# 맥주 리뷰 횟수의 분포를 확인해보자\n",
    "ratebeer['beer/name'].value_counts().hist(bins=30)\n",
    "plt.title(\"Histogram of Review Beer\")\n",
    "plt.show()"
   ]
  },
  {
   "cell_type": "code",
   "execution_count": 72,
   "metadata": {},
   "outputs": [],
   "source": [
    "# 거의 대부분의 맥주가 리뷰 횟수가 적다. -> 대부분의 맥주는 잘 조회되지 않는다. "
   ]
  },
  {
   "cell_type": "code",
   "execution_count": 86,
   "metadata": {},
   "outputs": [
    {
     "name": "stdout",
     "output_type": "stream",
     "text": [
      "* 해당 데이터 안에서 존재하는 맥주의 총 가지 수  = 110,299\n",
      "\n",
      "리뷰 개수가   1 개인 맥주의 가지 수 = 24,544 가지\n",
      "리뷰 개수가   2 개인 맥주의 가지 수 = 14,886 가지\n",
      "리뷰 개수가   3 개인 맥주의 가지 수 =  9,819 가지\n",
      "리뷰 개수가   4 개인 맥주의 가지 수 =  7,191 가지\n",
      "리뷰 개수가   5 개인 맥주의 가지 수 =  5,465 가지\n",
      "리뷰 개수가   6 개인 맥주의 가지 수 =  4,420 가지\n",
      "리뷰 개수가   7 개인 맥주의 가지 수 =  3,597 가지\n",
      "리뷰 개수가   8 개인 맥주의 가지 수 =  3,071 가지\n",
      "리뷰 개수가   9 개인 맥주의 가지 수 =  2,545 가지\n",
      "리뷰 개수가  10 개인 맥주의 가지 수 =  2,374 가지\n"
     ]
    }
   ],
   "source": [
    "# 그렇다면, 리뷰 개수가 적은 맥주는 몇 개나 있을까? \n",
    "\n",
    "print(f\"* 해당 데이터 안에서 존재하는 맥주의 총 가지 수  = {n_item:,}\", end=\"\\n\\n\")\n",
    "for index, value in ratebeer['beer/name'].value_counts().value_counts().items():\n",
    "    # print(index, value)\n",
    "    print(f\"리뷰 개수가 {index:3,} 개인 맥주의 가지 수 = {value:6,} 가지\")\n",
    "    if index >= 10: break"
   ]
  },
  {
   "cell_type": "code",
   "execution_count": 73,
   "metadata": {},
   "outputs": [],
   "source": [
    "# 확실히 대부분의 맥주가 리뷰 수가 크게 많지 않다는 것을 알 수 있다.\n",
    "# (이것을 인기도의 관점으로 해석을 할 수 있는 여지가 있다.)"
   ]
  },
  {
   "cell_type": "code",
   "execution_count": 77,
   "metadata": {},
   "outputs": [],
   "source": [
    "##### 종합 평가 ##### \n",
    "# 리뷰 개수가 적은 데이터는 추천에 사용하기 힘들 수 있다.\n",
    "# 하지만 목적에 따라 어떤 데이터로 사용할 수 있기 때문에 전처리 하는 것은 유보한다.\n",
    "# 생각해볼만한점.\n",
    "# 어떤 맥주를 추천해주기 위해서는 맥주가 적어도 몇 개가 있어야 좋을까?\n",
    "\n",
    "# (생각해볼점) 현재 유통되는 맥주인지 어떻게 아나?"
   ]
  },
  {
   "cell_type": "markdown",
   "metadata": {},
   "source": [
    "### beer/brewerId - 맥주 생산자 일련번호"
   ]
  },
  {
   "cell_type": "code",
   "execution_count": 149,
   "metadata": {},
   "outputs": [
    {
     "name": "stdout",
     "output_type": "stream",
     "text": [
      "0\n"
     ]
    }
   ],
   "source": [
    "# 기존에는 float 형으로 기록되어있는데, 변수명을 유추했을때, int라고 판단된다. 따라서 실제로 int 형으로 취급해도 되는지 확인 해본다. \n",
    "print(sum(ratebeer['beer/brewerId'] != ratebeer['beer/brewerId'].astype(int)))\n",
    "\n",
    "# int 형으로 변경\n",
    "ratebeer['beer/brewerId'] = ratebeer['beer/brewerId'].astype(int)"
   ]
  },
  {
   "cell_type": "code",
   "execution_count": null,
   "metadata": {},
   "outputs": [],
   "source": [
    "# 몇개의 생산자가 있을까?\n",
    "n_brewer = ratebeer['beer/brewerId'].nunique()\n"
   ]
  },
  {
   "cell_type": "code",
   "execution_count": null,
   "metadata": {},
   "outputs": [],
   "source": []
  }
 ],
 "metadata": {
  "interpreter": {
   "hash": "1f987112d13c3a5109fc24d7b4f4d6f95510a722443984c5c3a93525168aad10"
  },
  "kernelspec": {
   "display_name": "Python 3.8.5 ('.final': venv)",
   "language": "python",
   "name": "python3"
  },
  "language_info": {
   "codemirror_mode": {
    "name": "ipython",
    "version": 3
   },
   "file_extension": ".py",
   "mimetype": "text/x-python",
   "name": "python",
   "nbconvert_exporter": "python",
   "pygments_lexer": "ipython3",
   "version": "3.8.5"
  },
  "orig_nbformat": 4
 },
 "nbformat": 4,
 "nbformat_minor": 2
}
