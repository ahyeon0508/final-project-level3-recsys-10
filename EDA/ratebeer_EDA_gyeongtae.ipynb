{
 "cells": [
  {
   "cell_type": "code",
   "execution_count": 2,
   "metadata": {},
   "outputs": [],
   "source": [
    "import os, sys\n",
    "import pandas as pd\n",
    "import numpy as np\n",
    "import matplotlib\n",
    "import time\n",
    "import matplotlib.pyplot as plt\n",
    "import seaborn as sns"
   ]
  },
  {
   "cell_type": "markdown",
   "metadata": {},
   "source": [
    "# 파일 불러오기\n",
    "데이터 출처 - https://cseweb.ucsd.edu/~jmcauley/datasets.html#multi_aspect\n",
    "\n",
    "1. 행간이 \"\\n\" 으로 구분된 \".json\" file 업로드 (```pd.read_json```)\n",
    "2. 결측치 1개 제거 (마지막행이 업로드시 이슈가 발생하는 것 같다) (```pd.DataFrame.dropna()```)"
   ]
  },
  {
   "cell_type": "code",
   "execution_count": 3,
   "metadata": {},
   "outputs": [],
   "source": [
    "ratebeer = pd.read_json(\"../data/new_ratebeer.json\", lines=True).dropna()"
   ]
  },
  {
   "cell_type": "markdown",
   "metadata": {},
   "source": [
    "# 데이터 탐색"
   ]
  },
  {
   "cell_type": "markdown",
   "metadata": {},
   "source": [
    "## 변수 설명\n",
    "참고자료 - https://www.ratebeer.com/Story.asp?StoryID=292\n",
    "\n",
    "- `beer/name`: 맥주 이름(상표)\n",
    "- `beer/beerId`: 맥주 일련번호(코드)\n",
    "- `beer/brewerId`: 맥주 생산자 일련번호\n",
    "- `beer/ABV`: 맥주 알코올 도수(Alcohol by volume, %)\n",
    "- `beer/style`: 맥주 카테고리\n",
    "- `review/appearance`: 평가점수-외관(look) \n",
    "- `review/aroma`: 평가점수-향기(smell)\n",
    "- `review/palate`: 평가점수-the sense of taste(feel)\n",
    "- `review/taste`: 평가점수-맛\n",
    "- `review/overall`: 평가점수-종합\n",
    "- `review/time`: 평가 시간\n",
    "- `review/profileName`: 유저ID\n",
    "- `review/text`: 리뷰 코멘트\n",
    "  \n",
    "  \n",
    "\n"
   ]
  },
  {
   "cell_type": "code",
   "execution_count": 4,
   "metadata": {},
   "outputs": [
    {
     "data": {
      "text/html": [
       "<div>\n",
       "<style scoped>\n",
       "    .dataframe tbody tr th:only-of-type {\n",
       "        vertical-align: middle;\n",
       "    }\n",
       "\n",
       "    .dataframe tbody tr th {\n",
       "        vertical-align: top;\n",
       "    }\n",
       "\n",
       "    .dataframe thead th {\n",
       "        text-align: right;\n",
       "    }\n",
       "</style>\n",
       "<table border=\"1\" class=\"dataframe\">\n",
       "  <thead>\n",
       "    <tr style=\"text-align: right;\">\n",
       "      <th></th>\n",
       "      <th>beer/name</th>\n",
       "      <th>beer/beerId</th>\n",
       "      <th>beer/brewerId</th>\n",
       "      <th>beer/ABV</th>\n",
       "      <th>beer/style</th>\n",
       "      <th>review/appearance</th>\n",
       "      <th>review/aroma</th>\n",
       "      <th>review/palate</th>\n",
       "      <th>review/taste</th>\n",
       "      <th>review/overall</th>\n",
       "      <th>review/time</th>\n",
       "      <th>review/profileName</th>\n",
       "      <th>review/text</th>\n",
       "    </tr>\n",
       "  </thead>\n",
       "  <tbody>\n",
       "    <tr>\n",
       "      <th>0</th>\n",
       "      <td>John Harvards Simcoe IPA</td>\n",
       "      <td>63836</td>\n",
       "      <td>8481.0</td>\n",
       "      <td>5.4</td>\n",
       "      <td>India Pale Ale &amp;#40;IPA&amp;#41;</td>\n",
       "      <td>4/5</td>\n",
       "      <td>6/10</td>\n",
       "      <td>3/5</td>\n",
       "      <td>6/10</td>\n",
       "      <td>13/20</td>\n",
       "      <td>1.157587e+09</td>\n",
       "      <td>hopdog</td>\n",
       "      <td>On tap at the Springfield, PA location. Poured...</td>\n",
       "    </tr>\n",
       "    <tr>\n",
       "      <th>1</th>\n",
       "      <td>John Harvards Simcoe IPA</td>\n",
       "      <td>63836</td>\n",
       "      <td>8481.0</td>\n",
       "      <td>5.4</td>\n",
       "      <td>India Pale Ale &amp;#40;IPA&amp;#41;</td>\n",
       "      <td>4/5</td>\n",
       "      <td>6/10</td>\n",
       "      <td>4/5</td>\n",
       "      <td>7/10</td>\n",
       "      <td>13/20</td>\n",
       "      <td>1.157242e+09</td>\n",
       "      <td>TomDecapolis</td>\n",
       "      <td>On tap at the John Harvards in Springfield PA....</td>\n",
       "    </tr>\n",
       "    <tr>\n",
       "      <th>2</th>\n",
       "      <td>John Harvards Cristal Pilsner</td>\n",
       "      <td>71716</td>\n",
       "      <td>8481.0</td>\n",
       "      <td>5</td>\n",
       "      <td>Bohemian Pilsener</td>\n",
       "      <td>4/5</td>\n",
       "      <td>5/10</td>\n",
       "      <td>3/5</td>\n",
       "      <td>6/10</td>\n",
       "      <td>14/20</td>\n",
       "      <td>9.586944e+08</td>\n",
       "      <td>PhillyBeer2112</td>\n",
       "      <td>UPDATED: FEB 19, 2003 Springfield, PA. I've ne...</td>\n",
       "    </tr>\n",
       "  </tbody>\n",
       "</table>\n",
       "</div>"
      ],
      "text/plain": [
       "                       beer/name beer/beerId  beer/brewerId beer/ABV  \\\n",
       "0       John Harvards Simcoe IPA       63836         8481.0      5.4   \n",
       "1       John Harvards Simcoe IPA       63836         8481.0      5.4   \n",
       "2  John Harvards Cristal Pilsner       71716         8481.0        5   \n",
       "\n",
       "                     beer/style review/appearance review/aroma review/palate  \\\n",
       "0  India Pale Ale &#40;IPA&#41;               4/5         6/10           3/5   \n",
       "1  India Pale Ale &#40;IPA&#41;               4/5         6/10           4/5   \n",
       "2             Bohemian Pilsener               4/5         5/10           3/5   \n",
       "\n",
       "  review/taste review/overall   review/time review/profileName  \\\n",
       "0         6/10          13/20  1.157587e+09             hopdog   \n",
       "1         7/10          13/20  1.157242e+09       TomDecapolis   \n",
       "2         6/10          14/20  9.586944e+08     PhillyBeer2112   \n",
       "\n",
       "                                         review/text  \n",
       "0  On tap at the Springfield, PA location. Poured...  \n",
       "1  On tap at the John Harvards in Springfield PA....  \n",
       "2  UPDATED: FEB 19, 2003 Springfield, PA. I've ne...  "
      ]
     },
     "execution_count": 4,
     "metadata": {},
     "output_type": "execute_result"
    }
   ],
   "source": [
    "ratebeer.head(3)"
   ]
  },
  {
   "cell_type": "code",
   "execution_count": 5,
   "metadata": {},
   "outputs": [
    {
     "name": "stdout",
     "output_type": "stream",
     "text": [
      "[ratebeer] 데이터 길이 :  2,924,163\n",
      "[ratebeer] 변수 개수  :  13\n"
     ]
    }
   ],
   "source": [
    "n_data, n_var = ratebeer.shape\n",
    "print('[ratebeer] 데이터 길이 : ',format(n_data, ','))\n",
    "print('[ratebeer] 변수 개수  : ', format(n_var, ','))"
   ]
  },
  {
   "cell_type": "code",
   "execution_count": 6,
   "metadata": {},
   "outputs": [
    {
     "data": {
      "text/plain": [
       "beer/name             0\n",
       "beer/beerId           0\n",
       "beer/brewerId         0\n",
       "beer/ABV              0\n",
       "beer/style            0\n",
       "review/appearance     0\n",
       "review/aroma          0\n",
       "review/palate         0\n",
       "review/taste          0\n",
       "review/overall        0\n",
       "review/time           0\n",
       "review/profileName    0\n",
       "review/text           0\n",
       "dtype: int64"
      ]
     },
     "execution_count": 6,
     "metadata": {},
     "output_type": "execute_result"
    }
   ],
   "source": [
    "# 표면상 데이터 결측치 확인\n",
    "ratebeer.isna().sum()"
   ]
  },
  {
   "cell_type": "markdown",
   "metadata": {},
   "source": [
    "### beer/name - 맥주 이름 (상표) 탐색"
   ]
  },
  {
   "cell_type": "code",
   "execution_count": 7,
   "metadata": {},
   "outputs": [
    {
     "name": "stdout",
     "output_type": "stream",
     "text": [
      "[ratebeer] 맥주의 종류: 110,299가지\n",
      "[ratebeer] 맥주의 일련번호: 110,369가지\n"
     ]
    }
   ],
   "source": [
    "# beer/name 맥주 이름 (상표) 탐색\n",
    "n_item = ratebeer['beer/name'].nunique()\n",
    "print(f\"[ratebeer] 맥주의 종류: {n_item:,}가지\")\n",
    "# print(f\"[ratebeer] 맥주의 스타일 종류: {ratebeer['beer/style'].nunique():,}\")\n",
    "\n",
    "# beer/beerId 와의 관계\n",
    "n_itemId = ratebeer['beer/beerId'].nunique() # 개념상 개수가 같아야하는데, `beer/beerId`가 조금 더 많다. Why?\n",
    "print(f\"[ratebeer] 맥주의 일련번호: {n_itemId:,}가지\")\n"
   ]
  },
  {
   "cell_type": "code",
   "execution_count": 8,
   "metadata": {},
   "outputs": [
    {
     "name": "stdout",
     "output_type": "stream",
     "text": [
      ">>> 1 대 1 관계에 있는 맥주이름-맥주ID 개수: 110,231\n",
      ">>> 1 대 N 관계에 있는 맥주이름-맥주ID 개수:      68\n",
      "\n",
      "하나의 맥주 이름(beer/name)에 \n",
      "- 2 개의 중복된 맥주 일련번호가 존재하는 맥주는 66 개 이다.\n",
      "- 3 개의 중복된 맥주 일련번호가 존재하는 맥주는  2 개 이다.\n"
     ]
    }
   ],
   "source": [
    "# 포함관계 확인;  (가정) beer/name 개수가 더 적기 때문에, 더 상위의 개념일 것이다. \n",
    "rel_beer = ratebeer.groupby([\"beer/name\", \"beer/beerId\"]).count().reset_index([0, 1])[[\"beer/name\", \"beer/beerId\", \"beer/brewerId\"]]\n",
    "rel_beer.columns = [\"beer/name\", \"beer/beerId\", \"counts\"]\n",
    "\n",
    "# 1 대 1 관계에 있는 맥주이름-맥주ID 개수\n",
    "item_1to1 = sum(rel_beer.groupby(\"beer/name\")['beer/beerId'].count() == 1)\n",
    "print(f\">>> 1 대 1 관계에 있는 맥주이름-맥주ID 개수: {item_1to1:7,}\")\n",
    "\n",
    "# 1 대 N 관계에 있는 맥주이름-맥주ID 개수\n",
    "item_1toN = sum(rel_beer.groupby(\"beer/name\")['beer/beerId'].count() != 1)\n",
    "print(f\">>> 1 대 N 관계에 있는 맥주이름-맥주ID 개수: {item_1toN:7,}\")\n",
    "\n",
    "print()\n",
    "table_1toN = rel_beer.groupby(\"beer/name\")['beer/beerId'].count()[rel_beer.groupby(\"beer/name\")['beer/beerId'].count() != 1].value_counts()#.reset_index()\n",
    "print(\"하나의 맥주 이름(beer/name)에 \")\n",
    "for i, value in table_1toN.iteritems():\n",
    "    print(f\"- {i} 개의 중복된 맥주 일련번호가 존재하는 맥주는 {value:2} 개 이다.\")"
   ]
  },
  {
   "cell_type": "code",
   "execution_count": 9,
   "metadata": {},
   "outputs": [],
   "source": [
    "# 68개에 해당하는 맥주에 대해서 탐사해볼필요가 있다."
   ]
  },
  {
   "cell_type": "code",
   "execution_count": 10,
   "metadata": {},
   "outputs": [
    {
     "data": {
      "image/png": "[encoded data removed]",
      "text/plain": [
       "<Figure size 432x288 with 1 Axes>"
      ]
     },
     "metadata": {
      "needs_background": "light"
     },
     "output_type": "display_data"
    }
   ],
   "source": [
    "# 어떤 맥주가 리뷰 횟수가 많을까? 상위 15개의 맥주만 한 번 뽑아보자.\n",
    "ratebeer['beer/name'].value_counts()[:15][::-1].plot(kind = 'barh')\n",
    "plt.title(\"Most Review Beer [TOP 15]\")\n",
    "plt.show()"
   ]
  },
  {
   "cell_type": "code",
   "execution_count": 11,
   "metadata": {},
   "outputs": [
    {
     "data": {
      "image/png": "[encoded data removed]",
      "text/plain": [
       "<Figure size 432x288 with 1 Axes>"
      ]
     },
     "metadata": {
      "needs_background": "light"
     },
     "output_type": "display_data"
    }
   ],
   "source": [
    "# 맥주 리뷰 횟수의 분포를 확인해보자\n",
    "ratebeer['beer/name'].value_counts().hist(bins=30)\n",
    "plt.title(\"Histogram of Review Beer\")\n",
    "plt.show()"
   ]
  },
  {
   "cell_type": "code",
   "execution_count": 12,
   "metadata": {},
   "outputs": [],
   "source": [
    "# 거의 대부분의 맥주가 리뷰 횟수가 적다. -> 대부분의 맥주는 잘 조회되지 않는다. "
   ]
  },
  {
   "cell_type": "code",
   "execution_count": 13,
   "metadata": {},
   "outputs": [
    {
     "name": "stdout",
     "output_type": "stream",
     "text": [
      "* 해당 데이터 안에서 존재하는 맥주의 총 가지 수  = 110,299\n",
      "\n",
      "리뷰 개수가   1 개인 맥주의 가지 수 = 24,544 가지\n",
      "리뷰 개수가   2 개인 맥주의 가지 수 = 14,886 가지\n",
      "리뷰 개수가   3 개인 맥주의 가지 수 =  9,819 가지\n",
      "리뷰 개수가   4 개인 맥주의 가지 수 =  7,191 가지\n",
      "리뷰 개수가   5 개인 맥주의 가지 수 =  5,465 가지\n",
      "리뷰 개수가   6 개인 맥주의 가지 수 =  4,420 가지\n",
      "리뷰 개수가   7 개인 맥주의 가지 수 =  3,597 가지\n",
      "리뷰 개수가   8 개인 맥주의 가지 수 =  3,071 가지\n",
      "리뷰 개수가   9 개인 맥주의 가지 수 =  2,545 가지\n",
      "리뷰 개수가  10 개인 맥주의 가지 수 =  2,374 가지\n"
     ]
    }
   ],
   "source": [
    "# 그렇다면, 리뷰 개수가 적은 맥주는 몇 개나 있을까? \n",
    "\n",
    "print(f\"* 해당 데이터 안에서 존재하는 맥주의 총 가지 수  = {n_item:,}\", end=\"\\n\\n\")\n",
    "for index, value in ratebeer['beer/name'].value_counts().value_counts().items():\n",
    "    # print(index, value)\n",
    "    print(f\"리뷰 개수가 {index:3,} 개인 맥주의 가지 수 = {value:6,} 가지\")\n",
    "    if index >= 10: break"
   ]
  },
  {
   "cell_type": "code",
   "execution_count": 14,
   "metadata": {},
   "outputs": [],
   "source": [
    "# 확실히 대부분의 맥주가 리뷰 수가 크게 많지 않다는 것을 알 수 있다.\n",
    "# (이것을 인기도의 관점으로 해석을 할 수 있는 여지가 있다.)"
   ]
  },
  {
   "cell_type": "code",
   "execution_count": 15,
   "metadata": {},
   "outputs": [],
   "source": [
    "##### 종합 평가 ##### \n",
    "# 리뷰 개수가 적은 데이터는 추천에 사용하기 힘들 수 있다.\n",
    "# 하지만 목적에 따라 어떤 데이터로 사용할 수 있기 때문에 전처리 하는 것은 유보한다.\n",
    "# 생각해볼만한점.\n",
    "# 어떤 맥주를 추천해주기 위해서는 맥주가 적어도 몇 개가 있어야 좋을까?\n",
    "\n",
    "# (생각해볼점) 현재 유통되는 맥주인지 어떻게 아나?"
   ]
  },
  {
   "cell_type": "markdown",
   "metadata": {},
   "source": [
    "### beer/brewerId - 맥주 생산자 일련번호"
   ]
  },
  {
   "cell_type": "code",
   "execution_count": 16,
   "metadata": {},
   "outputs": [
    {
     "name": "stdout",
     "output_type": "stream",
     "text": [
      "0\n"
     ]
    }
   ],
   "source": [
    "# 기존에는 float 형으로 기록되어있는데, 변수명을 유추했을때, int라고 판단된다. 따라서 실제로 int 형으로 취급해도 되는지 확인 해본다. \n",
    "print(sum(ratebeer['beer/brewerId'] != ratebeer['beer/brewerId'].astype(int)))\n",
    "\n",
    "# int 형으로 변경\n",
    "ratebeer['beer/brewerId'] = ratebeer['beer/brewerId'].astype(int)"
   ]
  },
  {
   "cell_type": "code",
   "execution_count": 17,
   "metadata": {},
   "outputs": [
    {
     "name": "stdout",
     "output_type": "stream",
     "text": [
      "[ratebeer] 맥주의 생산자: 7,547가지\n"
     ]
    }
   ],
   "source": [
    "# 몇개의 생산자가 있을까?\n",
    "n_brewer = ratebeer['beer/brewerId'].nunique()\n",
    "print(f\"[ratebeer] 맥주의 생산자: {n_brewer:,}가지\")"
   ]
  },
  {
   "cell_type": "code",
   "execution_count": 18,
   "metadata": {},
   "outputs": [
    {
     "data": {
      "image/png": "[encoded data removed]",
      "text/plain": [
       "<Figure size 432x288 with 1 Axes>"
      ]
     },
     "metadata": {
      "needs_background": "light"
     },
     "output_type": "display_data"
    }
   ],
   "source": [
    "# 생산자의 맥주 생산 개수 분포 확인;  맥주 생산을 많이 하는 생산자와 별로 생산하지 않는 생산자와 같은 정보를 확인한다.\n",
    "ratebeer.groupby([\"beer/brewerId\"])[\"beer/name\"].nunique().sort_values(ascending=False).iloc[np.r_[0:10, -10:0]][::-1].plot(kind = 'barh')\n",
    "plt.title(\"How many Beers Brewer launch [Top 10, Bottom 10]\")\n",
    "plt.show()"
   ]
  },
  {
   "cell_type": "code",
   "execution_count": null,
   "metadata": {},
   "outputs": [],
   "source": [
    "# 많게는 300개의 맥주를 발매한 회사부터, 1개의 맥주만 발매한 회사도 다수 존재한다."
   ]
  },
  {
   "cell_type": "code",
   "execution_count": 57,
   "metadata": {},
   "outputs": [
    {
     "data": {
      "text/html": [
       "<div>\n",
       "<style scoped>\n",
       "    .dataframe tbody tr th:only-of-type {\n",
       "        vertical-align: middle;\n",
       "    }\n",
       "\n",
       "    .dataframe tbody tr th {\n",
       "        vertical-align: top;\n",
       "    }\n",
       "\n",
       "    .dataframe thead th {\n",
       "        text-align: right;\n",
       "    }\n",
       "</style>\n",
       "<table border=\"1\" class=\"dataframe\">\n",
       "  <thead>\n",
       "    <tr style=\"text-align: right;\">\n",
       "      <th></th>\n",
       "      <th>beer/brewerId</th>\n",
       "      <th>freq</th>\n",
       "      <th>top40brewer</th>\n",
       "      <th>normal</th>\n",
       "    </tr>\n",
       "  </thead>\n",
       "  <tbody>\n",
       "    <tr>\n",
       "      <th>0</th>\n",
       "      <td>32</td>\n",
       "      <td>46566</td>\n",
       "      <td>46566</td>\n",
       "      <td>0</td>\n",
       "    </tr>\n",
       "    <tr>\n",
       "      <th>1</th>\n",
       "      <td>76</td>\n",
       "      <td>38663</td>\n",
       "      <td>0</td>\n",
       "      <td>38663</td>\n",
       "    </tr>\n",
       "    <tr>\n",
       "      <th>2</th>\n",
       "      <td>198</td>\n",
       "      <td>37364</td>\n",
       "      <td>0</td>\n",
       "      <td>37364</td>\n",
       "    </tr>\n",
       "    <tr>\n",
       "      <th>3</th>\n",
       "      <td>96</td>\n",
       "      <td>35151</td>\n",
       "      <td>0</td>\n",
       "      <td>35151</td>\n",
       "    </tr>\n",
       "    <tr>\n",
       "      <th>4</th>\n",
       "      <td>232</td>\n",
       "      <td>32433</td>\n",
       "      <td>32433</td>\n",
       "      <td>0</td>\n",
       "    </tr>\n",
       "  </tbody>\n",
       "</table>\n",
       "</div>"
      ],
      "text/plain": [
       "   beer/brewerId   freq  top40brewer  normal\n",
       "0             32  46566        46566       0\n",
       "1             76  38663            0   38663\n",
       "2            198  37364            0   37364\n",
       "3             96  35151            0   35151\n",
       "4            232  32433        32433       0"
      ]
     },
     "execution_count": 57,
     "metadata": {},
     "output_type": "execute_result"
    }
   ],
   "source": [
    "# 그렇다면 혹시, 맥주를 많이 생산하는 생산자는 전체 리뷰수도 많을까?\n",
    "\n",
    "top40brewers = ratebeer.groupby([\"beer/brewerId\"])[\"beer/name\"].nunique().sort_values(ascending=False).head(40).index\n",
    "brewer_reviews = ratebeer.value_counts(\"beer/brewerId\").reset_index()\n",
    "brewer_reviews.columns = [\"beer/brewerId\", \"freq\"]\n",
    "\n",
    "brewer_reviews[\"top40brewer\"] = brewer_reviews[\"beer/brewerId\"].isin(top40brewers)\n",
    "brewer_reviews.sort_values(\"freq\", ascending=False, inplace=True)\n",
    "\n",
    "brewer_reviews[\"top40brewer\"] = np.where(brewer_reviews[\"top40brewer\"], brewer_reviews[\"freq\"], 0)\n",
    "brewer_reviews[\"normal\"] = np.where(brewer_reviews[\"top40brewer\"]==False, brewer_reviews[\"freq\"], 0)\n",
    "brewer_reviews.head()"
   ]
  },
  {
   "cell_type": "code",
   "execution_count": 58,
   "metadata": {},
   "outputs": [
    {
     "data": {
      "image/png": "[encoded data removed]",
      "text/plain": [
       "<Figure size 432x288 with 1 Axes>"
      ]
     },
     "metadata": {
      "needs_background": "light"
     },
     "output_type": "display_data"
    }
   ],
   "source": [
    "brewer_reviews.drop(\"freq\", axis= 1).set_index(\"beer/brewerId\").head(40).plot(kind = 'bar',  stacked=True, color=['red', 'steelblue', ])\n",
    "plt.show()"
   ]
  },
  {
   "cell_type": "code",
   "execution_count": 59,
   "metadata": {},
   "outputs": [],
   "source": [
    "# 맥주 발매량 상위 40개 회사가 모두, 많은 리뷰수를 만들어내지는 못하는 것을 확인할 수 있다.\n",
    "# 하지만, 맥주 발매량 상위 40개 생산자 내에 많은 수준의 생산자들을 나타내는 것으로 보인다.\n",
    "# 정리하자면, 어느정도 상관관계가 없다고 할 수 있을지는 모르겠지만, 완전한 경향성을 나타내는 것으로는 보이지 않는다."
   ]
  },
  {
   "cell_type": "markdown",
   "metadata": {},
   "source": [
    "### beer/ABV - 맥주 알코올도수 탐색"
   ]
  },
  {
   "cell_type": "code",
   "execution_count": 75,
   "metadata": {},
   "outputs": [
    {
     "name": "stdout",
     "output_type": "stream",
     "text": [
      "[ratebeer] ABV(알코올 도수)에서 결측치('-') 개수:  138,637개\n"
     ]
    }
   ],
   "source": [
    "# 알코올도수는 숫자 타입이여야하는데, 임포트될때, 자동으로 object 타입으로 변경되었던것으로 보아, str 타입의 정보가 포함되어있을수있다.\n",
    "# 숫자가 아닌 값의 개수는?\n",
    "abvs = pd.to_numeric(ratebeer[\"beer/ABV\"], errors=\"coerce\") # 숫자가 아닌 타입을 수치형으로 바꾸는데, 실제로 수치형으로 변환 불가한 타입의 정보는 NaN 처리를 해주는 명령어\n",
    "print(f\"[ratebeer] ABV(알코올 도수)에서 결측치('-') 리뷰 개수: {abvs.isna().sum(): 7,}개\")\n",
    "ratebeer[\"beer/ABV\"] = abvs"
   ]
  },
  {
   "cell_type": "code",
   "execution_count": 74,
   "metadata": {},
   "outputs": [],
   "source": [
    "# 저네 데이터 개수가 2,924,163개 인 것에 비해서 그렇게 높은 수치는 아닌것 같다. "
   ]
  },
  {
   "cell_type": "code",
   "execution_count": 84,
   "metadata": {},
   "outputs": [
    {
     "name": "stdout",
     "output_type": "stream",
     "text": [
      "[ratebeer] ABV(알코올 도수)에서 결측치('-') 맥주 개수:  23,098개\n"
     ]
    }
   ],
   "source": [
    "# 그렇다면, 몇 개의 맥주가 알코올 도수가 없을까?\n",
    "n_missing_ABV = ratebeer[ratebeer[\"beer/ABV\"].isna()][\"beer/name\"].nunique()\n",
    "print(f\"[ratebeer] ABV(알코올 도수)에서 결측치('-') 맥주 개수: {n_missing_ABV: 7,}개\")\n"
   ]
  },
  {
   "cell_type": "code",
   "execution_count": null,
   "metadata": {},
   "outputs": [],
   "source": [
    "# 전체 맥주의 개수가 110,299개 이므로, 전체 리뷰에서 결측치의 영향력 보다는 맥주 이름을 기준으로는 훨씬더 결측치의 비율측면에서 더 높은 것으로 보인다. "
   ]
  },
  {
   "cell_type": "code",
   "execution_count": 92,
   "metadata": {},
   "outputs": [
    {
     "data": {
      "text/plain": [
       "count    2785526.000\n",
       "mean           6.641\n",
       "std            2.314\n",
       "min            0.010\n",
       "25%            5.000\n",
       "50%            6.000\n",
       "75%            8.000\n",
       "max           57.700\n",
       "Name: beer/ABV, dtype: float64"
      ]
     },
     "execution_count": 92,
     "metadata": {},
     "output_type": "execute_result"
    }
   ],
   "source": [
    "# 기본 통계치부터 살펴보자\n",
    "round(ratebeer[\"beer/ABV\"].describe(), 3)"
   ]
  },
  {
   "cell_type": "code",
   "execution_count": 93,
   "metadata": {},
   "outputs": [],
   "source": [
    "# 맥주가, 알코올이 무려 57.700 까지 높은 것도 존재하고, 논알코올로 보이는것도 존재한다."
   ]
  },
  {
   "cell_type": "code",
   "execution_count": null,
   "metadata": {},
   "outputs": [],
   "source": []
  },
  {
   "cell_type": "markdown",
   "metadata": {},
   "source": [
    "### beer/style - 맥주 종류 탐색"
   ]
  },
  {
   "cell_type": "code",
   "execution_count": null,
   "metadata": {},
   "outputs": [],
   "source": []
  },
  {
   "cell_type": "code",
   "execution_count": null,
   "metadata": {},
   "outputs": [],
   "source": []
  }
 ],
 "metadata": {
  "interpreter": {
   "hash": "1f987112d13c3a5109fc24d7b4f4d6f95510a722443984c5c3a93525168aad10"
  },
  "kernelspec": {
   "display_name": "Python 3.8.5 ('.final': venv)",
   "language": "python",
   "name": "python3"
  },
  "language_info": {
   "codemirror_mode": {
    "name": "ipython",
    "version": 3
   },
   "file_extension": ".py",
   "mimetype": "text/x-python",
   "name": "python",
   "nbconvert_exporter": "python",
   "pygments_lexer": "ipython3",
   "version": "3.8.5"
  },
  "orig_nbformat": 4
 },
 "nbformat": 4,
 "nbformat_minor": 2
}
