{
 "cells": [
  {
   "cell_type": "code",
   "execution_count": 1,
   "metadata": {},
   "outputs": [],
   "source": [
    "import os, sys\n",
    "import pandas as pd\n",
    "import numpy as np\n",
    "import matplotlib\n",
    "import time\n",
    "from datetime import datetime\n",
    "\n",
    "import matplotlib.pyplot as plt\n",
    "import seaborn as sns"
   ]
  },
  {
   "cell_type": "markdown",
   "metadata": {},
   "source": [
    "# 파일 불러오기\n",
    "데이터 출처 - https://cseweb.ucsd.edu/~jmcauley/datasets.html#multi_aspect\n",
    "\n",
    "1. 행간이 \"\\n\" 으로 구분된 \".json\" file 업로드 (```pd.read_json```)\n",
    "2. 결측치 1개 제거 (마지막행이 업로드시 이슈가 발생하는 것 같다) (```pd.DataFrame.dropna()```)"
   ]
  },
  {
   "cell_type": "code",
   "execution_count": 2,
   "metadata": {},
   "outputs": [],
   "source": [
    "ratebeer = pd.read_json(\"../data/raw_ratebeer.json\")"
   ]
  },
  {
   "cell_type": "markdown",
   "metadata": {},
   "source": [
    "3. 중복 데이터 제거 (완전히 중복되는 행 drop - 4개의 데이터)"
   ]
  },
  {
   "cell_type": "code",
   "execution_count": 3,
   "metadata": {},
   "outputs": [],
   "source": [
    "# print(f\"Raw data's length = {ratebeer.shape[0]:7,}\")\n",
    "# print(f\"Drop-duplicated data's length = {ratebeer.drop_duplicates().shape[0]:7,}\")\n",
    "# ratebeer.drop_duplicates(inplace=True)\n"
   ]
  },
  {
   "cell_type": "markdown",
   "metadata": {},
   "source": [
    "# 데이터 탐색"
   ]
  },
  {
   "cell_type": "markdown",
   "metadata": {},
   "source": [
    "## 변수 설명\n",
    "참고자료 - https://www.ratebeer.com/Story.asp?StoryID=292\n",
    "\n",
    "- `beer_name`: 맥주 이름(상표)\n",
    "- `beer_id`: 맥주 일련번호(코드)\n",
    "- `brewer_id`: 맥주 생산자 일련번호\n",
    "- `abv`: 맥주 알코올 도수(Alcohol by volume, %)\n",
    "- `style`: 맥주 카테고리\n",
    "- `appearance`: 평가점수-외관(look) \n",
    "- `aroma`: 평가점수-향기(smell)\n",
    "- `palate`: 평가점수-the sense of taste(feel)\n",
    "- `taste`: 평가점수-맛\n",
    "- `overall`: 평가점수-종합\n",
    "- `reviewtime`: 평가 시간\n",
    "- `profile_name`: 유저ID\n",
    "- `reviewtext`: 리뷰 코멘트\n",
    "  \n",
    "  \n",
    "\n"
   ]
  },
  {
   "cell_type": "code",
   "execution_count": 4,
   "metadata": {},
   "outputs": [
    {
     "data": {
      "text/html": [
       "<div>\n",
       "<style scoped>\n",
       "    .dataframe tbody tr th:only-of-type {\n",
       "        vertical-align: middle;\n",
       "    }\n",
       "\n",
       "    .dataframe tbody tr th {\n",
       "        vertical-align: top;\n",
       "    }\n",
       "\n",
       "    .dataframe thead th {\n",
       "        text-align: right;\n",
       "    }\n",
       "</style>\n",
       "<table border=\"1\" class=\"dataframe\">\n",
       "  <thead>\n",
       "    <tr style=\"text-align: right;\">\n",
       "      <th></th>\n",
       "      <th>reviewscore</th>\n",
       "      <th>reviewtime</th>\n",
       "      <th>reviewtext</th>\n",
       "      <th>appearance</th>\n",
       "      <th>aroma</th>\n",
       "      <th>palate</th>\n",
       "      <th>taste</th>\n",
       "      <th>overall</th>\n",
       "      <th>profile_name</th>\n",
       "      <th>beer_name</th>\n",
       "      <th>beer_id</th>\n",
       "      <th>brewer_id</th>\n",
       "      <th>abv</th>\n",
       "      <th>style</th>\n",
       "      <th>image_url</th>\n",
       "    </tr>\n",
       "  </thead>\n",
       "  <tbody>\n",
       "    <tr>\n",
       "      <th>0</th>\n",
       "      <td>3.9</td>\n",
       "      <td>2022-05-15T17:26:51.803Z</td>\n",
       "      <td>Tap at Fermentoren CPH. Poured a hazy golden c...</td>\n",
       "      <td>3.0</td>\n",
       "      <td>8.0</td>\n",
       "      <td>4.0</td>\n",
       "      <td>8.0</td>\n",
       "      <td>16.0</td>\n",
       "      <td>jmgreenuk</td>\n",
       "      <td>Hill Farmstead Arthur</td>\n",
       "      <td>131594.0</td>\n",
       "      <td>11233.0</td>\n",
       "      <td>6.0</td>\n",
       "      <td>Saison / Farmhouse / Grisette</td>\n",
       "      <td>https://res.cloudinary.com/ratebeer/image/uplo...</td>\n",
       "    </tr>\n",
       "    <tr>\n",
       "      <th>1</th>\n",
       "      <td>3.9</td>\n",
       "      <td>2022-05-04T19:05:02.673Z</td>\n",
       "      <td>Bottle I shared with JB.  Beautiful cloudy str...</td>\n",
       "      <td>4.0</td>\n",
       "      <td>8.0</td>\n",
       "      <td>4.0</td>\n",
       "      <td>8.0</td>\n",
       "      <td>15.0</td>\n",
       "      <td>Ron</td>\n",
       "      <td>Hill Farmstead Arthur</td>\n",
       "      <td>131594.0</td>\n",
       "      <td>11233.0</td>\n",
       "      <td>6.0</td>\n",
       "      <td>Saison / Farmhouse / Grisette</td>\n",
       "      <td>https://res.cloudinary.com/ratebeer/image/uplo...</td>\n",
       "    </tr>\n",
       "    <tr>\n",
       "      <th>2</th>\n",
       "      <td>4.1</td>\n",
       "      <td>2021-10-24T12:35:44.710Z</td>\n",
       "      <td>2019 vintage\\nAroma is vinegar, sour apples, f...</td>\n",
       "      <td>4.0</td>\n",
       "      <td>8.0</td>\n",
       "      <td>4.0</td>\n",
       "      <td>9.0</td>\n",
       "      <td>16.0</td>\n",
       "      <td>olberic</td>\n",
       "      <td>Hill Farmstead Arthur</td>\n",
       "      <td>131594.0</td>\n",
       "      <td>11233.0</td>\n",
       "      <td>6.0</td>\n",
       "      <td>Saison / Farmhouse / Grisette</td>\n",
       "      <td>https://res.cloudinary.com/ratebeer/image/uplo...</td>\n",
       "    </tr>\n",
       "  </tbody>\n",
       "</table>\n",
       "</div>"
      ],
      "text/plain": [
       "   reviewscore                reviewtime  \\\n",
       "0          3.9  2022-05-15T17:26:51.803Z   \n",
       "1          3.9  2022-05-04T19:05:02.673Z   \n",
       "2          4.1  2021-10-24T12:35:44.710Z   \n",
       "\n",
       "                                          reviewtext  appearance  aroma  \\\n",
       "0  Tap at Fermentoren CPH. Poured a hazy golden c...         3.0    8.0   \n",
       "1  Bottle I shared with JB.  Beautiful cloudy str...         4.0    8.0   \n",
       "2  2019 vintage\\nAroma is vinegar, sour apples, f...         4.0    8.0   \n",
       "\n",
       "   palate  taste  overall profile_name              beer_name   beer_id  \\\n",
       "0     4.0    8.0     16.0    jmgreenuk  Hill Farmstead Arthur  131594.0   \n",
       "1     4.0    8.0     15.0          Ron  Hill Farmstead Arthur  131594.0   \n",
       "2     4.0    9.0     16.0      olberic  Hill Farmstead Arthur  131594.0   \n",
       "\n",
       "   brewer_id  abv                          style  \\\n",
       "0    11233.0  6.0  Saison / Farmhouse / Grisette   \n",
       "1    11233.0  6.0  Saison / Farmhouse / Grisette   \n",
       "2    11233.0  6.0  Saison / Farmhouse / Grisette   \n",
       "\n",
       "                                           image_url  \n",
       "0  https://res.cloudinary.com/ratebeer/image/uplo...  \n",
       "1  https://res.cloudinary.com/ratebeer/image/uplo...  \n",
       "2  https://res.cloudinary.com/ratebeer/image/uplo...  "
      ]
     },
     "execution_count": 4,
     "metadata": {},
     "output_type": "execute_result"
    }
   ],
   "source": [
    "ratebeer.head(3)"
   ]
  },
  {
   "cell_type": "code",
   "execution_count": 5,
   "metadata": {},
   "outputs": [
    {
     "name": "stdout",
     "output_type": "stream",
     "text": [
      "[ratebeer] 데이터 길이 :  3,244,442\n",
      "[ratebeer] 변수 개수  :  15\n"
     ]
    }
   ],
   "source": [
    "n_data, n_var = ratebeer.shape\n",
    "print('[ratebeer] 데이터 길이 : ',format(n_data, ','))\n",
    "print('[ratebeer] 변수 개수  : ', format(n_var, ','))"
   ]
  },
  {
   "cell_type": "code",
   "execution_count": 6,
   "metadata": {},
   "outputs": [
    {
     "data": {
      "text/plain": [
       "reviewscore        28\n",
       "reviewtime          0\n",
       "reviewtext          0\n",
       "appearance      15347\n",
       "aroma           15347\n",
       "palate          15347\n",
       "taste           15347\n",
       "overall         15347\n",
       "profile_name        0\n",
       "beer_name         779\n",
       "beer_id           779\n",
       "brewer_id         779\n",
       "abv               779\n",
       "style             779\n",
       "image_url         779\n",
       "dtype: int64"
      ]
     },
     "execution_count": 6,
     "metadata": {},
     "output_type": "execute_result"
    }
   ],
   "source": [
    "# 표면상 데이터 결측치 확인\n",
    "ratebeer.isna().sum()"
   ]
  },
  {
   "cell_type": "markdown",
   "metadata": {},
   "source": [
    "### beer/name - 맥주 이름 (상표) 탐색"
   ]
  },
  {
   "cell_type": "code",
   "execution_count": 7,
   "metadata": {},
   "outputs": [
    {
     "name": "stdout",
     "output_type": "stream",
     "text": [
      "[ratebeer] 맥주의 종류: 9,336가지\n",
      "[ratebeer] 맥주의 일련번호: 9,336가지\n"
     ]
    }
   ],
   "source": [
    "# beer/name 맥주 이름 (상표) 탐색\n",
    "n_item = ratebeer['beer_name'].nunique()\n",
    "print(f\"[ratebeer] 맥주의 종류: {n_item:,}가지\")\n",
    "# print(f\"[ratebeer] 맥주의 스타일 종류: {ratebeer['beer/style'].nunique():,}\")\n",
    "\n",
    "# beer/beerId 와의 관계\n",
    "n_itemId = ratebeer['beer_id'].nunique() # 개념상 개수가 같아야하는데, `beer/beerId`가 조금 더 많다. Why?\n",
    "print(f\"[ratebeer] 맥주의 일련번호: {n_itemId:,}가지\")\n"
   ]
  },
  {
   "cell_type": "code",
   "execution_count": 8,
   "metadata": {},
   "outputs": [],
   "source": [
    "# 맥주의 개수와 맥주의 일련 번호가 1대1 대응 입니다!"
   ]
  },
  {
   "cell_type": "code",
   "execution_count": 9,
   "metadata": {},
   "outputs": [
    {
     "data": {
      "image/png": "[encoded data removed]",
      "text/plain": [
       "<Figure size 432x288 with 1 Axes>"
      ]
     },
     "metadata": {
      "needs_background": "light"
     },
     "output_type": "display_data"
    }
   ],
   "source": [
    "# 어떤 맥주가 리뷰 횟수가 많을까? 상위 15개의 맥주만 한 번 뽑아보자.\n",
    "ratebeer['beer_name'].value_counts()[:15][::-1].plot(kind = 'barh')\n",
    "plt.title(\"Most Review Beer [TOP 15]\")\n",
    "plt.show()"
   ]
  },
  {
   "cell_type": "code",
   "execution_count": 10,
   "metadata": {},
   "outputs": [
    {
     "data": {
      "image/png": "[encoded data removed]",
      "text/plain": [
       "<Figure size 432x288 with 1 Axes>"
      ]
     },
     "metadata": {
      "needs_background": "light"
     },
     "output_type": "display_data"
    }
   ],
   "source": [
    "# 맥주 리뷰 횟수의 분포를 확인해보자\n",
    "ratebeer['beer_name'].value_counts().hist(bins=30)\n",
    "plt.title(\"Histogram of Review Beer\")\n",
    "plt.show()"
   ]
  },
  {
   "cell_type": "code",
   "execution_count": 11,
   "metadata": {},
   "outputs": [],
   "source": [
    "# 거의 대부분의 맥주가 리뷰 횟수가 적다. -> 대부분의 맥주는 잘 조회되지 않는다. "
   ]
  },
  {
   "cell_type": "code",
   "execution_count": 12,
   "metadata": {},
   "outputs": [
    {
     "name": "stdout",
     "output_type": "stream",
     "text": [
      "* 해당 데이터 안에서 존재하는 맥주의 총 가지 수  = 9,336\n",
      "\n",
      "리뷰 개수가  81 개인 맥주의 가지 수 =     64 가지\n",
      "리뷰 개수가  59 개인 맥주의 가지 수 =     58 가지\n",
      "리뷰 개수가  65 개인 맥주의 가지 수 =     57 가지\n",
      "리뷰 개수가 115 개인 맥주의 가지 수 =     56 가지\n",
      "리뷰 개수가  60 개인 맥주의 가지 수 =     55 가지\n",
      "리뷰 개수가  66 개인 맥주의 가지 수 =     55 가지\n",
      "리뷰 개수가  78 개인 맥주의 가지 수 =     54 가지\n",
      "리뷰 개수가  68 개인 맥주의 가지 수 =     54 가지\n",
      "리뷰 개수가  76 개인 맥주의 가지 수 =     54 가지\n",
      "리뷰 개수가  90 개인 맥주의 가지 수 =     54 가지\n",
      "리뷰 개수가  98 개인 맥주의 가지 수 =     53 가지\n",
      "리뷰 개수가  92 개인 맥주의 가지 수 =     52 가지\n",
      "리뷰 개수가  72 개인 맥주의 가지 수 =     52 가지\n",
      "리뷰 개수가 125 개인 맥주의 가지 수 =     51 가지\n",
      "리뷰 개수가  89 개인 맥주의 가지 수 =     51 가지\n",
      "리뷰 개수가  67 개인 맥주의 가지 수 =     51 가지\n",
      "리뷰 개수가  74 개인 맥주의 가지 수 =     50 가지\n",
      "리뷰 개수가  57 개인 맥주의 가지 수 =     50 가지\n",
      "리뷰 개수가  69 개인 맥주의 가지 수 =     50 가지\n",
      "리뷰 개수가  86 개인 맥주의 가지 수 =     49 가지\n",
      "리뷰 개수가  58 개인 맥주의 가지 수 =     49 가지\n",
      "리뷰 개수가  96 개인 맥주의 가지 수 =     49 가지\n",
      "리뷰 개수가 120 개인 맥주의 가지 수 =     49 가지\n",
      "리뷰 개수가 109 개인 맥주의 가지 수 =     48 가지\n",
      "리뷰 개수가  61 개인 맥주의 가지 수 =     48 가지\n",
      "리뷰 개수가 102 개인 맥주의 가지 수 =     48 가지\n",
      "리뷰 개수가 107 개인 맥주의 가지 수 =     48 가지\n",
      "리뷰 개수가  79 개인 맥주의 가지 수 =     47 가지\n",
      "리뷰 개수가 110 개인 맥주의 가지 수 =     47 가지\n",
      "리뷰 개수가  77 개인 맥주의 가지 수 =     47 가지\n",
      "리뷰 개수가  63 개인 맥주의 가지 수 =     47 가지\n",
      "리뷰 개수가  88 개인 맥주의 가지 수 =     46 가지\n",
      "리뷰 개수가  87 개인 맥주의 가지 수 =     46 가지\n",
      "리뷰 개수가 119 개인 맥주의 가지 수 =     46 가지\n",
      "리뷰 개수가 101 개인 맥주의 가지 수 =     46 가지\n",
      "리뷰 개수가  55 개인 맥주의 가지 수 =     45 가지\n",
      "리뷰 개수가  82 개인 맥주의 가지 수 =     45 가지\n",
      "리뷰 개수가  64 개인 맥주의 가지 수 =     45 가지\n",
      "리뷰 개수가 105 개인 맥주의 가지 수 =     45 가지\n",
      "리뷰 개수가  97 개인 맥주의 가지 수 =     45 가지\n",
      "리뷰 개수가 103 개인 맥주의 가지 수 =     45 가지\n",
      "리뷰 개수가  85 개인 맥주의 가지 수 =     44 가지\n",
      "리뷰 개수가  94 개인 맥주의 가지 수 =     44 가지\n",
      "리뷰 개수가  95 개인 맥주의 가지 수 =     44 가지\n",
      "리뷰 개수가  83 개인 맥주의 가지 수 =     44 가지\n",
      "리뷰 개수가 112 개인 맥주의 가지 수 =     43 가지\n",
      "리뷰 개수가  56 개인 맥주의 가지 수 =     43 가지\n",
      "리뷰 개수가  84 개인 맥주의 가지 수 =     42 가지\n",
      "리뷰 개수가 114 개인 맥주의 가지 수 =     42 가지\n",
      "리뷰 개수가 135 개인 맥주의 가지 수 =     42 가지\n",
      "리뷰 개수가  75 개인 맥주의 가지 수 =     40 가지\n",
      "리뷰 개수가 117 개인 맥주의 가지 수 =     40 가지\n",
      "리뷰 개수가  54 개인 맥주의 가지 수 =     40 가지\n",
      "리뷰 개수가 123 개인 맥주의 가지 수 =     40 가지\n",
      "리뷰 개수가  73 개인 맥주의 가지 수 =     39 가지\n",
      "리뷰 개수가  62 개인 맥주의 가지 수 =     39 가지\n",
      "리뷰 개수가 100 개인 맥주의 가지 수 =     39 가지\n",
      "리뷰 개수가  91 개인 맥주의 가지 수 =     39 가지\n",
      "리뷰 개수가 104 개인 맥주의 가지 수 =     39 가지\n",
      "리뷰 개수가  70 개인 맥주의 가지 수 =     38 가지\n",
      "리뷰 개수가  71 개인 맥주의 가지 수 =     38 가지\n",
      "리뷰 개수가  80 개인 맥주의 가지 수 =     38 가지\n",
      "리뷰 개수가 124 개인 맥주의 가지 수 =     38 가지\n",
      "리뷰 개수가 118 개인 맥주의 가지 수 =     38 가지\n",
      "리뷰 개수가 106 개인 맥주의 가지 수 =     37 가지\n",
      "리뷰 개수가 149 개인 맥주의 가지 수 =     37 가지\n",
      "리뷰 개수가  93 개인 맥주의 가지 수 =     36 가지\n",
      "리뷰 개수가  52 개인 맥주의 가지 수 =     36 가지\n",
      "리뷰 개수가 108 개인 맥주의 가지 수 =     36 가지\n",
      "리뷰 개수가 113 개인 맥주의 가지 수 =     35 가지\n",
      "리뷰 개수가 138 개인 맥주의 가지 수 =     35 가지\n",
      "리뷰 개수가  99 개인 맥주의 가지 수 =     35 가지\n",
      "리뷰 개수가 111 개인 맥주의 가지 수 =     35 가지\n",
      "리뷰 개수가 127 개인 맥주의 가지 수 =     35 가지\n",
      "리뷰 개수가 122 개인 맥주의 가지 수 =     34 가지\n",
      "리뷰 개수가  53 개인 맥주의 가지 수 =     33 가지\n",
      "리뷰 개수가 133 개인 맥주의 가지 수 =     32 가지\n",
      "리뷰 개수가 126 개인 맥주의 가지 수 =     32 가지\n",
      "리뷰 개수가 132 개인 맥주의 가지 수 =     31 가지\n",
      "리뷰 개수가 172 개인 맥주의 가지 수 =     31 가지\n",
      "리뷰 개수가 141 개인 맥주의 가지 수 =     31 가지\n",
      "리뷰 개수가 131 개인 맥주의 가지 수 =     31 가지\n",
      "리뷰 개수가 155 개인 맥주의 가지 수 =     31 가지\n",
      "리뷰 개수가 140 개인 맥주의 가지 수 =     31 가지\n",
      "리뷰 개수가 121 개인 맥주의 가지 수 =     30 가지\n",
      "리뷰 개수가 147 개인 맥주의 가지 수 =     30 가지\n",
      "리뷰 개수가 146 개인 맥주의 가지 수 =     30 가지\n",
      "리뷰 개수가 157 개인 맥주의 가지 수 =     30 가지\n",
      "리뷰 개수가 173 개인 맥주의 가지 수 =     30 가지\n",
      "리뷰 개수가 136 개인 맥주의 가지 수 =     30 가지\n",
      "리뷰 개수가 128 개인 맥주의 가지 수 =     30 가지\n",
      "리뷰 개수가 116 개인 맥주의 가지 수 =     29 가지\n",
      "리뷰 개수가 130 개인 맥주의 가지 수 =     29 가지\n",
      "리뷰 개수가 154 개인 맥주의 가지 수 =     29 가지\n",
      "리뷰 개수가 152 개인 맥주의 가지 수 =     28 가지\n",
      "리뷰 개수가 186 개인 맥주의 가지 수 =     28 가지\n",
      "리뷰 개수가 184 개인 맥주의 가지 수 =     28 가지\n",
      "리뷰 개수가 194 개인 맥주의 가지 수 =     27 가지\n",
      "리뷰 개수가 175 개인 맥주의 가지 수 =     27 가지\n",
      "리뷰 개수가 142 개인 맥주의 가지 수 =     27 가지\n",
      "리뷰 개수가 166 개인 맥주의 가지 수 =     26 가지\n",
      "리뷰 개수가 199 개인 맥주의 가지 수 =     26 가지\n",
      "리뷰 개수가 139 개인 맥주의 가지 수 =     25 가지\n",
      "리뷰 개수가 148 개인 맥주의 가지 수 =     25 가지\n",
      "리뷰 개수가 164 개인 맥주의 가지 수 =     25 가지\n",
      "리뷰 개수가 158 개인 맥주의 가지 수 =     25 가지\n",
      "리뷰 개수가 207 개인 맥주의 가지 수 =     24 가지\n",
      "리뷰 개수가 168 개인 맥주의 가지 수 =     24 가지\n",
      "리뷰 개수가 163 개인 맥주의 가지 수 =     24 가지\n",
      "리뷰 개수가 222 개인 맥주의 가지 수 =     24 가지\n",
      "리뷰 개수가 150 개인 맥주의 가지 수 =     23 가지\n",
      "리뷰 개수가 229 개인 맥주의 가지 수 =     23 가지\n",
      "리뷰 개수가 196 개인 맥주의 가지 수 =     23 가지\n",
      "리뷰 개수가 134 개인 맥주의 가지 수 =     23 가지\n",
      "리뷰 개수가 145 개인 맥주의 가지 수 =     23 가지\n",
      "리뷰 개수가  51 개인 맥주의 가지 수 =     23 가지\n",
      "리뷰 개수가 143 개인 맥주의 가지 수 =     22 가지\n",
      "리뷰 개수가 192 개인 맥주의 가지 수 =     22 가지\n",
      "리뷰 개수가 204 개인 맥주의 가지 수 =     22 가지\n",
      "리뷰 개수가 156 개인 맥주의 가지 수 =     22 가지\n",
      "리뷰 개수가 187 개인 맥주의 가지 수 =     21 가지\n",
      "리뷰 개수가 165 개인 맥주의 가지 수 =     21 가지\n",
      "리뷰 개수가 153 개인 맥주의 가지 수 =     21 가지\n",
      "리뷰 개수가 189 개인 맥주의 가지 수 =     21 가지\n",
      "리뷰 개수가 183 개인 맥주의 가지 수 =     21 가지\n",
      "리뷰 개수가 213 개인 맥주의 가지 수 =     21 가지\n",
      "리뷰 개수가 151 개인 맥주의 가지 수 =     20 가지\n",
      "리뷰 개수가 178 개인 맥주의 가지 수 =     20 가지\n",
      "리뷰 개수가 182 개인 맥주의 가지 수 =     20 가지\n",
      "리뷰 개수가 169 개인 맥주의 가지 수 =     20 가지\n",
      "리뷰 개수가 161 개인 맥주의 가지 수 =     20 가지\n",
      "리뷰 개수가 144 개인 맥주의 가지 수 =     20 가지\n",
      "리뷰 개수가 256 개인 맥주의 가지 수 =     19 가지\n",
      "리뷰 개수가 137 개인 맥주의 가지 수 =     19 가지\n",
      "리뷰 개수가 188 개인 맥주의 가지 수 =     19 가지\n",
      "리뷰 개수가 167 개인 맥주의 가지 수 =     19 가지\n",
      "리뷰 개수가 209 개인 맥주의 가지 수 =     19 가지\n",
      "리뷰 개수가 201 개인 맥주의 가지 수 =     19 가지\n",
      "리뷰 개수가 162 개인 맥주의 가지 수 =     19 가지\n",
      "리뷰 개수가 266 개인 맥주의 가지 수 =     18 가지\n",
      "리뷰 개수가 233 개인 맥주의 가지 수 =     18 가지\n",
      "리뷰 개수가 195 개인 맥주의 가지 수 =     18 가지\n",
      "리뷰 개수가 190 개인 맥주의 가지 수 =     18 가지\n",
      "리뷰 개수가 180 개인 맥주의 가지 수 =     18 가지\n",
      "리뷰 개수가 294 개인 맥주의 가지 수 =     17 가지\n",
      "리뷰 개수가 198 개인 맥주의 가지 수 =     17 가지\n",
      "리뷰 개수가 208 개인 맥주의 가지 수 =     17 가지\n",
      "리뷰 개수가 159 개인 맥주의 가지 수 =     17 가지\n",
      "리뷰 개수가 240 개인 맥주의 가지 수 =     17 가지\n",
      "리뷰 개수가 191 개인 맥주의 가지 수 =     17 가지\n",
      "리뷰 개수가 185 개인 맥주의 가지 수 =     17 가지\n",
      "리뷰 개수가 174 개인 맥주의 가지 수 =     17 가지\n",
      "리뷰 개수가 160 개인 맥주의 가지 수 =     16 가지\n",
      "리뷰 개수가 197 개인 맥주의 가지 수 =     16 가지\n",
      "리뷰 개수가 171 개인 맥주의 가지 수 =     16 가지\n",
      "리뷰 개수가 242 개인 맥주의 가지 수 =     16 가지\n",
      "리뷰 개수가 285 개인 맥주의 가지 수 =     16 가지\n",
      "리뷰 개수가 210 개인 맥주의 가지 수 =     16 가지\n",
      "리뷰 개수가 226 개인 맥주의 가지 수 =     16 가지\n",
      "리뷰 개수가 287 개인 맥주의 가지 수 =     16 가지\n",
      "리뷰 개수가 193 개인 맥주의 가지 수 =     16 가지\n",
      "리뷰 개수가 243 개인 맥주의 가지 수 =     15 가지\n",
      "리뷰 개수가 170 개인 맥주의 가지 수 =     15 가지\n",
      "리뷰 개수가 202 개인 맥주의 가지 수 =     15 가지\n",
      "리뷰 개수가 267 개인 맥주의 가지 수 =     15 가지\n",
      "리뷰 개수가 221 개인 맥주의 가지 수 =     15 가지\n",
      "리뷰 개수가 181 개인 맥주의 가지 수 =     15 가지\n",
      "리뷰 개수가 200 개인 맥주의 가지 수 =     15 가지\n",
      "리뷰 개수가 234 개인 맥주의 가지 수 =     15 가지\n",
      "리뷰 개수가 177 개인 맥주의 가지 수 =     15 가지\n",
      "리뷰 개수가 231 개인 맥주의 가지 수 =     15 가지\n",
      "리뷰 개수가 205 개인 맥주의 가지 수 =     15 가지\n",
      "리뷰 개수가 179 개인 맥주의 가지 수 =     15 가지\n",
      "리뷰 개수가 203 개인 맥주의 가지 수 =     15 가지\n",
      "리뷰 개수가 220 개인 맥주의 가지 수 =     15 가지\n",
      "리뷰 개수가 227 개인 맥주의 가지 수 =     15 가지\n",
      "리뷰 개수가 321 개인 맥주의 가지 수 =     14 가지\n",
      "리뷰 개수가 241 개인 맥주의 가지 수 =     14 가지\n",
      "리뷰 개수가 276 개인 맥주의 가지 수 =     14 가지\n",
      "리뷰 개수가 248 개인 맥주의 가지 수 =     14 가지\n",
      "리뷰 개수가 268 개인 맥주의 가지 수 =     14 가지\n",
      "리뷰 개수가 249 개인 맥주의 가지 수 =     14 가지\n",
      "리뷰 개수가 206 개인 맥주의 가지 수 =     14 가지\n",
      "리뷰 개수가 262 개인 맥주의 가지 수 =     14 가지\n",
      "리뷰 개수가 228 개인 맥주의 가지 수 =     14 가지\n",
      "리뷰 개수가 245 개인 맥주의 가지 수 =     14 가지\n",
      "리뷰 개수가 270 개인 맥주의 가지 수 =     13 가지\n",
      "리뷰 개수가 260 개인 맥주의 가지 수 =     13 가지\n",
      "리뷰 개수가 320 개인 맥주의 가지 수 =     13 가지\n",
      "리뷰 개수가 289 개인 맥주의 가지 수 =     13 가지\n",
      "리뷰 개수가 352 개인 맥주의 가지 수 =     13 가지\n",
      "리뷰 개수가 264 개인 맥주의 가지 수 =     13 가지\n",
      "리뷰 개수가 129 개인 맥주의 가지 수 =     13 가지\n",
      "리뷰 개수가 359 개인 맥주의 가지 수 =     13 가지\n",
      "리뷰 개수가 295 개인 맥주의 가지 수 =     13 가지\n",
      "리뷰 개수가 235 개인 맥주의 가지 수 =     13 가지\n",
      "리뷰 개수가 211 개인 맥주의 가지 수 =     13 가지\n",
      "리뷰 개수가 216 개인 맥주의 가지 수 =     13 가지\n",
      "리뷰 개수가 219 개인 맥주의 가지 수 =     13 가지\n",
      "리뷰 개수가 224 개인 맥주의 가지 수 =     13 가지\n",
      "리뷰 개수가 232 개인 맥주의 가지 수 =     13 가지\n",
      "리뷰 개수가 176 개인 맥주의 가지 수 =     13 가지\n",
      "리뷰 개수가 275 개인 맥주의 가지 수 =     13 가지\n",
      "리뷰 개수가 223 개인 맥주의 가지 수 =     13 가지\n",
      "리뷰 개수가 246 개인 맥주의 가지 수 =     13 가지\n",
      "리뷰 개수가 236 개인 맥주의 가지 수 =     12 가지\n",
      "리뷰 개수가 313 개인 맥주의 가지 수 =     12 가지\n",
      "리뷰 개수가 215 개인 맥주의 가지 수 =     12 가지\n",
      "리뷰 개수가 255 개인 맥주의 가지 수 =     12 가지\n",
      "리뷰 개수가 237 개인 맥주의 가지 수 =     12 가지\n",
      "리뷰 개수가 298 개인 맥주의 가지 수 =     12 가지\n",
      "리뷰 개수가 212 개인 맥주의 가지 수 =     12 가지\n",
      "리뷰 개수가 217 개인 맥주의 가지 수 =     12 가지\n",
      "리뷰 개수가 308 개인 맥주의 가지 수 =     12 가지\n",
      "리뷰 개수가 357 개인 맥주의 가지 수 =     12 가지\n",
      "리뷰 개수가 218 개인 맥주의 가지 수 =     12 가지\n",
      "리뷰 개수가 292 개인 맥주의 가지 수 =     11 가지\n",
      "리뷰 개수가 239 개인 맥주의 가지 수 =     11 가지\n",
      "리뷰 개수가 253 개인 맥주의 가지 수 =     11 가지\n",
      "리뷰 개수가 283 개인 맥주의 가지 수 =     11 가지\n",
      "리뷰 개수가 325 개인 맥주의 가지 수 =     11 가지\n",
      "리뷰 개수가 265 개인 맥주의 가지 수 =     11 가지\n",
      "리뷰 개수가 272 개인 맥주의 가지 수 =     11 가지\n",
      "리뷰 개수가 379 개인 맥주의 가지 수 =     11 가지\n",
      "리뷰 개수가 225 개인 맥주의 가지 수 =     11 가지\n",
      "리뷰 개수가 290 개인 맥주의 가지 수 =     11 가지\n",
      "리뷰 개수가 304 개인 맥주의 가지 수 =     11 가지\n",
      "리뷰 개수가 273 개인 맥주의 가지 수 =     10 가지\n",
      "리뷰 개수가 354 개인 맥주의 가지 수 =     10 가지\n",
      "리뷰 개수가 293 개인 맥주의 가지 수 =     10 가지\n",
      "리뷰 개수가 250 개인 맥주의 가지 수 =     10 가지\n",
      "리뷰 개수가 309 개인 맥주의 가지 수 =     10 가지\n",
      "리뷰 개수가 376 개인 맥주의 가지 수 =     10 가지\n",
      "리뷰 개수가 230 개인 맥주의 가지 수 =     10 가지\n",
      "리뷰 개수가 278 개인 맥주의 가지 수 =     10 가지\n",
      "리뷰 개수가 254 개인 맥주의 가지 수 =     10 가지\n",
      "리뷰 개수가 369 개인 맥주의 가지 수 =     10 가지\n",
      "리뷰 개수가 281 개인 맥주의 가지 수 =     10 가지\n",
      "리뷰 개수가 337 개인 맥주의 가지 수 =     10 가지\n",
      "리뷰 개수가 274 개인 맥주의 가지 수 =     10 가지\n",
      "리뷰 개수가 367 개인 맥주의 가지 수 =     10 가지\n",
      "리뷰 개수가  49 개인 맥주의 가지 수 =     10 가지\n",
      "리뷰 개수가 394 개인 맥주의 가지 수 =     10 가지\n",
      "리뷰 개수가 468 개인 맥주의 가지 수 =     10 가지\n",
      "리뷰 개수가 421 개인 맥주의 가지 수 =     10 가지\n",
      "리뷰 개수가  50 개인 맥주의 가지 수 =     10 가지\n",
      "리뷰 개수가 315 개인 맥주의 가지 수 =     10 가지\n",
      "리뷰 개수가 338 개인 맥주의 가지 수 =     10 가지\n",
      "리뷰 개수가 330 개인 맥주의 가지 수 =     10 가지\n",
      "리뷰 개수가 326 개인 맥주의 가지 수 =     10 가지\n",
      "리뷰 개수가 348 개인 맥주의 가지 수 =     10 가지\n",
      "리뷰 개수가 333 개인 맥주의 가지 수 =     10 가지\n",
      "리뷰 개수가 319 개인 맥주의 가지 수 =     10 가지\n",
      "리뷰 개수가 214 개인 맥주의 가지 수 =      9 가지\n",
      "리뷰 개수가 341 개인 맥주의 가지 수 =      9 가지\n",
      "리뷰 개수가 380 개인 맥주의 가지 수 =      9 가지\n",
      "리뷰 개수가 312 개인 맥주의 가지 수 =      9 가지\n",
      "리뷰 개수가 450 개인 맥주의 가지 수 =      9 가지\n",
      "리뷰 개수가 328 개인 맥주의 가지 수 =      9 가지\n",
      "리뷰 개수가 349 개인 맥주의 가지 수 =      9 가지\n",
      "리뷰 개수가 257 개인 맥주의 가지 수 =      9 가지\n",
      "리뷰 개수가 252 개인 맥주의 가지 수 =      9 가지\n",
      "리뷰 개수가 238 개인 맥주의 가지 수 =      9 가지\n",
      "리뷰 개수가 414 개인 맥주의 가지 수 =      9 가지\n",
      "리뷰 개수가 387 개인 맥주의 가지 수 =      9 가지\n",
      "리뷰 개수가 347 개인 맥주의 가지 수 =      9 가지\n",
      "리뷰 개수가 323 개인 맥주의 가지 수 =      9 가지\n",
      "리뷰 개수가 307 개인 맥주의 가지 수 =      9 가지\n",
      "리뷰 개수가 299 개인 맥주의 가지 수 =      9 가지\n",
      "리뷰 개수가 291 개인 맥주의 가지 수 =      9 가지\n",
      "리뷰 개수가 310 개인 맥주의 가지 수 =      9 가지\n",
      "리뷰 개수가 302 개인 맥주의 가지 수 =      9 가지\n",
      "리뷰 개수가 271 개인 맥주의 가지 수 =      9 가지\n",
      "리뷰 개수가 305 개인 맥주의 가지 수 =      9 가지\n",
      "리뷰 개수가 501 개인 맥주의 가지 수 =      9 가지\n",
      "리뷰 개수가 269 개인 맥주의 가지 수 =      9 가지\n",
      "리뷰 개수가 416 개인 맥주의 가지 수 =      9 가지\n",
      "리뷰 개수가 258 개인 맥주의 가지 수 =      9 가지\n",
      "리뷰 개수가 360 개인 맥주의 가지 수 =      9 가지\n",
      "리뷰 개수가 336 개인 맥주의 가지 수 =      9 가지\n",
      "리뷰 개수가 453 개인 맥주의 가지 수 =      8 가지\n",
      "리뷰 개수가 481 개인 맥주의 가지 수 =      8 가지\n",
      "리뷰 개수가 430 개인 맥주의 가지 수 =      8 가지\n",
      "리뷰 개수가 346 개인 맥주의 가지 수 =      8 가지\n",
      "리뷰 개수가 446 개인 맥주의 가지 수 =      8 가지\n",
      "리뷰 개수가 437 개인 맥주의 가지 수 =      8 가지\n",
      "리뷰 개수가 282 개인 맥주의 가지 수 =      8 가지\n",
      "리뷰 개수가 435 개인 맥주의 가지 수 =      8 가지\n",
      "리뷰 개수가 579 개인 맥주의 가지 수 =      8 가지\n",
      "리뷰 개수가 427 개인 맥주의 가지 수 =      8 가지\n",
      "리뷰 개수가 353 개인 맥주의 가지 수 =      8 가지\n",
      "리뷰 개수가 438 개인 맥주의 가지 수 =      8 가지\n",
      "리뷰 개수가 247 개인 맥주의 가지 수 =      8 가지\n",
      "리뷰 개수가  33 개인 맥주의 가지 수 =      8 가지\n",
      "리뷰 개수가 423 개인 맥주의 가지 수 =      8 가지\n",
      "리뷰 개수가 317 개인 맥주의 가지 수 =      8 가지\n",
      "리뷰 개수가 314 개인 맥주의 가지 수 =      8 가지\n",
      "리뷰 개수가 296 개인 맥주의 가지 수 =      8 가지\n",
      "리뷰 개수가 316 개인 맥주의 가지 수 =      8 가지\n",
      "리뷰 개수가 364 개인 맥주의 가지 수 =      8 가지\n",
      "리뷰 개수가 404 개인 맥주의 가지 수 =      8 가지\n",
      "리뷰 개수가 261 개인 맥주의 가지 수 =      7 가지\n",
      "리뷰 개수가 297 개인 맥주의 가지 수 =      7 가지\n",
      "리뷰 개수가 401 개인 맥주의 가지 수 =      7 가지\n",
      "리뷰 개수가 473 개인 맥주의 가지 수 =      7 가지\n",
      "리뷰 개수가 334 개인 맥주의 가지 수 =      7 가지\n",
      "리뷰 개수가 422 개인 맥주의 가지 수 =      7 가지\n",
      "리뷰 개수가 429 개인 맥주의 가지 수 =      7 가지\n",
      "리뷰 개수가 377 개인 맥주의 가지 수 =      7 가지\n",
      "리뷰 개수가 618 개인 맥주의 가지 수 =      7 가지\n",
      "리뷰 개수가 331 개인 맥주의 가지 수 =      7 가지\n",
      "리뷰 개수가 339 개인 맥주의 가지 수 =      7 가지\n",
      "리뷰 개수가 452 개인 맥주의 가지 수 =      7 가지\n",
      "리뷰 개수가 362 개인 맥주의 가지 수 =      7 가지\n",
      "리뷰 개수가 514 개인 맥주의 가지 수 =      7 가지\n",
      "리뷰 개수가 284 개인 맥주의 가지 수 =      7 가지\n",
      "리뷰 개수가 419 개인 맥주의 가지 수 =      7 가지\n",
      "리뷰 개수가  35 개인 맥주의 가지 수 =      7 가지\n",
      "리뷰 개수가 395 개인 맥주의 가지 수 =      7 가지\n",
      "리뷰 개수가 432 개인 맥주의 가지 수 =      7 가지\n",
      "리뷰 개수가 332 개인 맥주의 가지 수 =      7 가지\n",
      "리뷰 개수가 463 개인 맥주의 가지 수 =      7 가지\n",
      "리뷰 개수가 306 개인 맥주의 가지 수 =      7 가지\n",
      "리뷰 개수가 670 개인 맥주의 가지 수 =      7 가지\n",
      "리뷰 개수가 322 개인 맥주의 가지 수 =      7 가지\n",
      "리뷰 개수가 251 개인 맥주의 가지 수 =      7 가지\n",
      "리뷰 개수가 439 개인 맥주의 가지 수 =      7 가지\n",
      "리뷰 개수가 279 개인 맥주의 가지 수 =      7 가지\n",
      "리뷰 개수가 464 개인 맥주의 가지 수 =      7 가지\n",
      "리뷰 개수가 368 개인 맥주의 가지 수 =      7 가지\n",
      "리뷰 개수가  36 개인 맥주의 가지 수 =      6 가지\n",
      "리뷰 개수가  45 개인 맥주의 가지 수 =      6 가지\n",
      "리뷰 개수가 300 개인 맥주의 가지 수 =      6 가지\n",
      "리뷰 개수가 301 개인 맥주의 가지 수 =      6 가지\n",
      "리뷰 개수가 244 개인 맥주의 가지 수 =      6 가지\n",
      "리뷰 개수가 408 개인 맥주의 가지 수 =      6 가지\n",
      "리뷰 개수가 344 개인 맥주의 가지 수 =      6 가지\n",
      "리뷰 개수가 384 개인 맥주의 가지 수 =      6 가지\n",
      "리뷰 개수가 551 개인 맥주의 가지 수 =      6 가지\n",
      "리뷰 개수가 277 개인 맥주의 가지 수 =      6 가지\n",
      "리뷰 개수가 607 개인 맥주의 가지 수 =      6 가지\n",
      "리뷰 개수가 567 개인 맥주의 가지 수 =      6 가지\n",
      "리뷰 개수가  37 개인 맥주의 가지 수 =      6 가지\n",
      "리뷰 개수가 535 개인 맥주의 가지 수 =      6 가지\n",
      "리뷰 개수가 527 개인 맥주의 가지 수 =      6 가지\n",
      "리뷰 개수가 448 개인 맥주의 가지 수 =      6 가지\n",
      "리뷰 개수가 511 개인 맥주의 가지 수 =      6 가지\n",
      "리뷰 개수가 712 개인 맥주의 가지 수 =      6 가지\n",
      "리뷰 개수가 495 개인 맥주의 가지 수 =      6 가지\n",
      "리뷰 개수가 456 개인 맥주의 가지 수 =      6 가지\n",
      "리뷰 개수가 363 개인 맥주의 가지 수 =      6 가지\n",
      "리뷰 개수가 455 개인 맥주의 가지 수 =      6 가지\n",
      "리뷰 개수가 447 개인 맥주의 가지 수 =      6 가지\n",
      "리뷰 개수가  39 개인 맥주의 가지 수 =      6 가지\n",
      "리뷰 개수가 356 개인 맥주의 가지 수 =      6 가지\n",
      "리뷰 개수가 372 개인 맥주의 가지 수 =      6 가지\n",
      "리뷰 개수가 686 개인 맥주의 가지 수 =      6 가지\n",
      "리뷰 개수가 564 개인 맥주의 가지 수 =      6 가지\n",
      "리뷰 개수가 573 개인 맥주의 가지 수 =      6 가지\n",
      "리뷰 개수가 406 개인 맥주의 가지 수 =      6 가지\n",
      "리뷰 개수가 390 개인 맥주의 가지 수 =      6 가지\n",
      "리뷰 개수가  40 개인 맥주의 가지 수 =      6 가지\n",
      "리뷰 개수가 342 개인 맥주의 가지 수 =      6 가지\n",
      "리뷰 개수가 522 개인 맥주의 가지 수 =      6 가지\n",
      "리뷰 개수가 458 개인 맥주의 가지 수 =      6 가지\n",
      "리뷰 개수가 413 개인 맥주의 가지 수 =      6 가지\n",
      "리뷰 개수가 286 개인 맥주의 가지 수 =      6 가지\n",
      "리뷰 개수가 407 개인 맥주의 가지 수 =      6 가지\n",
      "리뷰 개수가 389 개인 맥주의 가지 수 =      6 가지\n",
      "리뷰 개수가 373 개인 맥주의 가지 수 =      6 가지\n",
      "리뷰 개수가 345 개인 맥주의 가지 수 =      6 가지\n",
      "리뷰 개수가 418 개인 맥주의 가지 수 =      6 가지\n",
      "리뷰 개수가 386 개인 맥주의 가지 수 =      6 가지\n",
      "리뷰 개수가 412 개인 맥주의 가지 수 =      6 가지\n",
      "리뷰 개수가  29 개인 맥주의 가지 수 =      6 가지\n",
      "리뷰 개수가 428 개인 맥주의 가지 수 =      6 가지\n",
      "리뷰 개수가 280 개인 맥주의 가지 수 =      6 가지\n",
      "리뷰 개수가 436 개인 맥주의 가지 수 =      6 가지\n",
      "리뷰 개수가 402 개인 맥주의 가지 수 =      6 가지\n",
      "리뷰 개수가 479 개인 맥주의 가지 수 =      5 가지\n",
      "리뷰 개수가 288 개인 맥주의 가지 수 =      5 가지\n",
      "리뷰 개수가 557 개인 맥주의 가지 수 =      5 가지\n",
      "리뷰 개수가 426 개인 맥주의 가지 수 =      5 가지\n",
      "리뷰 개수가 661 개인 맥주의 가지 수 =      5 가지\n",
      "리뷰 개수가 634 개인 맥주의 가지 수 =      5 가지\n",
      "리뷰 개수가 687 개인 맥주의 가지 수 =      5 가지\n",
      "리뷰 개수가  32 개인 맥주의 가지 수 =      5 가지\n",
      "리뷰 개수가 533 개인 맥주의 가지 수 =      5 가지\n",
      "리뷰 개수가 509 개인 맥주의 가지 수 =      5 가지\n",
      "리뷰 개수가 378 개인 맥주의 가지 수 =      5 가지\n",
      "리뷰 개수가 599 개인 맥주의 가지 수 =      5 가지\n",
      "리뷰 개수가 698 개인 맥주의 가지 수 =      5 가지\n",
      "리뷰 개수가 885 개인 맥주의 가지 수 =      5 가지\n",
      "리뷰 개수가 538 개인 맥주의 가지 수 =      5 가지\n",
      "리뷰 개수가 461 개인 맥주의 가지 수 =      5 가지\n",
      "리뷰 개수가 370 개인 맥주의 가지 수 =      5 가지\n",
      "리뷰 개수가 466 개인 맥주의 가지 수 =      5 가지\n",
      "리뷰 개수가 410 개인 맥주의 가지 수 =      5 가지\n",
      "리뷰 개수가 397 개인 맥주의 가지 수 =      5 가지\n",
      "리뷰 개수가 561 개인 맥주의 가지 수 =      5 가지\n",
      "리뷰 개수가 496 개인 맥주의 가지 수 =      5 가지\n",
      "리뷰 개수가  38 개인 맥주의 가지 수 =      5 가지\n",
      "리뷰 개수가 324 개인 맥주의 가지 수 =      5 가지\n",
      "리뷰 개수가 340 개인 맥주의 가지 수 =      5 가지\n",
      "리뷰 개수가 393 개인 맥주의 가지 수 =      5 가지\n",
      "리뷰 개수가 396 개인 맥주의 가지 수 =      5 가지\n",
      "리뷰 개수가 444 개인 맥주의 가지 수 =      5 가지\n",
      "리뷰 개수가 460 개인 맥주의 가지 수 =      5 가지\n",
      "리뷰 개수가 476 개인 맥주의 가지 수 =      5 가지\n",
      "리뷰 개수가 500 개인 맥주의 가지 수 =      5 가지\n",
      "리뷰 개수가 335 개인 맥주의 가지 수 =      5 가지\n",
      "리뷰 개수가 409 개인 맥주의 가지 수 =      5 가지\n",
      "리뷰 개수가 534 개인 맥주의 가지 수 =      5 가지\n",
      "리뷰 개수가 684 개인 맥주의 가지 수 =      5 가지\n",
      "리뷰 개수가 494 개인 맥주의 가지 수 =      5 가지\n",
      "리뷰 개수가 486 개인 맥주의 가지 수 =      5 가지\n",
      "리뷰 개수가 358 개인 맥주의 가지 수 =      5 가지\n",
      "리뷰 개수가 529 개인 맥주의 가지 수 =      5 가지\n",
      "리뷰 개수가 537 개인 맥주의 가지 수 =      5 가지\n",
      "리뷰 개수가 398 개인 맥주의 가지 수 =      5 가지\n",
      "리뷰 개수가 593 개인 맥주의 가지 수 =      5 가지\n",
      "리뷰 개수가 918 개인 맥주의 가지 수 =      5 가지\n",
      "리뷰 개수가 589 개인 맥주의 가지 수 =      5 가지\n",
      "리뷰 개수가 361 개인 맥주의 가지 수 =      5 가지\n",
      "리뷰 개수가 451 개인 맥주의 가지 수 =      5 가지\n",
      "리뷰 개수가 371 개인 맥주의 가지 수 =      5 가지\n",
      "리뷰 개수가 263 개인 맥주의 가지 수 =      5 가지\n",
      "리뷰 개수가 619 개인 맥주의 가지 수 =      5 가지\n",
      "리뷰 개수가 816 개인 맥주의 가지 수 =      5 가지\n",
      "리뷰 개수가 600 개인 맥주의 가지 수 =      5 가지\n",
      "리뷰 개수가 507 개인 맥주의 가지 수 =      5 가지\n",
      "리뷰 개수가 577 개인 맥주의 가지 수 =      5 가지\n",
      "리뷰 개수가 836 개인 맥주의 가지 수 =      4 가지\n",
      "리뷰 개수가 754 개인 맥주의 가지 수 =      4 가지\n",
      "리뷰 개수가 554 개인 맥주의 가지 수 =      4 가지\n",
      "리뷰 개수가 777 개인 맥주의 가지 수 =      4 가지\n",
      "리뷰 개수가 602 개인 맥주의 가지 수 =      4 가지\n",
      "리뷰 개수가 489 개인 맥주의 가지 수 =      4 가지\n",
      "리뷰 개수가  28 개인 맥주의 가지 수 =      4 가지\n",
      "리뷰 개수가 517 개인 맥주의 가지 수 =      4 가지\n",
      "리뷰 개수가 403 개인 맥주의 가지 수 =      4 가지\n",
      "리뷰 개수가 541 개인 맥주의 가지 수 =      4 가지\n",
      "리뷰 개수가 259 개인 맥주의 가지 수 =      4 가지\n",
      "리뷰 개수가 545 개인 맥주의 가지 수 =      4 가지\n",
      "리뷰 개수가 549 개인 맥주의 가지 수 =      4 가지\n",
      "리뷰 개수가 609 개인 맥주의 가지 수 =      4 가지\n",
      "리뷰 개수가 581 개인 맥주의 가지 수 =      4 가지\n",
      "리뷰 개수가 626 개인 맥주의 가지 수 =      4 가지\n",
      "리뷰 개수가 802 개인 맥주의 가지 수 =      4 가지\n",
      "리뷰 개수가 449 개인 맥주의 가지 수 =      4 가지\n",
      "리뷰 개수가 445 개인 맥주의 가지 수 =      4 가지\n",
      "리뷰 개수가 499 개인 맥주의 가지 수 =      4 가지\n",
      "리뷰 개수가  26 개인 맥주의 가지 수 =      4 가지\n",
      "리뷰 개수가  34 개인 맥주의 가지 수 =      4 가지\n",
      "리뷰 개수가  42 개인 맥주의 가지 수 =      4 가지\n",
      "리뷰 개수가  27 개인 맥주의 가지 수 =      4 가지\n",
      "리뷰 개수가 691 개인 맥주의 가지 수 =      4 가지\n",
      "리뷰 개수가 595 개인 맥주의 가지 수 =      4 가지\n",
      "리뷰 개수가 531 개인 맥주의 가지 수 =      4 가지\n",
      "리뷰 개수가 524 개인 맥주의 가지 수 =      4 가지\n",
      "리뷰 개수가 548 개인 맥주의 가지 수 =      4 가지\n",
      "리뷰 개수가  44 개인 맥주의 가지 수 =      4 가지\n",
      "리뷰 개수가 620 개인 맥주의 가지 수 =      4 가지\n",
      "리뷰 개수가 443 개인 맥주의 가지 수 =      4 가지\n",
      "리뷰 개수가 441 개인 맥주의 가지 수 =      4 가지\n",
      "리뷰 개수가 708 개인 맥주의 가지 수 =      4 가지\n",
      "리뷰 개수가 849 개인 맥주의 가지 수 =      4 가지\n",
      "리뷰 개수가 812 개인 맥주의 가지 수 =      4 가지\n",
      "리뷰 개수가 820 개인 맥주의 가지 수 =      4 가지\n",
      "리뷰 개수가 490 개인 맥주의 가지 수 =      4 가지\n",
      "리뷰 개수가 540 개인 맥주의 가지 수 =      4 가지\n",
      "리뷰 개수가 329 개인 맥주의 가지 수 =      4 가지\n",
      "리뷰 개수가 383 개인 맥주의 가지 수 =      4 가지\n",
      "리뷰 개수가 832 개인 맥주의 가지 수 =      4 가지\n",
      "리뷰 개수가 744 개인 맥주의 가지 수 =      4 가지\n",
      "리뷰 개수가 478 개인 맥주의 가지 수 =      4 가지\n",
      "리뷰 개수가 318 개인 맥주의 가지 수 =      4 가지\n",
      "리뷰 개수가 470 개인 맥주의 가지 수 =      4 가지\n",
      "리뷰 개수가  41 개인 맥주의 가지 수 =      4 가지\n",
      "리뷰 개수가 584 개인 맥주의 가지 수 =      4 가지\n",
      "리뷰 개수가 1,167 개인 맥주의 가지 수 =      4 가지\n",
      "리뷰 개수가 536 개인 맥주의 가지 수 =      4 가지\n",
      "리뷰 개수가  31 개인 맥주의 가지 수 =      4 가지\n",
      "리뷰 개수가 512 개인 맥주의 가지 수 =      4 가지\n",
      "리뷰 개수가 504 개인 맥주의 가지 수 =      4 가지\n",
      "리뷰 개수가 303 개인 맥주의 가지 수 =      4 가지\n",
      "리뷰 개수가 311 개인 맥주의 가지 수 =      4 가지\n",
      "리뷰 개수가 375 개인 맥주의 가지 수 =      4 가지\n",
      "리뷰 개수가 391 개인 맥주의 가지 수 =      4 가지\n",
      "리뷰 개수가 415 개인 맥주의 가지 수 =      4 가지\n",
      "리뷰 개수가 462 개인 맥주의 가지 수 =      4 가지\n",
      "리뷰 개수가 471 개인 맥주의 가지 수 =      4 가지\n",
      "리뷰 개수가 575 개인 맥주의 가지 수 =      4 가지\n",
      "리뷰 개수가 424 개인 맥주의 가지 수 =      4 가지\n",
      "리뷰 개수가 647 개인 맥주의 가지 수 =      4 가지\n",
      "리뷰 개수가 350 개인 맥주의 가지 수 =      4 가지\n",
      "리뷰 개수가 711 개인 맥주의 가지 수 =      4 가지\n",
      "리뷰 개수가 518 개인 맥주의 가지 수 =      4 가지\n",
      "리뷰 개수가 592 개인 맥주의 가지 수 =      4 가지\n",
      "리뷰 개수가 862 개인 맥주의 가지 수 =      4 가지\n",
      "리뷰 개수가 766 개인 맥주의 가지 수 =      4 가지\n",
      "리뷰 개수가 645 개인 맥주의 가지 수 =      4 가지\n",
      "리뷰 개수가 758 개인 맥주의 가지 수 =      4 가지\n",
      "리뷰 개수가 1,179 개인 맥주의 가지 수 =      3 가지\n",
      "리뷰 개수가 472 개인 맥주의 가지 수 =      3 가지\n",
      "리뷰 개수가 625 개인 맥주의 가지 수 =      3 가지\n",
      "리뷰 개수가 480 개인 맥주의 가지 수 =      3 가지\n",
      "리뷰 개수가 488 개인 맥주의 가지 수 =      3 가지\n",
      "리뷰 개수가 596 개인 맥주의 가지 수 =      3 가지\n",
      "리뷰 개수가 1,043 개인 맥주의 가지 수 =      3 가지\n",
      "리뷰 개수가 351 개인 맥주의 가지 수 =      3 가지\n",
      "리뷰 개수가 343 개인 맥주의 가지 수 =      3 가지\n",
      "리뷰 개수가 327 개인 맥주의 가지 수 =      3 가지\n",
      "리뷰 개수가 726 개인 맥주의 가지 수 =      3 가지\n",
      "리뷰 개수가 702 개인 맥주의 가지 수 =      3 가지\n",
      "리뷰 개수가 931 개인 맥주의 가지 수 =      3 가지\n",
      "리뷰 개수가 1,260 개인 맥주의 가지 수 =      3 가지\n",
      "리뷰 개수가 1,064 개인 맥주의 가지 수 =      3 가지\n",
      "리뷰 개수가 520 개인 맥주의 가지 수 =      3 가지\n",
      "리뷰 개수가 503 개인 맥주의 가지 수 =      3 가지\n",
      "리뷰 개수가 454 개인 맥주의 가지 수 =      3 가지\n",
      "리뷰 개수가 591 개인 맥주의 가지 수 =      3 가지\n",
      "리뷰 개수가 440 개인 맥주의 가지 수 =      3 가지\n",
      "리뷰 개수가 374 개인 맥주의 가지 수 =      3 가지\n",
      "리뷰 개수가 1,353 개인 맥주의 가지 수 =      3 가지\n",
      "리뷰 개수가 655 개인 맥주의 가지 수 =      3 가지\n",
      "리뷰 개수가 513 개인 맥주의 가지 수 =      3 가지\n",
      "리뷰 개수가 703 개인 맥주의 가지 수 =      3 가지\n",
      "리뷰 개수가 1,668 개인 맥주의 가지 수 =      3 가지\n",
      "리뷰 개수가 992 개인 맥주의 가지 수 =      3 가지\n",
      "리뷰 개수가 1,062 개인 맥주의 가지 수 =      3 가지\n",
      "리뷰 개수가 392 개인 맥주의 가지 수 =      3 가지\n",
      "리뷰 개수가 923 개인 맥주의 가지 수 =      3 가지\n",
      "리뷰 개수가 528 개인 맥주의 가지 수 =      3 가지\n",
      "리뷰 개수가 628 개인 맥주의 가지 수 =      3 가지\n",
      "리뷰 개수가 732 개인 맥주의 가지 수 =      3 가지\n",
      "리뷰 개수가 411 개인 맥주의 가지 수 =      3 가지\n",
      "리뷰 개수가 736 개인 맥주의 가지 수 =      3 가지\n",
      "리뷰 개수가 659 개인 맥주의 가지 수 =      3 가지\n",
      "리뷰 개수가 784 개인 맥주의 가지 수 =      3 가지\n",
      "리뷰 개수가 515 개인 맥주의 가지 수 =      3 가지\n",
      "리뷰 개수가 740 개인 맥주의 가지 수 =      3 가지\n",
      "리뷰 개수가 724 개인 맥주의 가지 수 =      3 가지\n",
      "리뷰 개수가 737 개인 맥주의 가지 수 =      3 가지\n",
      "리뷰 개수가 1,366 개인 맥주의 가지 수 =      3 가지\n",
      "리뷰 개수가 539 개인 맥주의 가지 수 =      3 가지\n",
      "리뷰 개수가 651 개인 맥주의 가지 수 =      3 가지\n",
      "리뷰 개수가 526 개인 맥주의 가지 수 =      3 가지\n",
      "리뷰 개수가 555 개인 맥주의 가지 수 =      3 가지\n",
      "리뷰 개수가 588 개인 맥주의 가지 수 =      3 가지\n",
      "리뷰 개수가 1,240 개인 맥주의 가지 수 =      3 가지\n",
      "리뷰 개수가 860 개인 맥주의 가지 수 =      3 가지\n",
      "리뷰 개수가 640 개인 맥주의 가지 수 =      3 가지\n",
      "리뷰 개수가 355 개인 맥주의 가지 수 =      3 가지\n",
      "리뷰 개수가 608 개인 맥주의 가지 수 =      3 가지\n",
      "리뷰 개수가 532 개인 맥주의 가지 수 =      3 가지\n",
      "리뷰 개수가 785 개인 맥주의 가지 수 =      3 가지\n",
      "리뷰 개수가 508 개인 맥주의 가지 수 =      3 가지\n",
      "리뷰 개수가 755 개인 맥주의 가지 수 =      3 가지\n",
      "리뷰 개수가 590 개인 맥주의 가지 수 =      3 가지\n",
      "리뷰 개수가 568 개인 맥주의 가지 수 =      3 가지\n",
      "리뷰 개수가 753 개인 맥주의 가지 수 =      3 가지\n",
      "리뷰 개수가 598 개인 맥주의 가지 수 =      3 가지\n",
      "리뷰 개수가 1,004 개인 맥주의 가지 수 =      3 가지\n",
      "리뷰 개수가 827 개인 맥주의 가지 수 =      3 가지\n",
      "리뷰 개수가 388 개인 맥주의 가지 수 =      3 가지\n",
      "리뷰 개수가 745 개인 맥주의 가지 수 =      3 가지\n",
      "리뷰 개수가 457 개인 맥주의 가지 수 =      3 가지\n",
      "리뷰 개수가 1,054 개인 맥주의 가지 수 =      3 가지\n",
      "리뷰 개수가 974 개인 맥주의 가지 수 =      3 가지\n",
      "리뷰 개수가 922 개인 맥주의 가지 수 =      3 가지\n",
      "리뷰 개수가 1,402 개인 맥주의 가지 수 =      3 가지\n",
      "리뷰 개수가 975 개인 맥주의 가지 수 =      3 가지\n",
      "리뷰 개수가  48 개인 맥주의 가지 수 =      3 가지\n",
      "리뷰 개수가 578 개인 맥주의 가지 수 =      3 가지\n",
      "리뷰 개수가 570 개인 맥주의 가지 수 =      3 가지\n",
      "리뷰 개수가 477 개인 맥주의 가지 수 =      3 가지\n",
      "리뷰 개수가 1,042 개인 맥주의 가지 수 =      3 가지\n",
      "리뷰 개수가 469 개인 맥주의 가지 수 =      3 가지\n",
      "리뷰 개수가 789 개인 맥주의 가지 수 =      3 가지\n",
      "리뷰 개수가 930 개인 맥주의 가지 수 =      3 가지\n",
      "리뷰 개수가 770 개인 맥주의 가지 수 =      3 가지\n",
      "리뷰 개수가 653 개인 맥주의 가지 수 =      3 가지\n",
      "리뷰 개수가 837 개인 맥주의 가지 수 =      3 가지\n",
      "리뷰 개수가 989 개인 맥주의 가지 수 =      3 가지\n",
      "리뷰 개수가 474 개인 맥주의 가지 수 =      3 가지\n",
      "리뷰 개수가 482 개인 맥주의 가지 수 =      3 가지\n",
      "리뷰 개수가 498 개인 맥주의 가지 수 =      3 가지\n",
      "리뷰 개수가 433 개인 맥주의 가지 수 =      3 가지\n",
      "리뷰 개수가 365 개인 맥주의 가지 수 =      3 가지\n",
      "리뷰 개수가 778 개인 맥주의 가지 수 =      3 가지\n",
      "리뷰 개수가 826 개인 맥주의 가지 수 =      3 가지\n",
      "리뷰 개수가 381 개인 맥주의 가지 수 =      3 가지\n",
      "리뷰 개수가 677 개인 맥주의 가지 수 =      3 가지\n",
      "리뷰 개수가 485 개인 맥주의 가지 수 =      3 가지\n",
      "리뷰 개수가 810 개인 맥주의 가지 수 =      3 가지\n",
      "리뷰 개수가 735 개인 맥주의 가지 수 =      3 가지\n",
      "리뷰 개수가 783 개인 맥주의 가지 수 =      3 가지\n",
      "리뷰 개수가  30 개인 맥주의 가지 수 =      3 가지\n",
      "리뷰 개수가 823 개인 맥주의 가지 수 =      3 가지\n",
      "리뷰 개수가 417 개인 맥주의 가지 수 =      3 가지\n",
      "리뷰 개수가 791 개인 맥주의 가지 수 =      3 가지\n",
      "리뷰 개수가 385 개인 맥주의 가지 수 =      3 가지\n",
      "리뷰 개수가 637 개인 맥주의 가지 수 =      3 가지\n",
      "리뷰 개수가 723 개인 맥주의 가지 수 =      2 가지\n",
      "리뷰 개수가 1,142 개인 맥주의 가지 수 =      2 가지\n",
      "리뷰 개수가 675 개인 맥주의 가지 수 =      2 가지\n",
      "리뷰 개수가 667 개인 맥주의 가지 수 =      2 가지\n",
      "리뷰 개수가 1,963 개인 맥주의 가지 수 =      2 가지\n",
      "리뷰 개수가 739 개인 맥주의 가지 수 =      2 가지\n",
      "리뷰 개수가 1,105 개인 맥주의 가지 수 =      2 가지\n",
      "리뷰 개수가 546 개인 맥주의 가지 수 =      2 가지\n",
      "리뷰 개수가 762 개인 맥주의 가지 수 =      2 가지\n",
      "리뷰 개수가 747 개인 맥주의 가지 수 =      2 가지\n",
      "리뷰 개수가 888 개인 맥주의 가지 수 =      2 가지\n",
      "리뷰 개수가 635 개인 맥주의 가지 수 =      2 가지\n",
      "리뷰 개수가 730 개인 맥주의 가지 수 =      2 가지\n",
      "리뷰 개수가 2,027 개인 맥주의 가지 수 =      2 가지\n",
      "리뷰 개수가 1,094 개인 맥주의 가지 수 =      2 가지\n",
      "리뷰 개수가 627 개인 맥주의 가지 수 =      2 가지\n",
      "리뷰 개수가   8 개인 맥주의 가지 수 =      2 가지\n",
      "리뷰 개수가 613 개인 맥주의 가지 수 =      2 가지\n",
      "리뷰 개수가 856 개인 맥주의 가지 수 =      2 가지\n",
      "리뷰 개수가 928 개인 맥주의 가지 수 =      2 가지\n",
      "리뷰 개수가 1,030 개인 맥주의 가지 수 =      2 가지\n",
      "리뷰 개수가 1,567 개인 맥주의 가지 수 =      2 가지\n",
      "리뷰 개수가 611 개인 맥주의 가지 수 =      2 가지\n",
      "리뷰 개수가 603 개인 맥주의 가지 수 =      2 가지\n",
      "리뷰 개수가 1,791 개인 맥주의 가지 수 =      2 가지\n",
      "리뷰 개수가 1,403 개인 맥주의 가지 수 =      2 가지\n",
      "리뷰 개수가 562 개인 맥주의 가지 수 =      2 가지\n",
      "리뷰 개수가 1,521 개인 맥주의 가지 수 =      2 가지\n",
      "리뷰 개수가 1,443 개인 맥주의 가지 수 =      2 가지\n",
      "리뷰 개수가 1,275 개인 맥주의 가지 수 =      2 가지\n",
      "리뷰 개수가 1,483 개인 맥주의 가지 수 =      2 가지\n",
      "리뷰 개수가 1,649 개인 맥주의 가지 수 =      2 가지\n",
      "리뷰 개수가 666 개인 맥주의 가지 수 =      2 가지\n",
      "리뷰 개수가 594 개인 맥주의 가지 수 =      2 가지\n",
      "리뷰 개수가 1,099 개인 맥주의 가지 수 =      2 가지\n",
      "리뷰 개수가 1,059 개인 맥주의 가지 수 =      2 가지\n",
      "리뷰 개수가 1,879 개인 맥주의 가지 수 =      2 가지\n",
      "리뷰 개수가 690 개인 맥주의 가지 수 =      2 가지\n",
      "리뷰 개수가 987 개인 맥주의 가지 수 =      2 가지\n",
      "리뷰 개수가 979 개인 맥주의 가지 수 =      2 가지\n",
      "리뷰 개수가 971 개인 맥주의 가지 수 =      2 가지\n",
      "리뷰 개수가 963 개인 맥주의 가지 수 =      2 가지\n",
      "리뷰 개수가 1,233 개인 맥주의 가지 수 =      2 가지\n",
      "리뷰 개수가 1,209 개인 맥주의 가지 수 =      2 가지\n",
      "리뷰 개수가 840 개인 맥주의 가지 수 =      2 가지\n",
      "리뷰 개수가 915 개인 맥주의 가지 수 =      2 가지\n",
      "리뷰 개수가 642 개인 맥주의 가지 수 =      2 가지\n",
      "리뷰 개수가 899 개인 맥주의 가지 수 =      2 가지\n",
      "리뷰 개수가 867 개인 맥주의 가지 수 =      2 가지\n",
      "리뷰 개수가 1,161 개인 맥주의 가지 수 =      2 가지\n",
      "리뷰 개수가 851 개인 맥주의 가지 수 =      2 가지\n",
      "리뷰 개수가 843 개인 맥주의 가지 수 =      2 가지\n",
      "리뷰 개수가 835 개인 맥주의 가지 수 =      2 가지\n",
      "리뷰 개수가 1,145 개인 맥주의 가지 수 =      2 가지\n",
      "리뷰 개수가 819 개인 맥주의 가지 수 =      2 가지\n",
      "리뷰 개수가 811 개인 맥주의 가지 수 =      2 가지\n",
      "리뷰 개수가 795 개인 맥주의 가지 수 =      2 가지\n",
      "리뷰 개수가  10 개인 맥주의 가지 수 =      2 가지\n",
      "리뷰 개수가 1,738 개인 맥주의 가지 수 =      2 가지\n",
      "리뷰 개수가 1,543 개인 맥주의 가지 수 =      2 가지\n",
      "리뷰 개수가 824 개인 맥주의 가지 수 =      2 가지\n",
      "리뷰 개수가 2,478 개인 맥주의 가지 수 =      2 가지\n",
      "리뷰 개수가 1,450 개인 맥주의 가지 수 =      2 가지\n",
      "리뷰 개수가 903 개인 맥주의 가지 수 =      2 가지\n",
      "리뷰 개수가 1,434 개인 맥주의 가지 수 =      2 가지\n",
      "리뷰 개수가 911 개인 맥주의 가지 수 =      2 가지\n",
      "리뷰 개수가 1,386 개인 맥주의 가지 수 =      2 가지\n",
      "리뷰 개수가 966 개인 맥주의 가지 수 =      2 가지\n",
      "리뷰 개수가 927 개인 맥주의 가지 수 =      2 가지\n",
      "리뷰 개수가 1,354 개인 맥주의 가지 수 =      2 가지\n",
      "리뷰 개수가 2,403 개인 맥주의 가지 수 =      2 가지\n",
      "리뷰 개수가 1,298 개인 맥주의 가지 수 =      2 가지\n",
      "리뷰 개수가 999 개인 맥주의 가지 수 =      2 가지\n",
      "리뷰 개수가 1,258 개인 맥주의 가지 수 =      2 가지\n",
      "리뷰 개수가 1,015 개인 맥주의 가지 수 =      2 가지\n",
      "리뷰 개수가 1,047 개인 맥주의 가지 수 =      2 가지\n",
      "리뷰 개수가 431 개인 맥주의 가지 수 =      2 가지\n",
      "리뷰 개수가 1,482 개인 맥주의 가지 수 =      2 가지\n",
      "리뷰 개수가 895 개인 맥주의 가지 수 =      2 가지\n",
      "리뷰 개수가 863 개인 맥주의 가지 수 =      2 가지\n",
      "리뷰 개수가 727 개인 맥주의 가지 수 =      2 가지\n",
      "리뷰 개수가 743 개인 맥주의 가지 수 =      2 가지\n",
      "리뷰 개수가 695 개인 맥주의 가지 수 =      2 가지\n",
      "리뷰 개수가 671 개인 맥주의 가지 수 =      2 가지\n",
      "리뷰 개수가 2,425 개인 맥주의 가지 수 =      2 가지\n",
      "리뷰 개수가 775 개인 맥주의 가지 수 =      2 가지\n",
      "리뷰 개수가 615 개인 맥주의 가지 수 =      2 가지\n",
      "리뷰 개수가 1,506 개인 맥주의 가지 수 =      2 가지\n",
      "리뷰 개수가 871 개인 맥주의 가지 수 =      2 가지\n",
      "리뷰 개수가 583 개인 맥주의 가지 수 =      2 가지\n",
      "리뷰 개수가 887 개인 맥주의 가지 수 =      2 가지\n",
      "리뷰 개수가 559 개인 맥주의 가지 수 =      2 가지\n",
      "리뷰 개수가 543 개인 맥주의 가지 수 =      2 가지\n",
      "리뷰 개수가 519 개인 맥주의 가지 수 =      2 가지\n",
      "리뷰 개수가 1,170 개인 맥주의 가지 수 =      2 가지\n",
      "리뷰 개수가 1,162 개인 맥주의 가지 수 =      2 가지\n",
      "리뷰 개수가  47 개인 맥주의 가지 수 =      2 가지\n",
      "리뷰 개수가 483 개인 맥주의 가지 수 =      2 가지\n",
      "리뷰 개수가 688 개인 맥주의 가지 수 =      2 가지\n",
      "리뷰 개수가 946 개인 맥주의 가지 수 =      2 가지\n",
      "리뷰 개수가 1,526 개인 맥주의 가지 수 =      2 가지\n",
      "리뷰 개수가 696 개인 맥주의 가지 수 =      2 가지\n",
      "리뷰 개수가 459 개인 맥주의 가지 수 =      2 가지\n",
      "리뷰 개수가 752 개인 맥주의 가지 수 =      2 가지\n",
      "리뷰 개수가 776 개인 맥주의 가지 수 =      2 가지\n",
      "리뷰 개수가 680 개인 맥주의 가지 수 =      2 가지\n",
      "리뷰 개수가 1,374 개인 맥주의 가지 수 =      2 가지\n",
      "리뷰 개수가 1,343 개인 맥주의 가지 수 =      2 가지\n",
      "리뷰 개수가 842 개인 맥주의 가지 수 =      2 가지\n",
      "리뷰 개수가 1,334 개인 맥주의 가지 수 =      2 가지\n",
      "리뷰 개수가 563 개인 맥주의 가지 수 =      2 가지\n",
      "리뷰 개수가 800 개인 맥주의 가지 수 =      2 가지\n",
      "리뷰 개수가 954 개인 맥주의 가지 수 =      2 가지\n",
      "리뷰 개수가 664 개인 맥주의 가지 수 =      2 가지\n",
      "리뷰 개수가 2,281 개인 맥주의 가지 수 =      2 가지\n",
      "리뷰 개수가 1,026 개인 맥주의 가지 수 =      2 가지\n",
      "리뷰 개수가 3,174 개인 맥주의 가지 수 =      2 가지\n",
      "리뷰 개수가 1,127 개인 맥주의 가지 수 =      2 가지\n",
      "리뷰 개수가 1,143 개인 맥주의 가지 수 =      2 가지\n",
      "리뷰 개수가 1,191 개인 맥주의 가지 수 =      2 가지\n",
      "리뷰 개수가 2,030 개인 맥주의 가지 수 =      2 가지\n",
      "리뷰 개수가 576 개인 맥주의 가지 수 =      2 가지\n",
      "리뷰 개수가 1,010 개인 맥주의 가지 수 =      2 가지\n",
      "리뷰 개수가 1,247 개인 맥주의 가지 수 =      2 가지\n",
      "리뷰 개수가 994 개인 맥주의 가지 수 =      2 가지\n",
      "리뷰 개수가 434 개인 맥주의 가지 수 =      2 가지\n",
      "리뷰 개수가 442 개인 맥주의 가지 수 =      2 가지\n",
      "리뷰 개수가 632 개인 맥주의 가지 수 =      2 가지\n",
      "리뷰 개수가 1,231 개인 맥주의 가지 수 =      2 가지\n",
      "리뷰 개수가 962 개인 맥주의 가지 수 =      2 가지\n",
      "리뷰 개수가 506 개인 맥주의 가지 수 =      2 가지\n",
      "리뷰 개수가 605 개인 맥주의 가지 수 =      2 가지\n",
      "리뷰 개수가 601 개인 맥주의 가지 수 =      2 가지\n",
      "리뷰 개수가 968 개인 맥주의 가지 수 =      2 가지\n",
      "리뷰 개수가 1,508 개인 맥주의 가지 수 =      2 가지\n",
      "리뷰 개수가 516 개인 맥주의 가지 수 =      2 가지\n",
      "리뷰 개수가 956 개인 맥주의 가지 수 =      2 가지\n",
      "리뷰 개수가 484 개인 맥주의 가지 수 =      2 가지\n",
      "리뷰 개수가 1,741 개인 맥주의 가지 수 =      2 가지\n",
      "리뷰 개수가 761 개인 맥주의 가지 수 =      2 가지\n",
      "리뷰 개수가 972 개인 맥주의 가지 수 =      2 가지\n",
      "리뷰 개수가 1,400 개인 맥주의 가지 수 =      2 가지\n",
      "리뷰 개수가 1,200 개인 맥주의 가지 수 =      2 가지\n",
      "리뷰 개수가 1,452 개인 맥주의 가지 수 =      2 가지\n",
      "리뷰 개수가 622 개인 맥주의 가지 수 =      2 가지\n",
      "리뷰 개수가 630 개인 맥주의 가지 수 =      2 가지\n",
      "리뷰 개수가 420 개인 맥주의 가지 수 =      2 가지\n",
      "리뷰 개수가 1,041 개인 맥주의 가지 수 =      2 가지\n",
      "리뷰 개수가 1,168 개인 맥주의 가지 수 =      2 가지\n",
      "리뷰 개수가 1,012 개인 맥주의 가지 수 =      2 가지\n",
      "리뷰 개수가 1,020 개인 맥주의 가지 수 =      2 가지\n",
      "리뷰 개수가 2,244 개인 맥주의 가지 수 =      2 가지\n",
      "리뷰 개수가 1,880 개인 맥주의 가지 수 =      2 가지\n",
      "리뷰 개수가 1,565 개인 맥주의 가지 수 =      2 가지\n",
      "리뷰 개수가 1,152 개인 맥주의 가지 수 =      2 가지\n",
      "리뷰 개수가 553 개인 맥주의 가지 수 =      2 가지\n",
      "리뷰 개수가 694 개인 맥주의 가지 수 =      2 가지\n",
      "리뷰 개수가 1,388 개인 맥주의 가지 수 =      2 가지\n",
      "리뷰 개수가 710 개인 맥주의 가지 수 =      2 가지\n",
      "리뷰 개수가 718 개인 맥주의 가지 수 =      2 가지\n",
      "리뷰 개수가 713 개인 맥주의 가지 수 =      2 가지\n",
      "리뷰 개수가 521 개인 맥주의 가지 수 =      2 가지\n",
      "리뷰 개수가 566 개인 맥주의 가지 수 =      2 가지\n",
      "리뷰 개수가 2,284 개인 맥주의 가지 수 =      2 가지\n",
      "리뷰 개수가 1,624 개인 맥주의 가지 수 =      2 가지\n",
      "리뷰 개수가 1,972 개인 맥주의 가지 수 =      2 가지\n",
      "리뷰 개수가 804 개인 맥주의 가지 수 =      2 가지\n",
      "리뷰 개수가 796 개인 맥주의 가지 수 =      2 가지\n",
      "리뷰 개수가 788 개인 맥주의 가지 수 =      2 가지\n",
      "리뷰 개수가 780 개인 맥주의 가지 수 =      2 가지\n",
      "리뷰 개수가   5 개인 맥주의 가지 수 =      2 가지\n",
      "리뷰 개수가 873 개인 맥주의 가지 수 =      2 가지\n",
      "리뷰 개수가 2,068 개인 맥주의 가지 수 =      2 가지\n",
      "리뷰 개수가 756 개인 맥주의 가지 수 =      2 가지\n",
      "리뷰 개수가 889 개인 맥주의 가지 수 =      2 가지\n",
      "리뷰 개수가 366 개인 맥주의 가지 수 =      2 가지\n",
      "리뷰 개수가 852 개인 맥주의 가지 수 =      2 가지\n",
      "리뷰 개수가 1,552 개인 맥주의 가지 수 =      2 가지\n",
      "리뷰 개수가 676 개인 맥주의 가지 수 =      2 가지\n",
      "리뷰 개수가  46 개인 맥주의 가지 수 =      2 가지\n",
      "리뷰 개수가 660 개인 맥주의 가지 수 =      2 가지\n",
      "리뷰 개수가 652 개인 맥주의 가지 수 =      2 가지\n",
      "리뷰 개수가 644 개인 맥주의 가지 수 =      2 가지\n",
      "리뷰 개수가 1,560 개인 맥주의 가지 수 =      2 가지\n",
      "리뷰 개수가 1,584 개인 맥주의 가지 수 =      2 가지\n",
      "리뷰 개수가 961 개인 맥주의 가지 수 =      2 가지\n",
      "리뷰 개수가 580 개인 맥주의 가지 수 =      2 가지\n",
      "리뷰 개수가 572 개인 맥주의 가지 수 =      2 가지\n",
      "리뷰 개수가 1,592 개인 맥주의 가지 수 =      2 가지\n",
      "리뷰 개수가 505 개인 맥주의 가지 수 =      2 가지\n",
      "리뷰 개수가 550 개인 맥주의 가지 수 =      2 가지\n",
      "리뷰 개수가 900 개인 맥주의 가지 수 =      2 가지\n",
      "리뷰 개수가  25 개인 맥주의 가지 수 =      2 가지\n",
      "리뷰 개수가 729 개인 맥주의 가지 수 =      2 가지\n",
      "리뷰 개수가 673 개인 맥주의 가지 수 =      2 가지\n",
      "리뷰 개수가 649 개인 맥주의 가지 수 =      2 가지\n",
      "리뷰 개수가 861 개인 맥주의 가지 수 =      2 가지\n",
      "리뷰 개수가 1,373 개인 맥주의 가지 수 =      2 가지\n",
      "리뷰 개수가 853 개인 맥주의 가지 수 =      2 가지\n",
      "리뷰 개수가 405 개인 맥주의 가지 수 =      2 가지\n",
      "리뷰 개수가 1,008 개인 맥주의 가지 수 =      2 가지\n",
      "리뷰 개수가 829 개인 맥주의 가지 수 =      2 가지\n",
      "리뷰 개수가 821 개인 맥주의 가지 수 =      2 가지\n",
      "리뷰 개수가 657 개인 맥주의 가지 수 =      2 가지\n",
      "리뷰 개수가 797 개인 맥주의 가지 수 =      2 가지\n",
      "리뷰 개수가 2,500 개인 맥주의 가지 수 =      2 가지\n",
      "리뷰 개수가 781 개인 맥주의 가지 수 =      2 가지\n",
      "리뷰 개수가 765 개인 맥주의 가지 수 =      2 가지\n",
      "리뷰 개수가 878 개인 맥주의 가지 수 =      2 가지\n",
      "리뷰 개수가 902 개인 맥주의 가지 수 =      2 가지\n",
      "리뷰 개수가 681 개인 맥주의 가지 수 =      2 가지\n",
      "리뷰 개수가 725 개인 맥주의 가지 수 =      2 가지\n",
      "리뷰 개수가 701 개인 맥주의 가지 수 =      2 가지\n",
      "리뷰 개수가 693 개인 맥주의 가지 수 =      2 가지\n",
      "리뷰 개수가 910 개인 맥주의 가지 수 =      2 가지\n",
      "리뷰 개수가 525 개인 맥주의 가지 수 =      2 가지\n",
      "리뷰 개수가 1,065 개인 맥주의 가지 수 =      2 가지\n",
      "리뷰 개수가 685 개인 맥주의 가지 수 =      2 가지\n",
      "리뷰 개수가 565 개인 맥주의 가지 수 =      2 가지\n",
      "리뷰 개수가 942 개인 맥주의 가지 수 =      2 가지\n",
      "리뷰 개수가 950 개인 맥주의 가지 수 =      2 가지\n",
      "리뷰 개수가 641 개인 맥주의 가지 수 =      2 가지\n",
      "리뷰 개수가 633 개인 맥주의 가지 수 =      2 가지\n",
      "리뷰 개수가 621 개인 맥주의 가지 수 =      2 가지\n",
      "리뷰 개수가 1,284 개인 맥주의 가지 수 =      2 가지\n",
      "리뷰 개수가 425 개인 맥주의 가지 수 =      2 가지\n",
      "리뷰 개수가 869 개인 맥주의 가지 수 =      2 가지\n",
      "리뷰 개수가 782 개인 맥주의 가지 수 =      2 가지\n",
      "리뷰 개수가 1,317 개인 맥주의 가지 수 =      2 가지\n",
      "리뷰 개수가 734 개인 맥주의 가지 수 =      2 가지\n",
      "리뷰 개수가 1,293 개인 맥주의 가지 수 =      2 가지\n",
      "리뷰 개수가 742 개인 맥주의 가지 수 =      2 가지\n",
      "리뷰 개수가 1,092 개인 맥주의 가지 수 =      2 가지\n",
      "리뷰 개수가 1,269 개인 맥주의 가지 수 =      2 가지\n",
      "리뷰 개수가 1,072 개인 맥주의 가지 수 =      2 가지\n",
      "리뷰 개수가 1,101 개인 맥주의 가지 수 =      2 가지\n",
      "리뷰 개수가 1,049 개인 맥주의 가지 수 =      2 가지\n",
      "리뷰 개수가 1,093 개인 맥주의 가지 수 =      2 가지\n",
      "리뷰 개수가 1,124 개인 맥주의 가지 수 =      2 가지\n",
      "리뷰 개수가 1,029 개인 맥주의 가지 수 =      2 가지\n",
      "리뷰 개수가 705 개인 맥주의 가지 수 =      2 가지\n",
      "리뷰 개수가 1,037 개인 맥주의 가지 수 =      2 가지\n",
      "리뷰 개수가 1,021 개인 맥주의 가지 수 =      2 가지\n",
      "리뷰 개수가 610 개인 맥주의 가지 수 =      2 가지\n",
      "리뷰 개수가 893 개인 맥주의 가지 수 =      2 가지\n",
      "리뷰 개수가 822 개인 맥주의 가지 수 =      2 가지\n",
      "리뷰 개수가 997 개인 맥주의 가지 수 =      2 가지\n",
      "리뷰 개수가 909 개인 맥주의 가지 수 =      2 가지\n",
      "리뷰 개수가 806 개인 맥주의 가지 수 =      2 가지\n",
      "리뷰 개수가 569 개인 맥주의 가지 수 =      2 가지\n",
      "리뷰 개수가 941 개인 맥주의 가지 수 =      2 가지\n",
      "리뷰 개수가 981 개인 맥주의 가지 수 =      2 가지\n",
      "리뷰 개수가 585 개인 맥주의 가지 수 =      1 가지\n",
      "리뷰 개수가 2,600 개인 맥주의 가지 수 =      1 가지\n",
      "리뷰 개수가 1,416 개인 맥주의 가지 수 =      1 가지\n",
      "리뷰 개수가 2,568 개인 맥주의 가지 수 =      1 가지\n",
      "리뷰 개수가 497 개인 맥주의 가지 수 =      1 가지\n",
      "리뷰 개수가 2,480 개인 맥주의 가지 수 =      1 가지\n",
      "리뷰 개수가 465 개인 맥주의 가지 수 =      1 가지\n",
      "리뷰 개수가 1,424 개인 맥주의 가지 수 =      1 가지\n",
      "리뷰 개수가 1,408 개인 맥주의 가지 수 =      1 가지\n",
      "리뷰 개수가 1,384 개인 맥주의 가지 수 =      1 가지\n",
      "리뷰 개수가 1,081 개인 맥주의 가지 수 =      1 가지\n",
      "리뷰 개수가 1,440 개인 맥주의 가지 수 =      1 가지\n",
      "리뷰 개수가 2,193 개인 맥주의 가지 수 =      1 가지\n",
      "리뷰 개수가 1,984 개인 맥주의 가지 수 =      1 가지\n",
      "리뷰 개수가 2,000 개인 맥주의 가지 수 =      1 가지\n",
      "리뷰 개수가   1 개인 맥주의 가지 수 =      1 가지\n",
      "리뷰 개수가 2,096 개인 맥주의 가지 수 =      1 가지\n",
      "리뷰 개수가 2,265 개인 맥주의 가지 수 =      1 가지\n",
      "리뷰 개수가 2,515 개인 맥주의 가지 수 =      1 가지\n",
      "리뷰 개수가 2,272 개인 맥주의 가지 수 =      1 가지\n",
      "리뷰 개수가 2,185 개인 맥주의 가지 수 =      1 가지\n",
      "리뷰 개수가 1,824 개인 맥주의 가지 수 =      1 가지\n",
      "리뷰 개수가 2,376 개인 맥주의 가지 수 =      1 가지\n",
      "리뷰 개수가 530 개인 맥주의 가지 수 =      1 가지\n",
      "리뷰 개수가 2,129 개인 맥주의 가지 수 =      1 가지\n",
      "리뷰 개수가 2,312 개인 맥주의 가지 수 =      1 가지\n",
      "리뷰 개수가 586 개인 맥주의 가지 수 =      1 가지\n",
      "리뷰 개수가 4,395 개인 맥주의 가지 수 =      1 가지\n",
      "리뷰 개수가  24 개인 맥주의 가지 수 =      1 가지\n",
      "리뷰 개수가 1,896 개인 맥주의 가지 수 =      1 가지\n",
      "리뷰 개수가 1,808 개인 맥주의 가지 수 =      1 가지\n",
      "리뷰 개수가 2,299 개인 맥주의 가지 수 =      1 가지\n",
      "리뷰 개수가 1,640 개인 맥주의 가지 수 =      1 가지\n",
      "리뷰 개수가 1,448 개인 맥주의 가지 수 =      1 가지\n",
      "리뷰 개수가 2,409 개인 맥주의 가지 수 =      1 가지\n",
      "리뷰 개수가 1,512 개인 맥주의 가지 수 =      1 가지\n",
      "리뷰 개수가 1,544 개인 맥주의 가지 수 =      1 가지\n",
      "리뷰 개수가 3,641 개인 맥주의 가지 수 =      1 가지\n",
      "리뷰 개수가 1,608 개인 맥주의 가지 수 =      1 가지\n",
      "리뷰 개수가 3,665 개인 맥주의 가지 수 =      1 가지\n",
      "리뷰 개수가 1,656 개인 맥주의 가지 수 =      1 가지\n",
      "리뷰 개수가 1,776 개인 맥주의 가지 수 =      1 가지\n",
      "리뷰 개수가 1,672 개인 맥주의 가지 수 =      1 가지\n",
      "리뷰 개수가 5,770 개인 맥주의 가지 수 =      1 가지\n",
      "리뷰 개수가 1,680 개인 맥주의 가지 수 =      1 가지\n",
      "리뷰 개수가 1,688 개인 맥주의 가지 수 =      1 가지\n",
      "리뷰 개수가 1,352 개인 맥주의 가지 수 =      1 가지\n",
      "리뷰 개수가 1,752 개인 맥주의 가지 수 =      1 가지\n",
      "리뷰 개수가 2,411 개인 맥주의 가지 수 =      1 가지\n",
      "리뷰 개수가 1,736 개인 맥주의 가지 수 =      1 가지\n",
      "리뷰 개수가 2,673 개인 맥주의 가지 수 =      1 가지\n",
      "리뷰 개수가 617 개인 맥주의 가지 수 =      1 가지\n",
      "리뷰 개수가 1,601 개인 맥주의 가지 수 =      1 가지\n",
      "리뷰 개수가 1,040 개인 맥주의 가지 수 =      1 가지\n",
      "리뷰 개수가 1,441 개인 맥주의 가지 수 =      1 가지\n",
      "리뷰 개수가 3,520 개인 맥주의 가지 수 =      1 가지\n",
      "리뷰 개수가 1,481 개인 맥주의 가지 수 =      1 가지\n",
      "리뷰 개수가 1,505 개인 맥주의 가지 수 =      1 가지\n",
      "리뷰 개수가 1,056 개인 맥주의 가지 수 =      1 가지\n",
      "리뷰 개수가 1,529 개인 맥주의 가지 수 =      1 가지\n",
      "리뷰 개수가 1,537 개인 맥주의 가지 수 =      1 가지\n",
      "리뷰 개수가 3,592 개인 맥주의 가지 수 =      1 가지\n",
      "리뷰 개수가 1,577 개인 맥주의 가지 수 =      1 가지\n",
      "리뷰 개수가 3,632 개인 맥주의 가지 수 =      1 가지\n",
      "리뷰 개수가 1,088 개인 맥주의 가지 수 =      1 가지\n",
      "리뷰 개수가 1,160 개인 맥주의 가지 수 =      1 가지\n",
      "리뷰 개수가 1,673 개인 맥주의 가지 수 =      1 가지\n",
      "리뷰 개수가 1,681 개인 맥주의 가지 수 =      1 가지\n",
      "리뷰 개수가 1,729 개인 맥주의 가지 수 =      1 가지\n",
      "리뷰 개수가 3,792 개인 맥주의 가지 수 =      1 가지\n",
      "리뷰 개수가 3,848 개인 맥주의 가지 수 =      1 가지\n",
      "리뷰 개수가 1,809 개인 맥주의 가지 수 =      1 가지\n",
      "리뷰 개수가 3,880 개인 맥주의 가지 수 =      1 가지\n",
      "리뷰 개수가 1,104 개인 맥주의 가지 수 =      1 가지\n",
      "리뷰 개수가 1,120 개인 맥주의 가지 수 =      1 가지\n",
      "리뷰 개수가 3,904 개인 맥주의 가지 수 =      1 가지\n",
      "리뷰 개수가 1,144 개인 맥주의 가지 수 =      1 가지\n",
      "리뷰 개수가 1,417 개인 맥주의 가지 수 =      1 가지\n",
      "리뷰 개수가 1,024 개인 맥주의 가지 수 =      1 가지\n",
      "리뷰 개수가 1,337 개인 맥주의 가지 수 =      1 가지\n",
      "리뷰 개수가 1,313 개인 맥주의 가지 수 =      1 가지\n",
      "리뷰 개수가 3,144 개인 맥주의 가지 수 =      1 가지\n",
      "리뷰 개수가 952 개인 맥주의 가지 수 =      1 가지\n",
      "리뷰 개수가 2,985 개인 맥주의 가지 수 =      1 가지\n",
      "리뷰 개수가 1,097 개인 맥주의 가지 수 =      1 가지\n",
      "리뷰 개수가 976 개인 맥주의 가지 수 =      1 가지\n",
      "리뷰 개수가 920 개인 맥주의 가지 수 =      1 가지\n",
      "리뷰 개수가 912 개인 맥주의 가지 수 =      1 가지\n",
      "리뷰 개수가 3,112 개인 맥주의 가지 수 =      1 가지\n",
      "리뷰 개수가 984 개인 맥주의 가지 수 =      1 가지\n",
      "리뷰 개수가 1,121 개인 맥주의 가지 수 =      1 가지\n",
      "리뷰 개수가 1,137 개인 맥주의 가지 수 =      1 가지\n",
      "리뷰 개수가 1,153 개인 맥주의 가지 수 =      1 가지\n",
      "리뷰 개수가 1,000 개인 맥주의 가지 수 =      1 가지\n",
      "리뷰 개수가 1,169 개인 맥주의 가지 수 =      1 가지\n",
      "리뷰 개수가 1,177 개인 맥주의 가지 수 =      1 가지\n",
      "리뷰 개수가 1,185 개인 맥주의 가지 수 =      1 가지\n",
      "리뷰 개수가 1,193 개인 맥주의 가지 수 =      1 가지\n",
      "리뷰 개수가 1,201 개인 맥주의 가지 수 =      1 가지\n",
      "리뷰 개수가 1,225 개인 맥주의 가지 수 =      1 가지\n",
      "리뷰 개수가 3,104 개인 맥주의 가지 수 =      1 가지\n",
      "리뷰 개수가 1,281 개인 맥주의 가지 수 =      1 가지\n",
      "리뷰 개수가 1,289 개인 맥주의 가지 수 =      1 가지\n",
      "리뷰 개수가 1,297 개인 맥주의 가지 수 =      1 가지\n",
      "리뷰 개수가 1,913 개인 맥주의 가지 수 =      1 가지\n",
      "리뷰 개수가 3,976 개인 맥주의 가지 수 =      1 가지\n",
      "리뷰 개수가 2,672 개인 맥주의 가지 수 =      1 가지\n",
      "리뷰 개수가 825 개인 맥주의 가지 수 =      1 가지\n",
      "리뷰 개수가 728 개인 맥주의 가지 수 =      1 가지\n",
      "리뷰 개수가 720 개인 맥주의 가지 수 =      1 가지\n",
      "리뷰 개수가 1,296 개인 맥주의 가지 수 =      1 가지\n",
      "리뷰 개수가 1,312 개인 맥주의 가지 수 =      1 가지\n",
      "리뷰 개수가 1,344 개인 맥주의 가지 수 =      1 가지\n",
      "리뷰 개수가 841 개인 맥주의 가지 수 =      1 가지\n",
      "리뷰 개수가 833 개인 맥주의 가지 수 =      1 가지\n",
      "리뷰 개수가 672 개인 맥주의 가지 수 =      1 가지\n",
      "리뷰 개수가 2,713 개인 맥주의 가지 수 =      1 가지\n",
      "리뷰 개수가 656 개인 맥주의 가지 수 =      1 가지\n",
      "리뷰 개수가 2,880 개인 맥주의 가지 수 =      1 가지\n",
      "리뷰 개수가 801 개인 맥주의 가지 수 =      1 가지\n",
      "리뷰 개수가 3,209 개인 맥주의 가지 수 =      1 가지\n",
      "리뷰 개수가 793 개인 맥주의 가지 수 =      1 가지\n",
      "리뷰 개수가 4,867 개인 맥주의 가지 수 =      1 가지\n",
      "리뷰 개수가 560 개인 맥주의 가지 수 =      1 가지\n",
      "리뷰 개수가 552 개인 맥주의 가지 수 =      1 가지\n",
      "리뷰 개수가 544 개인 맥주의 가지 수 =      1 가지\n",
      "리뷰 개수가 2,792 개인 맥주의 가지 수 =      1 가지\n",
      "리뷰 개수가 2,187 개인 맥주의 가지 수 =      1 가지\n",
      "리뷰 개수가 2,561 개인 맥주의 가지 수 =      1 가지\n",
      "리뷰 개수가 697 개인 맥주의 가지 수 =      1 가지\n",
      "리뷰 개수가 2,728 개인 맥주의 가지 수 =      1 가지\n",
      "리뷰 개수가 2,696 개인 맥주의 가지 수 =      1 가지\n",
      "리뷰 개수가 760 개인 맥주의 가지 수 =      1 가지\n",
      "리뷰 개수가 865 개인 맥주의 가지 수 =      1 가지\n",
      "리뷰 개수가 881 개인 맥주의 가지 수 =      1 가지\n",
      "리뷰 개수가 897 개인 맥주의 가지 수 =      1 가지\n",
      "리뷰 개수가 1,977 개인 맥주의 가지 수 =      1 가지\n",
      "리뷰 개수가 1,017 개인 맥주의 가지 수 =      1 가지\n",
      "리뷰 개수가 2,001 개인 맥주의 가지 수 =      1 가지\n",
      "리뷰 개수가   2 개인 맥주의 가지 수 =      1 가지\n",
      "리뷰 개수가 1,208 개인 맥주의 가지 수 =      1 가지\n",
      "리뷰 개수가 904 개인 맥주의 가지 수 =      1 가지\n",
      "리뷰 개수가 3,257 개인 맥주의 가지 수 =      1 가지\n",
      "리뷰 개수가 1,232 개인 맥주의 가지 수 =      1 가지\n",
      "리뷰 개수가 2,075 개인 맥주의 가지 수 =      1 가지\n",
      "리뷰 개수가 896 개인 맥주의 가지 수 =      1 가지\n",
      "리뷰 개수가 1,009 개인 맥주의 가지 수 =      1 가지\n",
      "리뷰 개수가 2,937 개인 맥주의 가지 수 =      1 가지\n",
      "리뷰 개수가 985 개인 맥주의 가지 수 =      1 가지\n",
      "리뷰 개수가 3,032 개인 맥주의 가지 수 =      1 가지\n",
      "리뷰 개수가 969 개인 맥주의 가지 수 =      1 가지\n",
      "리뷰 개수가 872 개인 맥주의 가지 수 =      1 가지\n",
      "리뷰 개수가 1,264 개인 맥주의 가지 수 =      1 가지\n",
      "리뷰 개수가 953 개인 맥주의 가지 수 =      1 가지\n",
      "리뷰 개수가 1,280 개인 맥주의 가지 수 =      1 가지\n",
      "리뷰 개수가 945 개인 맥주의 가지 수 =      1 가지\n",
      "리뷰 개수가 792 개인 맥주의 가지 수 =      1 가지\n",
      "리뷰 개수가 921 개인 맥주의 가지 수 =      1 가지\n",
      "리뷰 개수가 913 개인 맥주의 가지 수 =      1 가지\n",
      "리뷰 개수가 1,983 개인 맥주의 가지 수 =      1 가지\n",
      "리뷰 개수가 2,189 개인 맥주의 가지 수 =      1 가지\n",
      "리뷰 개수가 658 개인 맥주의 가지 수 =      1 가지\n",
      "리뷰 개수가 382 개인 맥주의 가지 수 =      1 가지\n",
      "리뷰 개수가 582 개인 맥주의 가지 수 =      1 가지\n",
      "리뷰 개수가 574 개인 맥주의 가지 수 =      1 가지\n",
      "리뷰 개수가 558 개인 맥주의 가지 수 =      1 가지\n",
      "리뷰 개수가 2,591 개인 맥주의 가지 수 =      1 가지\n",
      "리뷰 개수가 542 개인 맥주의 가지 수 =      1 가지\n",
      "리뷰 개수가 2,551 개인 맥주의 가지 수 =      1 가지\n",
      "리뷰 개수가 502 개인 맥주의 가지 수 =      1 가지\n",
      "리뷰 개수가 2,543 개인 맥주의 가지 수 =      1 가지\n",
      "리뷰 개수가 2,511 개인 맥주의 가지 수 =      1 가지\n",
      "리뷰 개수가 2,479 개인 맥주의 가지 수 =      1 가지\n",
      "리뷰 개수가 2,447 개인 맥주의 가지 수 =      1 가지\n",
      "리뷰 개수가 2,367 개인 맥주의 가지 수 =      1 가지\n",
      "리뷰 개수가 614 개인 맥주의 가지 수 =      1 가지\n",
      "리뷰 개수가 2,319 개인 맥주의 가지 수 =      1 가지\n",
      "리뷰 개수가 2,279 개인 맥주의 가지 수 =      1 가지\n",
      "리뷰 개수가 2,223 개인 맥주의 가지 수 =      1 가지\n",
      "리뷰 개수가 2,215 개인 맥주의 가지 수 =      1 가지\n",
      "리뷰 개수가 2,191 개인 맥주의 가지 수 =      1 가지\n",
      "리뷰 개수가 2,175 개인 맥주의 가지 수 =      1 가지\n",
      "리뷰 개수가  22 개인 맥주의 가지 수 =      1 가지\n",
      "리뷰 개수가  14 개인 맥주의 가지 수 =      1 가지\n",
      "리뷰 개수가 2,045 개인 맥주의 가지 수 =      1 가지\n",
      "리뷰 개수가 2,005 개인 맥주의 가지 수 =      1 가지\n",
      "리뷰 개수가 1,981 개인 맥주의 가지 수 =      1 가지\n",
      "리뷰 개수가 606 개인 맥주의 가지 수 =      1 가지\n",
      "리뷰 개수가 646 개인 맥주의 가지 수 =      1 가지\n",
      "리뷰 개수가 1,158 개인 맥주의 가지 수 =      1 가지\n",
      "리뷰 개수가 2,911 개인 맥주의 가지 수 =      1 가지\n",
      "리뷰 개수가 1,126 개인 맥주의 가지 수 =      1 가지\n",
      "리뷰 개수가 1,118 개인 맥주의 가지 수 =      1 가지\n",
      "리뷰 개수가 3,151 개인 맥주의 가지 수 =      1 가지\n",
      "리뷰 개수가 1,086 개인 맥주의 가지 수 =      1 가지\n",
      "리뷰 개수가 1,046 개인 맥주의 가지 수 =      1 가지\n",
      "리뷰 개수가 1,022 개인 맥주의 가지 수 =      1 가지\n",
      "리뷰 개수가 998 개인 맥주의 가지 수 =      1 가지\n",
      "리뷰 개수가 958 개인 맥주의 가지 수 =      1 가지\n",
      "리뷰 개수가 926 개인 맥주의 가지 수 =      1 가지\n",
      "리뷰 개수가 2,951 개인 맥주의 가지 수 =      1 가지\n",
      "리뷰 개수가 886 개인 맥주의 가지 수 =      1 가지\n",
      "리뷰 개수가 854 개인 맥주의 가지 수 =      1 가지\n",
      "리뷰 개수가 654 개인 맥주의 가지 수 =      1 가지\n",
      "리뷰 개수가 838 개인 맥주의 가지 수 =      1 가지\n",
      "리뷰 개수가 814 개인 맥주의 가지 수 =      1 가지\n",
      "리뷰 개수가 2,847 개인 맥주의 가지 수 =      1 가지\n",
      "리뷰 개수가 798 개인 맥주의 가지 수 =      1 가지\n",
      "리뷰 개수가 774 개인 맥주의 가지 수 =      1 가지\n",
      "리뷰 개수가 750 개인 맥주의 가지 수 =      1 가지\n",
      "리뷰 개수가 2,775 개인 맥주의 가지 수 =      1 가지\n",
      "리뷰 개수가 2,759 개인 맥주의 가지 수 =      1 가지\n",
      "리뷰 개수가 2,727 개인 맥주의 가지 수 =      1 가지\n",
      "리뷰 개수가 678 개인 맥주의 가지 수 =      1 가지\n",
      "리뷰 개수가 662 개인 맥주의 가지 수 =      1 가지\n",
      "리뷰 개수가 3,988 개인 맥주의 가지 수 =      1 가지\n",
      "리뷰 개수가 1,917 개인 맥주의 가지 수 =      1 가지\n",
      "리뷰 개수가 1,909 개인 맥주의 가지 수 =      1 가지\n",
      "리뷰 개수가 957 개인 맥주의 가지 수 =      1 가지\n",
      "리뷰 개수가 1,205 개인 맥주의 가지 수 =      1 가지\n",
      "리뷰 개수가 1,173 개인 맥주의 가지 수 =      1 가지\n",
      "리뷰 개수가 1,157 개인 맥주의 가지 수 =      1 가지\n",
      "리뷰 개수가 1,149 개인 맥주의 가지 수 =      1 가지\n",
      "리뷰 개수가 3,196 개인 맥주의 가지 수 =      1 가지\n",
      "리뷰 개수가 1,141 개인 맥주의 가지 수 =      1 가지\n",
      "리뷰 개수가 1,133 개인 맥주의 가지 수 =      1 가지\n",
      "리뷰 개수가 1,109 개인 맥주의 가지 수 =      1 가지\n",
      "리뷰 개수가 1,069 개인 맥주의 가지 수 =      1 가지\n",
      "리뷰 개수가 1,013 개인 맥주의 가지 수 =      1 가지\n",
      "리뷰 개수가 973 개인 맥주의 가지 수 =      1 가지\n",
      "리뷰 개수가 925 개인 맥주의 가지 수 =      1 가지\n",
      "리뷰 개수가 1,845 개인 맥주의 가지 수 =      1 가지\n",
      "리뷰 개수가 901 개인 맥주의 가지 수 =      1 가지\n",
      "리뷰 개수가 2,940 개인 맥주의 가지 수 =      1 가지\n",
      "리뷰 개수가 877 개인 맥주의 가지 수 =      1 가지\n",
      "리뷰 개수가 805 개인 맥주의 가지 수 =      1 가지\n",
      "리뷰 개수가 773 개인 맥주의 가지 수 =      1 가지\n",
      "리뷰 개수가 2,812 개인 맥주의 가지 수 =      1 가지\n",
      "리뷰 개수가 757 개인 맥주의 가지 수 =      1 가지\n",
      "리뷰 개수가 749 개인 맥주의 가지 수 =      1 가지\n",
      "리뷰 개수가 741 개인 맥주의 가지 수 =      1 가지\n",
      "리뷰 개수가 733 개인 맥주의 가지 수 =      1 가지\n",
      "리뷰 개수가 2,732 개인 맥주의 가지 수 =      1 가지\n",
      "리뷰 개수가 3,260 개인 맥주의 가지 수 =      1 가지\n",
      "리뷰 개수가 1,213 개인 맥주의 가지 수 =      1 가지\n",
      "리뷰 개수가 1,237 개인 맥주의 가지 수 =      1 가지\n",
      "리뷰 개수가 3,316 개인 맥주의 가지 수 =      1 가지\n",
      "리뷰 개수가 3,884 개인 맥주의 가지 수 =      1 가지\n",
      "리뷰 개수가 1,829 개인 맥주의 가지 수 =      1 가지\n",
      "리뷰 개수가 1,805 개인 맥주의 가지 수 =      1 가지\n",
      "리뷰 개수가 1,733 개인 맥주의 가지 수 =      1 가지\n",
      "리뷰 개수가 1,725 개인 맥주의 가지 수 =      1 가지\n",
      "리뷰 개수가 1,653 개인 맥주의 가지 수 =      1 가지\n",
      "리뷰 개수가 1,637 개인 맥주의 가지 수 =      1 가지\n",
      "리뷰 개수가 1,629 개인 맥주의 가지 수 =      1 가지\n",
      "리뷰 개수가 1,621 개인 맥주의 가지 수 =      1 가지\n",
      "리뷰 개수가 1,605 개인 맥주의 가지 수 =      1 가지\n",
      "리뷰 개수가 1,557 개인 맥주의 가지 수 =      1 가지\n",
      "리뷰 개수가 3,556 개인 맥주의 가지 수 =      1 가지\n",
      "리뷰 개수가 1,501 개인 맥주의 가지 수 =      1 가지\n",
      "리뷰 개수가 1,493 개인 맥주의 가지 수 =      1 가지\n",
      "리뷰 개수가 1,461 개인 맥주의 가지 수 =      1 가지\n",
      "리뷰 개수가 1,445 개인 맥주의 가지 수 =      1 가지\n",
      "리뷰 개수가 1,429 개인 맥주의 가지 수 =      1 가지\n",
      "리뷰 개수가 1,405 개인 맥주의 가지 수 =      1 가지\n",
      "리뷰 개수가 1,397 개인 맥주의 가지 수 =      1 가지\n",
      "리뷰 개수가 1,341 개인 맥주의 가지 수 =      1 가지\n",
      "리뷰 개수가 1,309 개인 맥주의 가지 수 =      1 가지\n",
      "리뷰 개수가 1,301 개인 맥주의 가지 수 =      1 가지\n",
      "리뷰 개수가 1,277 개인 맥주의 가지 수 =      1 가지\n",
      "리뷰 개수가 1,150 개인 맥주의 가지 수 =      1 가지\n",
      "리뷰 개수가 1,174 개인 맥주의 가지 수 =      1 가지\n",
      "리뷰 개수가 2,692 개인 맥주의 가지 수 =      1 가지\n",
      "리뷰 개수가 991 개인 맥주의 가지 수 =      1 가지\n",
      "리뷰 개수가 5,309 개인 맥주의 가지 수 =      1 가지\n",
      "리뷰 개수가 3,254 개인 맥주의 가지 수 =      1 가지\n",
      "리뷰 개수가 1,183 개인 맥주의 가지 수 =      1 가지\n",
      "리뷰 개수가 1,175 개인 맥주의 가지 수 =      1 가지\n",
      "리뷰 개수가 1,111 개인 맥주의 가지 수 =      1 가지\n",
      "리뷰 개수가 1,103 개인 맥주의 가지 수 =      1 가지\n",
      "리뷰 개수가 3,126 개인 맥주의 가지 수 =      1 가지\n",
      "리뷰 개수가 1,071 개인 맥주의 가지 수 =      1 가지\n",
      "리뷰 개수가 1,055 개인 맥주의 가지 수 =      1 가지\n",
      "리뷰 개수가 1,031 개인 맥주의 가지 수 =      1 가지\n",
      "리뷰 개수가 1,023 개인 맥주의 가지 수 =      1 가지\n",
      "리뷰 개수가 967 개인 맥주의 가지 수 =      1 가지\n",
      "리뷰 개수가 1,255 개인 맥주의 가지 수 =      1 가지\n",
      "리뷰 개수가 3,014 개인 맥주의 가지 수 =      1 가지\n",
      "리뷰 개수가 951 개인 맥주의 가지 수 =      1 가지\n",
      "리뷰 개수가 935 개인 맥주의 가지 수 =      1 가지\n",
      "리뷰 개수가 919 개인 맥주의 가지 수 =      1 가지\n",
      "리뷰 개수가 855 개인 맥주의 가지 수 =      1 가지\n",
      "리뷰 개수가 847 개인 맥주의 가지 수 =      1 가지\n",
      "리뷰 개수가 839 개인 맥주의 가지 수 =      1 가지\n",
      "리뷰 개수가 831 개인 맥주의 가지 수 =      1 가지\n",
      "리뷰 개수가 815 개인 맥주의 가지 수 =      1 가지\n",
      "리뷰 개수가 799 개인 맥주의 가지 수 =      1 가지\n",
      "리뷰 개수가 767 개인 맥주의 가지 수 =      1 가지\n",
      "리뷰 개수가 1,223 개인 맥주의 가지 수 =      1 가지\n",
      "리뷰 개수가 1,287 개인 맥주의 가지 수 =      1 가지\n",
      "리뷰 개수가 1,182 개인 맥주의 가지 수 =      1 가지\n",
      "리뷰 개수가 1,631 개인 맥주의 가지 수 =      1 가지\n",
      "리뷰 개수가 1,967 개인 맥주의 가지 수 =      1 가지\n",
      "리뷰 개수가 1,959 개인 맥주의 가지 수 =      1 가지\n",
      "리뷰 개수가 1,935 개인 맥주의 가지 수 =      1 가지\n",
      "리뷰 개수가 1,887 개인 맥주의 가지 수 =      1 가지\n",
      "리뷰 개수가 1,871 개인 맥주의 가지 수 =      1 가지\n",
      "리뷰 개수가 1,847 개인 맥주의 가지 수 =      1 가지\n",
      "리뷰 개수가 1,783 개인 맥주의 가지 수 =      1 가지\n",
      "리뷰 개수가 1,751 개인 맥주의 가지 수 =      1 가지\n",
      "리뷰 개수가 1,719 개인 맥주의 가지 수 =      1 가지\n",
      "리뷰 개수가 1,663 개인 맥주의 가지 수 =      1 가지\n",
      "리뷰 개수가 1,655 개인 맥주의 가지 수 =      1 가지\n",
      "리뷰 개수가 1,607 개인 맥주의 가지 수 =      1 가지\n",
      "리뷰 개수가 1,295 개인 맥주의 가지 수 =      1 가지\n",
      "리뷰 개수가 1,591 개인 맥주의 가지 수 =      1 가지\n",
      "리뷰 개수가 1,551 개인 맥주의 가지 수 =      1 가지\n",
      "리뷰 개수가 1,527 개인 맥주의 가지 수 =      1 가지\n",
      "리뷰 개수가 1,495 개인 맥주의 가지 수 =      1 가지\n",
      "리뷰 개수가 1,487 개인 맥주의 가지 수 =      1 가지\n",
      "리뷰 개수가 1,455 개인 맥주의 가지 수 =      1 가지\n",
      "리뷰 개수가 1,391 개인 맥주의 가지 수 =      1 가지\n",
      "리뷰 개수가 1,383 개인 맥주의 가지 수 =      1 가지\n",
      "리뷰 개수가 1,367 개인 맥주의 가지 수 =      1 가지\n",
      "리뷰 개수가 1,335 개인 맥주의 가지 수 =      1 가지\n",
      "리뷰 개수가 1,303 개인 맥주의 가지 수 =      1 가지\n",
      "리뷰 개수가 759 개인 맥주의 가지 수 =      1 가지\n",
      "리뷰 개수가 751 개인 맥주의 가지 수 =      1 가지\n",
      "리뷰 개수가 719 개인 맥주의 가지 수 =      1 가지\n",
      "리뷰 개수가 1,486 개인 맥주의 가지 수 =      1 가지\n",
      "리뷰 개수가 3,767 개인 맥주의 가지 수 =      1 가지\n",
      "리뷰 개수가 1,718 개인 맥주의 가지 수 =      1 가지\n",
      "리뷰 개수가 1,702 개인 맥주의 가지 수 =      1 가지\n",
      "리뷰 개수가 1,686 개인 맥주의 가지 수 =      1 가지\n",
      "리뷰 개수가 1,670 개인 맥주의 가지 수 =      1 가지\n",
      "리뷰 개수가 1,654 개인 맥주의 가지 수 =      1 가지\n",
      "리뷰 개수가 1,590 개인 맥주의 가지 수 =      1 가지\n",
      "리뷰 개수가 1,550 개인 맥주의 가지 수 =      1 가지\n",
      "리뷰 개수가 1,518 개인 맥주의 가지 수 =      1 가지\n",
      "리뷰 개수가 1,510 개인 맥주의 가지 수 =      1 가지\n",
      "리뷰 개수가 1,502 개인 맥주의 가지 수 =      1 가지\n",
      "리뷰 개수가 1,470 개인 맥주의 가지 수 =      1 가지\n",
      "리뷰 개수가 679 개인 맥주의 가지 수 =      1 가지\n",
      "리뷰 개수가 1,462 개인 맥주의 가지 수 =      1 가지\n",
      "리뷰 개수가 1,446 개인 맥주의 가지 수 =      1 가지\n",
      "리뷰 개수가 3,487 개인 맥주의 가지 수 =      1 가지\n",
      "리뷰 개수가 1,430 개인 맥주의 가지 수 =      1 가지\n",
      "리뷰 개수가 1,422 개인 맥주의 가지 수 =      1 가지\n",
      "리뷰 개수가 1,326 개인 맥주의 가지 수 =      1 가지\n",
      "리뷰 개수가 1,318 개인 맥주의 가지 수 =      1 가지\n",
      "리뷰 개수가 1,302 개인 맥주의 가지 수 =      1 가지\n",
      "리뷰 개수가 1,278 개인 맥주의 가지 수 =      1 가지\n",
      "리뷰 개수가 1,238 개인 맥주의 가지 수 =      1 가지\n",
      "리뷰 개수가 1,222 개인 맥주의 가지 수 =      1 가지\n",
      "리뷰 개수가 1,766 개인 맥주의 가지 수 =      1 가지\n",
      "리뷰 개수가 1,790 개인 맥주의 가지 수 =      1 가지\n",
      "리뷰 개수가 1,830 개인 맥주의 가지 수 =      1 가지\n",
      "리뷰 개수가 3,895 개인 맥주의 가지 수 =      1 가지\n",
      "리뷰 개수가 4,773 개인 맥주의 가지 수 =      1 가지\n",
      "리뷰 개수가 639 개인 맥주의 가지 수 =      1 가지\n",
      "리뷰 개수가 631 개인 맥주의 가지 수 =      1 가지\n",
      "리뷰 개수가 623 개인 맥주의 가지 수 =      1 가지\n",
      "리뷰 개수가 4,621 개인 맥주의 가지 수 =      1 가지\n",
      "리뷰 개수가 487 개인 맥주의 가지 수 =      1 가지\n",
      "리뷰 개수가 2,486 개인 맥주의 가지 수 =      1 가지\n",
      "리뷰 개수가 4,525 개인 맥주의 가지 수 =      1 가지\n",
      "리뷰 개수가 2,462 개인 맥주의 가지 수 =      1 가지\n",
      "리뷰 개수가 399 개인 맥주의 가지 수 =      1 가지\n",
      "리뷰 개수가 4,493 개인 맥주의 가지 수 =      1 가지\n",
      "리뷰 개수가 2,318 개인 맥주의 가지 수 =      1 가지\n",
      "리뷰 개수가 4,349 개인 맥주의 가지 수 =      1 가지\n",
      "리뷰 개수가 2,270 개인 맥주의 가지 수 =      1 가지\n",
      "리뷰 개수가 2,222 개인 맥주의 가지 수 =      1 가지\n",
      "리뷰 개수가 2,166 개인 맥주의 가지 수 =      1 가지\n",
      "리뷰 개수가  15 개인 맥주의 가지 수 =      1 가지\n",
      "리뷰 개수가 2,054 개인 맥주의 가지 수 =      1 가지\n",
      "리뷰 개수가 2,046 개인 맥주의 가지 수 =      1 가지\n",
      "리뷰 개수가 2,038 개인 맥주의 가지 수 =      1 가지\n",
      "리뷰 개수가 4,079 개인 맥주의 가지 수 =      1 가지\n",
      "리뷰 개수가 1,878 개인 맥주의 가지 수 =      1 가지\n",
      "리뷰 개수가 1,870 개인 맥주의 가지 수 =      1 가지\n",
      "리뷰 개수가 669 개인 맥주의 가지 수 =      1 가지\n",
      "리뷰 개수가 2,676 개인 맥주의 가지 수 =      1 가지\n",
      "리뷰 개수가 2,715 개인 맥주의 가지 수 =      1 가지\n",
      "리뷰 개수가 2,594 개인 맥주의 가지 수 =      1 가지\n",
      "리뷰 개수가 2,842 개인 맥주의 가지 수 =      1 가지\n",
      "리뷰 개수가 787 개인 맥주의 가지 수 =      1 가지\n",
      "리뷰 개수가 771 개인 맥주의 가지 수 =      1 가지\n",
      "리뷰 개수가 731 개인 맥주의 가지 수 =      1 가지\n",
      "리뷰 개수가 707 개인 맥주의 가지 수 =      1 가지\n",
      "리뷰 개수가 699 개인 맥주의 가지 수 =      1 가지\n",
      "리뷰 개수가 683 개인 맥주의 가지 수 =      1 가지\n",
      "리뷰 개수가 643 개인 맥주의 가지 수 =      1 가지\n",
      "리뷰 개수가 2,650 개인 맥주의 가지 수 =      1 가지\n",
      "리뷰 개수가 571 개인 맥주의 가지 수 =      1 가지\n",
      "리뷰 개수가 547 개인 맥주의 가지 수 =      1 가지\n",
      "리뷰 개수가 491 개인 맥주의 가지 수 =      1 가지\n",
      "리뷰 개수가 859 개인 맥주의 가지 수 =      1 가지\n",
      "리뷰 개수가 475 개인 맥주의 가지 수 =      1 가지\n",
      "리뷰 개수가 467 개인 맥주의 가지 수 =      1 가지\n",
      "리뷰 개수가 2,490 개인 맥주의 가지 수 =      1 가지\n",
      "리뷰 개수가 2,410 개인 맥주의 가지 수 =      1 가지\n",
      "리뷰 개수가 2,386 개인 맥주의 가지 수 =      1 가지\n",
      "리뷰 개수가 2,298 개인 맥주의 가지 수 =      1 가지\n",
      "리뷰 개수가 2,114 개인 맥주의 가지 수 =      1 가지\n",
      "리뷰 개수가  43 개인 맥주의 가지 수 =      1 가지\n",
      "리뷰 개수가 2,058 개인 맥주의 가지 수 =      1 가지\n",
      "리뷰 개수가 2,010 개인 맥주의 가지 수 =      1 가지\n",
      "리뷰 개수가 1,954 개인 맥주의 가지 수 =      1 가지\n",
      "리뷰 개수가 803 개인 맥주의 가지 수 =      1 가지\n",
      "리뷰 개수가 891 개인 맥주의 가지 수 =      1 가지\n",
      "리뷰 개수가 1,667 개인 맥주의 가지 수 =      1 가지\n",
      "리뷰 개수가 1,235 개인 맥주의 가지 수 =      1 가지\n",
      "리뷰 개수가 1,555 개인 맥주의 가지 수 =      1 가지\n",
      "리뷰 개수가 1,547 개인 맥주의 가지 수 =      1 가지\n",
      "리뷰 개수가 1,523 개인 맥주의 가지 수 =      1 가지\n",
      "리뷰 개수가 1,499 개인 맥주의 가지 수 =      1 가지\n",
      "리뷰 개수가 1,435 개인 맥주의 가지 수 =      1 가지\n",
      "리뷰 개수가 1,347 개인 맥주의 가지 수 =      1 가지\n",
      "리뷰 개수가 1,331 개인 맥주의 가지 수 =      1 가지\n",
      "리뷰 개수가 1,307 개인 맥주의 가지 수 =      1 가지\n",
      "리뷰 개수가 1,299 개인 맥주의 가지 수 =      1 가지\n",
      "리뷰 개수가 1,291 개인 맥주의 가지 수 =      1 가지\n",
      "리뷰 개수가 1,267 개인 맥주의 가지 수 =      1 가지\n",
      "리뷰 개수가 1,195 개인 맥주의 가지 수 =      1 가지\n",
      "리뷰 개수가 907 개인 맥주의 가지 수 =      1 가지\n",
      "리뷰 개수가 1,187 개인 맥주의 가지 수 =      1 가지\n",
      "리뷰 개수가 1,155 개인 맥주의 가지 수 =      1 가지\n",
      "리뷰 개수가 3,186 개인 맥주의 가지 수 =      1 가지\n",
      "리뷰 개수가 1,067 개인 맥주의 가지 수 =      1 가지\n",
      "리뷰 개수가 1,051 개인 맥주의 가지 수 =      1 가지\n",
      "리뷰 개수가 1,035 개인 맥주의 가지 수 =      1 가지\n",
      "리뷰 개수가 1,027 개인 맥주의 가지 수 =      1 가지\n",
      "리뷰 개수가 1,019 개인 맥주의 가지 수 =      1 가지\n",
      "리뷰 개수가 1,011 개인 맥주의 가지 수 =      1 가지\n",
      "리뷰 개수가 1,003 개인 맥주의 가지 수 =      1 가지\n",
      "리뷰 개수가 955 개인 맥주의 가지 수 =      1 가지\n",
      "리뷰 개수가 1,906 개인 맥주의 가지 수 =      1 가지\n",
      "리뷰 개수가 1,874 개인 맥주의 가지 수 =      1 가지\n",
      "리뷰 개수가 1,826 개인 맥주의 가지 수 =      1 가지\n",
      "리뷰 개수가 890 개인 맥주의 가지 수 =      1 가지\n",
      "리뷰 개수가 1,074 개인 맥주의 가지 수 =      1 가지\n",
      "리뷰 개수가 1,050 개인 맥주의 가지 수 =      1 가지\n",
      "리뷰 개수가 1,034 개인 맥주의 가지 수 =      1 가지\n",
      "리뷰 개수가 3,035 개인 맥주의 가지 수 =      1 가지\n",
      "리뷰 개수가 986 개인 맥주의 가지 수 =      1 가지\n",
      "리뷰 개수가 970 개인 맥주의 가지 수 =      1 가지\n",
      "리뷰 개수가 5,064 개인 맥주의 가지 수 =      1 가지\n",
      "리뷰 개수가 3,003 개인 맥주의 가지 수 =      1 가지\n",
      "리뷰 개수가 938 개인 맥주의 가지 수 =      1 가지\n",
      "리뷰 개수가 906 개인 맥주의 가지 수 =      1 가지\n",
      "리뷰 개수가 898 개인 맥주의 가지 수 =      1 가지\n",
      "리뷰 개수가 882 개인 맥주의 가지 수 =      1 가지\n",
      "리뷰 개수가 1,786 개인 맥주의 가지 수 =      1 가지\n",
      "리뷰 개수가 866 개인 맥주의 가지 수 =      1 가지\n",
      "리뷰 개수가 4,928 개인 맥주의 가지 수 =      1 가지\n",
      "리뷰 개수가 818 개인 맥주의 가지 수 =      1 가지\n",
      "리뷰 개수가 794 개인 맥주의 가지 수 =      1 가지\n",
      "리뷰 개수가 786 개인 맥주의 가지 수 =      1 가지\n",
      "리뷰 개수가 2,795 개인 맥주의 가지 수 =      1 가지\n",
      "리뷰 개수가 746 개인 맥주의 가지 수 =      1 가지\n",
      "리뷰 개수가 722 개인 맥주의 가지 수 =      1 가지\n",
      "리뷰 개수가 714 개인 맥주의 가지 수 =      1 가지\n",
      "리뷰 개수가 706 개인 맥주의 가지 수 =      1 가지\n",
      "리뷰 개수가 674 개인 맥주의 가지 수 =      1 가지\n",
      "리뷰 개수가 1,090 개인 맥주의 가지 수 =      1 가지\n",
      "리뷰 개수가 1,138 개인 맥주의 가지 수 =      1 가지\n",
      "리뷰 개수가 1,146 개인 맥주의 가지 수 =      1 가지\n",
      "리뷰 개수가 1,186 개인 맥주의 가지 수 =      1 가지\n",
      "리뷰 개수가 1,770 개인 맥주의 가지 수 =      1 가지\n",
      "리뷰 개수가 1,722 개인 맥주의 가지 수 =      1 가지\n",
      "리뷰 개수가 1,698 개인 맥주의 가지 수 =      1 가지\n",
      "리뷰 개수가 3,739 개인 맥주의 가지 수 =      1 가지\n",
      "리뷰 개수가 1,674 개인 맥주의 가지 수 =      1 가지\n",
      "리뷰 개수가 3,691 개인 맥주의 가지 수 =      1 가지\n",
      "리뷰 개수가 1,642 개인 맥주의 가지 수 =      1 가지\n",
      "리뷰 개수가 1,634 개인 맥주의 가지 수 =      1 가지\n",
      "리뷰 개수가 1,626 개인 맥주의 가지 수 =      1 가지\n",
      "리뷰 개수가 1,610 개인 맥주의 가지 수 =      1 가지\n",
      "리뷰 개수가 1,602 개인 맥주의 가지 수 =      1 가지\n",
      "리뷰 개수가 1,594 개인 맥주의 가지 수 =      1 가지\n",
      "리뷰 개수가 1,514 개인 맥주의 가지 수 =      1 가지\n",
      "리뷰 개수가 3,555 개인 맥주의 가지 수 =      1 가지\n",
      "리뷰 개수가 1,498 개인 맥주의 가지 수 =      1 가지\n",
      "리뷰 개수가 1,442 개인 맥주의 가지 수 =      1 가지\n",
      "리뷰 개수가 1,394 개인 맥주의 가지 수 =      1 가지\n",
      "리뷰 개수가 1,370 개인 맥주의 가지 수 =      1 가지\n",
      "리뷰 개수가 1,338 개인 맥주의 가지 수 =      1 가지\n",
      "리뷰 개수가 1,314 개인 맥주의 가지 수 =      1 가지\n",
      "리뷰 개수가 1,290 개인 맥주의 가지 수 =      1 가지\n",
      "리뷰 개수가 1,218 개인 맥주의 가지 수 =      1 가지\n",
      "리뷰 개수가 1,210 개인 맥주의 가지 수 =      1 가지\n",
      "리뷰 개수가 1,643 개인 맥주의 가지 수 =      1 가지\n",
      "리뷰 개수가 1,715 개인 맥주의 가지 수 =      1 가지\n",
      "리뷰 개수가 597 개인 맥주의 가지 수 =      1 가지\n",
      "리뷰 개수가 3,293 개인 맥주의 가지 수 =      1 가지\n",
      "리뷰 개수가 3,565 개인 맥주의 가지 수 =      1 가지\n",
      "리뷰 개수가 1,500 개인 맥주의 가지 수 =      1 가지\n",
      "리뷰 개수가 1,476 개인 맥주의 가지 수 =      1 가지\n",
      "리뷰 개수가 3,517 개인 맥주의 가지 수 =      1 가지\n",
      "리뷰 개수가 1,468 개인 맥주의 가지 수 =      1 가지\n",
      "리뷰 개수가 1,420 개인 맥주의 가지 수 =      1 가지\n",
      "리뷰 개수가 1,356 개인 맥주의 가지 수 =      1 가지\n",
      "리뷰 개수가 1,348 개인 맥주의 가지 수 =      1 가지\n",
      "리뷰 개수가 1,292 개인 맥주의 가지 수 =      1 가지\n",
      "리뷰 개수가 1,276 개인 맥주의 가지 수 =      1 가지\n",
      "리뷰 개수가 1,268 개인 맥주의 가지 수 =      1 가지\n",
      "리뷰 개수가 1,244 개인 맥주의 가지 수 =      1 가지\n",
      "리뷰 개수가 1,564 개인 맥주의 가지 수 =      1 가지\n",
      "리뷰 개수가 3,269 개인 맥주의 가지 수 =      1 가지\n",
      "리뷰 개수가 1,220 개인 맥주의 가지 수 =      1 가지\n",
      "리뷰 개수가 1,212 개인 맥주의 가지 수 =      1 가지\n",
      "리뷰 개수가 1,204 개인 맥주의 가지 수 =      1 가지\n",
      "리뷰 개수가 1,196 개인 맥주의 가지 수 =      1 가지\n",
      "리뷰 개수가 3,237 개인 맥주의 가지 수 =      1 가지\n",
      "리뷰 개수가 1,188 개인 맥주의 가지 수 =      1 가지\n",
      "리뷰 개수가 1,180 개인 맥주의 가지 수 =      1 가지\n",
      "리뷰 개수가 1,172 개인 맥주의 가지 수 =      1 가지\n",
      "리뷰 개수가 3,205 개인 맥주의 가지 수 =      1 가지\n",
      "리뷰 개수가 1,140 개인 맥주의 가지 수 =      1 가지\n",
      "리뷰 개수가 1,548 개인 맥주의 가지 수 =      1 가지\n",
      "리뷰 개수가 1,572 개인 맥주의 가지 수 =      1 가지\n",
      "리뷰 개수가 1,723 개인 맥주의 가지 수 =      1 가지\n",
      "리뷰 개수가 2,052 개인 맥주의 가지 수 =      1 가지\n",
      "리뷰 개수가 493 개인 맥주의 가지 수 =      1 가지\n",
      "리뷰 개수가 2,436 개인 맥주의 가지 수 =      1 가지\n",
      "리뷰 개수가 4,431 개인 맥주의 가지 수 =      1 가지\n",
      "리뷰 개수가 2,372 개인 맥주의 가지 수 =      1 가지\n",
      "리뷰 개수가 2,292 개인 맥주의 가지 수 =      1 가지\n",
      "리뷰 개수가 2,268 개인 맥주의 가지 수 =      1 가지\n",
      "리뷰 개수가 2,260 개인 맥주의 가지 수 =      1 가지\n",
      "리뷰 개수가 2,180 개인 맥주의 가지 수 =      1 가지\n",
      "리뷰 개수가 4,223 개인 맥주의 가지 수 =      1 가지\n",
      "리뷰 개수가 2,116 개인 맥주의 가지 수 =      1 가지\n",
      "리뷰 개수가 2,084 개인 맥주의 가지 수 =      1 가지\n",
      "리뷰 개수가 4,077 개인 맥주의 가지 수 =      1 가지\n",
      "리뷰 개수가 1,636 개인 맥주의 가지 수 =      1 가지\n",
      "리뷰 개수가 1,980 개인 맥주의 가지 수 =      1 가지\n",
      "리뷰 개수가 3,981 개인 맥주의 가지 수 =      1 가지\n",
      "리뷰 개수가 1,924 개인 맥주의 가지 수 =      1 가지\n",
      "리뷰 개수가 1,876 개인 맥주의 가지 수 =      1 가지\n",
      "리뷰 개수가 1,836 개인 맥주의 가지 수 =      1 가지\n",
      "리뷰 개수가 3,861 개인 맥주의 가지 수 =      1 가지\n",
      "리뷰 개수가 1,812 개인 맥주의 가지 수 =      1 가지\n",
      "리뷰 개수가 1,780 개인 맥주의 가지 수 =      1 가지\n",
      "리뷰 개수가 1,748 개인 맥주의 가지 수 =      1 가지\n",
      "리뷰 개수가 1,740 개인 맥주의 가지 수 =      1 가지\n",
      "리뷰 개수가 1,644 개인 맥주의 가지 수 =      1 가지\n",
      "리뷰 개수가 1,116 개인 맥주의 가지 수 =      1 가지\n",
      "리뷰 개수가 1,100 개인 맥주의 가지 수 =      1 가지\n",
      "리뷰 개수가 1,084 개인 맥주의 가지 수 =      1 가지\n",
      "리뷰 개수가 1,995 개인 맥주의 가지 수 =      1 가지\n",
      "리뷰 개수가 2,573 개인 맥주의 가지 수 =      1 가지\n",
      "리뷰 개수가 2,565 개인 맥주의 가지 수 =      1 가지\n",
      "리뷰 개수가 2,485 개인 맥주의 가지 수 =      1 가지\n",
      "리뷰 개수가 2,461 개인 맥주의 가지 수 =      1 가지\n",
      "리뷰 개수가 2,309 개인 맥주의 가지 수 =      1 가지\n",
      "리뷰 개수가 2,253 개인 맥주의 가지 수 =      1 가지\n",
      "리뷰 개수가 4,246 개인 맥주의 가지 수 =      1 가지\n",
      "리뷰 개수가 1,975 개인 맥주의 가지 수 =      1 가지\n",
      "리뷰 개수가 2,149 개인 맥주의 가지 수 =      1 가지\n",
      "리뷰 개수가 2,141 개인 맥주의 가지 수 =      1 가지\n",
      "리뷰 개수가 2,109 개인 맥주의 가지 수 =      1 가지\n",
      "리뷰 개수가 4,026 개인 맥주의 가지 수 =      1 가지\n",
      "리뷰 개수가 1,076 개인 맥주의 가지 수 =      1 가지\n",
      "리뷰 개수가 1,955 개인 맥주의 가지 수 =      1 가지\n",
      "리뷰 개수가 1,947 개인 맥주의 가지 수 =      1 가지\n",
      "리뷰 개수가 1,939 개인 맥주의 가지 수 =      1 가지\n",
      "리뷰 개수가 1,923 개인 맥주의 가지 수 =      1 가지\n",
      "리뷰 개수가 1,899 개인 맥주의 가지 수 =      1 가지\n",
      "리뷰 개수가 1,883 개인 맥주의 가지 수 =      1 가지\n",
      "리뷰 개수가 1,819 개인 맥주의 가지 수 =      1 가지\n",
      "리뷰 개수가 3,858 개인 맥주의 가지 수 =      1 가지\n",
      "리뷰 개수가 1,787 개인 맥주의 가지 수 =      1 가지\n",
      "리뷰 개수가 1,779 개인 맥주의 가지 수 =      1 가지\n",
      "리뷰 개수가 1,771 개인 맥주의 가지 수 =      1 가지\n",
      "리뷰 개수가 4,622 개인 맥주의 가지 수 =      1 가지\n",
      "리뷰 개수가 556 개인 맥주의 가지 수 =      1 가지\n",
      "리뷰 개수가 604 개인 맥주의 가지 수 =      1 가지\n",
      "리뷰 개수가 612 개인 맥주의 가지 수 =      1 가지\n",
      "리뷰 개수가 1,044 개인 맥주의 가지 수 =      1 가지\n",
      "리뷰 개수가 1,036 개인 맥주의 가지 수 =      1 가지\n",
      "리뷰 개수가 1,028 개인 맥주의 가지 수 =      1 가지\n",
      "리뷰 개수가 988 개인 맥주의 가지 수 =      1 가지\n",
      "리뷰 개수가 964 개인 맥주의 가지 수 =      1 가지\n",
      "리뷰 개수가 948 개인 맥주의 가지 수 =      1 가지\n",
      "리뷰 개수가 940 개인 맥주의 가지 수 =      1 가지\n",
      "리뷰 개수가 924 개인 맥주의 가지 수 =      1 가지\n",
      "리뷰 개수가 916 개인 맥주의 가지 수 =      1 가지\n",
      "리뷰 개수가 908 개인 맥주의 가지 수 =      1 가지\n",
      "리뷰 개수가 884 개인 맥주의 가지 수 =      1 가지\n",
      "리뷰 개수가 876 개인 맥주의 가지 수 =      1 가지\n",
      "리뷰 개수가 844 개인 맥주의 가지 수 =      1 가지\n",
      "리뷰 개수가 828 개인 맥주의 가지 수 =      1 가지\n",
      "리뷰 개수가 2,853 개인 맥주의 가지 수 =      1 가지\n",
      "리뷰 개수가 772 개인 맥주의 가지 수 =      1 가지\n",
      "리뷰 개수가 2,813 개인 맥주의 가지 수 =      1 가지\n",
      "리뷰 개수가 764 개인 맥주의 가지 수 =      1 가지\n",
      "리뷰 개수가 2,797 개인 맥주의 가지 수 =      1 가지\n",
      "리뷰 개수가 2,765 개인 맥주의 가지 수 =      1 가지\n",
      "리뷰 개수가 716 개인 맥주의 가지 수 =      1 가지\n",
      "리뷰 개수가 692 개인 맥주의 가지 수 =      1 가지\n",
      "리뷰 개수가 668 개인 맥주의 가지 수 =      1 가지\n",
      "리뷰 개수가 4,098 개인 맥주의 가지 수 =      1 가지\n"
     ]
    }
   ],
   "source": [
    "# 그렇다면, 리뷰 개수가 적은 맥주는 몇 개나 있을까? \n",
    "\n",
    "print(f\"* 해당 데이터 안에서 존재하는 맥주의 총 가지 수  = {n_item:,}\", end=\"\\n\\n\")\n",
    "for index, value in ratebeer['beer_name'].value_counts().value_counts().items():\n",
    "    # print(index, value)\n",
    "    print(f\"리뷰 개수가 {index:3,} 개인 맥주의 가지 수 = {value:6,} 가지\")\n",
    "    # if index >= 10: break"
   ]
  },
  {
   "cell_type": "code",
   "execution_count": 13,
   "metadata": {},
   "outputs": [],
   "source": [
    "# 확실히 대부분의 맥주가 리뷰 수가 크게 많지 않다는 것을 알 수 있다.\n",
    "# (이것을 인기도의 관점으로 해석을 할 수 있는 여지가 있다.)"
   ]
  },
  {
   "cell_type": "code",
   "execution_count": 14,
   "metadata": {},
   "outputs": [],
   "source": [
    "##### 종합 평가 ##### \n",
    "# 리뷰 개수가 적은 데이터는 추천에 사용하기 힘들 수 있다.\n",
    "# 하지만 목적에 따라 어떤 데이터로 사용할 수 있기 때문에 전처리 하는 것은 유보한다.\n",
    "# 생각해볼만한점.\n",
    "# 어떤 맥주를 추천해주기 위해서는 맥주가 적어도 몇 개가 있어야 좋을까?\n",
    "\n",
    "# (생각해볼점) 현재 유통되는 맥주인지 어떻게 아나?"
   ]
  },
  {
   "cell_type": "markdown",
   "metadata": {},
   "source": [
    "### beer/brewerId - 맥주 생산자 일련번호"
   ]
  },
  {
   "cell_type": "code",
   "execution_count": 15,
   "metadata": {},
   "outputs": [],
   "source": [
    "# 기존에는 float 형으로 기록되어있는데, 변수명을 유추했을때, int라고 판단된다. 따라서 실제로 int 형으로 취급해도 되는지 확인 해본다. \n",
    "# print(sum(ratebeer['brewer_id'] != ratebeer['brewer_id'].astype(int)))\n",
    "\n",
    "# int 형으로 변경\n",
    "# ratebeer['brewer_id'] = ratebeer['brewer_id'].astype(int)"
   ]
  },
  {
   "cell_type": "code",
   "execution_count": 16,
   "metadata": {},
   "outputs": [
    {
     "name": "stdout",
     "output_type": "stream",
     "text": [
      "[ratebeer] 맥주의 생산자: 1,525가지\n"
     ]
    }
   ],
   "source": [
    "# 몇개의 생산자가 있을까?\n",
    "n_brewer = ratebeer['brewer_id'].nunique()\n",
    "print(f\"[ratebeer] 맥주의 생산자: {n_brewer:,}가지\")"
   ]
  },
  {
   "cell_type": "code",
   "execution_count": 17,
   "metadata": {},
   "outputs": [
    {
     "data": {
      "image/png": "[encoded data removed]",
      "text/plain": [
       "<Figure size 432x288 with 1 Axes>"
      ]
     },
     "metadata": {
      "needs_background": "light"
     },
     "output_type": "display_data"
    }
   ],
   "source": [
    "# 생산자의 맥주 생산 개수 분포 확인;  맥주 생산을 많이 하는 생산자와 별로 생산하지 않는 생산자와 같은 정보를 확인한다.\n",
    "ratebeer.groupby([\"brewer_id\"])[\"beer_name\"].nunique().sort_values(ascending=False).iloc[np.r_[0:10, -10:0]][::-1].plot(kind = 'barh')\n",
    "plt.title(\"How many Beers Brewer launch [Top 10, Bottom 10]\")\n",
    "plt.show()"
   ]
  },
  {
   "cell_type": "code",
   "execution_count": 18,
   "metadata": {},
   "outputs": [],
   "source": [
    "# 많게는 300개의 맥주를 발매한 회사부터, 1개의 맥주만 발매한 회사도 다수 존재한다."
   ]
  },
  {
   "cell_type": "code",
   "execution_count": 19,
   "metadata": {},
   "outputs": [
    {
     "data": {
      "text/html": [
       "<div>\n",
       "<style scoped>\n",
       "    .dataframe tbody tr th:only-of-type {\n",
       "        vertical-align: middle;\n",
       "    }\n",
       "\n",
       "    .dataframe tbody tr th {\n",
       "        vertical-align: top;\n",
       "    }\n",
       "\n",
       "    .dataframe thead th {\n",
       "        text-align: right;\n",
       "    }\n",
       "</style>\n",
       "<table border=\"1\" class=\"dataframe\">\n",
       "  <thead>\n",
       "    <tr style=\"text-align: right;\">\n",
       "      <th></th>\n",
       "      <th>brewer_id</th>\n",
       "      <th>freq</th>\n",
       "      <th>top40brewer</th>\n",
       "      <th>normal</th>\n",
       "    </tr>\n",
       "  </thead>\n",
       "  <tbody>\n",
       "    <tr>\n",
       "      <th>0</th>\n",
       "      <td>32.0</td>\n",
       "      <td>57533</td>\n",
       "      <td>57533</td>\n",
       "      <td>0</td>\n",
       "    </tr>\n",
       "    <tr>\n",
       "      <th>1</th>\n",
       "      <td>198.0</td>\n",
       "      <td>51611</td>\n",
       "      <td>51611</td>\n",
       "      <td>0</td>\n",
       "    </tr>\n",
       "    <tr>\n",
       "      <th>2</th>\n",
       "      <td>96.0</td>\n",
       "      <td>47833</td>\n",
       "      <td>47833</td>\n",
       "      <td>0</td>\n",
       "    </tr>\n",
       "    <tr>\n",
       "      <th>3</th>\n",
       "      <td>232.0</td>\n",
       "      <td>46143</td>\n",
       "      <td>46143</td>\n",
       "      <td>0</td>\n",
       "    </tr>\n",
       "    <tr>\n",
       "      <th>4</th>\n",
       "      <td>67.0</td>\n",
       "      <td>44993</td>\n",
       "      <td>44993</td>\n",
       "      <td>0</td>\n",
       "    </tr>\n",
       "  </tbody>\n",
       "</table>\n",
       "</div>"
      ],
      "text/plain": [
       "   brewer_id   freq  top40brewer  normal\n",
       "0       32.0  57533        57533       0\n",
       "1      198.0  51611        51611       0\n",
       "2       96.0  47833        47833       0\n",
       "3      232.0  46143        46143       0\n",
       "4       67.0  44993        44993       0"
      ]
     },
     "execution_count": 19,
     "metadata": {},
     "output_type": "execute_result"
    }
   ],
   "source": [
    "# 그렇다면 혹시, 맥주를 많이 생산하는 생산자는 전체 리뷰수도 많을까?\n",
    "\n",
    "top40brewers = ratebeer.groupby([\"brewer_id\"])[\"beer_name\"].nunique().sort_values(ascending=False).head(40).index\n",
    "brewer_reviews = ratebeer.value_counts(\"brewer_id\").reset_index()\n",
    "brewer_reviews.columns = [\"brewer_id\", \"freq\"]\n",
    "\n",
    "brewer_reviews[\"top40brewer\"] = brewer_reviews[\"brewer_id\"].isin(top40brewers)\n",
    "brewer_reviews.sort_values(\"freq\", ascending=False, inplace=True)\n",
    "\n",
    "brewer_reviews[\"top40brewer\"] = np.where(brewer_reviews[\"top40brewer\"], brewer_reviews[\"freq\"], 0)\n",
    "brewer_reviews[\"normal\"] = np.where(brewer_reviews[\"top40brewer\"]==False, brewer_reviews[\"freq\"], 0)\n",
    "brewer_reviews.head()"
   ]
  },
  {
   "cell_type": "code",
   "execution_count": 20,
   "metadata": {},
   "outputs": [
    {
     "data": {
      "image/png": "[encoded data removed]",
      "text/plain": [
       "<Figure size 432x288 with 1 Axes>"
      ]
     },
     "metadata": {
      "needs_background": "light"
     },
     "output_type": "display_data"
    }
   ],
   "source": [
    "brewer_reviews.drop(\"freq\", axis= 1).set_index(\"brewer_id\").head(40).plot(kind = 'bar',  stacked=True, color=['red', 'steelblue', ])\n",
    "plt.show()"
   ]
  },
  {
   "cell_type": "code",
   "execution_count": 21,
   "metadata": {},
   "outputs": [],
   "source": [
    "# 맥주를 많이 발행한 회사가 총 리뷰수도 많다."
   ]
  },
  {
   "cell_type": "markdown",
   "metadata": {},
   "source": [
    "### beer/ABV - 맥주 알코올도수 탐색"
   ]
  },
  {
   "cell_type": "code",
   "execution_count": 22,
   "metadata": {},
   "outputs": [
    {
     "name": "stdout",
     "output_type": "stream",
     "text": [
      "[ratebeer] ABV(알코올 도수)에서 결측치('-') 리뷰 개수:     779개\n"
     ]
    }
   ],
   "source": [
    "# 알코올도수는 숫자 타입이여야하는데, 임포트될때, 자동으로 object 타입으로 변경되었던것으로 보아, str 타입의 정보가 포함되어있을수있다.\n",
    "# 숫자가 아닌 값의 개수는?\n",
    "abvs = pd.to_numeric(ratebeer[\"abv\"], errors=\"coerce\") # 숫자가 아닌 타입을 수치형으로 바꾸는데, 실제로 수치형으로 변환 불가한 타입의 정보는 NaN 처리를 해주는 명령어\n",
    "print(f\"[ratebeer] ABV(알코올 도수)에서 결측치('-') 리뷰 개수: {abvs.isna().sum(): 7,}개\")\n",
    "ratebeer[\"abv\"] = abvs"
   ]
  },
  {
   "cell_type": "code",
   "execution_count": 23,
   "metadata": {},
   "outputs": [
    {
     "name": "stdout",
     "output_type": "stream",
     "text": [
      "[ratebeer] ABV(알코올 도수)에서 결측치('-') 맥주 개수:       0개\n"
     ]
    }
   ],
   "source": [
    "# 그렇다면, 몇 개의 맥주가 알코올 도수가 없을까?\n",
    "n_missing_ABV = ratebeer[ratebeer[\"abv\"].isna()][\"beer_name\"].nunique()\n",
    "print(f\"[ratebeer] ABV(알코올 도수)에서 결측치('-') 맥주 개수: {n_missing_ABV: 7,}개\")\n"
   ]
  },
  {
   "cell_type": "code",
   "execution_count": 24,
   "metadata": {},
   "outputs": [],
   "source": [
    "# 전체 맥주의 개수가 110,299개 이므로, 전체 리뷰에서 결측치의 영향력 보다는 맥주 이름을 기준으로는 훨씬더 결측치의 비율측면에서 더 높은 것으로 보인다. "
   ]
  },
  {
   "cell_type": "code",
   "execution_count": 25,
   "metadata": {},
   "outputs": [
    {
     "data": {
      "text/plain": [
       "count    3243663.000\n",
       "mean           6.863\n",
       "std            2.389\n",
       "min            0.000\n",
       "25%            5.100\n",
       "50%            6.200\n",
       "75%            8.200\n",
       "max           29.000\n",
       "Name: abv, dtype: float64"
      ]
     },
     "execution_count": 25,
     "metadata": {},
     "output_type": "execute_result"
    }
   ],
   "source": [
    "# 기본 통계치부터 살펴보자\n",
    "round(ratebeer[\"abv\"].describe(), 3)"
   ]
  },
  {
   "cell_type": "code",
   "execution_count": 26,
   "metadata": {},
   "outputs": [],
   "source": [
    "# 맥주가, 알코올이 무려 57.700 까지 높은 것도 존재하고, 논알코올로 보이는것도 존재한다."
   ]
  },
  {
   "cell_type": "markdown",
   "metadata": {},
   "source": [
    "### beer/style - 맥주 스타일 종류 탐색"
   ]
  },
  {
   "cell_type": "code",
   "execution_count": 27,
   "metadata": {},
   "outputs": [
    {
     "name": "stdout",
     "output_type": "stream",
     "text": [
      "[ratebeer] 맥주의 스타일 종류: 131가지\n"
     ]
    }
   ],
   "source": [
    "# beer/style 맥주 스타일 종류 탐색\n",
    "n_style = ratebeer['style'].nunique()\n",
    "print(f\"[ratebeer] 맥주의 스타일 종류: {n_style:,}가지\")\n"
   ]
  },
  {
   "cell_type": "code",
   "execution_count": 28,
   "metadata": {},
   "outputs": [
    {
     "data": {
      "image/png": "[encoded data removed]",
      "text/plain": [
       "<Figure size 432x288 with 1 Axes>"
      ]
     },
     "metadata": {
      "needs_background": "light"
     },
     "output_type": "display_data"
    }
   ],
   "source": [
    "# 맥주 스타일에는 뭐가 있을까? 리뷰 횟수 기준, 가장 많은 맥주의 스타일과, 맥주 종류 기준으로 가장 많은 맥주의 스타일을 구해본다. \n",
    "# 리뷰 기준, 맥주 스타일 top N\n",
    "ratebeer.value_counts(\"style\").head(10)[::-1].plot(kind = \"barh\")\n",
    "plt.title(\"Most Beer Style by Reviews - [Top 10]\")\n",
    "plt.show()"
   ]
  },
  {
   "cell_type": "code",
   "execution_count": 29,
   "metadata": {},
   "outputs": [
    {
     "data": {
      "image/png": "[encoded data removed]",
      "text/plain": [
       "<Figure size 432x288 with 1 Axes>"
      ]
     },
     "metadata": {
      "needs_background": "light"
     },
     "output_type": "display_data"
    }
   ],
   "source": [
    "# 맥주 종류 기준, 맥주 스타일 top N\n",
    "ratebeer.groupby(\"style\")[\"beer_name\"].nunique().sort_values(ascending=False).head(10)[::-1].plot(kind=\"barh\")\n",
    "plt.title(\"Most Beer Style by Beer name - [Top 10]\")\n",
    "plt.show()"
   ]
  },
  {
   "cell_type": "code",
   "execution_count": 30,
   "metadata": {},
   "outputs": [
    {
     "name": "stdout",
     "output_type": "stream",
     "text": [
      "[ratebeer] 공통으로 많이 나오는 맥주 스타일 6가지 = ['Pale Ale - American (APA)', 'Porter', 'IPA', 'IIPA DIPA - Imperial / Double IPA', 'Stout - Imperial', 'Pale Lager - American', 'Barley Wine / Wheat Wine / Rye Wine']\n"
     ]
    }
   ],
   "source": [
    "set_top10_style_by_review = set(ratebeer.value_counts(\"style\").head(10).index)\n",
    "set_top10_style_by_name = set(ratebeer.groupby(\"style\")[\"beer_name\"].nunique().sort_values(ascending=False).head(10).index)\n",
    "print(f\"[ratebeer] 공통으로 많이 나오는 맥주 스타일 6가지 = {list(set_top10_style_by_review.intersection(set_top10_style_by_name))}\")"
   ]
  },
  {
   "cell_type": "code",
   "execution_count": 31,
   "metadata": {},
   "outputs": [],
   "source": [
    "# 인기 있는 종류들은 역시나, 거기에서 거기이다. \n",
    "# 여기서 India Pale Ale &#40;IPA&#41; 의 명칭으로한 스타일이 궁금한데, 나중에 찾아봐야겠다..."
   ]
  },
  {
   "cell_type": "markdown",
   "metadata": {},
   "source": [
    "## Score!!!\n",
    "- `review/appearance`: 평가점수-외관(look) \n",
    "- `review/aroma`: 평가점수-향기(smell)\n",
    "- `review/palate`: 평가점수-the sense of taste(feel)\n",
    "- `review/taste`: 평가점수-맛\n",
    "- `review/overall`: 평가점수-종합"
   ]
  },
  {
   "cell_type": "markdown",
   "metadata": {},
   "source": [
    "### reviewscore\n",
    "- 5점 척도"
   ]
  },
  {
   "cell_type": "code",
   "execution_count": 32,
   "metadata": {},
   "outputs": [
    {
     "data": {
      "image/png": "[encoded data removed]",
      "text/plain": [
       "<Figure size 432x288 with 1 Axes>"
      ]
     },
     "metadata": {
      "needs_background": "light"
     },
     "output_type": "display_data"
    }
   ],
   "source": [
    "ratebeer[\"reviewscore\"].value_counts().sort_index().plot(kind = \"bar\")\n",
    "plt.title(\"[ratebeer] reviewscore\")\n",
    "plt.show()"
   ]
  },
  {
   "cell_type": "markdown",
   "metadata": {},
   "source": [
    "### review/appearance\n",
    "- 5점 척도"
   ]
  },
  {
   "cell_type": "code",
   "execution_count": 33,
   "metadata": {},
   "outputs": [
    {
     "data": {
      "image/png": "[encoded data removed]",
      "text/plain": [
       "<Figure size 432x288 with 1 Axes>"
      ]
     },
     "metadata": {
      "needs_background": "light"
     },
     "output_type": "display_data"
    }
   ],
   "source": [
    "ratebeer[\"appearance\"].value_counts().sort_index().plot(kind = \"bar\")\n",
    "plt.title(\"[ratebeer] appearance\")\n",
    "plt.show()"
   ]
  },
  {
   "cell_type": "markdown",
   "metadata": {},
   "source": [
    "### review/aroma\n",
    "- 10점 척도"
   ]
  },
  {
   "cell_type": "code",
   "execution_count": 34,
   "metadata": {},
   "outputs": [
    {
     "data": {
      "image/png": "[encoded data removed]",
      "text/plain": [
       "<Figure size 432x288 with 1 Axes>"
      ]
     },
     "metadata": {
      "needs_background": "light"
     },
     "output_type": "display_data"
    }
   ],
   "source": [
    "ratebeer[\"aroma\"].value_counts().sort_index().plot(kind = \"bar\")\n",
    "plt.title(\"[ratebeer] aroma\")\n",
    "plt.show()"
   ]
  },
  {
   "cell_type": "markdown",
   "metadata": {},
   "source": [
    "### review/palateb\n",
    "- 5점 척도"
   ]
  },
  {
   "cell_type": "code",
   "execution_count": 35,
   "metadata": {},
   "outputs": [
    {
     "data": {
      "image/png": "[encoded data removed]",
      "text/plain": [
       "<Figure size 432x288 with 1 Axes>"
      ]
     },
     "metadata": {
      "needs_background": "light"
     },
     "output_type": "display_data"
    }
   ],
   "source": [
    "ratebeer[\"palate\"].value_counts().sort_index().plot(kind = \"bar\")\n",
    "plt.title(\"[ratebeer] palate\")\n",
    "plt.show()"
   ]
  },
  {
   "cell_type": "markdown",
   "metadata": {},
   "source": [
    "### review/taste\n",
    "- 10점 척도"
   ]
  },
  {
   "cell_type": "code",
   "execution_count": 36,
   "metadata": {},
   "outputs": [
    {
     "data": {
      "image/png": "[encoded data removed]",
      "text/plain": [
       "<Figure size 432x288 with 1 Axes>"
      ]
     },
     "metadata": {
      "needs_background": "light"
     },
     "output_type": "display_data"
    }
   ],
   "source": [
    "ratebeer[\"taste\"].value_counts().sort_index().plot(kind = \"bar\")\n",
    "plt.title(\"[ratebeer] taste\")\n",
    "plt.show()"
   ]
  },
  {
   "cell_type": "markdown",
   "metadata": {},
   "source": [
    "### review/overall\n",
    "- 20점 척도"
   ]
  },
  {
   "cell_type": "code",
   "execution_count": 37,
   "metadata": {},
   "outputs": [
    {
     "data": {
      "image/png": "[encoded data removed]",
      "text/plain": [
       "<Figure size 432x288 with 1 Axes>"
      ]
     },
     "metadata": {
      "needs_background": "light"
     },
     "output_type": "display_data"
    }
   ],
   "source": [
    "ratebeer[\"overall\"].value_counts().sort_index().plot(kind = \"bar\")\n",
    "plt.title(\"[ratebeer] overall\")\n",
    "plt.show()"
   ]
  },
  {
   "cell_type": "code",
   "execution_count": 38,
   "metadata": {},
   "outputs": [],
   "source": [
    "# 척도에 따라, 어느값에 사람들이 많이 체크를 하는지 알 수 있다. \n",
    "# 5점 척도인 경우에는 3점을 많이 주는 경향이 있는 것을 볼 수 있고, \n",
    "# 10점척도인 경우게는 7점, 20점 척도에서는 10점 척도로 변경한다면 매우 비슷한 형태를 취하는 것을 알 수 있다.\n",
    "\n",
    "# Further Works\n",
    "    # 이것을 통해서 사람들은 점수를 매기는 것에 큰 의미를 두고 있지 않고, 보통 후한 값을 주는 것으로 보인다. \n",
    "    # 물론 그것을 넘기고 말고가 중요한 Key point가 될 수 있다고 생각한다.\n",
    "    # 앞으로 수집하는 데이터에서는 이러한 정보를 유저로부터 수집하기 어려워지는데, 이런 문제를 해결하기 해당 데이터를 어떻게 사용할지도 고려해봐야한다.\n",
    "        # ex Preference의 Confidence 인자로 활용하여, 선호 비선호 구별?\n",
    "    # overall 에서 유저의 평가가 올바르게 이루어질 경우, "
   ]
  },
  {
   "cell_type": "markdown",
   "metadata": {},
   "source": [
    "### review/time\n",
    "\n",
    "- `2022-05-15T17:26:51.803Z` 형태로 날짜가 기록되어있다.\n",
    "- 구체적인 시간대는 기록되어있지 않았다. "
   ]
  },
  {
   "cell_type": "code",
   "execution_count": 39,
   "metadata": {},
   "outputs": [
    {
     "data": {
      "text/plain": [
       "0          2022-05-15 17:26:51.803\n",
       "1          2022-05-04 19:05:02.673\n",
       "2          2021-10-24 12:35:44.710\n",
       "3          2021-08-31 20:31:34.537\n",
       "4          2021-08-23 02:07:23.170\n",
       "                    ...           \n",
       "3316693    2001-12-28 01:50:14.000\n",
       "3316694    2001-11-26 13:09:46.000\n",
       "3316695    2001-06-27 15:13:30.000\n",
       "3316696    2001-06-02 16:24:19.000\n",
       "3316697    2000-07-19 13:26:50.000\n",
       "Name: reviewtime, Length: 3244442, dtype: object"
      ]
     },
     "execution_count": 39,
     "metadata": {},
     "output_type": "execute_result"
    }
   ],
   "source": [
    "ratebeer_datetime = ratebeer['reviewtime'].apply(lambda x: x[:10] + \" \" + x[11:23])\n",
    "ratebeer_datetime"
   ]
  },
  {
   "cell_type": "code",
   "execution_count": 40,
   "metadata": {},
   "outputs": [
    {
     "name": "stdout",
     "output_type": "stream",
     "text": [
      "[ratebeer] 리뷰 기록 기간 2000-04-12 06:22:38.000 ~ 2022-05-29 01:50:56.947\n"
     ]
    }
   ],
   "source": [
    "print(f\"[ratebeer] 리뷰 기록 기간 {ratebeer_datetime.min()} ~ {ratebeer_datetime.max()}\")"
   ]
  },
  {
   "cell_type": "code",
   "execution_count": 41,
   "metadata": {},
   "outputs": [],
   "source": [
    "# 시간 데이터 탐색 | 시간 정보에 의한 인사이트 확보\n",
    "df_dt = pd.DataFrame()\n",
    "df_dt[\"dt\"] = ratebeer_datetime.apply(lambda x: datetime.fromisoformat(x))\n",
    "df_dt[\"date\"] = df_dt[\"dt\"].apply(lambda x: str(x.date()))\n",
    "df_dt[\"year\"] = df_dt[\"dt\"].apply(lambda x: x.year)\n",
    "df_dt[\"month\"] = df_dt[\"dt\"].apply(lambda x: x.month)\n",
    "df_dt[\"day\"] = df_dt[\"dt\"].apply(lambda x: x.day)\n",
    "df_dt[\"weekday\"] = df_dt[\"dt\"].apply(lambda x: x.weekday())\n",
    "\n",
    "# (dataframe-skill) 시간이 너무 많이 소요된다. 해결 방안은?"
   ]
  },
  {
   "cell_type": "code",
   "execution_count": 42,
   "metadata": {},
   "outputs": [
    {
     "data": {
      "image/png": "[encoded data removed]",
      "text/plain": [
       "<Figure size 432x288 with 1 Axes>"
      ]
     },
     "metadata": {
      "needs_background": "light"
     },
     "output_type": "display_data"
    }
   ],
   "source": [
    "df_dt.value_counts(\"year\").sort_index().plot(kind = \"bar\")\n",
    "plt.title(\"DATETIME - YEAR\")\n",
    "plt.show()"
   ]
  },
  {
   "cell_type": "code",
   "execution_count": 43,
   "metadata": {},
   "outputs": [],
   "source": [
    "# 아마도 서비스가 성장함에 따라 기록이 늘었을 가능성이 높다.\n",
    "# 추후에 Benchmark dataset을 어떻게 구성할지 고려해볼 수 있는 부분이 되겠다.\n",
    "\n",
    "# (추가) 서비스의 이용율이 점점 떨어지는 것을 볼 수 있다"
   ]
  },
  {
   "cell_type": "code",
   "execution_count": 44,
   "metadata": {},
   "outputs": [
    {
     "data": {
      "image/png": "[encoded data removed]",
      "text/plain": [
       "<Figure size 432x288 with 1 Axes>"
      ]
     },
     "metadata": {
      "needs_background": "light"
     },
     "output_type": "display_data"
    }
   ],
   "source": [
    "df_dt.value_counts(\"month\").sort_index().plot(kind = \"bar\")\n",
    "plt.title(\"DATETIME - month\")\n",
    "plt.show()"
   ]
  },
  {
   "cell_type": "code",
   "execution_count": 45,
   "metadata": {},
   "outputs": [],
   "source": [
    "# 외국 데이터로, 사계절이 뚜렷해서 여름-맥주 를 연결시켜서 상품화 하는 우리나라와는 달리\n",
    "# 사계절이 불분명하기 때문에 어떤 시즌에 맥주가 많이 소비되고 그런 경향성은 보이지 않는 것 같다."
   ]
  },
  {
   "cell_type": "code",
   "execution_count": 46,
   "metadata": {},
   "outputs": [
    {
     "data": {
      "image/png": "[encoded data removed]",
      "text/plain": [
       "<Figure size 432x288 with 1 Axes>"
      ]
     },
     "metadata": {
      "needs_background": "light"
     },
     "output_type": "display_data"
    }
   ],
   "source": [
    "df_dt.value_counts(\"day\").sort_index().plot(kind = \"bar\")\n",
    "plt.title(\"DATETIME - day\")\n",
    "plt.show()"
   ]
  },
  {
   "cell_type": "code",
   "execution_count": 47,
   "metadata": {},
   "outputs": [],
   "source": [
    "# 마찬가지로, 날짜는 어떠한 경향성도 존재하지 않는 것으로 보인다. 다만, 1일은 조금 많은 소비가 있는 것으로 보인다. "
   ]
  },
  {
   "cell_type": "code",
   "execution_count": 48,
   "metadata": {},
   "outputs": [
    {
     "data": {
      "image/png": "[encoded data removed]",
      "text/plain": [
       "<Figure size 432x288 with 1 Axes>"
      ]
     },
     "metadata": {
      "needs_background": "light"
     },
     "output_type": "display_data"
    }
   ],
   "source": [
    "df_dt.value_counts(\"weekday\").sort_index().plot(kind = \"bar\")\n",
    "plt.title(\"DATETIME - weekday\")\n",
    "plt.show()"
   ]
  },
  {
   "cell_type": "code",
   "execution_count": 49,
   "metadata": {},
   "outputs": [],
   "source": [
    "# 확실히 금요일, 토요일에 맥주 리뷰를 많이 하는 것으로 나타난다. \n",
    "# 다른 날도 충분히 많이 보고 있지만, 일요일을 제외한 주말로 갈 수록 리뷰의 수가 증가하는 추세를 볼 수 있다."
   ]
  },
  {
   "cell_type": "markdown",
   "metadata": {},
   "source": [
    "### review/profileName"
   ]
  },
  {
   "cell_type": "code",
   "execution_count": 50,
   "metadata": {},
   "outputs": [
    {
     "name": "stdout",
     "output_type": "stream",
     "text": [
      "[ratebeer] 유저의 수: 60,582\n"
     ]
    }
   ],
   "source": [
    "n_user = ratebeer['profile_name'].nunique()\n",
    "print(f\"[ratebeer] 유저의 수: {n_user:,}\")"
   ]
  },
  {
   "cell_type": "code",
   "execution_count": 51,
   "metadata": {},
   "outputs": [
    {
     "name": "stdout",
     "output_type": "stream",
     "text": [
      "[ratebeer] Sparsity: 99.426% | Density: 0.574%\n"
     ]
    }
   ],
   "source": [
    "# sparsity\n",
    "print(f\"[ratebeer] Sparsity: {1-n_data/(n_item*n_user):2.3%} | Density: {n_data/(n_item*n_user):2.3%}\")"
   ]
  },
  {
   "cell_type": "code",
   "execution_count": 52,
   "metadata": {},
   "outputs": [
    {
     "data": {
      "text/plain": [
       "<AxesSubplot:>"
      ]
     },
     "execution_count": 52,
     "metadata": {},
     "output_type": "execute_result"
    },
    {
     "data": {
      "image/png": "[encoded data removed]",
      "text/plain": [
       "<Figure size 432x288 with 1 Axes>"
      ]
     },
     "metadata": {
      "needs_background": "light"
     },
     "output_type": "display_data"
    }
   ],
   "source": [
    "# 한 명의 유저가 남긴 리뷰의 수 분포는?\n",
    "ratebeer.value_counts(\"profile_name\").hist(bins = 50)"
   ]
  },
  {
   "cell_type": "code",
   "execution_count": 53,
   "metadata": {},
   "outputs": [],
   "source": [
    "# 대부분이 적은 리뷰 수를 남긴다. (일반인)\n",
    "# (생각해볼점) 적은 리뷰를 남긴 유저의 데이터가 추천 모델을 학습시키기에 적합할까? \n",
    "#       -> 어떻게 처리할 수 있을까? 그래도 양질의 정성이 담긴 평가가 있다면, 그것은 해당 아이템에 대한 평가에 소중한 의견이 될 수 있다.\n",
    "# 하지만, 역시나, 무언가를 추천해주기에는, 해당 유저의 특성을 하나의 맥주만으로 파악할 수 없기 때문에, 어렵다.\n",
    "# 하지만, 해당 데이터는 리뷰를 가지고 있으므로, 리뷰 글을 통해서 비슷한 유저인지 아닌지 좀 파악알 수 있지 않을까?"
   ]
  },
  {
   "cell_type": "code",
   "execution_count": 54,
   "metadata": {},
   "outputs": [
    {
     "data": {
      "image/png": "[encoded data removed]",
      "text/plain": [
       "<Figure size 432x288 with 1 Axes>"
      ]
     },
     "metadata": {
      "needs_background": "light"
     },
     "output_type": "display_data"
    }
   ],
   "source": [
    "# 리뷰 개수 상위 500명에 대한 분포\n",
    "ratebeer.value_counts(\"profile_name\")[:500].hist(bins = 30)\n",
    "plt.show()"
   ]
  },
  {
   "cell_type": "code",
   "execution_count": 55,
   "metadata": {},
   "outputs": [
    {
     "data": {
      "image/png": "[encoded data removed]",
      "text/plain": [
       "<Figure size 432x288 with 1 Axes>"
      ]
     },
     "metadata": {
      "needs_background": "light"
     },
     "output_type": "display_data"
    },
    {
     "data": {
      "text/plain": [
       "1    24575\n",
       "2     7897\n",
       "3     4264\n",
       "4     2796\n",
       "5     1936\n",
       "dtype: int64"
      ]
     },
     "execution_count": 55,
     "metadata": {},
     "output_type": "execute_result"
    }
   ],
   "source": [
    "# 리뷰를 적게 남긴 유저의 기준으로 리뷰 개수별 몇 명이 있는지 분포를 확인해보자.\n",
    "ratebeer.value_counts(\"profile_name\").value_counts().sort_index().head(30).plot(kind = \"bar\")\n",
    "plt.show()\n",
    "ratebeer.value_counts(\"profile_name\").value_counts().sort_index().head(5)"
   ]
  },
  {
   "cell_type": "code",
   "execution_count": 56,
   "metadata": {},
   "outputs": [
    {
     "data": {
      "text/plain": [
       "count    60582.000000\n",
       "mean        53.554554\n",
       "std        238.113776\n",
       "min          1.000000\n",
       "25%          1.000000\n",
       "50%          2.000000\n",
       "75%          9.000000\n",
       "max       5999.000000\n",
       "dtype: float64"
      ]
     },
     "execution_count": 56,
     "metadata": {},
     "output_type": "execute_result"
    }
   ],
   "source": [
    "# 리뷰를 남긴 개수의 기본 통계치\n",
    "ratebeer.value_counts(\"profile_name\").describe()"
   ]
  },
  {
   "cell_type": "code",
   "execution_count": 57,
   "metadata": {},
   "outputs": [],
   "source": [
    "# 가장 많은 리뷰 수를 남긴 유저는 무려 5999 건의 리뷰를 남겼다. 중위수는 2개이다."
   ]
  },
  {
   "cell_type": "code",
   "execution_count": 58,
   "metadata": {},
   "outputs": [
    {
     "data": {
      "text/plain": [
       "1       0.405649\n",
       "2       0.130352\n",
       "3       0.070384\n",
       "4       0.046152\n",
       "5       0.031957\n",
       "          ...   \n",
       "949     0.000017\n",
       "981     0.000017\n",
       "1013    0.000017\n",
       "1993    0.000017\n",
       "1983    0.000017\n",
       "Length: 1529, dtype: float64"
      ]
     },
     "execution_count": 58,
     "metadata": {},
     "output_type": "execute_result"
    }
   ],
   "source": [
    "# (고민해야할 부분) 우리는 과연 몇 개의 리뷰를 남긴 데이터를 우리 추천에 활용할 수 있을지?\n",
    "ratebeer.value_counts(\"profile_name\").value_counts(normalize=True)"
   ]
  },
  {
   "cell_type": "code",
   "execution_count": 59,
   "metadata": {},
   "outputs": [
    {
     "data": {
      "text/html": [
       "<div>\n",
       "<style scoped>\n",
       "    .dataframe tbody tr th:only-of-type {\n",
       "        vertical-align: middle;\n",
       "    }\n",
       "\n",
       "    .dataframe tbody tr th {\n",
       "        vertical-align: top;\n",
       "    }\n",
       "\n",
       "    .dataframe thead th {\n",
       "        text-align: right;\n",
       "    }\n",
       "</style>\n",
       "<table border=\"1\" class=\"dataframe\">\n",
       "  <thead>\n",
       "    <tr style=\"text-align: right;\">\n",
       "      <th></th>\n",
       "      <th>profile_name</th>\n",
       "      <th>freq</th>\n",
       "    </tr>\n",
       "  </thead>\n",
       "  <tbody>\n",
       "    <tr>\n",
       "      <th>0</th>\n",
       "      <td>Ungstrup</td>\n",
       "      <td>5999</td>\n",
       "    </tr>\n",
       "    <tr>\n",
       "      <th>1</th>\n",
       "      <td>yespr</td>\n",
       "      <td>5832</td>\n",
       "    </tr>\n",
       "    <tr>\n",
       "      <th>2</th>\n",
       "      <td>Papsoe</td>\n",
       "      <td>5517</td>\n",
       "    </tr>\n",
       "    <tr>\n",
       "      <th>3</th>\n",
       "      <td>bu11zeye</td>\n",
       "      <td>5160</td>\n",
       "    </tr>\n",
       "    <tr>\n",
       "      <th>4</th>\n",
       "      <td>fonefan</td>\n",
       "      <td>5121</td>\n",
       "    </tr>\n",
       "  </tbody>\n",
       "</table>\n",
       "</div>"
      ],
      "text/plain": [
       "  profile_name  freq\n",
       "0     Ungstrup  5999\n",
       "1        yespr  5832\n",
       "2       Papsoe  5517\n",
       "3     bu11zeye  5160\n",
       "4      fonefan  5121"
      ]
     },
     "execution_count": 59,
     "metadata": {},
     "output_type": "execute_result"
    }
   ],
   "source": [
    "# 적은 리뷰 수를 기록하는 유저들을 제외하고 data의 sparsity 변화 추이를 확인해보자.\n",
    "df_user = ratebeer.value_counts(\"profile_name\").reset_index()\n",
    "df_user.columns = [\"profile_name\", \"freq\"]\n",
    "ratebeer = ratebeer.merge(df_user, on = \"profile_name\")\n",
    "\n",
    "df_user.head()"
   ]
  },
  {
   "cell_type": "code",
   "execution_count": 60,
   "metadata": {},
   "outputs": [
    {
     "name": "stdout",
     "output_type": "stream",
     "text": [
      "[ratebeer] 리뷰 개수가 N개 이하인 유저 제외\n",
      "|  N | SPARSITY | DENSITY |    SIZE   | # items | # users |\n",
      "|  0 | 99.4264% | 0.5736% | 3,244,442 |   9,336 |  60,582 |\n",
      "|  1 | 99.0421% | 0.9579% | 3,219,867 |   9,335 |  36,007 |\n",
      "|  2 | 98.7790% | 1.2210% | 3,204,073 |   9,335 |  28,110 |\n",
      "|  3 | 98.5664% | 1.4336% | 3,191,281 |   9,335 |  23,846 |\n",
      "|  4 | 98.3816% | 1.6184% | 3,180,097 |   9,335 |  21,050 |\n",
      "|  5 | 98.2232% | 1.7768% | 3,170,417 |   9,335 |  19,114 |\n",
      "|  6 | 98.0821% | 1.9179% | 3,161,693 |   9,335 |  17,660 |\n",
      "|  7 | 97.9543% | 2.0457% | 3,153,671 |   9,335 |  16,514 |\n",
      "|  8 | 97.8311% | 2.1689% | 3,145,863 |   9,335 |  15,538 |\n",
      "|  9 | 97.7136% | 2.2864% | 3,138,357 |   9,335 |  14,704 |\n",
      "| 10 | 97.6047% | 2.3953% | 3,131,357 |   9,335 |  14,004 |\n",
      "| 11 | 97.5121% | 2.4879% | 3,125,340 |   9,335 |  13,457 |\n",
      "| 12 | 97.4154% | 2.5846% | 3,118,980 |   9,335 |  12,927 |\n",
      "| 13 | 97.3217% | 2.6783% | 3,112,779 |   9,335 |  12,450 |\n",
      "| 14 | 97.2414% | 2.7586% | 3,107,417 |   9,335 |  12,067 |\n"
     ]
    }
   ],
   "source": [
    "print(\"[ratebeer] 리뷰 개수가 N개 이하인 유저 제외\")\n",
    "print(\"|  N | SPARSITY | DENSITY |    SIZE   | # items | # users |\")\n",
    "# print(\"-----------------------------------------------------------\")\n",
    "for i in range(15):\n",
    "    df_temp = ratebeer.query(f\"freq > {i}\")\n",
    "    temp_n_item = df_temp[\"beer_name\"].nunique()\n",
    "    temp_n_user = df_temp[\"profile_name\"].nunique()\n",
    "    temp_n_data = df_temp.shape[0]\n",
    "    temp_density = temp_n_data/(temp_n_item*temp_n_user)\n",
    "    print(f\"| {i:2} | {1-temp_density:2.4%} | {temp_density:2.4%} | \", end = \"\")\n",
    "    print(f\"{temp_n_data:7,} | {temp_n_item:7,} | {temp_n_user:7,} |\")"
   ]
  },
  {
   "cell_type": "code",
   "execution_count": 61,
   "metadata": {},
   "outputs": [],
   "source": [
    "# 적은 리뷰를 기록한 유저를 추천 시스템 모델을 학습시키는데에 제외해도 될 것같다. \n",
    "# 오직 유저의 수만 줄어든다.\n",
    "\n",
    "# (고민 해야하는 내용)\n",
    "# 적은 리뷰 수를 기록한 유저를 제외하는 것은 어떤 리스크가 존재할까?\n",
    "# 잠재 고객들에게 우리는 유저가 마셔본 맥주 중에 10개 이상의 맥주에 대해서 평가를 요구할 예정이다. (10개 이상의 맥주를 마셔본 적이 없다면, 그냥 인기도 기반 추천을 할 수 밖에)\n",
    "# 그래서 초기 유저에게서 10개 맥주에 대한 정보를 얻을 수 있다면, Cold-start problem이 어느정도 해결된 데이터만을 가지고 학습 시키는 것도 괜찮을것같다. \n",
    "\n",
    "# (EDA 에서 유저가 10개를 선택하지 못하는 상황도 고려해보자!)\n",
    "# 하지만, 나의 뇌피셜로는, 우리가 실제로 고민해야할것은, 현실에서는 이렇게 유저에게 이러한 문제를 얻고자 하는 것도 어려운 일일 수 있다. 따라서, \n",
    "# 이런 부분만 고려해야할 것이 아니라, 실제로 맥주에 대한 경험이 별로 없다던지, 그런 이벤트가 있을 수 있다. \n",
    "# 그런 경우에도 추천해줄 수 있는 단순 모델이나 그런 방법들이 있다.\n"
   ]
  },
  {
   "cell_type": "markdown",
   "metadata": {},
   "source": [
    "### review/text"
   ]
  },
  {
   "cell_type": "code",
   "execution_count": 68,
   "metadata": {},
   "outputs": [
    {
     "name": "stdout",
     "output_type": "stream",
     "text": [
      "전체 데이터의 길이             = 3,244,442\n",
      "중복되지 않는 review/text 개수 = 3,230,096\n",
      "                    - )    =  14,346\n"
     ]
    }
   ],
   "source": [
    "print(f\"전체 데이터의 길이             = {ratebeer.shape[0]:7,}\")\n",
    "nunique_reviewtext = ratebeer[\"reviewtext\"].nunique()\n",
    "print(f\"중복되지 않는 review/text 개수 = {nunique_reviewtext:7,}\")\n",
    "print(f\"                    - )    = {ratebeer.shape[0] - nunique_reviewtext:7,}\")"
   ]
  },
  {
   "cell_type": "code",
   "execution_count": 69,
   "metadata": {},
   "outputs": [],
   "source": [
    "# 리뷰는 모든 글이 다 달라야 정상이 아닌가? 그런데, 같은 리뷰가 있는것으로 보인다. "
   ]
  },
  {
   "cell_type": "code",
   "execution_count": 71,
   "metadata": {},
   "outputs": [
    {
     "data": {
      "text/plain": [
       "............................................................................                                                                                                                                                                                                                                                                                                                                              2972.0\n",
       "...........................................................................                                                                                                                                                                                                                                                                                                                                                972.0\n",
       "Õlle on selline jook, et iga uus kord kui klaasi või pudeli suule tõstad, siis leiad midagi uut, sõltuvalt tuhandest-miljonist pisiasjast, mis hetke olukorda mõjutavad. Seega piirdun iga õlle juures selle tekstiga.                                                                                                                                                                                                     355.0\n",
       "Backlog, ocena przepisana z untappd, w ramach uzupełniania profilu na ratebeer.                                                                                                                                                                                                                                                                                                                                            255.0\n",
       "Ocena wystawiona na podstawie wspomnień z degustacji w ramach uzupełnienia profilu.                                                                                                                                                                                                                                                                                                                                        162.0\n",
       "                                                                                                                                                                                                                                                                                                                                                                                                                           ...  \n",
       "Bottle shared with cards04. Auburn colour. Really hoppy aroma for a barley wine. This was more leaning towards the double IPA than a barley wine although it had some booze heat. Resinous, hoppy, a bit of that barley wine sweetness but not as much as others. Unique and interesting.                                                                                                                                    2.0\n",
       "Bouteille de 25cl. Couleur miel, trouble, mousse pltutôt faible disparaissant rapidement. On reconnait là tous les arômes de la leffe traditionnelle, les épices et un léger coté fruité, avec plus de corps. Elle ressemble un peu à la Hoegaarden Grand cru mais en moins raffinée. Ceci dit, une très bonne \"classique\". Trouvée à Intermarché- Montigny en Gohelle.                                                      2.0\n",
       "Bottle. Pours a dark reddish copper with big fizzy beige head. The aroma is grainy with some hay, some sweet fruity notes (plum? orange?) and a hint of biscuit. The flavor is pretty tame, with bready malt, faint toast, and a touch of woody hops in the finish. The alcohol is detectable. It has a certain flavor to it that is distinctly Samuel Adams to me. Kinda like a stronger version of the Boston Lager.       2.0\n",
       "Hazy amber/gold color; Medium slightly creamy body; Aroma of pine hops, citrus, & spice; Flavor of malt, caramel, pine hops, and citrus (notably orange & grapefruit); Finish is bitter; Well done.                                                                                                                                                                                                                          2.0\n",
       "Bottle 33cl, from backlog. Head: white foam. Colour: yellow golden. Aroma: vague malt. Taste: light bitter, some sweet. Palate: refreshing, light bitter-sweet finish. medium CO2. Overall: ok.                                                                                                                                                                                                                              2.0\n",
       "Name: reviewtext, Length: 4484, dtype: float64"
      ]
     },
     "execution_count": 71,
     "metadata": {},
     "output_type": "execute_result"
    }
   ],
   "source": [
    "# 약 10만개의 같은 리뷰는 어떤 리뷰들로 이루어져있을까?\n",
    "ratebeer[\"reviewtext\"].value_counts().where(lambda x: x>1).dropna()"
   ]
  },
  {
   "cell_type": "code",
   "execution_count": 72,
   "metadata": {},
   "outputs": [],
   "source": [
    "# 엄청나게 많은 중복이 있는 텍스트가 있는것을 확인할 수 있다.\n",
    "# 71,587 개의 유니크한 리뷰 텍스트가 약 10K 개의 중복된 리뷰를 만들어내었다."
   ]
  },
  {
   "cell_type": "code",
   "execution_count": 73,
   "metadata": {},
   "outputs": [],
   "source": [
    "# (Further Works) 정상적인 이용을 위해서 다음과 같은 것을 알아볼 필요가 있다고 판단된다.\n",
    "# - 모든 중복 데이터에 대해서 이게 어떤 방식으로 작성된 것인지 파악해야한다. \n",
    "#   - 모두 같은 유저에 의해서 작성된 것인가?\n",
    "#   - 밈 처럼 사용되는 것인가?\n",
    "#   - 리뷰가 매우 많은 맥주에 대해서 발견되는 것인가?\n",
    "#   - 리뷰가 같다면, 혹시 매크로에 의해서 작성된 것인가? (수치형 리뷰가 모두 같은 점수이거나 일정한 랜덤성을 따를 수 있다.)\n",
    "# \n",
    "# - 3개 이하의 중복의 데이터에 대해서 \n",
    "#   - 이전에 봤던 같은 맥주 이름을 공유하고 있는 서로 다음 맥주 일련번호가 혹시 같은 리뷰를 공유하고 있는 것은 아닐까?"
   ]
  },
  {
   "cell_type": "code",
   "execution_count": 74,
   "metadata": {},
   "outputs": [
    {
     "data": {
      "text/plain": [
       "beer_name\n",
       "1516 NZ Victory Hop Devil India Pale Ale                                  1\n",
       "1906 Reserva Especial                                                     3\n",
       "21st Amendment / Firestone Walker / Stone El Camino (Un)Real Black Ale    2\n",
       "21st Amendment Back in Black                                              3\n",
       "21st Amendment Bitter American                                            1\n",
       "                                                                         ..\n",
       "Zischke Kellerbier Original                                               3\n",
       "Zunft Kölsch                                                              2\n",
       "Zwet.be                                                                   5\n",
       "Zwiesel Dampfbier                                                         1\n",
       "Zötler Korbinian Dunkel                                                   1\n",
       "Name: reviewtext, Length: 4669, dtype: int64"
      ]
     },
     "execution_count": 74,
     "metadata": {},
     "output_type": "execute_result"
    }
   ],
   "source": [
    "# 중복된 리뷰 텍스트와 맥주 이름 간의 관계성 파악\n",
    "duplicated_reviewtext_list = ratebeer[\"reviewtext\"].value_counts().where(lambda x: x>1).dropna().index.to_list()\n",
    "df_duplicated_reviewtext = ratebeer[ratebeer[\"reviewtext\"].isin(duplicated_reviewtext_list)]\n",
    "\n",
    "# 같은 맥주 내에 같은 리뷰가 몇 개씩 있을까?\n",
    "df_duplicated_reviewtext.groupby(\"beer_name\")[\"reviewtext\"].nunique()\n"
   ]
  },
  {
   "cell_type": "code",
   "execution_count": 78,
   "metadata": {},
   "outputs": [],
   "source": [
    "# 해당 결과를 통해서 중복된 리뷰에 대해 꼭 중복된 리뷰가 같은 맥주에만 존재하는 것은 아니라는 것을 알 수 있다."
   ]
  },
  {
   "cell_type": "code",
   "execution_count": 75,
   "metadata": {},
   "outputs": [
    {
     "data": {
      "text/plain": [
       "7371"
      ]
     },
     "execution_count": 75,
     "metadata": {},
     "output_type": "execute_result"
    }
   ],
   "source": [
    "# 같은 맥주 내에 같은 리뷰는 모두 같은 사람이 작성했을까? \n",
    "(df_duplicated_reviewtext[\"profile_name\"] + df_duplicated_reviewtext[\"reviewtext\"]).nunique()"
   ]
  },
  {
   "cell_type": "code",
   "execution_count": 76,
   "metadata": {},
   "outputs": [
    {
     "data": {
      "text/plain": [
       "4484"
      ]
     },
     "execution_count": 76,
     "metadata": {},
     "output_type": "execute_result"
    }
   ],
   "source": [
    "(df_duplicated_reviewtext[\"reviewtext\"]).nunique()"
   ]
  },
  {
   "cell_type": "code",
   "execution_count": 81,
   "metadata": {},
   "outputs": [],
   "source": [
    "# 거의 모든 사람이 같은 리뷰 텍스트를 같은 사람이 쓰고 있었다.\n",
    "# 따라서 데이터의 중복의 가능성이 열려져 있으므로, 중복 데이터를 제외하고, 모든 내용에 대해서 재검토가 필요할 것으로 보인다."
   ]
  },
  {
   "cell_type": "code",
   "execution_count": 78,
   "metadata": {},
   "outputs": [
    {
     "name": "stdout",
     "output_type": "stream",
     "text": [
      "[ratebeer] 같은 맥주에 중복으로 리뷰를 작성한 리뷰 수 = 3,244,442 - 3,243,662 = 780\n"
     ]
    }
   ],
   "source": [
    "# 같은 맥주에 한 명의 유저가 중복으로 리뷰 기록이 있는 수는?\n",
    "before_n = ratebeer.shape[0]\n",
    "after_n = (ratebeer[\"profile_name\"] + ratebeer[\"beer_name\"]).nunique()\n",
    "print(f\"[ratebeer] 같은 맥주에 중복으로 리뷰를 작성한 리뷰 수 = \", end = \"\")\n",
    "print(f\"{before_n:,} - {after_n:,} = {before_n - after_n:,}\")"
   ]
  },
  {
   "cell_type": "code",
   "execution_count": 84,
   "metadata": {},
   "outputs": [],
   "source": [
    "# 같은 유저가 하나의 맥주에 여러개의 리뷰를 작성한 것을 도합 70K 정도 된다. 이는 전체 데이터 셋의 크기에 비하면 적은 수치이므로, 해당 데이터는 문제가 되지 않을 수 있다.\n",
    "# 해당 데이터는 CF기반 모델을 학습시킬때, 제외하는 것이 맞지만, \n",
    "# 반대로, Seqeunce기반 모델을 학습 시킬때는, 유용하게 사용될 수 있다."
   ]
  },
  {
   "cell_type": "code",
   "execution_count": 85,
   "metadata": {},
   "outputs": [],
   "source": [
    "# 모델링에 관하여, \n",
    "# 마지막으로, 맥주는 주로 먹어본 맥주를 선택할 확률이 높다. 선택했던 맥주와 새로운 맥주를 골고루 배합해서 주는 방향으로 맥주를 추천해줘야할 것이다. \n",
    "# 그런 측면에서, 중복 기록에 대해서도 인식할 수 있는 모델을 만드는 것이 좋지 않을까? (뭐 점수가 있기 때문에, 이 부분은 크게 고려하지 않아도 될 수 있다.. 데이터 처리가 중요)"
   ]
  }
 ],
 "metadata": {
  "interpreter": {
   "hash": "1f987112d13c3a5109fc24d7b4f4d6f95510a722443984c5c3a93525168aad10"
  },
  "kernelspec": {
   "display_name": "Python 3.8.5 ('.final': venv)",
   "language": "python",
   "name": "python3"
  },
  "language_info": {
   "codemirror_mode": {
    "name": "ipython",
    "version": 3
   },
   "file_extension": ".py",
   "mimetype": "text/x-python",
   "name": "python",
   "nbconvert_exporter": "python",
   "pygments_lexer": "ipython3",
   "version": "3.8.5"
  },
  "orig_nbformat": 4
 },
 "nbformat": 4,
 "nbformat_minor": 2
}
