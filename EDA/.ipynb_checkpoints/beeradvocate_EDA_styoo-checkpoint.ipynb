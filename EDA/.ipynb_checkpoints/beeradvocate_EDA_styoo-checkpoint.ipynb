{
 "cells": [
  {
   "cell_type": "code",
   "execution_count": 1,
   "id": "d63b92ad-cd6d-4602-8600-d5db60e6cb56",
   "metadata": {},
   "outputs": [],
   "source": [
    "import pandas as pd\n",
    "import json\n",
    "import matplotlib\n",
    "import matplotlib.pyplot as plt\n",
    "import seaborn as sns\n",
    "from wordcloud import WordCloud\n",
    "\n",
    "%matplotlib inline"
   ]
  },
  {
   "cell_type": "markdown",
   "id": "0b6d22b7-4b49-4e43-a3de-7d3451bfa8d7",
   "metadata": {},
   "source": [
    "## 파일 불러오기"
   ]
  },
  {
   "cell_type": "code",
   "execution_count": 2,
   "id": "f7c38fd2-040e-4f25-8a3d-0f9c97f7a490",
   "metadata": {},
   "outputs": [],
   "source": [
    "beeradvocate = pd.read_json(\"./data/new_beeradvocate.json\", lines=True)\n",
    "# ratebeer = pd.read_json(\"./data/new_ratebeer.json\", lines=True)"
   ]
  },
  {
   "cell_type": "markdown",
   "id": "59727bc2-5562-46c7-8db0-bf38449b69d2",
   "metadata": {},
   "source": [
    "## beeradvocate"
   ]
  },
  {
   "cell_type": "code",
   "execution_count": 3,
   "id": "943e8385-34a4-4942-abf6-d809bc6beb0c",
   "metadata": {},
   "outputs": [
    {
     "data": {
      "text/html": [
       "<div>\n",
       "<style scoped>\n",
       "    .dataframe tbody tr th:only-of-type {\n",
       "        vertical-align: middle;\n",
       "    }\n",
       "\n",
       "    .dataframe tbody tr th {\n",
       "        vertical-align: top;\n",
       "    }\n",
       "\n",
       "    .dataframe thead th {\n",
       "        text-align: right;\n",
       "    }\n",
       "</style>\n",
       "<table border=\"1\" class=\"dataframe\">\n",
       "  <thead>\n",
       "    <tr style=\"text-align: right;\">\n",
       "      <th></th>\n",
       "      <th>beer/name</th>\n",
       "      <th>beer/beerId</th>\n",
       "      <th>beer/brewerId</th>\n",
       "      <th>beer/ABV</th>\n",
       "      <th>beer/style</th>\n",
       "      <th>review/appearance</th>\n",
       "      <th>review/aroma</th>\n",
       "      <th>review/palate</th>\n",
       "      <th>review/taste</th>\n",
       "      <th>review/overall</th>\n",
       "      <th>review/time</th>\n",
       "      <th>review/profileName</th>\n",
       "      <th>review/text</th>\n",
       "    </tr>\n",
       "  </thead>\n",
       "  <tbody>\n",
       "    <tr>\n",
       "      <th>0</th>\n",
       "      <td>Sausa Weizen</td>\n",
       "      <td>47986.0</td>\n",
       "      <td>10325.0</td>\n",
       "      <td>5.00</td>\n",
       "      <td>Hefeweizen</td>\n",
       "      <td>2.5</td>\n",
       "      <td>2.0</td>\n",
       "      <td>1.5</td>\n",
       "      <td>1.5</td>\n",
       "      <td>1.5</td>\n",
       "      <td>1.234818e+09</td>\n",
       "      <td>stcules</td>\n",
       "      <td>A lot of foam. But a lot.\\tIn the smell some b...</td>\n",
       "    </tr>\n",
       "    <tr>\n",
       "      <th>1</th>\n",
       "      <td>Red Moon</td>\n",
       "      <td>48213.0</td>\n",
       "      <td>10325.0</td>\n",
       "      <td>6.20</td>\n",
       "      <td>English Strong Ale</td>\n",
       "      <td>3.0</td>\n",
       "      <td>2.5</td>\n",
       "      <td>3.0</td>\n",
       "      <td>3.0</td>\n",
       "      <td>3.0</td>\n",
       "      <td>1.235915e+09</td>\n",
       "      <td>stcules</td>\n",
       "      <td>Dark red color, light beige foam, average.\\tIn...</td>\n",
       "    </tr>\n",
       "    <tr>\n",
       "      <th>2</th>\n",
       "      <td>Black Horse Black Beer</td>\n",
       "      <td>48215.0</td>\n",
       "      <td>10325.0</td>\n",
       "      <td>6.50</td>\n",
       "      <td>Foreign / Export Stout</td>\n",
       "      <td>3.0</td>\n",
       "      <td>2.5</td>\n",
       "      <td>3.0</td>\n",
       "      <td>3.0</td>\n",
       "      <td>3.0</td>\n",
       "      <td>1.235917e+09</td>\n",
       "      <td>stcules</td>\n",
       "      <td>Almost totally black. Beige foam, quite compac...</td>\n",
       "    </tr>\n",
       "    <tr>\n",
       "      <th>3</th>\n",
       "      <td>Sausa Pils</td>\n",
       "      <td>47969.0</td>\n",
       "      <td>10325.0</td>\n",
       "      <td>5.00</td>\n",
       "      <td>German Pilsener</td>\n",
       "      <td>3.5</td>\n",
       "      <td>3.0</td>\n",
       "      <td>2.5</td>\n",
       "      <td>3.0</td>\n",
       "      <td>3.0</td>\n",
       "      <td>1.234725e+09</td>\n",
       "      <td>stcules</td>\n",
       "      <td>Golden yellow color. White, compact foam, quit...</td>\n",
       "    </tr>\n",
       "    <tr>\n",
       "      <th>4</th>\n",
       "      <td>Cauldron DIPA</td>\n",
       "      <td>64883.0</td>\n",
       "      <td>1075.0</td>\n",
       "      <td>7.70</td>\n",
       "      <td>American Double / Imperial IPA</td>\n",
       "      <td>4.0</td>\n",
       "      <td>4.5</td>\n",
       "      <td>4.0</td>\n",
       "      <td>4.5</td>\n",
       "      <td>4.0</td>\n",
       "      <td>1.293735e+09</td>\n",
       "      <td>johnmichaelsen</td>\n",
       "      <td>According to the website, the style for the Ca...</td>\n",
       "    </tr>\n",
       "  </tbody>\n",
       "</table>\n",
       "</div>"
      ],
      "text/plain": [
       "                beer/name  beer/beerId  beer/brewerId beer/ABV  \\\n",
       "0            Sausa Weizen      47986.0        10325.0     5.00   \n",
       "1                Red Moon      48213.0        10325.0     6.20   \n",
       "2  Black Horse Black Beer      48215.0        10325.0     6.50   \n",
       "3              Sausa Pils      47969.0        10325.0     5.00   \n",
       "4           Cauldron DIPA      64883.0         1075.0     7.70   \n",
       "\n",
       "                       beer/style  review/appearance  review/aroma  \\\n",
       "0                      Hefeweizen                2.5           2.0   \n",
       "1              English Strong Ale                3.0           2.5   \n",
       "2          Foreign / Export Stout                3.0           2.5   \n",
       "3                 German Pilsener                3.5           3.0   \n",
       "4  American Double / Imperial IPA                4.0           4.5   \n",
       "\n",
       "   review/palate  review/taste  review/overall   review/time  \\\n",
       "0            1.5           1.5             1.5  1.234818e+09   \n",
       "1            3.0           3.0             3.0  1.235915e+09   \n",
       "2            3.0           3.0             3.0  1.235917e+09   \n",
       "3            2.5           3.0             3.0  1.234725e+09   \n",
       "4            4.0           4.5             4.0  1.293735e+09   \n",
       "\n",
       "  review/profileName                                        review/text  \n",
       "0            stcules  A lot of foam. But a lot.\\tIn the smell some b...  \n",
       "1            stcules  Dark red color, light beige foam, average.\\tIn...  \n",
       "2            stcules  Almost totally black. Beige foam, quite compac...  \n",
       "3            stcules  Golden yellow color. White, compact foam, quit...  \n",
       "4     johnmichaelsen  According to the website, the style for the Ca...  "
      ]
     },
     "execution_count": 3,
     "metadata": {},
     "output_type": "execute_result"
    }
   ],
   "source": [
    "beeradvocate.head()"
   ]
  },
  {
   "cell_type": "code",
   "execution_count": 4,
   "id": "1e00b858-4554-4318-b833-1fd63a0d5714",
   "metadata": {},
   "outputs": [
    {
     "data": {
      "text/html": [
       "<div>\n",
       "<style scoped>\n",
       "    .dataframe tbody tr th:only-of-type {\n",
       "        vertical-align: middle;\n",
       "    }\n",
       "\n",
       "    .dataframe tbody tr th {\n",
       "        vertical-align: top;\n",
       "    }\n",
       "\n",
       "    .dataframe thead th {\n",
       "        text-align: right;\n",
       "    }\n",
       "</style>\n",
       "<table border=\"1\" class=\"dataframe\">\n",
       "  <thead>\n",
       "    <tr style=\"text-align: right;\">\n",
       "      <th></th>\n",
       "      <th>beer/name</th>\n",
       "      <th>beer/beerId</th>\n",
       "      <th>beer/brewerId</th>\n",
       "      <th>beer/ABV</th>\n",
       "      <th>beer/style</th>\n",
       "      <th>review/appearance</th>\n",
       "      <th>review/aroma</th>\n",
       "      <th>review/palate</th>\n",
       "      <th>review/taste</th>\n",
       "      <th>review/overall</th>\n",
       "      <th>review/time</th>\n",
       "      <th>review/profileName</th>\n",
       "      <th>review/text</th>\n",
       "    </tr>\n",
       "  </thead>\n",
       "  <tbody>\n",
       "    <tr>\n",
       "      <th>1586610</th>\n",
       "      <td>The Horseman's Ale</td>\n",
       "      <td>33061.0</td>\n",
       "      <td>14359.0</td>\n",
       "      <td>5.20</td>\n",
       "      <td>Pumpkin Ale</td>\n",
       "      <td>2.5</td>\n",
       "      <td>5.0</td>\n",
       "      <td>2.0</td>\n",
       "      <td>4.0</td>\n",
       "      <td>4.0</td>\n",
       "      <td>1.161049e+09</td>\n",
       "      <td>yelterdow</td>\n",
       "      <td>Growler fill from the long-awaited Defiant Bre...</td>\n",
       "    </tr>\n",
       "    <tr>\n",
       "      <th>1586611</th>\n",
       "      <td>The Horseman's Ale</td>\n",
       "      <td>33061.0</td>\n",
       "      <td>14359.0</td>\n",
       "      <td>5.20</td>\n",
       "      <td>Pumpkin Ale</td>\n",
       "      <td>3.0</td>\n",
       "      <td>3.5</td>\n",
       "      <td>3.5</td>\n",
       "      <td>4.0</td>\n",
       "      <td>4.5</td>\n",
       "      <td>1.160703e+09</td>\n",
       "      <td>TongoRad</td>\n",
       "      <td>This was served from a growler and I suspect a...</td>\n",
       "    </tr>\n",
       "    <tr>\n",
       "      <th>1586612</th>\n",
       "      <td>The Horseman's Ale</td>\n",
       "      <td>33061.0</td>\n",
       "      <td>14359.0</td>\n",
       "      <td>5.20</td>\n",
       "      <td>Pumpkin Ale</td>\n",
       "      <td>4.5</td>\n",
       "      <td>4.5</td>\n",
       "      <td>4.5</td>\n",
       "      <td>4.5</td>\n",
       "      <td>4.0</td>\n",
       "      <td>1.160023e+09</td>\n",
       "      <td>dherling</td>\n",
       "      <td>Ah, the horseman commeth. Cloudy chocolate bro...</td>\n",
       "    </tr>\n",
       "    <tr>\n",
       "      <th>1586613</th>\n",
       "      <td>The Horseman's Ale</td>\n",
       "      <td>33061.0</td>\n",
       "      <td>14359.0</td>\n",
       "      <td>5.20</td>\n",
       "      <td>Pumpkin Ale</td>\n",
       "      <td>4.5</td>\n",
       "      <td>4.5</td>\n",
       "      <td>4.5</td>\n",
       "      <td>4.5</td>\n",
       "      <td>5.0</td>\n",
       "      <td>1.160005e+09</td>\n",
       "      <td>cbl2</td>\n",
       "      <td>10/4/2006\\t$7.50 5.20% Fresh on tap. \\t\\tAppea...</td>\n",
       "    </tr>\n",
       "    <tr>\n",
       "      <th>1586614</th>\n",
       "      <td>NaN</td>\n",
       "      <td>NaN</td>\n",
       "      <td>NaN</td>\n",
       "      <td>NaN</td>\n",
       "      <td>NaN</td>\n",
       "      <td>NaN</td>\n",
       "      <td>NaN</td>\n",
       "      <td>NaN</td>\n",
       "      <td>NaN</td>\n",
       "      <td>NaN</td>\n",
       "      <td>NaN</td>\n",
       "      <td>NaN</td>\n",
       "      <td>NaN</td>\n",
       "    </tr>\n",
       "  </tbody>\n",
       "</table>\n",
       "</div>"
      ],
      "text/plain": [
       "                  beer/name  beer/beerId  beer/brewerId beer/ABV   beer/style  \\\n",
       "1586610  The Horseman's Ale      33061.0        14359.0     5.20  Pumpkin Ale   \n",
       "1586611  The Horseman's Ale      33061.0        14359.0     5.20  Pumpkin Ale   \n",
       "1586612  The Horseman's Ale      33061.0        14359.0     5.20  Pumpkin Ale   \n",
       "1586613  The Horseman's Ale      33061.0        14359.0     5.20  Pumpkin Ale   \n",
       "1586614                 NaN          NaN            NaN      NaN          NaN   \n",
       "\n",
       "         review/appearance  review/aroma  review/palate  review/taste  \\\n",
       "1586610                2.5           5.0            2.0           4.0   \n",
       "1586611                3.0           3.5            3.5           4.0   \n",
       "1586612                4.5           4.5            4.5           4.5   \n",
       "1586613                4.5           4.5            4.5           4.5   \n",
       "1586614                NaN           NaN            NaN           NaN   \n",
       "\n",
       "         review/overall   review/time review/profileName  \\\n",
       "1586610             4.0  1.161049e+09          yelterdow   \n",
       "1586611             4.5  1.160703e+09           TongoRad   \n",
       "1586612             4.0  1.160023e+09           dherling   \n",
       "1586613             5.0  1.160005e+09               cbl2   \n",
       "1586614             NaN           NaN                NaN   \n",
       "\n",
       "                                               review/text  \n",
       "1586610  Growler fill from the long-awaited Defiant Bre...  \n",
       "1586611  This was served from a growler and I suspect a...  \n",
       "1586612  Ah, the horseman commeth. Cloudy chocolate bro...  \n",
       "1586613  10/4/2006\\t$7.50 5.20% Fresh on tap. \\t\\tAppea...  \n",
       "1586614                                                NaN  "
      ]
     },
     "execution_count": 4,
     "metadata": {},
     "output_type": "execute_result"
    }
   ],
   "source": [
    "beeradvocate.tail()"
   ]
  },
  {
   "cell_type": "code",
   "execution_count": 5,
   "id": "01a6eb34-26a0-4a1e-846e-3f209e0b5d73",
   "metadata": {},
   "outputs": [
    {
     "data": {
      "text/html": [
       "<div>\n",
       "<style scoped>\n",
       "    .dataframe tbody tr th:only-of-type {\n",
       "        vertical-align: middle;\n",
       "    }\n",
       "\n",
       "    .dataframe tbody tr th {\n",
       "        vertical-align: top;\n",
       "    }\n",
       "\n",
       "    .dataframe thead th {\n",
       "        text-align: right;\n",
       "    }\n",
       "</style>\n",
       "<table border=\"1\" class=\"dataframe\">\n",
       "  <thead>\n",
       "    <tr style=\"text-align: right;\">\n",
       "      <th></th>\n",
       "      <th>beer/name</th>\n",
       "      <th>beer/beerId</th>\n",
       "      <th>beer/brewerId</th>\n",
       "      <th>beer/ABV</th>\n",
       "      <th>beer/style</th>\n",
       "      <th>review/appearance</th>\n",
       "      <th>review/aroma</th>\n",
       "      <th>review/palate</th>\n",
       "      <th>review/taste</th>\n",
       "      <th>review/overall</th>\n",
       "      <th>review/time</th>\n",
       "      <th>review/profileName</th>\n",
       "      <th>review/text</th>\n",
       "    </tr>\n",
       "  </thead>\n",
       "  <tbody>\n",
       "    <tr>\n",
       "      <th>1586609</th>\n",
       "      <td>The Horseman's Ale</td>\n",
       "      <td>33061.0</td>\n",
       "      <td>14359.0</td>\n",
       "      <td>5.20</td>\n",
       "      <td>Pumpkin Ale</td>\n",
       "      <td>3.5</td>\n",
       "      <td>4.0</td>\n",
       "      <td>4.0</td>\n",
       "      <td>4.0</td>\n",
       "      <td>5.0</td>\n",
       "      <td>1.162685e+09</td>\n",
       "      <td>maddogruss</td>\n",
       "      <td>If you're looking for a quality beer right alo...</td>\n",
       "    </tr>\n",
       "    <tr>\n",
       "      <th>1586610</th>\n",
       "      <td>The Horseman's Ale</td>\n",
       "      <td>33061.0</td>\n",
       "      <td>14359.0</td>\n",
       "      <td>5.20</td>\n",
       "      <td>Pumpkin Ale</td>\n",
       "      <td>2.5</td>\n",
       "      <td>5.0</td>\n",
       "      <td>2.0</td>\n",
       "      <td>4.0</td>\n",
       "      <td>4.0</td>\n",
       "      <td>1.161049e+09</td>\n",
       "      <td>yelterdow</td>\n",
       "      <td>Growler fill from the long-awaited Defiant Bre...</td>\n",
       "    </tr>\n",
       "    <tr>\n",
       "      <th>1586611</th>\n",
       "      <td>The Horseman's Ale</td>\n",
       "      <td>33061.0</td>\n",
       "      <td>14359.0</td>\n",
       "      <td>5.20</td>\n",
       "      <td>Pumpkin Ale</td>\n",
       "      <td>3.0</td>\n",
       "      <td>3.5</td>\n",
       "      <td>3.5</td>\n",
       "      <td>4.0</td>\n",
       "      <td>4.5</td>\n",
       "      <td>1.160703e+09</td>\n",
       "      <td>TongoRad</td>\n",
       "      <td>This was served from a growler and I suspect a...</td>\n",
       "    </tr>\n",
       "    <tr>\n",
       "      <th>1586612</th>\n",
       "      <td>The Horseman's Ale</td>\n",
       "      <td>33061.0</td>\n",
       "      <td>14359.0</td>\n",
       "      <td>5.20</td>\n",
       "      <td>Pumpkin Ale</td>\n",
       "      <td>4.5</td>\n",
       "      <td>4.5</td>\n",
       "      <td>4.5</td>\n",
       "      <td>4.5</td>\n",
       "      <td>4.0</td>\n",
       "      <td>1.160023e+09</td>\n",
       "      <td>dherling</td>\n",
       "      <td>Ah, the horseman commeth. Cloudy chocolate bro...</td>\n",
       "    </tr>\n",
       "    <tr>\n",
       "      <th>1586613</th>\n",
       "      <td>The Horseman's Ale</td>\n",
       "      <td>33061.0</td>\n",
       "      <td>14359.0</td>\n",
       "      <td>5.20</td>\n",
       "      <td>Pumpkin Ale</td>\n",
       "      <td>4.5</td>\n",
       "      <td>4.5</td>\n",
       "      <td>4.5</td>\n",
       "      <td>4.5</td>\n",
       "      <td>5.0</td>\n",
       "      <td>1.160005e+09</td>\n",
       "      <td>cbl2</td>\n",
       "      <td>10/4/2006\\t$7.50 5.20% Fresh on tap. \\t\\tAppea...</td>\n",
       "    </tr>\n",
       "  </tbody>\n",
       "</table>\n",
       "</div>"
      ],
      "text/plain": [
       "                  beer/name  beer/beerId  beer/brewerId beer/ABV   beer/style  \\\n",
       "1586609  The Horseman's Ale      33061.0        14359.0     5.20  Pumpkin Ale   \n",
       "1586610  The Horseman's Ale      33061.0        14359.0     5.20  Pumpkin Ale   \n",
       "1586611  The Horseman's Ale      33061.0        14359.0     5.20  Pumpkin Ale   \n",
       "1586612  The Horseman's Ale      33061.0        14359.0     5.20  Pumpkin Ale   \n",
       "1586613  The Horseman's Ale      33061.0        14359.0     5.20  Pumpkin Ale   \n",
       "\n",
       "         review/appearance  review/aroma  review/palate  review/taste  \\\n",
       "1586609                3.5           4.0            4.0           4.0   \n",
       "1586610                2.5           5.0            2.0           4.0   \n",
       "1586611                3.0           3.5            3.5           4.0   \n",
       "1586612                4.5           4.5            4.5           4.5   \n",
       "1586613                4.5           4.5            4.5           4.5   \n",
       "\n",
       "         review/overall   review/time review/profileName  \\\n",
       "1586609             5.0  1.162685e+09         maddogruss   \n",
       "1586610             4.0  1.161049e+09          yelterdow   \n",
       "1586611             4.5  1.160703e+09           TongoRad   \n",
       "1586612             4.0  1.160023e+09           dherling   \n",
       "1586613             5.0  1.160005e+09               cbl2   \n",
       "\n",
       "                                               review/text  \n",
       "1586609  If you're looking for a quality beer right alo...  \n",
       "1586610  Growler fill from the long-awaited Defiant Bre...  \n",
       "1586611  This was served from a growler and I suspect a...  \n",
       "1586612  Ah, the horseman commeth. Cloudy chocolate bro...  \n",
       "1586613  10/4/2006\\t$7.50 5.20% Fresh on tap. \\t\\tAppea...  "
      ]
     },
     "execution_count": 5,
     "metadata": {},
     "output_type": "execute_result"
    }
   ],
   "source": [
    "beeradvocate.drop(beeradvocate.index[1586614], inplace = True)\n",
    "beeradvocate.tail()"
   ]
  },
  {
   "cell_type": "code",
   "execution_count": 6,
   "id": "71c45136-4212-4a0a-8fe4-f78dae57756f",
   "metadata": {},
   "outputs": [
    {
     "data": {
      "text/plain": [
       "(1586614, 13)"
      ]
     },
     "execution_count": 6,
     "metadata": {},
     "output_type": "execute_result"
    }
   ],
   "source": [
    "beeradvocate.shape"
   ]
  },
  {
   "cell_type": "code",
   "execution_count": 7,
   "id": "ec085d0f-b4a9-4de3-9aa8-ef05d124882b",
   "metadata": {},
   "outputs": [
    {
     "name": "stdout",
     "output_type": "stream",
     "text": [
      "<class 'pandas.core.frame.DataFrame'>\n",
      "RangeIndex: 1586614 entries, 0 to 1586613\n",
      "Data columns (total 13 columns):\n",
      " #   Column              Non-Null Count    Dtype  \n",
      "---  ------              --------------    -----  \n",
      " 0   beer/name           1586614 non-null  object \n",
      " 1   beer/beerId         1586614 non-null  float64\n",
      " 2   beer/brewerId       1586614 non-null  float64\n",
      " 3   beer/ABV            1586614 non-null  object \n",
      " 4   beer/style          1586614 non-null  object \n",
      " 5   review/appearance   1586614 non-null  float64\n",
      " 6   review/aroma        1586614 non-null  float64\n",
      " 7   review/palate       1586614 non-null  float64\n",
      " 8   review/taste        1586614 non-null  float64\n",
      " 9   review/overall      1586614 non-null  float64\n",
      " 10  review/time         1586614 non-null  float64\n",
      " 11  review/profileName  1586614 non-null  object \n",
      " 12  review/text         1586614 non-null  object \n",
      "dtypes: float64(8), object(5)\n",
      "memory usage: 157.4+ MB\n"
     ]
    }
   ],
   "source": [
    "beeradvocate.info()"
   ]
  },
  {
   "cell_type": "markdown",
   "id": "83aa76cc-f2a3-4e53-8230-8da9bcd1a8c8",
   "metadata": {},
   "source": [
    "### beer/name"
   ]
  },
  {
   "cell_type": "code",
   "execution_count": 8,
   "id": "84f18c41-989a-42ab-a4ea-7f52711e822a",
   "metadata": {},
   "outputs": [
    {
     "data": {
      "text/plain": [
       "90 Minute IPA                           3290\n",
       "India Pale Ale                          3130\n",
       "Old Rasputin Russian Imperial Stout     3111\n",
       "Sierra Nevada Celebration Ale           3000\n",
       "Two Hearted Ale                         2728\n",
       "                                        ... \n",
       "Treize Chanceux 13th Anniversary Ale       1\n",
       "Frank's 1st IPA                            1\n",
       "American Red Wheat                         1\n",
       "Birra Venezia Rossa Doppio Malto           1\n",
       "Sausa Weizen                               1\n",
       "Name: beer/name, Length: 56857, dtype: int64"
      ]
     },
     "execution_count": 8,
     "metadata": {},
     "output_type": "execute_result"
    }
   ],
   "source": [
    "# 맥주 종류별 리뷰 수\n",
    "beeradvocate['beer/name'].value_counts()"
   ]
  },
  {
   "cell_type": "code",
   "execution_count": 9,
   "id": "7817cd31-1f2a-4e96-9acd-e02f59c6320e",
   "metadata": {},
   "outputs": [
    {
     "data": {
      "text/plain": [
       "56857"
      ]
     },
     "execution_count": 9,
     "metadata": {},
     "output_type": "execute_result"
    }
   ],
   "source": [
    "# 맥주 종류 수\n",
    "beeradvocate['beer/name'].nunique()"
   ]
  },
  {
   "cell_type": "code",
   "execution_count": 10,
   "id": "46ca349d-8835-491e-9639-89ba8a400933",
   "metadata": {},
   "outputs": [
    {
     "data": {
      "text/plain": [
       "1       18908\n",
       "2        8534\n",
       "3        4953\n",
       "4        3278\n",
       "5        2259\n",
       "        ...  \n",
       "738         1\n",
       "736         1\n",
       "735         1\n",
       "732         1\n",
       "3290        1\n",
       "Name: beer/name, Length: 956, dtype: int64"
      ]
     },
     "execution_count": 10,
     "metadata": {},
     "output_type": "execute_result"
    }
   ],
   "source": [
    "# 각 리뷰 개수 별 맥주 종류 수\n",
    "beeradvocate['beer/name'].value_counts().value_counts()"
   ]
  },
  {
   "cell_type": "code",
   "execution_count": 11,
   "id": "3284c38a-8a1d-4b2f-a975-598712da05fb",
   "metadata": {},
   "outputs": [
    {
     "name": "stderr",
     "output_type": "stream",
     "text": [
      "/opt/conda/lib/python3.8/site-packages/seaborn/distributions.py:2619: FutureWarning: `distplot` is a deprecated function and will be removed in a future version. Please adapt your code to use either `displot` (a figure-level function with similar flexibility) or `histplot` (an axes-level function for histograms).\n",
      "  warnings.warn(msg, FutureWarning)\n"
     ]
    },
    {
     "data": {
      "text/plain": [
       "<AxesSubplot:xlabel='beer/name'>"
      ]
     },
     "execution_count": 11,
     "metadata": {},
     "output_type": "execute_result"
    },
    {
     "data": {
      "image/png": "[encoded data removed]",
      "text/plain": [
       "<Figure size 432x288 with 1 Axes>"
      ]
     },
     "metadata": {
      "needs_background": "light"
     },
     "output_type": "display_data"
    }
   ],
   "source": [
    "# 각 리뷰 개수 별 맥주 종류 수 분포\n",
    "sns.distplot(beeradvocate['beer/name'].value_counts(), kde=False)"
   ]
  },
  {
   "cell_type": "markdown",
   "id": "a60d82bb-409f-4be2-84bf-a8e2e374621a",
   "metadata": {},
   "source": [
    "### beerid"
   ]
  },
  {
   "cell_type": "code",
   "execution_count": 12,
   "id": "80590789-0d47-4fe2-8e93-1d2b8ecb6dcc",
   "metadata": {},
   "outputs": [
    {
     "data": {
      "text/plain": [
       "0    1586614\n",
       "Name: beer/beerId, dtype: int64"
      ]
     },
     "execution_count": 12,
     "metadata": {},
     "output_type": "execute_result"
    }
   ],
   "source": [
    "# beerid 소수점 끝자리 확인\n",
    "beeradvocate['beer/beerId'].astype('str').str.split('.').str[1].value_counts()"
   ]
  },
  {
   "cell_type": "code",
   "execution_count": 13,
   "id": "414a536e-e828-43f6-87b9-ee66222bc8c8",
   "metadata": {},
   "outputs": [
    {
     "data": {
      "text/html": [
       "<div>\n",
       "<style scoped>\n",
       "    .dataframe tbody tr th:only-of-type {\n",
       "        vertical-align: middle;\n",
       "    }\n",
       "\n",
       "    .dataframe tbody tr th {\n",
       "        vertical-align: top;\n",
       "    }\n",
       "\n",
       "    .dataframe thead th {\n",
       "        text-align: right;\n",
       "    }\n",
       "</style>\n",
       "<table border=\"1\" class=\"dataframe\">\n",
       "  <thead>\n",
       "    <tr style=\"text-align: right;\">\n",
       "      <th></th>\n",
       "      <th>beer/name</th>\n",
       "      <th>beer/beerId</th>\n",
       "      <th>beer/brewerId</th>\n",
       "      <th>beer/ABV</th>\n",
       "      <th>beer/style</th>\n",
       "      <th>review/appearance</th>\n",
       "      <th>review/aroma</th>\n",
       "      <th>review/palate</th>\n",
       "      <th>review/taste</th>\n",
       "      <th>review/overall</th>\n",
       "      <th>review/time</th>\n",
       "      <th>review/profileName</th>\n",
       "      <th>review/text</th>\n",
       "    </tr>\n",
       "  </thead>\n",
       "  <tbody>\n",
       "    <tr>\n",
       "      <th>0</th>\n",
       "      <td>Sausa Weizen</td>\n",
       "      <td>47986</td>\n",
       "      <td>10325.0</td>\n",
       "      <td>5.00</td>\n",
       "      <td>Hefeweizen</td>\n",
       "      <td>2.5</td>\n",
       "      <td>2.0</td>\n",
       "      <td>1.5</td>\n",
       "      <td>1.5</td>\n",
       "      <td>1.5</td>\n",
       "      <td>1.234818e+09</td>\n",
       "      <td>stcules</td>\n",
       "      <td>A lot of foam. But a lot.\\tIn the smell some b...</td>\n",
       "    </tr>\n",
       "    <tr>\n",
       "      <th>1</th>\n",
       "      <td>Red Moon</td>\n",
       "      <td>48213</td>\n",
       "      <td>10325.0</td>\n",
       "      <td>6.20</td>\n",
       "      <td>English Strong Ale</td>\n",
       "      <td>3.0</td>\n",
       "      <td>2.5</td>\n",
       "      <td>3.0</td>\n",
       "      <td>3.0</td>\n",
       "      <td>3.0</td>\n",
       "      <td>1.235915e+09</td>\n",
       "      <td>stcules</td>\n",
       "      <td>Dark red color, light beige foam, average.\\tIn...</td>\n",
       "    </tr>\n",
       "    <tr>\n",
       "      <th>2</th>\n",
       "      <td>Black Horse Black Beer</td>\n",
       "      <td>48215</td>\n",
       "      <td>10325.0</td>\n",
       "      <td>6.50</td>\n",
       "      <td>Foreign / Export Stout</td>\n",
       "      <td>3.0</td>\n",
       "      <td>2.5</td>\n",
       "      <td>3.0</td>\n",
       "      <td>3.0</td>\n",
       "      <td>3.0</td>\n",
       "      <td>1.235917e+09</td>\n",
       "      <td>stcules</td>\n",
       "      <td>Almost totally black. Beige foam, quite compac...</td>\n",
       "    </tr>\n",
       "    <tr>\n",
       "      <th>3</th>\n",
       "      <td>Sausa Pils</td>\n",
       "      <td>47969</td>\n",
       "      <td>10325.0</td>\n",
       "      <td>5.00</td>\n",
       "      <td>German Pilsener</td>\n",
       "      <td>3.5</td>\n",
       "      <td>3.0</td>\n",
       "      <td>2.5</td>\n",
       "      <td>3.0</td>\n",
       "      <td>3.0</td>\n",
       "      <td>1.234725e+09</td>\n",
       "      <td>stcules</td>\n",
       "      <td>Golden yellow color. White, compact foam, quit...</td>\n",
       "    </tr>\n",
       "    <tr>\n",
       "      <th>4</th>\n",
       "      <td>Cauldron DIPA</td>\n",
       "      <td>64883</td>\n",
       "      <td>1075.0</td>\n",
       "      <td>7.70</td>\n",
       "      <td>American Double / Imperial IPA</td>\n",
       "      <td>4.0</td>\n",
       "      <td>4.5</td>\n",
       "      <td>4.0</td>\n",
       "      <td>4.5</td>\n",
       "      <td>4.0</td>\n",
       "      <td>1.293735e+09</td>\n",
       "      <td>johnmichaelsen</td>\n",
       "      <td>According to the website, the style for the Ca...</td>\n",
       "    </tr>\n",
       "  </tbody>\n",
       "</table>\n",
       "</div>"
      ],
      "text/plain": [
       "                beer/name  beer/beerId  beer/brewerId beer/ABV  \\\n",
       "0            Sausa Weizen        47986        10325.0     5.00   \n",
       "1                Red Moon        48213        10325.0     6.20   \n",
       "2  Black Horse Black Beer        48215        10325.0     6.50   \n",
       "3              Sausa Pils        47969        10325.0     5.00   \n",
       "4           Cauldron DIPA        64883         1075.0     7.70   \n",
       "\n",
       "                       beer/style  review/appearance  review/aroma  \\\n",
       "0                      Hefeweizen                2.5           2.0   \n",
       "1              English Strong Ale                3.0           2.5   \n",
       "2          Foreign / Export Stout                3.0           2.5   \n",
       "3                 German Pilsener                3.5           3.0   \n",
       "4  American Double / Imperial IPA                4.0           4.5   \n",
       "\n",
       "   review/palate  review/taste  review/overall   review/time  \\\n",
       "0            1.5           1.5             1.5  1.234818e+09   \n",
       "1            3.0           3.0             3.0  1.235915e+09   \n",
       "2            3.0           3.0             3.0  1.235917e+09   \n",
       "3            2.5           3.0             3.0  1.234725e+09   \n",
       "4            4.0           4.5             4.0  1.293735e+09   \n",
       "\n",
       "  review/profileName                                        review/text  \n",
       "0            stcules  A lot of foam. But a lot.\\tIn the smell some b...  \n",
       "1            stcules  Dark red color, light beige foam, average.\\tIn...  \n",
       "2            stcules  Almost totally black. Beige foam, quite compac...  \n",
       "3            stcules  Golden yellow color. White, compact foam, quit...  \n",
       "4     johnmichaelsen  According to the website, the style for the Ca...  "
      ]
     },
     "execution_count": 13,
     "metadata": {},
     "output_type": "execute_result"
    }
   ],
   "source": [
    "# int 타입으로 변환\n",
    "beeradvocate['beer/beerId'] = beeradvocate['beer/beerId'].astype('int32')\n",
    "beeradvocate.head()"
   ]
  },
  {
   "cell_type": "code",
   "execution_count": 14,
   "id": "1286527c-500a-4c01-b5e5-23fccb2bfa0e",
   "metadata": {},
   "outputs": [
    {
     "data": {
      "text/plain": [
       "2093     3290\n",
       "412      3111\n",
       "1904     3000\n",
       "1093     2728\n",
       "92       2704\n",
       "         ... \n",
       "44031       1\n",
       "44248       1\n",
       "44247       1\n",
       "44032       1\n",
       "47986       1\n",
       "Name: beer/beerId, Length: 66055, dtype: int64"
      ]
     },
     "execution_count": 14,
     "metadata": {},
     "output_type": "execute_result"
    }
   ],
   "source": [
    "#beerid 별 리뷰 수\n",
    "beeradvocate['beer/beerId'].value_counts()"
   ]
  },
  {
   "cell_type": "code",
   "execution_count": 15,
   "id": "89994e93-9146-4199-a161-c4e8226f313b",
   "metadata": {},
   "outputs": [
    {
     "data": {
      "text/plain": [
       "<AxesSubplot:>"
      ]
     },
     "execution_count": 15,
     "metadata": {},
     "output_type": "execute_result"
    },
    {
     "data": {
      "image/png": "[encoded data removed]",
      "text/plain": [
       "<Figure size 432x288 with 1 Axes>"
      ]
     },
     "metadata": {
      "needs_background": "light"
     },
     "output_type": "display_data"
    }
   ],
   "source": [
    "# beerid 통계치\n",
    "beeradvocate[['beer/beerId']].boxplot()"
   ]
  },
  {
   "cell_type": "code",
   "execution_count": 16,
   "id": "84b1e298-1e31-4678-b834-a841279664ae",
   "metadata": {},
   "outputs": [
    {
     "data": {
      "text/html": [
       "<div>\n",
       "<style scoped>\n",
       "    .dataframe tbody tr th:only-of-type {\n",
       "        vertical-align: middle;\n",
       "    }\n",
       "\n",
       "    .dataframe tbody tr th {\n",
       "        vertical-align: top;\n",
       "    }\n",
       "\n",
       "    .dataframe thead th {\n",
       "        text-align: right;\n",
       "    }\n",
       "</style>\n",
       "<table border=\"1\" class=\"dataframe\">\n",
       "  <thead>\n",
       "    <tr style=\"text-align: right;\">\n",
       "      <th></th>\n",
       "      <th>beer/beerId</th>\n",
       "    </tr>\n",
       "  </thead>\n",
       "  <tbody>\n",
       "    <tr>\n",
       "      <th>count</th>\n",
       "      <td>1.586614e+06</td>\n",
       "    </tr>\n",
       "    <tr>\n",
       "      <th>mean</th>\n",
       "      <td>2.171279e+04</td>\n",
       "    </tr>\n",
       "    <tr>\n",
       "      <th>std</th>\n",
       "      <td>2.181834e+04</td>\n",
       "    </tr>\n",
       "    <tr>\n",
       "      <th>min</th>\n",
       "      <td>3.000000e+00</td>\n",
       "    </tr>\n",
       "    <tr>\n",
       "      <th>25%</th>\n",
       "      <td>1.717000e+03</td>\n",
       "    </tr>\n",
       "    <tr>\n",
       "      <th>50%</th>\n",
       "      <td>1.390600e+04</td>\n",
       "    </tr>\n",
       "    <tr>\n",
       "      <th>75%</th>\n",
       "      <td>3.944100e+04</td>\n",
       "    </tr>\n",
       "    <tr>\n",
       "      <th>max</th>\n",
       "      <td>7.731700e+04</td>\n",
       "    </tr>\n",
       "  </tbody>\n",
       "</table>\n",
       "</div>"
      ],
      "text/plain": [
       "        beer/beerId\n",
       "count  1.586614e+06\n",
       "mean   2.171279e+04\n",
       "std    2.181834e+04\n",
       "min    3.000000e+00\n",
       "25%    1.717000e+03\n",
       "50%    1.390600e+04\n",
       "75%    3.944100e+04\n",
       "max    7.731700e+04"
      ]
     },
     "execution_count": 16,
     "metadata": {},
     "output_type": "execute_result"
    }
   ],
   "source": [
    "# beerid 통계치\n",
    "beeradvocate[['beer/beerId']].describe()"
   ]
  },
  {
   "cell_type": "code",
   "execution_count": 17,
   "id": "3e749519-bc38-4a7a-9307-2426c2cdd70b",
   "metadata": {},
   "outputs": [
    {
     "data": {
      "text/plain": [
       "3"
      ]
     },
     "execution_count": 17,
     "metadata": {},
     "output_type": "execute_result"
    }
   ],
   "source": [
    "# beerid 최소\n",
    "beeradvocate['beer/beerId'].min()"
   ]
  },
  {
   "cell_type": "code",
   "execution_count": 18,
   "id": "280f23bf-0860-4de2-88a2-10e4dbfa0898",
   "metadata": {},
   "outputs": [
    {
     "data": {
      "text/plain": [
       "77317"
      ]
     },
     "execution_count": 18,
     "metadata": {},
     "output_type": "execute_result"
    }
   ],
   "source": [
    "# beerid 최대\n",
    "beeradvocate['beer/beerId'].max()"
   ]
  },
  {
   "cell_type": "markdown",
   "id": "89c9029d-08c8-4cbe-9178-d228eafe7dda",
   "metadata": {},
   "source": [
    "### brewerID"
   ]
  },
  {
   "cell_type": "code",
   "execution_count": 19,
   "id": "9e4be747-140b-4f8e-9e65-8667cbf26b08",
   "metadata": {},
   "outputs": [
    {
     "data": {
      "text/plain": [
       "0    1586614\n",
       "Name: beer/brewerId, dtype: int64"
      ]
     },
     "execution_count": 19,
     "metadata": {},
     "output_type": "execute_result"
    }
   ],
   "source": [
    "# brewerid 소수점 끝자리 확인\n",
    "beeradvocate['beer/brewerId'].astype('str').str.split('.').str[1].value_counts()"
   ]
  },
  {
   "cell_type": "code",
   "execution_count": 20,
   "id": "9a9fb993-c597-47ba-b95e-1fea7c383970",
   "metadata": {},
   "outputs": [
    {
     "data": {
      "text/html": [
       "<div>\n",
       "<style scoped>\n",
       "    .dataframe tbody tr th:only-of-type {\n",
       "        vertical-align: middle;\n",
       "    }\n",
       "\n",
       "    .dataframe tbody tr th {\n",
       "        vertical-align: top;\n",
       "    }\n",
       "\n",
       "    .dataframe thead th {\n",
       "        text-align: right;\n",
       "    }\n",
       "</style>\n",
       "<table border=\"1\" class=\"dataframe\">\n",
       "  <thead>\n",
       "    <tr style=\"text-align: right;\">\n",
       "      <th></th>\n",
       "      <th>beer/name</th>\n",
       "      <th>beer/beerId</th>\n",
       "      <th>beer/brewerId</th>\n",
       "      <th>beer/ABV</th>\n",
       "      <th>beer/style</th>\n",
       "      <th>review/appearance</th>\n",
       "      <th>review/aroma</th>\n",
       "      <th>review/palate</th>\n",
       "      <th>review/taste</th>\n",
       "      <th>review/overall</th>\n",
       "      <th>review/time</th>\n",
       "      <th>review/profileName</th>\n",
       "      <th>review/text</th>\n",
       "    </tr>\n",
       "  </thead>\n",
       "  <tbody>\n",
       "    <tr>\n",
       "      <th>0</th>\n",
       "      <td>Sausa Weizen</td>\n",
       "      <td>47986</td>\n",
       "      <td>10325</td>\n",
       "      <td>5.00</td>\n",
       "      <td>Hefeweizen</td>\n",
       "      <td>2.5</td>\n",
       "      <td>2.0</td>\n",
       "      <td>1.5</td>\n",
       "      <td>1.5</td>\n",
       "      <td>1.5</td>\n",
       "      <td>1.234818e+09</td>\n",
       "      <td>stcules</td>\n",
       "      <td>A lot of foam. But a lot.\\tIn the smell some b...</td>\n",
       "    </tr>\n",
       "    <tr>\n",
       "      <th>1</th>\n",
       "      <td>Red Moon</td>\n",
       "      <td>48213</td>\n",
       "      <td>10325</td>\n",
       "      <td>6.20</td>\n",
       "      <td>English Strong Ale</td>\n",
       "      <td>3.0</td>\n",
       "      <td>2.5</td>\n",
       "      <td>3.0</td>\n",
       "      <td>3.0</td>\n",
       "      <td>3.0</td>\n",
       "      <td>1.235915e+09</td>\n",
       "      <td>stcules</td>\n",
       "      <td>Dark red color, light beige foam, average.\\tIn...</td>\n",
       "    </tr>\n",
       "    <tr>\n",
       "      <th>2</th>\n",
       "      <td>Black Horse Black Beer</td>\n",
       "      <td>48215</td>\n",
       "      <td>10325</td>\n",
       "      <td>6.50</td>\n",
       "      <td>Foreign / Export Stout</td>\n",
       "      <td>3.0</td>\n",
       "      <td>2.5</td>\n",
       "      <td>3.0</td>\n",
       "      <td>3.0</td>\n",
       "      <td>3.0</td>\n",
       "      <td>1.235917e+09</td>\n",
       "      <td>stcules</td>\n",
       "      <td>Almost totally black. Beige foam, quite compac...</td>\n",
       "    </tr>\n",
       "    <tr>\n",
       "      <th>3</th>\n",
       "      <td>Sausa Pils</td>\n",
       "      <td>47969</td>\n",
       "      <td>10325</td>\n",
       "      <td>5.00</td>\n",
       "      <td>German Pilsener</td>\n",
       "      <td>3.5</td>\n",
       "      <td>3.0</td>\n",
       "      <td>2.5</td>\n",
       "      <td>3.0</td>\n",
       "      <td>3.0</td>\n",
       "      <td>1.234725e+09</td>\n",
       "      <td>stcules</td>\n",
       "      <td>Golden yellow color. White, compact foam, quit...</td>\n",
       "    </tr>\n",
       "    <tr>\n",
       "      <th>4</th>\n",
       "      <td>Cauldron DIPA</td>\n",
       "      <td>64883</td>\n",
       "      <td>1075</td>\n",
       "      <td>7.70</td>\n",
       "      <td>American Double / Imperial IPA</td>\n",
       "      <td>4.0</td>\n",
       "      <td>4.5</td>\n",
       "      <td>4.0</td>\n",
       "      <td>4.5</td>\n",
       "      <td>4.0</td>\n",
       "      <td>1.293735e+09</td>\n",
       "      <td>johnmichaelsen</td>\n",
       "      <td>According to the website, the style for the Ca...</td>\n",
       "    </tr>\n",
       "  </tbody>\n",
       "</table>\n",
       "</div>"
      ],
      "text/plain": [
       "                beer/name  beer/beerId  beer/brewerId beer/ABV  \\\n",
       "0            Sausa Weizen        47986          10325     5.00   \n",
       "1                Red Moon        48213          10325     6.20   \n",
       "2  Black Horse Black Beer        48215          10325     6.50   \n",
       "3              Sausa Pils        47969          10325     5.00   \n",
       "4           Cauldron DIPA        64883           1075     7.70   \n",
       "\n",
       "                       beer/style  review/appearance  review/aroma  \\\n",
       "0                      Hefeweizen                2.5           2.0   \n",
       "1              English Strong Ale                3.0           2.5   \n",
       "2          Foreign / Export Stout                3.0           2.5   \n",
       "3                 German Pilsener                3.5           3.0   \n",
       "4  American Double / Imperial IPA                4.0           4.5   \n",
       "\n",
       "   review/palate  review/taste  review/overall   review/time  \\\n",
       "0            1.5           1.5             1.5  1.234818e+09   \n",
       "1            3.0           3.0             3.0  1.235915e+09   \n",
       "2            3.0           3.0             3.0  1.235917e+09   \n",
       "3            2.5           3.0             3.0  1.234725e+09   \n",
       "4            4.0           4.5             4.0  1.293735e+09   \n",
       "\n",
       "  review/profileName                                        review/text  \n",
       "0            stcules  A lot of foam. But a lot.\\tIn the smell some b...  \n",
       "1            stcules  Dark red color, light beige foam, average.\\tIn...  \n",
       "2            stcules  Almost totally black. Beige foam, quite compac...  \n",
       "3            stcules  Golden yellow color. White, compact foam, quit...  \n",
       "4     johnmichaelsen  According to the website, the style for the Ca...  "
      ]
     },
     "execution_count": 20,
     "metadata": {},
     "output_type": "execute_result"
    }
   ],
   "source": [
    "# int 타입으로 변환\n",
    "beeradvocate['beer/brewerId'] = beeradvocate['beer/brewerId'].astype('int32')\n",
    "beeradvocate.head()"
   ]
  },
  {
   "cell_type": "code",
   "execution_count": 21,
   "id": "c97aa5ad-6a59-428a-bbfa-b6c5818c2850",
   "metadata": {},
   "outputs": [
    {
     "data": {
      "text/plain": [
       "35       39444\n",
       "10099    33839\n",
       "147      33066\n",
       "140      28751\n",
       "287      25191\n",
       "         ...  \n",
       "23699        1\n",
       "24526        1\n",
       "24211        1\n",
       "9559         1\n",
       "3355         1\n",
       "Name: beer/brewerId, Length: 5840, dtype: int64"
      ]
     },
     "execution_count": 21,
     "metadata": {},
     "output_type": "execute_result"
    }
   ],
   "source": [
    "#brewerid 별 리뷰 수\n",
    "beeradvocate['beer/brewerId'].value_counts()"
   ]
  },
  {
   "cell_type": "code",
   "execution_count": 22,
   "id": "ec82df2f-36f0-4723-ae2c-ba11e8245071",
   "metadata": {},
   "outputs": [
    {
     "data": {
      "text/plain": [
       "<AxesSubplot:>"
      ]
     },
     "execution_count": 22,
     "metadata": {},
     "output_type": "execute_result"
    },
    {
     "data": {
      "image/png": "[encoded data removed]",
      "text/plain": [
       "<Figure size 432x288 with 1 Axes>"
      ]
     },
     "metadata": {
      "needs_background": "light"
     },
     "output_type": "display_data"
    }
   ],
   "source": [
    "# brewerid 통계치\n",
    "beeradvocate[['beer/brewerId']].boxplot()"
   ]
  },
  {
   "cell_type": "code",
   "execution_count": 23,
   "id": "544b0460-2232-4168-a37a-b9b86281fdf6",
   "metadata": {},
   "outputs": [
    {
     "data": {
      "text/html": [
       "<div>\n",
       "<style scoped>\n",
       "    .dataframe tbody tr th:only-of-type {\n",
       "        vertical-align: middle;\n",
       "    }\n",
       "\n",
       "    .dataframe tbody tr th {\n",
       "        vertical-align: top;\n",
       "    }\n",
       "\n",
       "    .dataframe thead th {\n",
       "        text-align: right;\n",
       "    }\n",
       "</style>\n",
       "<table border=\"1\" class=\"dataframe\">\n",
       "  <thead>\n",
       "    <tr style=\"text-align: right;\">\n",
       "      <th></th>\n",
       "      <th>beer/brewerId</th>\n",
       "    </tr>\n",
       "  </thead>\n",
       "  <tbody>\n",
       "    <tr>\n",
       "      <th>count</th>\n",
       "      <td>1.586614e+06</td>\n",
       "    </tr>\n",
       "    <tr>\n",
       "      <th>mean</th>\n",
       "      <td>3.130099e+03</td>\n",
       "    </tr>\n",
       "    <tr>\n",
       "      <th>std</th>\n",
       "      <td>5.578104e+03</td>\n",
       "    </tr>\n",
       "    <tr>\n",
       "      <th>min</th>\n",
       "      <td>1.000000e+00</td>\n",
       "    </tr>\n",
       "    <tr>\n",
       "      <th>25%</th>\n",
       "      <td>1.430000e+02</td>\n",
       "    </tr>\n",
       "    <tr>\n",
       "      <th>50%</th>\n",
       "      <td>4.290000e+02</td>\n",
       "    </tr>\n",
       "    <tr>\n",
       "      <th>75%</th>\n",
       "      <td>2.372000e+03</td>\n",
       "    </tr>\n",
       "    <tr>\n",
       "      <th>max</th>\n",
       "      <td>2.800300e+04</td>\n",
       "    </tr>\n",
       "  </tbody>\n",
       "</table>\n",
       "</div>"
      ],
      "text/plain": [
       "       beer/brewerId\n",
       "count   1.586614e+06\n",
       "mean    3.130099e+03\n",
       "std     5.578104e+03\n",
       "min     1.000000e+00\n",
       "25%     1.430000e+02\n",
       "50%     4.290000e+02\n",
       "75%     2.372000e+03\n",
       "max     2.800300e+04"
      ]
     },
     "execution_count": 23,
     "metadata": {},
     "output_type": "execute_result"
    }
   ],
   "source": [
    "# brewerid 통계치\n",
    "beeradvocate[['beer/brewerId']].describe()"
   ]
  },
  {
   "cell_type": "code",
   "execution_count": 24,
   "id": "62f7df5e-5179-4f26-b048-f41290bb9fc4",
   "metadata": {},
   "outputs": [
    {
     "data": {
      "text/plain": [
       "1"
      ]
     },
     "execution_count": 24,
     "metadata": {},
     "output_type": "execute_result"
    }
   ],
   "source": [
    "# brewerid 최솟값\n",
    "beeradvocate['beer/brewerId'].min()"
   ]
  },
  {
   "cell_type": "code",
   "execution_count": 25,
   "id": "4ec53f2c-0e2a-4ba8-9321-a9424ecea69b",
   "metadata": {},
   "outputs": [
    {
     "data": {
      "text/plain": [
       "28003"
      ]
     },
     "execution_count": 25,
     "metadata": {},
     "output_type": "execute_result"
    }
   ],
   "source": [
    "# brewerid 최대값\n",
    "beeradvocate['beer/brewerId'].max()"
   ]
  },
  {
   "cell_type": "markdown",
   "id": "85c3ede6-b6ca-4aa1-bf15-5b5c2af7ff50",
   "metadata": {},
   "source": [
    "### ABV"
   ]
  },
  {
   "cell_type": "code",
   "execution_count": 26,
   "id": "1745dde4-322a-450c-a595-a1347d3a91b0",
   "metadata": {},
   "outputs": [
    {
     "data": {
      "text/plain": [
       "5.00     109144\n",
       "          67785\n",
       "8.00      67744\n",
       "6.00      65383\n",
       "7.00      59460\n",
       "          ...  \n",
       "57.70         1\n",
       "30.86         1\n",
       "5.09          1\n",
       "7.51          1\n",
       "17.35         1\n",
       "Name: beer/ABV, Length: 531, dtype: int64"
      ]
     },
     "execution_count": 26,
     "metadata": {},
     "output_type": "execute_result"
    }
   ],
   "source": [
    "beeradvocate['beer/ABV'].value_counts()"
   ]
  },
  {
   "cell_type": "code",
   "execution_count": 27,
   "id": "d414549c-beb9-4f31-87bf-773166bc4367",
   "metadata": {},
   "outputs": [],
   "source": [
    "beeradvocate.loc[beeradvocate['beer/ABV'] == '', 'beer/ABV'] = 0.0"
   ]
  },
  {
   "cell_type": "code",
   "execution_count": 28,
   "id": "38bfb3ff-6dbe-47a3-b3ee-7853e0050378",
   "metadata": {},
   "outputs": [
    {
     "data": {
      "text/plain": [
       "5.00     109144\n",
       "0.0       67785\n",
       "8.00      67744\n",
       "6.00      65383\n",
       "7.00      59460\n",
       "          ...  \n",
       "57.70         1\n",
       "30.86         1\n",
       "5.09          1\n",
       "7.51          1\n",
       "17.35         1\n",
       "Name: beer/ABV, Length: 531, dtype: int64"
      ]
     },
     "execution_count": 28,
     "metadata": {},
     "output_type": "execute_result"
    }
   ],
   "source": [
    "beeradvocate['beer/ABV'].value_counts()"
   ]
  },
  {
   "cell_type": "code",
   "execution_count": 29,
   "id": "4dd80d7e-b8ce-40ce-a180-6106ab9c5c8c",
   "metadata": {},
   "outputs": [
    {
     "data": {
      "text/html": [
       "<div>\n",
       "<style scoped>\n",
       "    .dataframe tbody tr th:only-of-type {\n",
       "        vertical-align: middle;\n",
       "    }\n",
       "\n",
       "    .dataframe tbody tr th {\n",
       "        vertical-align: top;\n",
       "    }\n",
       "\n",
       "    .dataframe thead th {\n",
       "        text-align: right;\n",
       "    }\n",
       "</style>\n",
       "<table border=\"1\" class=\"dataframe\">\n",
       "  <thead>\n",
       "    <tr style=\"text-align: right;\">\n",
       "      <th></th>\n",
       "      <th>beer/name</th>\n",
       "      <th>beer/beerId</th>\n",
       "      <th>beer/brewerId</th>\n",
       "      <th>beer/ABV</th>\n",
       "      <th>beer/style</th>\n",
       "      <th>review/appearance</th>\n",
       "      <th>review/aroma</th>\n",
       "      <th>review/palate</th>\n",
       "      <th>review/taste</th>\n",
       "      <th>review/overall</th>\n",
       "      <th>review/time</th>\n",
       "      <th>review/profileName</th>\n",
       "      <th>review/text</th>\n",
       "    </tr>\n",
       "  </thead>\n",
       "  <tbody>\n",
       "    <tr>\n",
       "      <th>0</th>\n",
       "      <td>Sausa Weizen</td>\n",
       "      <td>47986</td>\n",
       "      <td>10325</td>\n",
       "      <td>5.0</td>\n",
       "      <td>Hefeweizen</td>\n",
       "      <td>2.5</td>\n",
       "      <td>2.0</td>\n",
       "      <td>1.5</td>\n",
       "      <td>1.5</td>\n",
       "      <td>1.5</td>\n",
       "      <td>1.234818e+09</td>\n",
       "      <td>stcules</td>\n",
       "      <td>A lot of foam. But a lot.\\tIn the smell some b...</td>\n",
       "    </tr>\n",
       "    <tr>\n",
       "      <th>1</th>\n",
       "      <td>Red Moon</td>\n",
       "      <td>48213</td>\n",
       "      <td>10325</td>\n",
       "      <td>6.2</td>\n",
       "      <td>English Strong Ale</td>\n",
       "      <td>3.0</td>\n",
       "      <td>2.5</td>\n",
       "      <td>3.0</td>\n",
       "      <td>3.0</td>\n",
       "      <td>3.0</td>\n",
       "      <td>1.235915e+09</td>\n",
       "      <td>stcules</td>\n",
       "      <td>Dark red color, light beige foam, average.\\tIn...</td>\n",
       "    </tr>\n",
       "    <tr>\n",
       "      <th>2</th>\n",
       "      <td>Black Horse Black Beer</td>\n",
       "      <td>48215</td>\n",
       "      <td>10325</td>\n",
       "      <td>6.5</td>\n",
       "      <td>Foreign / Export Stout</td>\n",
       "      <td>3.0</td>\n",
       "      <td>2.5</td>\n",
       "      <td>3.0</td>\n",
       "      <td>3.0</td>\n",
       "      <td>3.0</td>\n",
       "      <td>1.235917e+09</td>\n",
       "      <td>stcules</td>\n",
       "      <td>Almost totally black. Beige foam, quite compac...</td>\n",
       "    </tr>\n",
       "    <tr>\n",
       "      <th>3</th>\n",
       "      <td>Sausa Pils</td>\n",
       "      <td>47969</td>\n",
       "      <td>10325</td>\n",
       "      <td>5.0</td>\n",
       "      <td>German Pilsener</td>\n",
       "      <td>3.5</td>\n",
       "      <td>3.0</td>\n",
       "      <td>2.5</td>\n",
       "      <td>3.0</td>\n",
       "      <td>3.0</td>\n",
       "      <td>1.234725e+09</td>\n",
       "      <td>stcules</td>\n",
       "      <td>Golden yellow color. White, compact foam, quit...</td>\n",
       "    </tr>\n",
       "    <tr>\n",
       "      <th>4</th>\n",
       "      <td>Cauldron DIPA</td>\n",
       "      <td>64883</td>\n",
       "      <td>1075</td>\n",
       "      <td>7.7</td>\n",
       "      <td>American Double / Imperial IPA</td>\n",
       "      <td>4.0</td>\n",
       "      <td>4.5</td>\n",
       "      <td>4.0</td>\n",
       "      <td>4.5</td>\n",
       "      <td>4.0</td>\n",
       "      <td>1.293735e+09</td>\n",
       "      <td>johnmichaelsen</td>\n",
       "      <td>According to the website, the style for the Ca...</td>\n",
       "    </tr>\n",
       "  </tbody>\n",
       "</table>\n",
       "</div>"
      ],
      "text/plain": [
       "                beer/name  beer/beerId  beer/brewerId  beer/ABV  \\\n",
       "0            Sausa Weizen        47986          10325       5.0   \n",
       "1                Red Moon        48213          10325       6.2   \n",
       "2  Black Horse Black Beer        48215          10325       6.5   \n",
       "3              Sausa Pils        47969          10325       5.0   \n",
       "4           Cauldron DIPA        64883           1075       7.7   \n",
       "\n",
       "                       beer/style  review/appearance  review/aroma  \\\n",
       "0                      Hefeweizen                2.5           2.0   \n",
       "1              English Strong Ale                3.0           2.5   \n",
       "2          Foreign / Export Stout                3.0           2.5   \n",
       "3                 German Pilsener                3.5           3.0   \n",
       "4  American Double / Imperial IPA                4.0           4.5   \n",
       "\n",
       "   review/palate  review/taste  review/overall   review/time  \\\n",
       "0            1.5           1.5             1.5  1.234818e+09   \n",
       "1            3.0           3.0             3.0  1.235915e+09   \n",
       "2            3.0           3.0             3.0  1.235917e+09   \n",
       "3            2.5           3.0             3.0  1.234725e+09   \n",
       "4            4.0           4.5             4.0  1.293735e+09   \n",
       "\n",
       "  review/profileName                                        review/text  \n",
       "0            stcules  A lot of foam. But a lot.\\tIn the smell some b...  \n",
       "1            stcules  Dark red color, light beige foam, average.\\tIn...  \n",
       "2            stcules  Almost totally black. Beige foam, quite compac...  \n",
       "3            stcules  Golden yellow color. White, compact foam, quit...  \n",
       "4     johnmichaelsen  According to the website, the style for the Ca...  "
      ]
     },
     "execution_count": 29,
     "metadata": {},
     "output_type": "execute_result"
    }
   ],
   "source": [
    "# float 타입으로 변환\n",
    "beeradvocate['beer/ABV'] = beeradvocate['beer/ABV'].astype('float')\n",
    "beeradvocate.head()"
   ]
  },
  {
   "cell_type": "code",
   "execution_count": 30,
   "id": "8e016813-f005-482e-98f3-69af0e6ad688",
   "metadata": {},
   "outputs": [
    {
     "name": "stderr",
     "output_type": "stream",
     "text": [
      "/opt/conda/lib/python3.8/site-packages/seaborn/distributions.py:2619: FutureWarning: `distplot` is a deprecated function and will be removed in a future version. Please adapt your code to use either `displot` (a figure-level function with similar flexibility) or `histplot` (an axes-level function for histograms).\n",
      "  warnings.warn(msg, FutureWarning)\n"
     ]
    },
    {
     "data": {
      "text/plain": [
       "<AxesSubplot:xlabel='beer/ABV', ylabel='Density'>"
      ]
     },
     "execution_count": 30,
     "metadata": {},
     "output_type": "execute_result"
    },
    {
     "data": {
      "image/png": "[encoded data removed]",
      "text/plain": [
       "<Figure size 432x288 with 1 Axes>"
      ]
     },
     "metadata": {
      "needs_background": "light"
     },
     "output_type": "display_data"
    }
   ],
   "source": [
    "# ABV 분포\n",
    "sns.distplot(beeradvocate[beeradvocate['beer/ABV'] > 0]['beer/ABV'])"
   ]
  },
  {
   "cell_type": "code",
   "execution_count": 31,
   "id": "c78d9f91-ba69-4b3d-9f10-f9a9069e19ba",
   "metadata": {},
   "outputs": [
    {
     "data": {
      "text/html": [
       "<div>\n",
       "<style scoped>\n",
       "    .dataframe tbody tr th:only-of-type {\n",
       "        vertical-align: middle;\n",
       "    }\n",
       "\n",
       "    .dataframe tbody tr th {\n",
       "        vertical-align: top;\n",
       "    }\n",
       "\n",
       "    .dataframe thead th {\n",
       "        text-align: right;\n",
       "    }\n",
       "</style>\n",
       "<table border=\"1\" class=\"dataframe\">\n",
       "  <thead>\n",
       "    <tr style=\"text-align: right;\">\n",
       "      <th></th>\n",
       "      <th>beer/ABV</th>\n",
       "    </tr>\n",
       "  </thead>\n",
       "  <tbody>\n",
       "    <tr>\n",
       "      <th>count</th>\n",
       "      <td>1.518829e+06</td>\n",
       "    </tr>\n",
       "    <tr>\n",
       "      <th>mean</th>\n",
       "      <td>7.042387e+00</td>\n",
       "    </tr>\n",
       "    <tr>\n",
       "      <th>std</th>\n",
       "      <td>2.322526e+00</td>\n",
       "    </tr>\n",
       "    <tr>\n",
       "      <th>min</th>\n",
       "      <td>1.000000e-02</td>\n",
       "    </tr>\n",
       "    <tr>\n",
       "      <th>25%</th>\n",
       "      <td>5.200000e+00</td>\n",
       "    </tr>\n",
       "    <tr>\n",
       "      <th>50%</th>\n",
       "      <td>6.500000e+00</td>\n",
       "    </tr>\n",
       "    <tr>\n",
       "      <th>75%</th>\n",
       "      <td>8.500000e+00</td>\n",
       "    </tr>\n",
       "    <tr>\n",
       "      <th>max</th>\n",
       "      <td>5.770000e+01</td>\n",
       "    </tr>\n",
       "  </tbody>\n",
       "</table>\n",
       "</div>"
      ],
      "text/plain": [
       "           beer/ABV\n",
       "count  1.518829e+06\n",
       "mean   7.042387e+00\n",
       "std    2.322526e+00\n",
       "min    1.000000e-02\n",
       "25%    5.200000e+00\n",
       "50%    6.500000e+00\n",
       "75%    8.500000e+00\n",
       "max    5.770000e+01"
      ]
     },
     "execution_count": 31,
     "metadata": {},
     "output_type": "execute_result"
    }
   ],
   "source": [
    "# ABV 통계치\n",
    "beeradvocate[beeradvocate['beer/ABV'] > 0][['beer/ABV']].describe()"
   ]
  },
  {
   "cell_type": "code",
   "execution_count": 32,
   "id": "0a13262a-4ca5-4f4b-9961-61b0d437185d",
   "metadata": {},
   "outputs": [
    {
     "data": {
      "text/plain": [
       "57.7"
      ]
     },
     "execution_count": 32,
     "metadata": {},
     "output_type": "execute_result"
    }
   ],
   "source": [
    "# ABV 최대값\n",
    "beeradvocate[beeradvocate['beer/ABV'] > 0]['beer/ABV'].max()"
   ]
  },
  {
   "cell_type": "code",
   "execution_count": 33,
   "id": "729aeba1-c47b-4a35-83c4-56baa4953ced",
   "metadata": {},
   "outputs": [
    {
     "data": {
      "text/plain": [
       "0.01"
      ]
     },
     "execution_count": 33,
     "metadata": {},
     "output_type": "execute_result"
    }
   ],
   "source": [
    "# ABV 최소값\n",
    "beeradvocate[beeradvocate['beer/ABV'] > 0]['beer/ABV'].min()"
   ]
  },
  {
   "cell_type": "markdown",
   "id": "8b18b9b3-7624-40ab-b6f3-b6016373f793",
   "metadata": {},
   "source": [
    "### style"
   ]
  },
  {
   "cell_type": "code",
   "execution_count": 34,
   "id": "1d9f497f-3d48-4413-bb87-3a176d92ae05",
   "metadata": {},
   "outputs": [
    {
     "data": {
      "text/plain": [
       "American IPA                        117586\n",
       "American Double / Imperial IPA       85977\n",
       "American Pale Ale (APA)              63469\n",
       "Russian Imperial Stout               54129\n",
       "American Double / Imperial Stout     50705\n",
       "                                     ...  \n",
       "Gose                                   686\n",
       "Faro                                   609\n",
       "Roggenbier                             466\n",
       "Kvass                                  297\n",
       "Happoshu                               241\n",
       "Name: beer/style, Length: 104, dtype: int64"
      ]
     },
     "execution_count": 34,
     "metadata": {},
     "output_type": "execute_result"
    }
   ],
   "source": [
    "beeradvocate['beer/style'].value_counts()"
   ]
  },
  {
   "cell_type": "code",
   "execution_count": 35,
   "id": "68d62b1e-34ea-4696-af01-5d44e4aff727",
   "metadata": {},
   "outputs": [
    {
     "name": "stderr",
     "output_type": "stream",
     "text": [
      "/opt/conda/lib/python3.8/site-packages/seaborn/distributions.py:2619: FutureWarning: `distplot` is a deprecated function and will be removed in a future version. Please adapt your code to use either `displot` (a figure-level function with similar flexibility) or `histplot` (an axes-level function for histograms).\n",
      "  warnings.warn(msg, FutureWarning)\n"
     ]
    },
    {
     "data": {
      "text/plain": [
       "<AxesSubplot:xlabel='beer/style'>"
      ]
     },
     "execution_count": 35,
     "metadata": {},
     "output_type": "execute_result"
    },
    {
     "data": {
      "image/png": "[encoded data removed]",
      "text/plain": [
       "<Figure size 432x288 with 1 Axes>"
      ]
     },
     "metadata": {
      "needs_background": "light"
     },
     "output_type": "display_data"
    }
   ],
   "source": [
    "# 각 리뷰 개수 별 맥주 style 수 분포\n",
    "sns.distplot(beeradvocate['beer/style'].value_counts(), kde=False)"
   ]
  },
  {
   "cell_type": "markdown",
   "id": "c5a6db15-6142-4783-bfd7-9896203decf0",
   "metadata": {},
   "source": [
    "### review/appear"
   ]
  },
  {
   "cell_type": "code",
   "execution_count": 36,
   "id": "d5e64cd8-6a11-479f-8d1e-e85f38cd4a93",
   "metadata": {},
   "outputs": [
    {
     "data": {
      "text/plain": [
       "4.0    674186\n",
       "3.5    318529\n",
       "4.5    288108\n",
       "3.0    166009\n",
       "5.0     65398\n",
       "2.5     39493\n",
       "2.0     25414\n",
       "1.5      6147\n",
       "1.0      3323\n",
       "0.0         7\n",
       "Name: review/appearance, dtype: int64"
      ]
     },
     "execution_count": 36,
     "metadata": {},
     "output_type": "execute_result"
    }
   ],
   "source": [
    "beeradvocate['review/appearance'].value_counts()"
   ]
  },
  {
   "cell_type": "code",
   "execution_count": 37,
   "id": "ac66b280-2e78-4bec-9763-7e9405708dbf",
   "metadata": {},
   "outputs": [
    {
     "name": "stderr",
     "output_type": "stream",
     "text": [
      "/opt/conda/lib/python3.8/site-packages/seaborn/distributions.py:2619: FutureWarning: `distplot` is a deprecated function and will be removed in a future version. Please adapt your code to use either `displot` (a figure-level function with similar flexibility) or `histplot` (an axes-level function for histograms).\n",
      "  warnings.warn(msg, FutureWarning)\n"
     ]
    },
    {
     "data": {
      "text/plain": [
       "<AxesSubplot:xlabel='review/appearance'>"
      ]
     },
     "execution_count": 37,
     "metadata": {},
     "output_type": "execute_result"
    },
    {
     "data": {
      "image/png": "[encoded data removed]",
      "text/plain": [
       "<Figure size 432x288 with 1 Axes>"
      ]
     },
     "metadata": {
      "needs_background": "light"
     },
     "output_type": "display_data"
    }
   ],
   "source": [
    "sns.distplot(beeradvocate['review/appearance'], kde = False)"
   ]
  },
  {
   "cell_type": "markdown",
   "id": "c82ae21d-d079-477d-af18-e55da5d866bd",
   "metadata": {},
   "source": [
    "### review/aroma"
   ]
  },
  {
   "cell_type": "code",
   "execution_count": 38,
   "id": "1421dd21-7de1-4f14-8212-f91e17c7e8d6",
   "metadata": {},
   "outputs": [
    {
     "data": {
      "text/plain": [
       "4.0    557383\n",
       "3.5    365312\n",
       "4.5    271450\n",
       "3.0    200030\n",
       "2.5     66359\n",
       "5.0     64117\n",
       "2.0     42566\n",
       "1.5     12524\n",
       "1.0      6873\n",
       "Name: review/aroma, dtype: int64"
      ]
     },
     "execution_count": 38,
     "metadata": {},
     "output_type": "execute_result"
    }
   ],
   "source": [
    "beeradvocate['review/aroma'].value_counts()"
   ]
  },
  {
   "cell_type": "code",
   "execution_count": 39,
   "id": "2c4f6768-dd29-4e51-9edb-362fb9371c61",
   "metadata": {},
   "outputs": [
    {
     "name": "stderr",
     "output_type": "stream",
     "text": [
      "/opt/conda/lib/python3.8/site-packages/seaborn/distributions.py:2619: FutureWarning: `distplot` is a deprecated function and will be removed in a future version. Please adapt your code to use either `displot` (a figure-level function with similar flexibility) or `histplot` (an axes-level function for histograms).\n",
      "  warnings.warn(msg, FutureWarning)\n"
     ]
    },
    {
     "data": {
      "text/plain": [
       "<AxesSubplot:xlabel='review/aroma'>"
      ]
     },
     "execution_count": 39,
     "metadata": {},
     "output_type": "execute_result"
    },
    {
     "data": {
      "image/png": "[encoded data removed]",
      "text/plain": [
       "<Figure size 432x288 with 1 Axes>"
      ]
     },
     "metadata": {
      "needs_background": "light"
     },
     "output_type": "display_data"
    }
   ],
   "source": [
    "sns.distplot(beeradvocate['review/aroma'], kde = False)"
   ]
  },
  {
   "cell_type": "markdown",
   "id": "1369b02f-2017-4408-8e73-abb0c61f5ae1",
   "metadata": {},
   "source": [
    "### review/palate"
   ]
  },
  {
   "cell_type": "code",
   "execution_count": 40,
   "id": "0d0d80de-33ec-4e65-810c-ecdd4d66686f",
   "metadata": {},
   "outputs": [
    {
     "data": {
      "text/plain": [
       "4.0    606711\n",
       "3.5    338585\n",
       "4.5    253102\n",
       "3.0    206932\n",
       "2.5     62842\n",
       "5.0     62190\n",
       "2.0     38333\n",
       "1.5     11045\n",
       "1.0      6874\n",
       "Name: review/palate, dtype: int64"
      ]
     },
     "execution_count": 40,
     "metadata": {},
     "output_type": "execute_result"
    }
   ],
   "source": [
    "beeradvocate['review/palate'].value_counts()"
   ]
  },
  {
   "cell_type": "code",
   "execution_count": 41,
   "id": "cd514673-be21-47e2-8bf8-66afd82f214a",
   "metadata": {},
   "outputs": [
    {
     "name": "stderr",
     "output_type": "stream",
     "text": [
      "/opt/conda/lib/python3.8/site-packages/seaborn/distributions.py:2619: FutureWarning: `distplot` is a deprecated function and will be removed in a future version. Please adapt your code to use either `displot` (a figure-level function with similar flexibility) or `histplot` (an axes-level function for histograms).\n",
      "  warnings.warn(msg, FutureWarning)\n"
     ]
    },
    {
     "data": {
      "text/plain": [
       "<AxesSubplot:xlabel='review/palate'>"
      ]
     },
     "execution_count": 41,
     "metadata": {},
     "output_type": "execute_result"
    },
    {
     "data": {
      "image/png": "[encoded data removed]",
      "text/plain": [
       "<Figure size 432x288 with 1 Axes>"
      ]
     },
     "metadata": {
      "needs_background": "light"
     },
     "output_type": "display_data"
    }
   ],
   "source": [
    "sns.distplot(beeradvocate['review/palate'], kde = False)"
   ]
  },
  {
   "cell_type": "markdown",
   "id": "a3fc3e96-4dfd-4452-aecd-8c47a5527755",
   "metadata": {},
   "source": [
    "### review/taste"
   ]
  },
  {
   "cell_type": "code",
   "execution_count": 42,
   "id": "efbb3328-dc42-48f0-a0e6-a5f9b9bd65f8",
   "metadata": {},
   "outputs": [
    {
     "data": {
      "text/plain": [
       "4.0    541429\n",
       "4.5    336162\n",
       "3.5    324541\n",
       "3.0    166860\n",
       "5.0     83977\n",
       "2.5     66534\n",
       "2.0     41992\n",
       "1.5     15128\n",
       "1.0      9991\n",
       "Name: review/taste, dtype: int64"
      ]
     },
     "execution_count": 42,
     "metadata": {},
     "output_type": "execute_result"
    }
   ],
   "source": [
    "beeradvocate['review/taste'].value_counts()"
   ]
  },
  {
   "cell_type": "code",
   "execution_count": 43,
   "id": "6b7a5b62-ebc7-4318-bc3b-e3ce8e8a4efe",
   "metadata": {},
   "outputs": [
    {
     "name": "stderr",
     "output_type": "stream",
     "text": [
      "/opt/conda/lib/python3.8/site-packages/seaborn/distributions.py:2619: FutureWarning: `distplot` is a deprecated function and will be removed in a future version. Please adapt your code to use either `displot` (a figure-level function with similar flexibility) or `histplot` (an axes-level function for histograms).\n",
      "  warnings.warn(msg, FutureWarning)\n"
     ]
    },
    {
     "data": {
      "text/plain": [
       "<AxesSubplot:xlabel='review/taste'>"
      ]
     },
     "execution_count": 43,
     "metadata": {},
     "output_type": "execute_result"
    },
    {
     "data": {
      "image/png": "[encoded data removed]",
      "text/plain": [
       "<Figure size 432x288 with 1 Axes>"
      ]
     },
     "metadata": {
      "needs_background": "light"
     },
     "output_type": "display_data"
    }
   ],
   "source": [
    "sns.distplot(beeradvocate['review/taste'], kde = False)"
   ]
  },
  {
   "cell_type": "markdown",
   "id": "cf489160-0f4a-4756-84ac-eaa1a2be413a",
   "metadata": {},
   "source": [
    "### review/overall"
   ]
  },
  {
   "cell_type": "code",
   "execution_count": 44,
   "id": "ebe27a71-f3d3-4d1e-af1c-b476997f6af0",
   "metadata": {},
   "outputs": [
    {
     "data": {
      "text/plain": [
       "4.0    582764\n",
       "4.5    324385\n",
       "3.5    301817\n",
       "3.0    165644\n",
       "5.0     91320\n",
       "2.5     58523\n",
       "2.0     38225\n",
       "1.5     12975\n",
       "1.0     10954\n",
       "0.0         7\n",
       "Name: review/overall, dtype: int64"
      ]
     },
     "execution_count": 44,
     "metadata": {},
     "output_type": "execute_result"
    }
   ],
   "source": [
    "beeradvocate['review/overall'].value_counts()"
   ]
  },
  {
   "cell_type": "code",
   "execution_count": 45,
   "id": "277b0e4c-fbba-4610-9e63-e412da8da667",
   "metadata": {},
   "outputs": [
    {
     "name": "stderr",
     "output_type": "stream",
     "text": [
      "/opt/conda/lib/python3.8/site-packages/seaborn/distributions.py:2619: FutureWarning: `distplot` is a deprecated function and will be removed in a future version. Please adapt your code to use either `displot` (a figure-level function with similar flexibility) or `histplot` (an axes-level function for histograms).\n",
      "  warnings.warn(msg, FutureWarning)\n"
     ]
    },
    {
     "data": {
      "text/plain": [
       "<AxesSubplot:xlabel='review/overall'>"
      ]
     },
     "execution_count": 45,
     "metadata": {},
     "output_type": "execute_result"
    },
    {
     "data": {
      "image/png": "[encoded data removed]",
      "text/plain": [
       "<Figure size 432x288 with 1 Axes>"
      ]
     },
     "metadata": {
      "needs_background": "light"
     },
     "output_type": "display_data"
    }
   ],
   "source": [
    "sns.distplot(beeradvocate['review/overall'], kde = False)"
   ]
  },
  {
   "cell_type": "markdown",
   "id": "a545e2cb-eeb8-4dae-87e8-0dcab43e42f5",
   "metadata": {},
   "source": [
    "### review/time"
   ]
  },
  {
   "cell_type": "code",
   "execution_count": 46,
   "id": "9e4400d0-f9f7-4962-a5c8-c40e7a23b659",
   "metadata": {},
   "outputs": [
    {
     "data": {
      "text/plain": [
       "0          1.234818e+09\n",
       "1          1.235915e+09\n",
       "2          1.235917e+09\n",
       "3          1.234725e+09\n",
       "4          1.293735e+09\n",
       "               ...     \n",
       "1586609    1.162685e+09\n",
       "1586610    1.161049e+09\n",
       "1586611    1.160703e+09\n",
       "1586612    1.160023e+09\n",
       "1586613    1.160005e+09\n",
       "Name: review/time, Length: 1586614, dtype: float64"
      ]
     },
     "execution_count": 46,
     "metadata": {},
     "output_type": "execute_result"
    }
   ],
   "source": [
    "beeradvocate['review/time']"
   ]
  },
  {
   "cell_type": "code",
   "execution_count": 47,
   "id": "0243fdb6-bc20-455b-9914-f9b619b317dc",
   "metadata": {},
   "outputs": [],
   "source": [
    "beeradvocate['review/time'] = pd.to_datetime(beeradvocate['review/time'], unit='s')"
   ]
  },
  {
   "cell_type": "code",
   "execution_count": 48,
   "id": "e48eacdf-8dd7-4343-88f6-737b087d611e",
   "metadata": {},
   "outputs": [
    {
     "name": "stderr",
     "output_type": "stream",
     "text": [
      "/tmp/ipykernel_86178/1831526385.py:1: FutureWarning: Treating datetime data as categorical rather than numeric in `.describe` is deprecated and will be removed in a future version of pandas. Specify `datetime_is_numeric=True` to silence this warning and adopt the future behavior now.\n",
      "  beeradvocate['review/time'].describe()\n"
     ]
    },
    {
     "data": {
      "text/plain": [
       "count                 1586614\n",
       "unique                1577960\n",
       "top       2004-11-30 00:00:00\n",
       "freq                       21\n",
       "first     1996-08-22 00:00:01\n",
       "last      2012-01-11 12:35:48\n",
       "Name: review/time, dtype: object"
      ]
     },
     "execution_count": 48,
     "metadata": {},
     "output_type": "execute_result"
    }
   ],
   "source": [
    "beeradvocate['review/time'].describe()"
   ]
  },
  {
   "cell_type": "code",
   "execution_count": 49,
   "id": "016f99f0-fe09-45f3-96e4-2d3925a92173",
   "metadata": {},
   "outputs": [
    {
     "data": {
      "text/plain": [
       "2004-11-30 00:00:00    21\n",
       "2002-09-04 01:00:00     8\n",
       "1999-05-11 00:00:01     8\n",
       "1998-06-06 00:00:01     7\n",
       "2001-01-30 00:00:01     7\n",
       "                       ..\n",
       "2006-06-14 01:13:47     1\n",
       "2006-07-02 20:56:02     1\n",
       "2003-02-06 21:25:57     1\n",
       "2003-02-13 14:31:16     1\n",
       "2006-10-04 23:41:59     1\n",
       "Name: review/time, Length: 1577960, dtype: int64"
      ]
     },
     "execution_count": 49,
     "metadata": {},
     "output_type": "execute_result"
    }
   ],
   "source": [
    "beeradvocate['review/time'].value_counts()"
   ]
  },
  {
   "cell_type": "markdown",
   "id": "95f95e03-a639-4a68-a3bf-0a2a919a0753",
   "metadata": {},
   "source": [
    "### review/profilename"
   ]
  },
  {
   "cell_type": "code",
   "execution_count": 50,
   "id": "e9b0cac1-b2e6-444b-9984-e9688c518ac9",
   "metadata": {},
   "outputs": [
    {
     "data": {
      "text/plain": [
       "northyorksammy    5817\n",
       "BuckeyeNation     4661\n",
       "mikesgroove       4617\n",
       "Thorpe429         3518\n",
       "womencantsail     3497\n",
       "                  ... \n",
       "TheEdge              1\n",
       "dvelcich             1\n",
       "rayre                1\n",
       "ashleyobrian         1\n",
       "joeebbs              1\n",
       "Name: review/profileName, Length: 33388, dtype: int64"
      ]
     },
     "execution_count": 50,
     "metadata": {},
     "output_type": "execute_result"
    }
   ],
   "source": [
    "beeradvocate['review/profileName'].value_counts()"
   ]
  },
  {
   "cell_type": "code",
   "execution_count": 51,
   "id": "b8eedc11-35a9-4090-9f78-ee48c34769a1",
   "metadata": {},
   "outputs": [
    {
     "name": "stderr",
     "output_type": "stream",
     "text": [
      "/opt/conda/lib/python3.8/site-packages/seaborn/distributions.py:2619: FutureWarning: `distplot` is a deprecated function and will be removed in a future version. Please adapt your code to use either `displot` (a figure-level function with similar flexibility) or `histplot` (an axes-level function for histograms).\n",
      "  warnings.warn(msg, FutureWarning)\n"
     ]
    },
    {
     "data": {
      "text/plain": [
       "<AxesSubplot:xlabel='review/profileName'>"
      ]
     },
     "execution_count": 51,
     "metadata": {},
     "output_type": "execute_result"
    },
    {
     "data": {
      "image/png": "[encoded data removed]",
      "text/plain": [
       "<Figure size 432x288 with 1 Axes>"
      ]
     },
     "metadata": {
      "needs_background": "light"
     },
     "output_type": "display_data"
    }
   ],
   "source": [
    "# 각 리뷰 개수 별 유저 수 분포\n",
    "sns.distplot(beeradvocate['review/profileName'].value_counts(), kde=False)"
   ]
  },
  {
   "cell_type": "code",
   "execution_count": 52,
   "id": "e00f0426-36eb-4551-a1d4-224f1d2e6878",
   "metadata": {},
   "outputs": [
    {
     "data": {
      "text/plain": [
       "1       10443\n",
       "2        4107\n",
       "3        2426\n",
       "4        1600\n",
       "5        1245\n",
       "        ...  \n",
       "796         1\n",
       "795         1\n",
       "794         1\n",
       "793         1\n",
       "5817        1\n",
       "Name: review/profileName, Length: 1000, dtype: int64"
      ]
     },
     "execution_count": 52,
     "metadata": {},
     "output_type": "execute_result"
    }
   ],
   "source": [
    "beeradvocate['review/profileName'].value_counts().value_counts()"
   ]
  },
  {
   "cell_type": "markdown",
   "id": "47d21b87-4178-4623-9a62-d4ccee403ab8",
   "metadata": {},
   "source": [
    "### review/text"
   ]
  },
  {
   "cell_type": "code",
   "execution_count": 53,
   "id": "1fc6cfcd-94ca-4d7e-828b-e117e107e66c",
   "metadata": {},
   "outputs": [
    {
     "data": {
      "image/png": "[encoded data removed]",
      "text/plain": [
       "<Figure size 432x288 with 1 Axes>"
      ]
     },
     "metadata": {
      "needs_background": "light"
     },
     "output_type": "display_data"
    }
   ],
   "source": [
    "text = beeradvocate['review/text'].values\n",
    "\n",
    "wordcloud = WordCloud().generate(str(text))\n",
    "\n",
    "plt.imshow(wordcloud)\n",
    "plt.axis(\"off\")\n",
    "plt.show()"
   ]
  },
  {
   "cell_type": "code",
   "execution_count": null,
   "id": "45a8cc87-f427-4b90-9d93-0e119b46dfdf",
   "metadata": {},
   "outputs": [],
   "source": []
  }
 ],
 "metadata": {
  "kernelspec": {
   "display_name": "beer",
   "language": "python",
   "name": "beer"
  },
  "language_info": {
   "codemirror_mode": {
    "name": "ipython",
    "version": 3
   },
   "file_extension": ".py",
   "mimetype": "text/x-python",
   "name": "python",
   "nbconvert_exporter": "python",
   "pygments_lexer": "ipython3",
   "version": "3.8.5"
  }
 },
 "nbformat": 4,
 "nbformat_minor": 5
}
