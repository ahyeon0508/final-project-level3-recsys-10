{
 "cells": [
  {
   "cell_type": "code",
   "execution_count": 1,
   "id": "29bcbd9c-2b94-4940-ac5e-cc1bf18cb2cd",
   "metadata": {},
   "outputs": [],
   "source": [
    "import torch\n",
    "import torch.nn as nn\n",
    "import torch.optim as optim\n",
    "from torch.utils.data import DataLoader, Dataset\n",
    "\n",
    "import pandas as pd\n",
    "import numpy as np\n",
    "import matplotlib.pyplot as plt\n",
    "import random\n",
    "import math\n",
    "import seaborn as sns\n",
    "import os\n",
    "from tqdm import tqdm\n",
    "\n",
    "%matplotlib inline\n",
    "\n",
    "from sklearn.model_selection import train_test_split\n",
    "from sklearn.preprocessing import LabelEncoder\n",
    "\n",
    "import warnings\n",
    "warnings.filterwarnings(action='ignore')"
   ]
  },
  {
   "cell_type": "markdown",
   "id": "5510b252-7581-4003-9389-f51ab4fb842b",
   "metadata": {},
   "source": [
    "## dataset"
   ]
  },
  {
   "cell_type": "code",
   "execution_count": 2,
   "id": "860cc5ff-db1f-4de7-9705-a8cfc2a785cb",
   "metadata": {},
   "outputs": [],
   "source": [
    "ratebeer = pd.read_csv(\"../data/train_ratings.csv\")"
   ]
  },
  {
   "cell_type": "markdown",
   "id": "80b1de32-db52-40b7-a3e9-ab2efb39ab43",
   "metadata": {},
   "source": [
    "### normalize"
   ]
  },
  {
   "cell_type": "code",
   "execution_count": null,
   "id": "95067f10-b5e6-4297-9f14-0cef496f2e4c",
   "metadata": {},
   "outputs": [],
   "source": [
    "# ratebeer['review_score'] = ratebeer.groupby('profile_name')['review_score'].transform(lambda x: ((x - x.min() + 1e-6) / (x.max() - x.min() + 1e-6)))"
   ]
  },
  {
   "cell_type": "markdown",
   "id": "4c2f2b12-940d-4e82-9253-f938049bf9c5",
   "metadata": {},
   "source": [
    "### 맥주 점수 분포 체크"
   ]
  },
  {
   "cell_type": "code",
   "execution_count": 3,
   "id": "fd0a6abf-7013-4757-9af0-f5b60cded026",
   "metadata": {},
   "outputs": [
    {
     "name": "stdout",
     "output_type": "stream",
     "text": [
      "<class 'pandas.core.frame.DataFrame'>\n",
      "RangeIndex: 1559177 entries, 0 to 1559176\n",
      "Data columns (total 3 columns):\n",
      " #   Column  Non-Null Count    Dtype  \n",
      "---  ------  --------------    -----  \n",
      " 0   user    1559177 non-null  int64  \n",
      " 1   item    1559177 non-null  int64  \n",
      " 2   time    1559177 non-null  float64\n",
      "dtypes: float64(1), int64(2)\n",
      "memory usage: 35.7 MB\n"
     ]
    }
   ],
   "source": [
    "ratebeer.info()"
   ]
  },
  {
   "cell_type": "code",
   "execution_count": 4,
   "id": "3a0fad76-202b-4938-9eac-95c52a3de817",
   "metadata": {},
   "outputs": [
    {
     "data": {
      "text/plain": [
       "604      3262\n",
       "568      3150\n",
       "603      2823\n",
       "595      2808\n",
       "1262     2755\n",
       "         ... \n",
       "10318       2\n",
       "29431       2\n",
       "25360       2\n",
       "21031       2\n",
       "17226       2\n",
       "Name: user, Length: 21478, dtype: int64"
      ]
     },
     "execution_count": 4,
     "metadata": {},
     "output_type": "execute_result"
    }
   ],
   "source": [
    "ratebeer['user'].value_counts()"
   ]
  },
  {
   "cell_type": "code",
   "execution_count": 5,
   "id": "c8bc565b-9acf-4d36-be81-f88b55b4d1a0",
   "metadata": {},
   "outputs": [
    {
     "data": {
      "text/plain": [
       "9274"
      ]
     },
     "execution_count": 5,
     "metadata": {},
     "output_type": "execute_result"
    }
   ],
   "source": [
    "ratebeer['item'].nunique()"
   ]
  },
  {
   "cell_type": "markdown",
   "id": "1ed65f32-cb28-44d0-9710-e0b9c7ce704e",
   "metadata": {},
   "source": [
    "### preprocessing"
   ]
  },
  {
   "cell_type": "code",
   "execution_count": 6,
   "id": "f3e0526b-0124-4902-bab4-c8de03d5bc6c",
   "metadata": {},
   "outputs": [],
   "source": [
    "def preprocessing_df(df):\n",
    "\n",
    "    \n",
    "    # item, user, rating만 추출\n",
    "    # df = df[['beer_id', 'profile_name', 'review_score', 'image_url']]\n",
    "    # df.rename(columns={'beer_id' : 'item', 'profile_name' : 'user', 'review_score' : 'rating'}, inplace = True) \n",
    "    \n",
    "    df['rating'] = 1\n",
    "#     df['rating_median'] = df.groupby('user')['rating'].transform('median')\n",
    "#     df.loc[df['rating'] > df['rating_median'], 'rating'] = 1\n",
    "#     df.loc[df['rating'] <= df['rating_median'], 'rating'] = 0\n",
    "    \n",
    "    # 유저 리뷰 수 개산\n",
    "#     df['user/reviewcount'] = df.groupby('user')['user'].transform('count')\n",
    "#     # 리뷰 수가 10개 이상인 유저만 남김 \n",
    "#     df = df[(df['user/reviewcount'] >= 10)]\n",
    "    \n",
    "#     df.drop(columns=['user/reviewcount'], inplace=True)\n",
    "    \n",
    "    num_users = df.user.unique().shape[0]\n",
    "    num_items = df.item.unique().shape[0]\n",
    "    return df, num_users, num_items"
   ]
  },
  {
   "cell_type": "code",
   "execution_count": 288,
   "id": "9b60695a-5699-423b-8490-f057cf730690",
   "metadata": {},
   "outputs": [],
   "source": [
    "# ratebeer[ratebeer['profile_name']=='Ungstrup']['review_score'].hist()"
   ]
  },
  {
   "cell_type": "markdown",
   "id": "479b2adc-0830-4c71-b53f-5ddba3cd7236",
   "metadata": {},
   "source": [
    "### Statistics of the Dataset"
   ]
  },
  {
   "cell_type": "code",
   "execution_count": 7,
   "id": "a0bab6d9-401f-43a9-ba4e-8b337841a466",
   "metadata": {},
   "outputs": [
    {
     "name": "stdout",
     "output_type": "stream",
     "text": [
      "number of users: 21478, number of items: 9274\n",
      "matrix sparsity: 0.992172\n",
      "   user    item          time  rating\n",
      "0     0   94349  1.334980e+09       1\n",
      "1     0  113934  1.335147e+09       1\n",
      "2     0  116128  1.335417e+09       1\n",
      "3     0   13324  1.335584e+09       1\n",
      "4     0   59023  1.335765e+09       1\n"
     ]
    }
   ],
   "source": [
    "data, num_users, num_items = preprocessing_df(ratebeer)\n",
    "sparsity = 1 - len(data) / (num_users * num_items)\n",
    "print(f'number of users: {num_users}, number of items: {num_items}')\n",
    "print(f'matrix sparsity: {sparsity:f}')\n",
    "print(data.head())"
   ]
  },
  {
   "cell_type": "markdown",
   "id": "7268e618-8b83-4ba9-8551-eefeeaa0ef7e",
   "metadata": {},
   "source": [
    "### 한국 편의점 맥주만"
   ]
  },
  {
   "cell_type": "code",
   "execution_count": 8,
   "id": "9dbc00fe-2245-44aa-ae70-ce35c43a3517",
   "metadata": {},
   "outputs": [],
   "source": [
    "kor_beer_list = np.array([ 8666,  75661, 614833, 169964,    251,  10726,   5588,   5571,\n",
    "                        703,   6668,   7656,   2228, 135361,    473,  36249,    709,\n",
    "                        12775, 143730,    742,   4007,  72025,  58275, 221535, 291276,\n",
    "                        2469,   2468, 553454,   1088,    721,  30913,    814,  75071,\n",
    "                        715,   1267,     55,  17334,     37, 493355,  64253,  34662,\n",
    "                        136165, 500620,  13833, 506847,  73158,    399,   5159,   3101,\n",
    "                        315443, 552713, 911382, 906973,    268, 550283, 271470,    390,\n",
    "                        71469,  35424,   4701,   2514,   2516, 288954,    405, 303473,\n",
    "                        136785,    647, 632627,   3029,    717, 553245, 580686, 252000,\n",
    "                        21936, 667837,   2811,    729,  71458, 634182,  86387,   1478,\n",
    "                        146878, 146725, 149060,  15747, 718172,   3126, 480225, 268685,\n",
    "                        730, 211962,  64518, 621308,   7580, 452525,   1417,   1486,\n",
    "                        221])\n",
    "\n",
    "data = data[data['item'].isin(kor_beer_list)]"
   ]
  },
  {
   "cell_type": "markdown",
   "id": "ac9a07d0-ab1a-4c6f-b321-fc0902cf00c0",
   "metadata": {},
   "source": [
    "### Label Encoding"
   ]
  },
  {
   "cell_type": "code",
   "execution_count": 9,
   "id": "f1506d94-641d-4cb5-afc0-27f58863a737",
   "metadata": {},
   "outputs": [],
   "source": [
    "user_le = LabelEncoder()\n",
    "item_le = LabelEncoder()\n",
    "data['user_id_idx'] = user_le.fit_transform(data['user'].values)\n",
    "data['item_id_idx'] = item_le.fit_transform(data['item'].values)\n",
    "\n",
    "num_users = data.user.nunique()\n",
    "num_items = data.item.nunique()\n",
    "# data.drop(columns=['user', 'item_id'], inplace=True)"
   ]
  },
  {
   "cell_type": "code",
   "execution_count": 10,
   "id": "a6d7f290-ac27-43d1-a817-8bb4f9a825f3",
   "metadata": {},
   "outputs": [
    {
     "data": {
      "text/plain": [
       "(8704, 75)"
      ]
     },
     "execution_count": 10,
     "metadata": {},
     "output_type": "execute_result"
    }
   ],
   "source": [
    "num_users, num_items"
   ]
  },
  {
   "cell_type": "markdown",
   "id": "07172e2f-530d-488c-a4d7-4f38efb9b5b7",
   "metadata": {},
   "source": [
    "### Loading the data"
   ]
  },
  {
   "cell_type": "code",
   "execution_count": 11,
   "id": "9328902d-9c4e-4d35-b7fe-e048040ba2ae",
   "metadata": {},
   "outputs": [],
   "source": [
    "class BeerDataset(Dataset):\n",
    "    def __init__(self, df, mode='train'):\n",
    "        self.df = df\n",
    "        self.mode = mode\n",
    "        self.train_size = 0.9\n",
    "        self.val_size = 0.1\n",
    "        # self.test_size = 1 - self.train_size - self.val_size \n",
    "\n",
    "        self.num_items = len(self.df['item_id_idx'].unique())\n",
    "        self.num_users = len(self.df['user_id_idx'].unique())\n",
    "        \n",
    "        n_val = int(self.num_users * self.val_size)\n",
    "#         n_test = int(self.num_users * self.test_size)\n",
    "        \n",
    "        np.random.seed(42)\n",
    "        \n",
    "        val_indices = set(np.random.choice(range(self.num_users), n_val, replace = False))\n",
    "        # test_indices = set(random.choices(list(set(range(self.num_users)) - val_indices), k=n_test))\n",
    "        train_indices = set(range(self.num_users)) - val_indices # - test_indices\n",
    "\n",
    "        \n",
    "        if self.mode == 'train':\n",
    "            self.df = self.df[self.df['user_id_idx'].isin(train_indices)]\n",
    "        elif self.mode == 'val':\n",
    "            self.df = self.df[self.df['user_id_idx'].isin(val_indices)]\n",
    "#         else:\n",
    "#             self.df = self.df[self.df['user_id_idx'].isin(test_indices)]\n",
    "        \n",
    "        \n",
    "        self.users = torch.tensor(self.df['user_id_idx'].values)\n",
    "        self.items = torch.tensor(self.df['item_id_idx'].values)\n",
    "        self.ratings = torch.tensor(self.df['rating'].values)\n",
    "        \n",
    "        self.inter_mat = self.make_inter_mat()\n",
    "    \n",
    "    def make_inter_mat(self):\n",
    "        inter_mat = np.zeros((self.num_users, self.num_items))\n",
    "        for user, item, rating in zip(self.users, self.items, self.ratings):\n",
    "            inter_mat[user][item] = rating\n",
    "            \n",
    "\n",
    "        return inter_mat\n",
    "\n",
    "    def __len__(self):\n",
    "        # return len(self.users)\n",
    "        return len(self.inter_mat)\n",
    "\n",
    "    def __getitem__(self, index):\n",
    "        # inter_mat = torch.tensor(self.inter_mat[self.users[index]]).float()\n",
    "        inter_mat = torch.tensor(self.inter_mat[index]).float()\n",
    "\n",
    "        return index, inter_mat"
   ]
  },
  {
   "cell_type": "markdown",
   "id": "a00cddbb-7c6a-4871-b796-92602f7f1ae4",
   "metadata": {},
   "source": [
    "### Autorec Model"
   ]
  },
  {
   "cell_type": "code",
   "execution_count": 12,
   "id": "824e9e06-921d-446f-a93a-767c7837c853",
   "metadata": {},
   "outputs": [],
   "source": [
    "class AutoRec(nn.Module):\n",
    "    def __init__(self, num_hidden, num_items, dropout=0.2):\n",
    "        super(AutoRec, self).__init__()\n",
    "        self.encoder = nn.Linear(num_items, num_hidden)\n",
    "        self.activate = nn.Sigmoid()\n",
    "        self.decoder = nn.Linear(num_hidden, num_items)\n",
    "        self.dropout = nn.Dropout(dropout)\n",
    "\n",
    "    def forward(self, mat):\n",
    "        hidden = self.dropout(self.activate(self.encoder(mat)))\n",
    "        pred = self.activate(self.decoder(hidden))\n",
    "        \n",
    "        return pred"
   ]
  },
  {
   "cell_type": "markdown",
   "id": "1c64864d-aab9-429b-b4b6-d5a319c7bafe",
   "metadata": {},
   "source": [
    "###  Model train, validation"
   ]
  },
  {
   "cell_type": "code",
   "execution_count": 13,
   "id": "2d670b0f-9ed0-4a9b-953b-832f67dcd695",
   "metadata": {},
   "outputs": [],
   "source": [
    "def train(model, train_iter, criterion, optm, device):\n",
    "    model.train() # to train mode\n",
    "    loss_sum = 0\n",
    "    loss_cal_count = 0\n",
    "\n",
    "    for _, inter_mat in train_iter:\n",
    "        inter_mat = inter_mat.to(device)    \n",
    "\n",
    "        preds = model(inter_mat)\n",
    "        loss = criterion(preds, inter_mat)\n",
    "\n",
    "        # Update\n",
    "        optm.zero_grad()      # reset gradient \n",
    "        loss.backward()      # backpropagate\n",
    "        optm.step()      # optimizer update\n",
    "        \n",
    "        if not np.isnan(loss.cpu().detach().numpy()):\n",
    "            loss_cal_count += 1\n",
    "            loss_sum += loss.item()\n",
    "            \n",
    "    loss_avg = loss_sum / loss_cal_count\n",
    "\n",
    "    return loss_avg"
   ]
  },
  {
   "cell_type": "code",
   "execution_count": 14,
   "id": "62571012-7682-460e-b4b6-174a11ea6a5b",
   "metadata": {},
   "outputs": [],
   "source": [
    "def validation(model, valid_iter, criterion, device):\n",
    "    \n",
    "    # np.random.seed(42)\n",
    "    \n",
    "    with torch.no_grad():\n",
    "        model.eval()\n",
    "        loss_sum = 0\n",
    "        loss_cal_count = 0\n",
    "        \n",
    "        for _, inter_mat in valid_iter:\n",
    "            inter_mat = inter_mat.to(device)\n",
    "            \n",
    "            # mask된 input으로 prediction 후 기존 정답 활용 loss값 계산\n",
    "            preds = model(inter_mat)\n",
    "            loss = criterion(preds, inter_mat)\n",
    "            \n",
    "            if not np.isnan(loss.cpu().numpy()):\n",
    "                loss_cal_count += 1\n",
    "                loss_sum += loss.item()\n",
    "      \n",
    "    loss_avg = loss_sum / loss_cal_count\n",
    "\n",
    "    return loss_avg"
   ]
  },
  {
   "cell_type": "code",
   "execution_count": 15,
   "id": "a8b51f04-17b8-4dcd-8f7c-55ebe883d1ec",
   "metadata": {},
   "outputs": [],
   "source": [
    "class AutoRec_loss_fn(nn.Module):\n",
    "\n",
    "    def __init__(self, loss_fn):\n",
    "        super(AutoRec_loss_fn, self).__init__()\n",
    "        self.loss_fn = loss_fn\n",
    "    \n",
    "    def forward(self, pred, y):\n",
    "        y_for_compute = y.clone().to('cpu')\n",
    "        index = np.where(y_for_compute > 0) # FILL HERE : USE np.where & y_for_compute. WARNING: y를 사용 시, y의 device가 gpu일 경우 오류 발생 #\n",
    "        loss = self.loss_fn(pred[index], y[index])\n",
    "        return loss"
   ]
  },
  {
   "cell_type": "code",
   "execution_count": 16,
   "id": "00a37b7a-7095-458c-8fc6-c7c0fe516018",
   "metadata": {},
   "outputs": [],
   "source": [
    "device = torch.device('cuda:0' if torch.cuda.is_available() else 'cpu')\n",
    "\n",
    "num_epochs = 50\n",
    "lr = 0.001\n",
    "batch_size = 16\n",
    "\n",
    "PATH = '../model/autorec_implicit_korean_test.pt'\n",
    "patience = 5\n",
    "\n",
    "num_items = data.item_id_idx.nunique()\n",
    "num_hidden = 40"
   ]
  },
  {
   "cell_type": "code",
   "execution_count": 17,
   "id": "d25de793-cb99-4cc4-9c40-0c7458946dd3",
   "metadata": {},
   "outputs": [],
   "source": [
    "train_dataset = BeerDataset(df=data, mode='train')\n",
    "val_dataset = BeerDataset(df=data, mode='val')\n",
    "\n",
    "train_dataloader = DataLoader(dataset=train_dataset, batch_size=batch_size, shuffle=True) \n",
    "val_dataloader = DataLoader(dataset=val_dataset, batch_size=1, shuffle=False)"
   ]
  },
  {
   "cell_type": "code",
   "execution_count": 18,
   "id": "bb92211c-ca43-431c-87f0-b86093d2a600",
   "metadata": {},
   "outputs": [],
   "source": [
    "model = AutoRec(num_hidden, num_items).to(device)\n",
    "# loss = AutoRec_loss_fn(nn.MSELoss().to(device)).to(device)\n",
    "# loss = nn.BCEWithLogitsLoss().to(device)\n",
    "loss = nn.BCELoss().to(device)\n",
    "optm = optim.Adam(model.parameters(),lr=lr)"
   ]
  },
  {
   "cell_type": "code",
   "execution_count": 19,
   "id": "bb46cd6f-589a-48e6-b97d-11b423ddda61",
   "metadata": {},
   "outputs": [],
   "source": [
    "class EarlyStopping:\n",
    "    \"\"\"주어진 patience 이후로 validation loss가 개선되지 않으면 학습을 조기 중지\"\"\"\n",
    "    def __init__(self, patience=7, verbose=False, delta=0, path='checkpoint.pt'):\n",
    "        \"\"\"\n",
    "        Args:\n",
    "            patience (int): validation loss가 개선된 후 기다리는 기간\n",
    "                            Default: 7\n",
    "            verbose (bool): True일 경우 각 validation loss의 개선 사항 메세지 출력\n",
    "                            Default: False\n",
    "            delta (float): 개선되었다고 인정되는 monitered quantity의 최소 변화\n",
    "                            Default: 0\n",
    "            path (str): checkpoint저장 경로\n",
    "                            Default: 'checkpoint.pt'\n",
    "        \"\"\"\n",
    "        self.patience = patience\n",
    "        self.verbose = verbose\n",
    "        self.counter = 0\n",
    "        self.best_score = None\n",
    "        self.early_stop = False\n",
    "        self.val_loss_min = np.Inf\n",
    "        self.delta = delta\n",
    "        self.path = path\n",
    "\n",
    "    def __call__(self, val_loss, model):\n",
    "\n",
    "        score = -val_loss\n",
    "\n",
    "        if self.best_score is None:\n",
    "            self.best_score = score\n",
    "            self.save_checkpoint(val_loss, model)\n",
    "        elif score < self.best_score + self.delta:\n",
    "            self.counter += 1\n",
    "            print(f'EarlyStopping counter: {self.counter} out of {self.patience}')\n",
    "            if self.counter >= self.patience:\n",
    "                self.early_stop = True\n",
    "        else:\n",
    "            self.best_score = score\n",
    "            self.save_checkpoint(val_loss, model)\n",
    "            self.counter = 0\n",
    "\n",
    "    def save_checkpoint(self, val_loss, model):\n",
    "        '''validation loss가 감소하면 모델을 저장한다.'''\n",
    "        if self.verbose:\n",
    "            print(f'Validation loss decreased ({self.val_loss_min:.6f} --> {val_loss:.6f}).  Saving model ...')\n",
    "        torch.save(model.state_dict(), self.path)\n",
    "        self.val_loss_min = val_loss"
   ]
  },
  {
   "cell_type": "code",
   "execution_count": 20,
   "id": "888f186e-1bb8-40d8-9815-4348378acba1",
   "metadata": {},
   "outputs": [
    {
     "name": "stderr",
     "output_type": "stream",
     "text": [
      "  2%|▎               | 1/50 [00:04<03:48,  4.66s/it]"
     ]
    },
    {
     "name": "stdout",
     "output_type": "stream",
     "text": [
      "Validation loss decreased (inf --> 0.058024).  Saving model ...\n",
      "epoch: 0, train Loss: 0.1823, test Loss: 0.0580\n"
     ]
    },
    {
     "name": "stderr",
     "output_type": "stream",
     "text": [
      "  4%|▋               | 2/50 [00:08<03:23,  4.25s/it]"
     ]
    },
    {
     "name": "stdout",
     "output_type": "stream",
     "text": [
      "Validation loss decreased (0.058024 --> 0.034044).  Saving model ...\n",
      "epoch: 1, train Loss: 0.1023, test Loss: 0.0340\n"
     ]
    },
    {
     "name": "stderr",
     "output_type": "stream",
     "text": [
      "  6%|▉               | 3/50 [00:12<03:14,  4.14s/it]"
     ]
    },
    {
     "name": "stdout",
     "output_type": "stream",
     "text": [
      "Validation loss decreased (0.034044 --> 0.022782).  Saving model ...\n",
      "epoch: 2, train Loss: 0.0874, test Loss: 0.0228\n"
     ]
    },
    {
     "name": "stderr",
     "output_type": "stream",
     "text": [
      "  8%|█▎              | 4/50 [00:16<03:12,  4.19s/it]"
     ]
    },
    {
     "name": "stdout",
     "output_type": "stream",
     "text": [
      "Validation loss decreased (0.022782 --> 0.017426).  Saving model ...\n",
      "epoch: 3, train Loss: 0.0775, test Loss: 0.0174\n"
     ]
    },
    {
     "name": "stderr",
     "output_type": "stream",
     "text": [
      " 10%|█▌              | 5/50 [00:20<03:06,  4.14s/it]"
     ]
    },
    {
     "name": "stdout",
     "output_type": "stream",
     "text": [
      "Validation loss decreased (0.017426 --> 0.013778).  Saving model ...\n",
      "epoch: 4, train Loss: 0.0682, test Loss: 0.0138\n"
     ]
    },
    {
     "name": "stderr",
     "output_type": "stream",
     "text": [
      " 12%|█▉              | 6/50 [00:24<03:00,  4.10s/it]"
     ]
    },
    {
     "name": "stdout",
     "output_type": "stream",
     "text": [
      "Validation loss decreased (0.013778 --> 0.010634).  Saving model ...\n",
      "epoch: 5, train Loss: 0.0586, test Loss: 0.0106\n"
     ]
    },
    {
     "name": "stderr",
     "output_type": "stream",
     "text": [
      " 14%|██▏             | 7/50 [00:28<02:55,  4.08s/it]"
     ]
    },
    {
     "name": "stdout",
     "output_type": "stream",
     "text": [
      "Validation loss decreased (0.010634 --> 0.008378).  Saving model ...\n",
      "epoch: 6, train Loss: 0.0507, test Loss: 0.0084\n"
     ]
    },
    {
     "name": "stderr",
     "output_type": "stream",
     "text": [
      " 16%|██▌             | 8/50 [00:33<02:52,  4.11s/it]"
     ]
    },
    {
     "name": "stdout",
     "output_type": "stream",
     "text": [
      "Validation loss decreased (0.008378 --> 0.006805).  Saving model ...\n",
      "epoch: 7, train Loss: 0.0443, test Loss: 0.0068\n"
     ]
    },
    {
     "name": "stderr",
     "output_type": "stream",
     "text": [
      " 18%|██▉             | 9/50 [00:37<02:45,  4.05s/it]"
     ]
    },
    {
     "name": "stdout",
     "output_type": "stream",
     "text": [
      "Validation loss decreased (0.006805 --> 0.005674).  Saving model ...\n",
      "epoch: 8, train Loss: 0.0395, test Loss: 0.0057\n"
     ]
    },
    {
     "name": "stderr",
     "output_type": "stream",
     "text": [
      " 20%|███            | 10/50 [00:41<02:40,  4.01s/it]"
     ]
    },
    {
     "name": "stdout",
     "output_type": "stream",
     "text": [
      "Validation loss decreased (0.005674 --> 0.004813).  Saving model ...\n",
      "epoch: 9, train Loss: 0.0359, test Loss: 0.0048\n"
     ]
    },
    {
     "name": "stderr",
     "output_type": "stream",
     "text": [
      " 22%|███▎           | 11/50 [00:45<02:36,  4.02s/it]"
     ]
    },
    {
     "name": "stdout",
     "output_type": "stream",
     "text": [
      "Validation loss decreased (0.004813 --> 0.004185).  Saving model ...\n",
      "epoch: 10, train Loss: 0.0329, test Loss: 0.0042\n"
     ]
    },
    {
     "name": "stderr",
     "output_type": "stream",
     "text": [
      " 24%|███▌           | 12/50 [00:49<02:35,  4.10s/it]"
     ]
    },
    {
     "name": "stdout",
     "output_type": "stream",
     "text": [
      "Validation loss decreased (0.004185 --> 0.003745).  Saving model ...\n",
      "epoch: 11, train Loss: 0.0307, test Loss: 0.0037\n"
     ]
    },
    {
     "name": "stderr",
     "output_type": "stream",
     "text": [
      " 26%|███▉           | 13/50 [00:53<02:31,  4.10s/it]"
     ]
    },
    {
     "name": "stdout",
     "output_type": "stream",
     "text": [
      "Validation loss decreased (0.003745 --> 0.003362).  Saving model ...\n",
      "epoch: 12, train Loss: 0.0289, test Loss: 0.0034\n"
     ]
    },
    {
     "name": "stderr",
     "output_type": "stream",
     "text": [
      " 28%|████▏          | 14/50 [00:57<02:30,  4.19s/it]"
     ]
    },
    {
     "name": "stdout",
     "output_type": "stream",
     "text": [
      "Validation loss decreased (0.003362 --> 0.003092).  Saving model ...\n",
      "epoch: 13, train Loss: 0.0270, test Loss: 0.0031\n"
     ]
    },
    {
     "name": "stderr",
     "output_type": "stream",
     "text": [
      " 30%|████▌          | 15/50 [01:01<02:24,  4.14s/it]"
     ]
    },
    {
     "name": "stdout",
     "output_type": "stream",
     "text": [
      "Validation loss decreased (0.003092 --> 0.002856).  Saving model ...\n",
      "epoch: 14, train Loss: 0.0256, test Loss: 0.0029\n"
     ]
    },
    {
     "name": "stderr",
     "output_type": "stream",
     "text": [
      " 32%|████▊          | 16/50 [01:06<02:21,  4.16s/it]"
     ]
    },
    {
     "name": "stdout",
     "output_type": "stream",
     "text": [
      "Validation loss decreased (0.002856 --> 0.002637).  Saving model ...\n",
      "epoch: 15, train Loss: 0.0244, test Loss: 0.0026\n"
     ]
    },
    {
     "name": "stderr",
     "output_type": "stream",
     "text": [
      " 34%|█████          | 17/50 [01:10<02:15,  4.10s/it]"
     ]
    },
    {
     "name": "stdout",
     "output_type": "stream",
     "text": [
      "Validation loss decreased (0.002637 --> 0.002469).  Saving model ...\n",
      "epoch: 16, train Loss: 0.0231, test Loss: 0.0025\n"
     ]
    },
    {
     "name": "stderr",
     "output_type": "stream",
     "text": [
      " 36%|█████▍         | 18/50 [01:14<02:10,  4.08s/it]"
     ]
    },
    {
     "name": "stdout",
     "output_type": "stream",
     "text": [
      "Validation loss decreased (0.002469 --> 0.002309).  Saving model ...\n",
      "epoch: 17, train Loss: 0.0223, test Loss: 0.0023\n"
     ]
    },
    {
     "name": "stderr",
     "output_type": "stream",
     "text": [
      " 38%|█████▋         | 19/50 [01:18<02:06,  4.07s/it]"
     ]
    },
    {
     "name": "stdout",
     "output_type": "stream",
     "text": [
      "Validation loss decreased (0.002309 --> 0.002173).  Saving model ...\n",
      "epoch: 18, train Loss: 0.0215, test Loss: 0.0022\n"
     ]
    },
    {
     "name": "stderr",
     "output_type": "stream",
     "text": [
      " 40%|██████         | 20/50 [01:22<02:03,  4.12s/it]"
     ]
    },
    {
     "name": "stdout",
     "output_type": "stream",
     "text": [
      "Validation loss decreased (0.002173 --> 0.002065).  Saving model ...\n",
      "epoch: 19, train Loss: 0.0205, test Loss: 0.0021\n"
     ]
    },
    {
     "name": "stderr",
     "output_type": "stream",
     "text": [
      " 42%|██████▎        | 21/50 [01:26<01:58,  4.08s/it]"
     ]
    },
    {
     "name": "stdout",
     "output_type": "stream",
     "text": [
      "Validation loss decreased (0.002065 --> 0.001961).  Saving model ...\n",
      "epoch: 20, train Loss: 0.0199, test Loss: 0.0020\n"
     ]
    },
    {
     "name": "stderr",
     "output_type": "stream",
     "text": [
      " 44%|██████▌        | 22/50 [01:30<01:53,  4.06s/it]"
     ]
    },
    {
     "name": "stdout",
     "output_type": "stream",
     "text": [
      "Validation loss decreased (0.001961 --> 0.001863).  Saving model ...\n",
      "epoch: 21, train Loss: 0.0194, test Loss: 0.0019\n"
     ]
    },
    {
     "name": "stderr",
     "output_type": "stream",
     "text": [
      " 46%|██████▉        | 23/50 [01:34<01:49,  4.06s/it]"
     ]
    },
    {
     "name": "stdout",
     "output_type": "stream",
     "text": [
      "Validation loss decreased (0.001863 --> 0.001778).  Saving model ...\n",
      "epoch: 22, train Loss: 0.0186, test Loss: 0.0018\n"
     ]
    },
    {
     "name": "stderr",
     "output_type": "stream",
     "text": [
      " 48%|███████▏       | 24/50 [01:38<01:45,  4.05s/it]"
     ]
    },
    {
     "name": "stdout",
     "output_type": "stream",
     "text": [
      "Validation loss decreased (0.001778 --> 0.001703).  Saving model ...\n",
      "epoch: 23, train Loss: 0.0182, test Loss: 0.0017\n"
     ]
    },
    {
     "name": "stderr",
     "output_type": "stream",
     "text": [
      " 50%|███████▌       | 25/50 [01:42<01:40,  4.04s/it]"
     ]
    },
    {
     "name": "stdout",
     "output_type": "stream",
     "text": [
      "Validation loss decreased (0.001703 --> 0.001624).  Saving model ...\n",
      "epoch: 24, train Loss: 0.0176, test Loss: 0.0016\n"
     ]
    },
    {
     "name": "stderr",
     "output_type": "stream",
     "text": [
      " 52%|███████▊       | 26/50 [01:46<01:36,  4.01s/it]"
     ]
    },
    {
     "name": "stdout",
     "output_type": "stream",
     "text": [
      "Validation loss decreased (0.001624 --> 0.001574).  Saving model ...\n",
      "epoch: 25, train Loss: 0.0172, test Loss: 0.0016\n"
     ]
    },
    {
     "name": "stderr",
     "output_type": "stream",
     "text": [
      " 54%|████████       | 27/50 [01:50<01:31,  3.99s/it]"
     ]
    },
    {
     "name": "stdout",
     "output_type": "stream",
     "text": [
      "Validation loss decreased (0.001574 --> 0.001512).  Saving model ...\n",
      "epoch: 26, train Loss: 0.0168, test Loss: 0.0015\n"
     ]
    },
    {
     "name": "stderr",
     "output_type": "stream",
     "text": [
      " 56%|████████▍      | 28/50 [01:54<01:27,  3.98s/it]"
     ]
    },
    {
     "name": "stdout",
     "output_type": "stream",
     "text": [
      "Validation loss decreased (0.001512 --> 0.001463).  Saving model ...\n",
      "epoch: 27, train Loss: 0.0162, test Loss: 0.0015\n"
     ]
    },
    {
     "name": "stderr",
     "output_type": "stream",
     "text": [
      " 58%|████████▋      | 29/50 [01:58<01:26,  4.11s/it]"
     ]
    },
    {
     "name": "stdout",
     "output_type": "stream",
     "text": [
      "Validation loss decreased (0.001463 --> 0.001406).  Saving model ...\n",
      "epoch: 28, train Loss: 0.0158, test Loss: 0.0014\n"
     ]
    },
    {
     "name": "stderr",
     "output_type": "stream",
     "text": [
      " 60%|█████████      | 30/50 [02:02<01:21,  4.07s/it]"
     ]
    },
    {
     "name": "stdout",
     "output_type": "stream",
     "text": [
      "Validation loss decreased (0.001406 --> 0.001362).  Saving model ...\n",
      "epoch: 29, train Loss: 0.0156, test Loss: 0.0014\n"
     ]
    },
    {
     "name": "stderr",
     "output_type": "stream",
     "text": [
      " 62%|█████████▎     | 31/50 [02:06<01:16,  4.04s/it]"
     ]
    },
    {
     "name": "stdout",
     "output_type": "stream",
     "text": [
      "Validation loss decreased (0.001362 --> 0.001326).  Saving model ...\n",
      "epoch: 30, train Loss: 0.0152, test Loss: 0.0013\n"
     ]
    },
    {
     "name": "stderr",
     "output_type": "stream",
     "text": [
      " 64%|█████████▌     | 32/50 [02:10<01:12,  4.01s/it]"
     ]
    },
    {
     "name": "stdout",
     "output_type": "stream",
     "text": [
      "Validation loss decreased (0.001326 --> 0.001285).  Saving model ...\n",
      "epoch: 31, train Loss: 0.0151, test Loss: 0.0013\n"
     ]
    },
    {
     "name": "stderr",
     "output_type": "stream",
     "text": [
      " 66%|█████████▉     | 33/50 [02:14<01:09,  4.11s/it]"
     ]
    },
    {
     "name": "stdout",
     "output_type": "stream",
     "text": [
      "Validation loss decreased (0.001285 --> 0.001250).  Saving model ...\n",
      "epoch: 32, train Loss: 0.0149, test Loss: 0.0013\n"
     ]
    },
    {
     "name": "stderr",
     "output_type": "stream",
     "text": [
      " 68%|██████████▏    | 34/50 [02:18<01:04,  4.04s/it]"
     ]
    },
    {
     "name": "stdout",
     "output_type": "stream",
     "text": [
      "Validation loss decreased (0.001250 --> 0.001227).  Saving model ...\n",
      "epoch: 33, train Loss: 0.0146, test Loss: 0.0012\n"
     ]
    },
    {
     "name": "stderr",
     "output_type": "stream",
     "text": [
      " 70%|██████████▌    | 35/50 [02:22<00:59,  3.99s/it]"
     ]
    },
    {
     "name": "stdout",
     "output_type": "stream",
     "text": [
      "Validation loss decreased (0.001227 --> 0.001193).  Saving model ...\n",
      "epoch: 34, train Loss: 0.0144, test Loss: 0.0012\n"
     ]
    },
    {
     "name": "stderr",
     "output_type": "stream",
     "text": [
      " 72%|██████████▊    | 36/50 [02:26<00:55,  3.96s/it]"
     ]
    },
    {
     "name": "stdout",
     "output_type": "stream",
     "text": [
      "Validation loss decreased (0.001193 --> 0.001171).  Saving model ...\n",
      "epoch: 35, train Loss: 0.0142, test Loss: 0.0012\n"
     ]
    },
    {
     "name": "stderr",
     "output_type": "stream",
     "text": [
      " 74%|███████████    | 37/50 [02:30<00:52,  4.00s/it]"
     ]
    },
    {
     "name": "stdout",
     "output_type": "stream",
     "text": [
      "Validation loss decreased (0.001171 --> 0.001147).  Saving model ...\n",
      "epoch: 36, train Loss: 0.0138, test Loss: 0.0011\n"
     ]
    },
    {
     "name": "stderr",
     "output_type": "stream",
     "text": [
      " 76%|███████████▍   | 38/50 [02:34<00:47,  3.98s/it]"
     ]
    },
    {
     "name": "stdout",
     "output_type": "stream",
     "text": [
      "Validation loss decreased (0.001147 --> 0.001118).  Saving model ...\n",
      "epoch: 37, train Loss: 0.0137, test Loss: 0.0011\n"
     ]
    },
    {
     "name": "stderr",
     "output_type": "stream",
     "text": [
      " 78%|███████████▋   | 39/50 [02:38<00:43,  3.96s/it]"
     ]
    },
    {
     "name": "stdout",
     "output_type": "stream",
     "text": [
      "Validation loss decreased (0.001118 --> 0.001099).  Saving model ...\n",
      "epoch: 38, train Loss: 0.0136, test Loss: 0.0011\n"
     ]
    },
    {
     "name": "stderr",
     "output_type": "stream",
     "text": [
      " 80%|████████████   | 40/50 [02:42<00:39,  3.95s/it]"
     ]
    },
    {
     "name": "stdout",
     "output_type": "stream",
     "text": [
      "Validation loss decreased (0.001099 --> 0.001078).  Saving model ...\n",
      "epoch: 39, train Loss: 0.0134, test Loss: 0.0011\n"
     ]
    },
    {
     "name": "stderr",
     "output_type": "stream",
     "text": [
      " 82%|████████████▎  | 41/50 [02:46<00:35,  3.97s/it]"
     ]
    },
    {
     "name": "stdout",
     "output_type": "stream",
     "text": [
      "Validation loss decreased (0.001078 --> 0.001060).  Saving model ...\n",
      "epoch: 40, train Loss: 0.0132, test Loss: 0.0011\n"
     ]
    },
    {
     "name": "stderr",
     "output_type": "stream",
     "text": [
      " 84%|████████████▌  | 42/50 [02:50<00:31,  3.98s/it]"
     ]
    },
    {
     "name": "stdout",
     "output_type": "stream",
     "text": [
      "Validation loss decreased (0.001060 --> 0.001042).  Saving model ...\n",
      "epoch: 41, train Loss: 0.0128, test Loss: 0.0010\n"
     ]
    },
    {
     "name": "stderr",
     "output_type": "stream",
     "text": [
      " 86%|████████████▉  | 43/50 [02:54<00:27,  3.95s/it]"
     ]
    },
    {
     "name": "stdout",
     "output_type": "stream",
     "text": [
      "Validation loss decreased (0.001042 --> 0.001026).  Saving model ...\n",
      "epoch: 42, train Loss: 0.0132, test Loss: 0.0010\n"
     ]
    },
    {
     "name": "stderr",
     "output_type": "stream",
     "text": [
      " 88%|█████████████▏ | 44/50 [02:58<00:23,  3.93s/it]"
     ]
    },
    {
     "name": "stdout",
     "output_type": "stream",
     "text": [
      "Validation loss decreased (0.001026 --> 0.001010).  Saving model ...\n",
      "epoch: 43, train Loss: 0.0127, test Loss: 0.0010\n"
     ]
    },
    {
     "name": "stderr",
     "output_type": "stream",
     "text": [
      " 90%|█████████████▌ | 45/50 [03:02<00:19,  3.96s/it]"
     ]
    },
    {
     "name": "stdout",
     "output_type": "stream",
     "text": [
      "Validation loss decreased (0.001010 --> 0.000999).  Saving model ...\n",
      "epoch: 44, train Loss: 0.0125, test Loss: 0.0010\n"
     ]
    },
    {
     "name": "stderr",
     "output_type": "stream",
     "text": [
      " 92%|█████████████▊ | 46/50 [03:06<00:15,  3.98s/it]"
     ]
    },
    {
     "name": "stdout",
     "output_type": "stream",
     "text": [
      "Validation loss decreased (0.000999 --> 0.000984).  Saving model ...\n",
      "epoch: 45, train Loss: 0.0126, test Loss: 0.0010\n"
     ]
    },
    {
     "name": "stderr",
     "output_type": "stream",
     "text": [
      " 94%|██████████████ | 47/50 [03:10<00:11,  3.98s/it]"
     ]
    },
    {
     "name": "stdout",
     "output_type": "stream",
     "text": [
      "Validation loss decreased (0.000984 --> 0.000975).  Saving model ...\n",
      "epoch: 46, train Loss: 0.0124, test Loss: 0.0010\n"
     ]
    },
    {
     "name": "stderr",
     "output_type": "stream",
     "text": [
      " 96%|██████████████▍| 48/50 [03:14<00:07,  3.98s/it]"
     ]
    },
    {
     "name": "stdout",
     "output_type": "stream",
     "text": [
      "Validation loss decreased (0.000975 --> 0.000962).  Saving model ...\n",
      "epoch: 47, train Loss: 0.0121, test Loss: 0.0010\n"
     ]
    },
    {
     "name": "stderr",
     "output_type": "stream",
     "text": [
      " 98%|██████████████▋| 49/50 [03:18<00:03,  3.97s/it]"
     ]
    },
    {
     "name": "stdout",
     "output_type": "stream",
     "text": [
      "Validation loss decreased (0.000962 --> 0.000950).  Saving model ...\n",
      "epoch: 48, train Loss: 0.0122, test Loss: 0.0010\n"
     ]
    },
    {
     "name": "stderr",
     "output_type": "stream",
     "text": [
      "100%|███████████████| 50/50 [03:22<00:00,  4.05s/it]"
     ]
    },
    {
     "name": "stdout",
     "output_type": "stream",
     "text": [
      "Validation loss decreased (0.000950 --> 0.000940).  Saving model ...\n",
      "epoch: 49, train Loss: 0.0119, test Loss: 0.0009\n"
     ]
    },
    {
     "name": "stderr",
     "output_type": "stream",
     "text": [
      "\n"
     ]
    },
    {
     "data": {
      "image/png": "[encoded data removed]",
      "text/plain": [
       "<Figure size 720x360 with 1 Axes>"
      ]
     },
     "metadata": {
      "needs_background": "light"
     },
     "output_type": "display_data"
    }
   ],
   "source": [
    "train_losses = []\n",
    "val_losses = []\n",
    "\n",
    "early_stopping = EarlyStopping(patience = patience, verbose = True, path=PATH)\n",
    "\n",
    "for epoch in tqdm(range(num_epochs)):\n",
    "\n",
    "    train_loss = train(model, train_dataloader, loss, optm, device)\n",
    "    val_loss = validation(model, val_dataloader, loss, device)\n",
    "\n",
    "    train_losses.append(train_loss)\n",
    "    val_losses.append(val_loss)\n",
    "    \n",
    "    early_stopping(val_loss, model)\n",
    "\n",
    "    if early_stopping.early_stop:\n",
    "        print(\"Early stopping\")\n",
    "        break\n",
    "        \n",
    "    print(f'epoch: {epoch}, train Loss: {train_loss:.4f}, test Loss: {val_loss:.4f}')\n",
    "\n",
    "plt.figure(figsize=(10,5))\n",
    "plt.plot(train_losses,label=\"train_loss\")\n",
    "plt.plot(val_losses,label=\"val_loss\")\n",
    "plt.xlabel(\"epoch\")\n",
    "plt.ylabel(\"Loss\")\n",
    "plt.legend()\n",
    "plt.show()"
   ]
  },
  {
   "cell_type": "markdown",
   "id": "e9ececd1-0882-42fe-8891-6dc6a7d8e81a",
   "metadata": {},
   "source": [
    "### 모델 불러오기"
   ]
  },
  {
   "cell_type": "code",
   "execution_count": 21,
   "id": "1c7802a9-a41b-41a9-a485-ca7c0cc4683a",
   "metadata": {},
   "outputs": [
    {
     "data": {
      "text/plain": [
       "<All keys matched successfully>"
      ]
     },
     "execution_count": 21,
     "metadata": {},
     "output_type": "execute_result"
    }
   ],
   "source": [
    "model = AutoRec(num_hidden, num_items).to(device)\n",
    "model.load_state_dict(torch.load(PATH))"
   ]
  },
  {
   "cell_type": "markdown",
   "id": "60376f21-cbba-432e-a816-8fe05f07ec31",
   "metadata": {},
   "source": [
    "### test"
   ]
  },
  {
   "cell_type": "code",
   "execution_count": 22,
   "id": "dda3bb25-6b21-484e-842e-c51e971eb7cc",
   "metadata": {},
   "outputs": [],
   "source": [
    "test_data = pd.read_csv(\"../data/test_file.csv\")"
   ]
  },
  {
   "cell_type": "code",
   "execution_count": 23,
   "id": "83372e59-32c7-4bcf-a1f1-07b40eaa17ec",
   "metadata": {},
   "outputs": [],
   "source": [
    "test_data['rating'] = 1"
   ]
  },
  {
   "cell_type": "code",
   "execution_count": 24,
   "id": "27945a30-299f-46ff-b3e8-9e9f08d9188e",
   "metadata": {},
   "outputs": [],
   "source": [
    "kor_beer_list = np.array([ 8666,  75661, 614833, 169964,    251,  10726,   5588,   5571,\n",
    "                        703,   6668,   7656,   2228, 135361,    473,  36249,    709,\n",
    "                        12775, 143730,    742,   4007,  72025,  58275, 221535, 291276,\n",
    "                        2469,   2468, 553454,   1088,    721,  30913,    814,  75071,\n",
    "                        715,   1267,     55,  17334,     37, 493355,  64253,  34662,\n",
    "                        136165, 500620,  13833, 506847,  73158,    399,   5159,   3101,\n",
    "                        315443, 552713, 911382, 906973,    268, 550283, 271470,    390,\n",
    "                        71469,  35424,   4701,   2514,   2516, 288954,    405, 303473,\n",
    "                        136785,    647, 632627,   3029,    717, 553245, 580686, 252000,\n",
    "                        21936, 667837,   2811,    729,  71458, 634182,  86387,   1478,\n",
    "                        146878, 146725, 149060,  15747, 718172,   3126, 480225, 268685,\n",
    "                        730, 211962,  64518, 621308,   7580, 452525,   1417,   1486,\n",
    "                        221])\n",
    "test_data = test_data[test_data['item'].isin(kor_beer_list)]"
   ]
  },
  {
   "cell_type": "code",
   "execution_count": 25,
   "id": "23c92776-3e54-46fd-a4fe-42602112dade",
   "metadata": {},
   "outputs": [],
   "source": [
    "user_le = LabelEncoder()\n",
    "# item_le = LabelEncoder()\n",
    "test_data['user_id_idx'] = user_le.fit_transform(test_data['user'].values)\n",
    "test_data['item_id_idx'] = item_le.transform(test_data['item'].values)\n",
    "\n",
    "# data.drop(columns=['user', 'item_id'], inplace=True)"
   ]
  },
  {
   "cell_type": "code",
   "execution_count": 26,
   "id": "1f232fda-06da-4bb2-a44c-3884aa171969",
   "metadata": {},
   "outputs": [],
   "source": [
    "test_users = torch.tensor(test_data['user_id_idx'].values)\n",
    "test_items = torch.tensor(test_data['item_id_idx'].values)\n",
    "test_ratings = torch.tensor(test_data['rating'].values)\n",
    "\n",
    "def make_inter_mat():\n",
    "    inter_mat = np.zeros((num_users, num_items))\n",
    "    for user, item, rating in zip(test_users, test_items, test_ratings):\n",
    "        inter_mat[user][item] = rating\n",
    "\n",
    "    return inter_mat\n",
    "\n",
    "inter_mat = make_inter_mat()"
   ]
  },
  {
   "cell_type": "markdown",
   "id": "efbb1de0-49c0-49a0-a497-07b2f21332e5",
   "metadata": {},
   "source": [
    "### 평가지표"
   ]
  },
  {
   "cell_type": "code",
   "execution_count": 27,
   "id": "0412eb1f-f4e0-4472-90c2-acbc44b95a0c",
   "metadata": {},
   "outputs": [],
   "source": [
    "def ndcg_k_inf(actual, predicted, topk):\n",
    "    res = 0\n",
    "    k = min(topk, len(actual))\n",
    "    idcg = idcg_k(k)\n",
    "    dcg_k = sum(\n",
    "        [\n",
    "            int(predicted[j] in set(actual)) / math.log(j + 2, 2)\n",
    "            for j in range(topk)\n",
    "        ]\n",
    "    )\n",
    "    res += dcg_k / idcg\n",
    "    if len(actual):\n",
    "        return res / float(len(actual))\n",
    "    else:\n",
    "        return 0\n",
    "\n",
    "# Calculates the ideal discounted cumulative gain at k\n",
    "def idcg_k(k):\n",
    "    res = sum([1.0 / math.log(i + 2, 2) for i in range(k)])\n",
    "    if not res:\n",
    "        return 1.0\n",
    "    else:\n",
    "        return res\n",
    "\n",
    "def recall_at_k_inf(actual, predicted, topk):\n",
    "    act_set = set(actual)\n",
    "    pred_set = set(predicted[:topk])\n",
    "    if len(act_set) != 0:\n",
    "        sum_recall = len(act_set & pred_set) / float(len(act_set))\n",
    "    else:\n",
    "        sum_recall = 0\n",
    "    return sum_recall"
   ]
  },
  {
   "cell_type": "code",
   "execution_count": 28,
   "id": "8c5abc76-e97c-4162-bf21-24a274ebb3e6",
   "metadata": {},
   "outputs": [
    {
     "name": "stdout",
     "output_type": "stream",
     "text": [
      "ndcg = 0.02157911207314941, recall@10 = 0.18230698529411363\n"
     ]
    }
   ],
   "source": [
    "topk = 10\n",
    "ndcg = 0\n",
    "recall = 0\n",
    "ndcg_count = 0\n",
    "recall_count = 0\n",
    "\n",
    "for x_test in inter_mat:\n",
    "    x_test = torch.tensor(x_test, dtype = torch.float32).to(device)\n",
    "    # 추천 맥주 개수\n",
    "\n",
    "    # 모델 에측 맥주 평점\n",
    "    rating_pred = model(x_test)\n",
    "\n",
    "    rating_pred = rating_pred.cpu().data.numpy().copy()\n",
    "    # print(rating_pred)\n",
    "    \n",
    "    # answers = x_test.cpu().numpy().argsort()[x_test.cpu().numpy() == 1]\n",
    "    answers = x_test.cpu().numpy().argsort()[-topk:][::-1]\n",
    "    # print(answers)\n",
    "\n",
    "    # user가 리뷰를 남긴 맥주 추천하고 싶지 않을 때 사용\n",
    "\n",
    "    # if novelty:\n",
    "    # 좋아요, 싫어요로 직접 평가한 맥주는 다시 추천하지 않도록 설정\n",
    "    # rating_pred_kor[x_test_kor.cpu().numpy() == rating_list[0]] = rating_pred_kor.min()\n",
    "    # rating_pred_kor[x_test_kor.cpu().numpy() == rating_list[2]] = rating_pred_kor.min()\n",
    "    # rating_pred[x_test.cpu().numpy() > 0] = rating_pred.min()\n",
    "    # print(rating_pred)\n",
    "\n",
    "    # topk 맥주 index\n",
    "    ind = np.argpartition(rating_pred, -topk)[-topk:]\n",
    "    # print(ind)\n",
    "\n",
    "    # topk 맥주 index별 평점\n",
    "    arr_ind = rating_pred[ind]\n",
    "    # print(arr_ind)\n",
    "\n",
    "    # 평점 기준으로 내림차순으로 정렬\n",
    "    arr_ind_argsort = np.argsort(arr_ind)[::-1]\n",
    "    # print(arr_ind_argsort)\n",
    "\n",
    "    # rating 내림차순 모델 예측 topk 맥주 index \n",
    "    topk_pred_list = ind[arr_ind_argsort]\n",
    "    # print(topk_pred_list)\n",
    "\n",
    "    # rating 내림차순 모델 예측 맥주 평점 중 topk개\n",
    "    topk_rating_list = rating_pred[topk_pred_list] #rating_pred[np.arange(len(rating_pred))[:, None], ind]\n",
    "    # print(topk_rating_list)\n",
    "    \n",
    "    ndcg += ndcg_k_inf(answers, topk_pred_list, topk)\n",
    "    recall += recall_at_k_inf(answers, topk_pred_list, topk)\n",
    "    \n",
    "    if ndcg != 0:\n",
    "        ndcg_count += 1\n",
    "    if recall != 0:\n",
    "        recall_count += 1\n",
    "        \n",
    "ndcg /= ndcg_count\n",
    "recall /= recall_count\n",
    "\n",
    "print(f'ndcg = {ndcg}, recall@{topk} = {recall}')"
   ]
  },
  {
   "cell_type": "markdown",
   "id": "e1cccb6c-1677-4a2a-a25f-53289ccf262a",
   "metadata": {},
   "source": [
    "### 끝"
   ]
  },
  {
   "cell_type": "code",
   "execution_count": 95,
   "id": "69d3bed9-a5ac-4bb8-8651-02ab4c5b2f17",
   "metadata": {},
   "outputs": [],
   "source": [
    "# 웹사이트 input\n",
    "# x_test = torch.tensor([1.9, 0. , 0. , 1.5, 2.2, 2.1, 3.5, 1.9, 1.4, 3.4, 2.8, 0. , 0. ,\n",
    "#        3.3, 0. , 3.6, 1.7, 1.6, 3.5, 3.8, 2.8, 2.2, 0. , 2.9, 3. , 3. ,\n",
    "#        3.4, 3.3, 0. , 0. , 2. , 2.4, 0. , 1.8, 0. , 2.3, 0. , 0. , 0. ,\n",
    "#        0. , 0. , 0. , 0. , 0. , 0. , 0. , 3.2, 0. , 0. , 0. , 0. , 3. ,\n",
    "#        3.1, 0. , 1.9, 3.7, 2. , 0. , 3.8, 0. , 0. , 0. , 0. , 0. , 0. ,\n",
    "#        0. , 0. , 0. , 0. , 0. , 3. , 1.8, 0. , 0. , 0. , 0. , 0. , 0. ,\n",
    "#        0. , 0. , 0. ]).to(device)\n",
    "\n",
    "num_item = data['item'].nunique()\n",
    "\n",
    "# 한국 맥주 평가\n",
    "# rating_list = [5.0, 2.76, 0.5] # 좋아요, 몰라요, 싫어요\n",
    "\n",
    "rating_list = [1.0, 0, 1e-6] # 좋아요, 몰라요, 싫어요\n",
    "show_list = np.random.choice(data['item_id_idx'].unique(), 29, replace=False) # 임의로 29개 추출\n",
    "\n",
    "x_test = torch.zeros(num_item).to(device) # 0으로 초기화\n",
    "\n",
    "for beer in show_list:\n",
    "    x_test[beer] = random.choice(rating_list) # 29개에 대해서 임의로 평가\n",
    "    \n",
    "\n",
    "\n",
    "# 나머지 맥주 중 일부 평가\n",
    "# not_kor_rating_list = [1.0, 0.67, 0.1]\n",
    "# not_kor_idx = np.delete(np.arange(num_item), kor_beer_idx)\n",
    "# not_kor_choice = np.random.randint(int(len(not_kor_idx) * 0.3))\n",
    "# not_kor_list = np.random.choice(not_kor_idx, not_kor_choice , replace=False) \n",
    "\n",
    "# for beer in not_kor_list:\n",
    "#     x_test[beer] = random.choice(not_kor_rating_list)\n",
    "\n",
    "# for i in not_show_list:\n",
    "#     style = data[data['item_id_idx'] == i]['label'].unique()[0]\n",
    "#     rating = show_df[show_df['label'] == style]['rating'].mean()\n",
    "    \n",
    "#     if np.isnan(rating):\n",
    "#         rating = rating_list[1] # style로 점수를 채울 수 없는 경우 몰라요로 채운다\n",
    "#     x_test[i] = rating\n",
    "#     # print(rating)\n",
    "\n"
   ]
  },
  {
   "cell_type": "code",
   "execution_count": 96,
   "id": "90825893-77b9-4bff-9478-2afd7c44dd5c",
   "metadata": {},
   "outputs": [
    {
     "name": "stdout",
     "output_type": "stream",
     "text": [
      "[ 8 12  9 26]\n",
      "[0.9999639  0.99958366 0.99838686 0.9983392 ]\n"
     ]
    }
   ],
   "source": [
    "# 추천 맥주 개수\n",
    "topk = 4\n",
    "\n",
    "# 모델 에측 맥주 평점\n",
    "rating_pred = model(x_test)\n",
    "\n",
    "rating_pred = rating_pred.cpu().data.numpy().copy()\n",
    "# print(rating_pred)\n",
    "\n",
    "# rating_pred_kor = rating_pred[kor_beer_idx]\n",
    "# x_test_kor = x_test[kor_beer_idx]\n",
    "# batch_user_index = user_ids.cpu().numpy()\n",
    "\n",
    "\n",
    "answers = x_test.cpu().numpy().argsort()[-topk:][::-1]\n",
    "# print(answers)\n",
    "\n",
    "# user가 리뷰를 남긴 맥주 추천하고 싶지 않을 때 사용\n",
    "\n",
    "# if novelty:\n",
    "# 좋아요, 싫어요로 직접 평가한 맥주는 다시 추천하지 않도록 설정\n",
    "# rating_pred_kor[x_test_kor.cpu().numpy() == rating_list[0]] = rating_pred_kor.min()\n",
    "# rating_pred_kor[x_test_kor.cpu().numpy() == rating_list[2]] = rating_pred_kor.min()\n",
    "# rating_pred[x_test.cpu().numpy() > 0] = rating_pred.min()\n",
    "# print(rating_pred)\n",
    "\n",
    "# topk 맥주 index\n",
    "ind = np.argpartition(rating_pred, -topk)[-topk:]\n",
    "# print(ind)\n",
    "\n",
    "# topk 맥주 index별 평점\n",
    "arr_ind = rating_pred[ind]\n",
    "# print(arr_ind)\n",
    "\n",
    "# 평점 기준으로 내림차순으로 정렬\n",
    "arr_ind_argsort = np.argsort(arr_ind)[::-1]\n",
    "# print(arr_ind_argsort)\n",
    "\n",
    "# rating 내림차순 모델 예측 topk 맥주 index \n",
    "topk_pred_list = ind[arr_ind_argsort]\n",
    "print(topk_pred_list)\n",
    "\n",
    "# rating 내림차순 모델 예측 맥주 평점 중 topk개\n",
    "topk_rating_list = rating_pred[topk_pred_list] #rating_pred[np.arange(len(rating_pred))[:, None], ind]\n",
    "print(topk_rating_list)"
   ]
  },
  {
   "cell_type": "code",
   "execution_count": 80,
   "id": "3bc6f34e-9951-4feb-8035-722319024bc9",
   "metadata": {},
   "outputs": [
    {
     "data": {
      "text/plain": [
       "array([ 6, 47, 61, 28])"
      ]
     },
     "execution_count": 80,
     "metadata": {},
     "output_type": "execute_result"
    }
   ],
   "source": [
    "# 모델 예측 선호 맥주 top4\n",
    "topk_pred_list"
   ]
  },
  {
   "cell_type": "code",
   "execution_count": 81,
   "id": "11f57e89-f6fd-4a3d-a989-4b2b229768e3",
   "metadata": {},
   "outputs": [
    {
     "data": {
      "text/plain": [
       "array([37, 61, 40, 63])"
      ]
     },
     "execution_count": 81,
     "metadata": {},
     "output_type": "execute_result"
    }
   ],
   "source": [
    "# 유저 실제 선호 맥주 top4\n",
    "answers"
   ]
  },
  {
   "cell_type": "code",
   "execution_count": 82,
   "id": "b30f5bdb-4698-47b6-8246-bba8660ac7fc",
   "metadata": {},
   "outputs": [
    {
     "data": {
      "text/plain": [
       "array([0.9999999 , 0.99993527, 0.9999305 , 0.9970797 ], dtype=float32)"
      ]
     },
     "execution_count": 82,
     "metadata": {},
     "output_type": "execute_result"
    }
   ],
   "source": [
    "rating_pred[topk_pred_list]"
   ]
  },
  {
   "cell_type": "code",
   "execution_count": 83,
   "id": "ff0240f1-a8af-4232-9094-422768412b90",
   "metadata": {},
   "outputs": [
    {
     "name": "stdout",
     "output_type": "stream",
     "text": [
      "good\n",
      "[0.9999999, 0.99993527, 0.9999305, 0.9970797, 0.9705499, 0.911343, 0.26853415, 1.3129511e-05, 1.4639667e-06]\n",
      "\n",
      "unknown\n",
      "[0.004647339, 0.0016980761, 0.0014166207, 0.001254616, 0.0011229721, 0.00083346694, 0.0006675279, 0.000309047, 0.00016704797, 0.00016027738, 0.00013173424, 0.00012412673, 8.9808134e-05, 8.3664214e-05, 6.1415885e-05, 5.8759404e-05, 3.868039e-05, 3.5953515e-05, 3.1224146e-05, 2.447943e-05, 2.0732867e-05, 1.9374564e-05, 1.680213e-05, 1.2514579e-05, 1.1190529e-05, 1.0333953e-05, 8.5380525e-06, 8.003327e-06, 5.7356933e-06, 5.3433555e-06, 2.9747162e-06, 2.3367986e-06, 1.7009276e-06, 1.6719687e-06, 1.5849824e-06, 1.4906483e-06, 1.3915111e-06, 1.3555887e-06, 1.3225862e-06, 1.2689311e-06, 1.2544695e-06, 1.1048611e-06, 1.0674605e-06, 1.0591597e-06, 8.9777143e-07, 8.421575e-07, 6.5841675e-07, 5.2785686e-07, 3.7817892e-07, 3.768576e-07, 2.8867797e-07, 2.785282e-07, 2.551564e-07, 2.468021e-07, 2.148399e-07, 1.9044381e-07, 1.7180211e-07, 1.0142708e-07, 5.268616e-08, 2.8091675e-08, 2.6429229e-08, 6.2057772e-09, 4.702521e-09, 2.3730113e-09, 8.127611e-10]\n",
      "\n",
      "bad\n",
      "[7.103092e-05, 2.0482124e-05, 4.8871934e-06, 2.4433218e-06, 2.2630593e-06, 9.206862e-07, 5.791814e-07, 5.363044e-07, 1.1154361e-07]\n",
      "\n"
     ]
    }
   ],
   "source": [
    "label_list = ['good', 'unknown', 'bad']\n",
    "\n",
    "for i, rating in enumerate(rating_list):\n",
    "    print(label_list[i])\n",
    "    print(list(sorted([rating_pred[i] for i in np.where(x_test.cpu().numpy() == rating)[0]], reverse=True)))\n",
    "    print()"
   ]
  },
  {
   "cell_type": "code",
   "execution_count": 84,
   "id": "e557d852-5b65-4b47-be97-e3184535d82b",
   "metadata": {},
   "outputs": [
    {
     "data": {
      "image/png": "[encoded data removed]",
      "text/plain": [
       "<Figure size 720x360 with 1 Axes>"
      ]
     },
     "metadata": {
      "needs_background": "light"
     },
     "output_type": "display_data"
    }
   ],
   "source": [
    "label_list = ['good', 'unknown', 'bad']\n",
    "\n",
    "fig, ax = plt.subplots(1, 1, figsize=(10, 5))\n",
    "\n",
    "for i, rating in enumerate(rating_list):\n",
    "    \n",
    "    ax = sns.kdeplot(sorted([rating_pred[i] for i in np.where(x_test.cpu().numpy() == rating)[0]], reverse=True), label = label_list[i], fill = True)\n",
    "\n",
    "plt.legend()\n",
    "plt.show()"
   ]
  },
  {
   "cell_type": "code",
   "execution_count": 85,
   "id": "bcbf81ba-6bde-4716-bd16-706bd7c7633c",
   "metadata": {},
   "outputs": [
    {
     "data": {
      "text/plain": [
       "<AxesSubplot:ylabel='Count'>"
      ]
     },
     "execution_count": 85,
     "metadata": {},
     "output_type": "execute_result"
    },
    {
     "data": {
      "image/png": "[encoded data removed]",
      "text/plain": [
       "<Figure size 432x288 with 1 Axes>"
      ]
     },
     "metadata": {
      "needs_background": "light"
     },
     "output_type": "display_data"
    }
   ],
   "source": [
    "sns.histplot(x_test.cpu().numpy(), bins = 10)"
   ]
  },
  {
   "cell_type": "code",
   "execution_count": 86,
   "id": "c65b32b9-bebf-42ac-9fec-e992862357db",
   "metadata": {},
   "outputs": [
    {
     "data": {
      "text/plain": [
       "<AxesSubplot:ylabel='Count'>"
      ]
     },
     "execution_count": 86,
     "metadata": {},
     "output_type": "execute_result"
    },
    {
     "data": {
      "image/png": "[encoded data removed]",
      "text/plain": [
       "<Figure size 432x288 with 1 Axes>"
      ]
     },
     "metadata": {
      "needs_background": "light"
     },
     "output_type": "display_data"
    }
   ],
   "source": [
    "sns.histplot(rating_pred, bins = 10)"
   ]
  },
  {
   "cell_type": "code",
   "execution_count": 87,
   "id": "b6f3abd2-16da-4e7d-8d4c-d55bca913da1",
   "metadata": {},
   "outputs": [
    {
     "data": {
      "text/plain": [
       "array([5.2785686e-07, 2.6429229e-08, 5.8759404e-05, 2.0482124e-05,\n",
       "       2.4479430e-05, 1.6802131e-05, 9.9999988e-01, 3.7817892e-07,\n",
       "       2.5515641e-07, 8.1276108e-10, 8.4215748e-07, 3.1224146e-05,\n",
       "       8.3346694e-04, 1.9044381e-07, 9.7054988e-01, 2.4433218e-06,\n",
       "       1.6027738e-04, 3.5953515e-05, 5.2686161e-08, 1.2544695e-06,\n",
       "       8.0033269e-06, 1.2546160e-03, 7.1030918e-05, 5.3433555e-06,\n",
       "       4.8871934e-06, 8.9808134e-05, 5.7356933e-06, 1.2412673e-04,\n",
       "       9.9707967e-01, 1.1229721e-03, 5.3630441e-07, 2.0732867e-05,\n",
       "       1.6980761e-03, 6.1415885e-05, 1.6704797e-04, 3.8680391e-05,\n",
       "       3.7685760e-07, 9.1134298e-01, 2.3367986e-06, 1.3173424e-04,\n",
       "       2.6853415e-01, 2.1483990e-07, 6.5841675e-07, 8.9777143e-07,\n",
       "       1.1190529e-05, 2.3730113e-09, 1.4906483e-06, 9.9993527e-01,\n",
       "       2.7852820e-07, 8.5380525e-06, 1.2514579e-05, 3.0904700e-04,\n",
       "       1.5849824e-06, 1.0591597e-06, 5.7918140e-07, 1.7180211e-07,\n",
       "       6.6752790e-04, 8.3664214e-05, 2.8091675e-08, 1.1048611e-06,\n",
       "       4.6473392e-03, 9.9993050e-01, 1.9374564e-05, 1.3129511e-05,\n",
       "       2.8867797e-07, 1.2689311e-06, 2.4680210e-07, 1.4639667e-06,\n",
       "       1.0142708e-07, 4.7025210e-09, 1.7009276e-06, 9.2068620e-07,\n",
       "       1.1154361e-07, 2.9747162e-06, 1.3915111e-06, 1.3555887e-06,\n",
       "       1.4166207e-03, 1.6719687e-06, 1.0333953e-05, 1.3225862e-06,\n",
       "       6.2057772e-09, 2.2630593e-06, 1.0674605e-06], dtype=float32)"
      ]
     },
     "execution_count": 87,
     "metadata": {},
     "output_type": "execute_result"
    }
   ],
   "source": [
    "# 모델 예측 rating 점수\n",
    "rating_pred"
   ]
  },
  {
   "cell_type": "code",
   "execution_count": 88,
   "id": "c1f9edd6-a542-4479-9be5-6348791a9ef1",
   "metadata": {},
   "outputs": [
    {
     "data": {
      "text/plain": [
       "tensor([0.0000e+00, 0.0000e+00, 0.0000e+00, 1.0000e-06, 0.0000e+00, 0.0000e+00,\n",
       "        1.0000e+00, 0.0000e+00, 0.0000e+00, 0.0000e+00, 0.0000e+00, 0.0000e+00,\n",
       "        0.0000e+00, 0.0000e+00, 1.0000e+00, 1.0000e-06, 0.0000e+00, 0.0000e+00,\n",
       "        0.0000e+00, 0.0000e+00, 0.0000e+00, 0.0000e+00, 1.0000e-06, 0.0000e+00,\n",
       "        1.0000e-06, 0.0000e+00, 0.0000e+00, 0.0000e+00, 1.0000e+00, 0.0000e+00,\n",
       "        1.0000e-06, 0.0000e+00, 0.0000e+00, 0.0000e+00, 0.0000e+00, 0.0000e+00,\n",
       "        0.0000e+00, 1.0000e+00, 0.0000e+00, 0.0000e+00, 1.0000e+00, 0.0000e+00,\n",
       "        0.0000e+00, 0.0000e+00, 0.0000e+00, 0.0000e+00, 0.0000e+00, 1.0000e+00,\n",
       "        0.0000e+00, 0.0000e+00, 0.0000e+00, 0.0000e+00, 0.0000e+00, 0.0000e+00,\n",
       "        1.0000e-06, 0.0000e+00, 0.0000e+00, 0.0000e+00, 0.0000e+00, 0.0000e+00,\n",
       "        0.0000e+00, 1.0000e+00, 0.0000e+00, 1.0000e+00, 0.0000e+00, 0.0000e+00,\n",
       "        0.0000e+00, 1.0000e+00, 0.0000e+00, 0.0000e+00, 0.0000e+00, 1.0000e-06,\n",
       "        1.0000e-06, 0.0000e+00, 0.0000e+00, 0.0000e+00, 0.0000e+00, 0.0000e+00,\n",
       "        0.0000e+00, 0.0000e+00, 0.0000e+00, 1.0000e-06, 0.0000e+00],\n",
       "       device='cuda:0')"
      ]
     },
     "execution_count": 88,
     "metadata": {},
     "output_type": "execute_result"
    }
   ],
   "source": [
    "x_test"
   ]
  },
  {
   "cell_type": "code",
   "execution_count": 89,
   "id": "ad5e0207-b8de-469b-8326-d857ca34f03d",
   "metadata": {},
   "outputs": [
    {
     "data": {
      "text/plain": [
       "array([68, 28, 81,  6, 54, 30, 24, 22, 69, 61, 34, 67, 47, 41, 72, 58, 40,\n",
       "       43, 15, 37, 14,  9, 13, 20, 63, 31,  3, 71, 62])"
      ]
     },
     "execution_count": 89,
     "metadata": {},
     "output_type": "execute_result"
    }
   ],
   "source": [
    "show_list"
   ]
  },
  {
   "cell_type": "code",
   "execution_count": 90,
   "id": "023d5a6a-a58b-4e8a-b944-f7f607f7c4cb",
   "metadata": {},
   "outputs": [
    {
     "data": {
      "text/plain": [
       "array(['https://res.cloudinary.com/ratebeer/image/upload/w_400,c_limit,d_Default_Beer_qqrv7k.png,f_auto/beer_399',\n",
       "       'https://res.cloudinary.com/ratebeer/image/upload/w_400,c_limit,d_Default_Beer_qqrv7k.png,f_auto/beer_2516',\n",
       "       'https://res.cloudinary.com/ratebeer/image/upload/w_400,c_limit,d_Default_Beer_qqrv7k.png,f_auto/beer_135361',\n",
       "       'https://res.cloudinary.com/ratebeer/image/upload/w_400,c_limit,d_Default_Beer_qqrv7k.png,f_auto/beer_30913'],\n",
       "      dtype=object)"
      ]
     },
     "execution_count": 90,
     "metadata": {},
     "output_type": "execute_result"
    }
   ],
   "source": [
    "# image url\n",
    "data[data['item_id_idx'].isin(topk_pred_list)]['image_url'].unique()"
   ]
  },
  {
   "cell_type": "code",
   "execution_count": 91,
   "id": "468b0d25-c614-467e-ab62-63a9b586169e",
   "metadata": {},
   "outputs": [
    {
     "data": {
      "text/plain": [
       "array([   399,   2516, 135361,  30913])"
      ]
     },
     "execution_count": 91,
     "metadata": {},
     "output_type": "execute_result"
    }
   ],
   "source": [
    "# image url\n",
    "data[data['item_id_idx'].isin(topk_pred_list)]['item'].unique()"
   ]
  },
  {
   "cell_type": "markdown",
   "id": "2696b346-a8d0-43eb-b0c2-270dad50c4d4",
   "metadata": {},
   "source": [
    "### 평가지표 점수"
   ]
  },
  {
   "cell_type": "code",
   "execution_count": 92,
   "id": "4e81f064-cf8e-4188-bcd0-905ef1d81419",
   "metadata": {},
   "outputs": [],
   "source": [
    "def ndcg_k_inf(actual, predicted, topk):\n",
    "    res = 0\n",
    "    k = min(topk, len(actual))\n",
    "    idcg = idcg_k(k)\n",
    "    dcg_k = sum(\n",
    "        [\n",
    "            int(predicted[j] in set(actual)) / math.log(j + 2, 2)\n",
    "            for j in range(topk)\n",
    "        ]\n",
    "    )\n",
    "    res += dcg_k / idcg\n",
    "    return res / float(len(actual))\n",
    "\n",
    "# Calculates the ideal discounted cumulative gain at k\n",
    "def idcg_k(k):\n",
    "    res = sum([1.0 / math.log(i + 2, 2) for i in range(k)])\n",
    "    if not res:\n",
    "        return 1.0\n",
    "    else:\n",
    "        return res\n",
    "\n",
    "def recall_at_k_inf(actual, predicted, topk):\n",
    "    act_set = set(actual)\n",
    "    pred_set = set(predicted[:topk])\n",
    "    if len(act_set) != 0:\n",
    "        sum_recall = len(act_set & pred_set) / float(len(act_set))\n",
    "        \n",
    "    return sum_recall"
   ]
  },
  {
   "cell_type": "code",
   "execution_count": 93,
   "id": "6ceded6d-5fd8-4038-844c-918bdf15c77f",
   "metadata": {},
   "outputs": [
    {
     "data": {
      "text/plain": [
       "0.25"
      ]
     },
     "execution_count": 93,
     "metadata": {},
     "output_type": "execute_result"
    }
   ],
   "source": [
    "recall_at_k_inf(answers, topk_pred_list, 4)"
   ]
  },
  {
   "cell_type": "code",
   "execution_count": 94,
   "id": "f9b9cb9a-5b0f-4477-9a7e-8a8caa35a1c0",
   "metadata": {},
   "outputs": [
    {
     "data": {
      "text/plain": [
       "0.04879750624901272"
      ]
     },
     "execution_count": 94,
     "metadata": {},
     "output_type": "execute_result"
    }
   ],
   "source": [
    "ndcg_k_inf(answers, topk_pred_list, 4)"
   ]
  },
  {
   "cell_type": "code",
   "execution_count": 78,
   "id": "6d8a63f7-b824-4a2b-95fc-d0eee870e298",
   "metadata": {},
   "outputs": [
    {
     "data": {
      "text/html": [
       "<div>\n",
       "<style scoped>\n",
       "    .dataframe tbody tr th:only-of-type {\n",
       "        vertical-align: middle;\n",
       "    }\n",
       "\n",
       "    .dataframe tbody tr th {\n",
       "        vertical-align: top;\n",
       "    }\n",
       "\n",
       "    .dataframe thead th {\n",
       "        text-align: right;\n",
       "    }\n",
       "</style>\n",
       "<table border=\"1\" class=\"dataframe\">\n",
       "  <thead>\n",
       "    <tr style=\"text-align: right;\">\n",
       "      <th></th>\n",
       "      <th>item</th>\n",
       "      <th>user</th>\n",
       "      <th>rating</th>\n",
       "      <th>image_url</th>\n",
       "      <th>rating_median</th>\n",
       "      <th>user_id_idx</th>\n",
       "      <th>item_id_idx</th>\n",
       "    </tr>\n",
       "  </thead>\n",
       "  <tbody>\n",
       "    <tr>\n",
       "      <th>3458</th>\n",
       "      <td>37</td>\n",
       "      <td>dunklermessias</td>\n",
       "      <td>0.0</td>\n",
       "      <td>https://res.cloudinary.com/ratebeer/image/uplo...</td>\n",
       "      <td>0.66</td>\n",
       "      <td>5882</td>\n",
       "      <td>0</td>\n",
       "    </tr>\n",
       "    <tr>\n",
       "      <th>3460</th>\n",
       "      <td>37</td>\n",
       "      <td>bdleedahl</td>\n",
       "      <td>0.0</td>\n",
       "      <td>https://res.cloudinary.com/ratebeer/image/uplo...</td>\n",
       "      <td>0.70</td>\n",
       "      <td>4821</td>\n",
       "      <td>0</td>\n",
       "    </tr>\n",
       "    <tr>\n",
       "      <th>3461</th>\n",
       "      <td>37</td>\n",
       "      <td>pictoman</td>\n",
       "      <td>0.0</td>\n",
       "      <td>https://res.cloudinary.com/ratebeer/image/uplo...</td>\n",
       "      <td>0.70</td>\n",
       "      <td>8181</td>\n",
       "      <td>0</td>\n",
       "    </tr>\n",
       "    <tr>\n",
       "      <th>3462</th>\n",
       "      <td>37</td>\n",
       "      <td>IPARater72</td>\n",
       "      <td>0.0</td>\n",
       "      <td>https://res.cloudinary.com/ratebeer/image/uplo...</td>\n",
       "      <td>0.66</td>\n",
       "      <td>1976</td>\n",
       "      <td>0</td>\n",
       "    </tr>\n",
       "    <tr>\n",
       "      <th>3463</th>\n",
       "      <td>37</td>\n",
       "      <td>2OLD4BS</td>\n",
       "      <td>0.0</td>\n",
       "      <td>https://res.cloudinary.com/ratebeer/image/uplo...</td>\n",
       "      <td>0.66</td>\n",
       "      <td>28</td>\n",
       "      <td>0</td>\n",
       "    </tr>\n",
       "    <tr>\n",
       "      <th>...</th>\n",
       "      <td>...</td>\n",
       "      <td>...</td>\n",
       "      <td>...</td>\n",
       "      <td>...</td>\n",
       "      <td>...</td>\n",
       "      <td>...</td>\n",
       "      <td>...</td>\n",
       "    </tr>\n",
       "    <tr>\n",
       "      <th>2931600</th>\n",
       "      <td>8666</td>\n",
       "      <td>austinpowers</td>\n",
       "      <td>0.0</td>\n",
       "      <td>https://res.cloudinary.com/ratebeer/image/uplo...</td>\n",
       "      <td>0.64</td>\n",
       "      <td>4721</td>\n",
       "      <td>41</td>\n",
       "    </tr>\n",
       "    <tr>\n",
       "      <th>2931601</th>\n",
       "      <td>8666</td>\n",
       "      <td>DavefromChicago</td>\n",
       "      <td>0.0</td>\n",
       "      <td>https://res.cloudinary.com/ratebeer/image/uplo...</td>\n",
       "      <td>0.72</td>\n",
       "      <td>1102</td>\n",
       "      <td>41</td>\n",
       "    </tr>\n",
       "    <tr>\n",
       "      <th>2931602</th>\n",
       "      <td>8666</td>\n",
       "      <td>motelpogo</td>\n",
       "      <td>0.0</td>\n",
       "      <td>https://res.cloudinary.com/ratebeer/image/uplo...</td>\n",
       "      <td>0.62</td>\n",
       "      <td>7756</td>\n",
       "      <td>41</td>\n",
       "    </tr>\n",
       "    <tr>\n",
       "      <th>2931603</th>\n",
       "      <td>8666</td>\n",
       "      <td>jbrus</td>\n",
       "      <td>0.0</td>\n",
       "      <td>https://res.cloudinary.com/ratebeer/image/uplo...</td>\n",
       "      <td>0.68</td>\n",
       "      <td>6737</td>\n",
       "      <td>41</td>\n",
       "    </tr>\n",
       "    <tr>\n",
       "      <th>2931604</th>\n",
       "      <td>8666</td>\n",
       "      <td>Bov</td>\n",
       "      <td>0.0</td>\n",
       "      <td>https://res.cloudinary.com/ratebeer/image/uplo...</td>\n",
       "      <td>0.70</td>\n",
       "      <td>683</td>\n",
       "      <td>41</td>\n",
       "    </tr>\n",
       "  </tbody>\n",
       "</table>\n",
       "<p>81098 rows × 7 columns</p>\n",
       "</div>"
      ],
      "text/plain": [
       "         item             user  rating  \\\n",
       "3458       37   dunklermessias     0.0   \n",
       "3460       37        bdleedahl     0.0   \n",
       "3461       37         pictoman     0.0   \n",
       "3462       37       IPARater72     0.0   \n",
       "3463       37          2OLD4BS     0.0   \n",
       "...       ...              ...     ...   \n",
       "2931600  8666     austinpowers     0.0   \n",
       "2931601  8666  DavefromChicago     0.0   \n",
       "2931602  8666        motelpogo     0.0   \n",
       "2931603  8666            jbrus     0.0   \n",
       "2931604  8666              Bov     0.0   \n",
       "\n",
       "                                                 image_url  rating_median  \\\n",
       "3458     https://res.cloudinary.com/ratebeer/image/uplo...           0.66   \n",
       "3460     https://res.cloudinary.com/ratebeer/image/uplo...           0.70   \n",
       "3461     https://res.cloudinary.com/ratebeer/image/uplo...           0.70   \n",
       "3462     https://res.cloudinary.com/ratebeer/image/uplo...           0.66   \n",
       "3463     https://res.cloudinary.com/ratebeer/image/uplo...           0.66   \n",
       "...                                                    ...            ...   \n",
       "2931600  https://res.cloudinary.com/ratebeer/image/uplo...           0.64   \n",
       "2931601  https://res.cloudinary.com/ratebeer/image/uplo...           0.72   \n",
       "2931602  https://res.cloudinary.com/ratebeer/image/uplo...           0.62   \n",
       "2931603  https://res.cloudinary.com/ratebeer/image/uplo...           0.68   \n",
       "2931604  https://res.cloudinary.com/ratebeer/image/uplo...           0.70   \n",
       "\n",
       "         user_id_idx  item_id_idx  \n",
       "3458            5882            0  \n",
       "3460            4821            0  \n",
       "3461            8181            0  \n",
       "3462            1976            0  \n",
       "3463              28            0  \n",
       "...              ...          ...  \n",
       "2931600         4721           41  \n",
       "2931601         1102           41  \n",
       "2931602         7756           41  \n",
       "2931603         6737           41  \n",
       "2931604          683           41  \n",
       "\n",
       "[81098 rows x 7 columns]"
      ]
     },
     "execution_count": 78,
     "metadata": {},
     "output_type": "execute_result"
    }
   ],
   "source": [
    "data"
   ]
  },
  {
   "cell_type": "code",
   "execution_count": 97,
   "id": "454bb394-0e01-4e4e-803e-818850a8f3f1",
   "metadata": {},
   "outputs": [],
   "source": [
    "data.to_csv('../data/ratebeer_implicit_label_encoding.csv', index = False)"
   ]
  },
  {
   "cell_type": "markdown",
   "id": "28cb9117-0a85-4f3f-9c05-97d01377f756",
   "metadata": {},
   "source": [
    "### 리뷰 수 별 loss값 비교"
   ]
  },
  {
   "cell_type": "code",
   "execution_count": null,
   "id": "96cd28b0-b225-4029-a3f0-5f3908c90fb6",
   "metadata": {},
   "outputs": [],
   "source": [
    "train Loss: 0.1429, test Loss: 0.3887, test rmse = 0.9741268377904415\n",
    "train Loss: 0.1597, test Loss: 0.3982, test rmse = 0.9178506077363462\n",
    "train Loss: 0.1498, test Loss: 0.3815, test rmse = 0.9185960203148705\n",
    "train Loss: 0.1526, test Loss: 0.3700, test rmse = 0.8679648307799166\n",
    "train Loss: 0.1647, test Loss: 0.3780, test rmse = 0.78464359338185\n",
    "train Loss: 0.1535, test Loss: 0.3589, test rmse = 0.8115433694417444\n",
    "train Loss: 0.1555, test Loss: 0.3459, test rmse = 0.8043579343771801"
   ]
  },
  {
   "cell_type": "code",
   "execution_count": 222,
   "id": "16aa1555-d69e-45a4-adf5-cf6a5f3cf107",
   "metadata": {},
   "outputs": [],
   "source": [
    "train_loss_list = [0.1429, 0.1597, 0.1498, 0.1526, 0.1647, 0.1535, 0.1555]\n",
    "valid_loss_list = [0.3887, 0.3982, 0.3815, 0.3700, 0.3780, 0.3589, 0.3459]\n",
    "test_loss_list = [0.9741, 0.9179, 0.9186, 0.8680, 0.7846, 0.8115, 0.8044]\n",
    "review_n = [i for i in range(4, 11)]"
   ]
  },
  {
   "cell_type": "code",
   "execution_count": 224,
   "id": "a8b27c6a-f94b-4fe6-9ebd-4bcb9de9145c",
   "metadata": {},
   "outputs": [],
   "source": [
    "train_loss_list = [i ** (1/2) for i in train_loss_list]\n",
    "valid_loss_list = [i ** (1/2) for i in valid_loss_list]"
   ]
  },
  {
   "cell_type": "code",
   "execution_count": 228,
   "id": "e4c53aaf-ef6f-4744-813d-1d68f239ddb6",
   "metadata": {},
   "outputs": [
    {
     "data": {
      "text/plain": [
       "[0.378021163428716,\n",
       " 0.3996248240537617,\n",
       " 0.38704004960727256,\n",
       " 0.3906404996924922,\n",
       " 0.4058324777540605,\n",
       " 0.39179076048319467,\n",
       " 0.39433488306260706]"
      ]
     },
     "execution_count": 228,
     "metadata": {},
     "output_type": "execute_result"
    }
   ],
   "source": [
    "train_loss_list"
   ]
  },
  {
   "cell_type": "code",
   "execution_count": 227,
   "id": "1739b0c3-5323-4e9c-b70c-07b8084b49aa",
   "metadata": {},
   "outputs": [
    {
     "data": {
      "text/plain": [
       "[0.6234580980306536,\n",
       " 0.63103090257134,\n",
       " 0.6176568626672904,\n",
       " 0.6082762530298219,\n",
       " 0.6148170459575759,\n",
       " 0.5990826320300063,\n",
       " 0.5881326381013045]"
      ]
     },
     "execution_count": 227,
     "metadata": {},
     "output_type": "execute_result"
    }
   ],
   "source": [
    "valid_loss_list"
   ]
  },
  {
   "cell_type": "code",
   "execution_count": 226,
   "id": "beaf9be8-6e56-4941-adda-b2ad13044f5e",
   "metadata": {},
   "outputs": [
    {
     "data": {
      "image/png": "[encoded data removed]",
      "text/plain": [
       "<Figure size 720x360 with 1 Axes>"
      ]
     },
     "metadata": {
      "needs_background": "light"
     },
     "output_type": "display_data"
    }
   ],
   "source": [
    "plt.figure(figsize=(10,5))\n",
    "plt.plot(train_loss_list,label=\"train_rmse\")\n",
    "plt.plot(valid_loss_list,label=\"val_rmse\")\n",
    "plt.plot(test_loss_list,label=\"test_rmse\")\n",
    "plt.xlabel(\"epoch\")\n",
    "plt.ylabel(\"rmse\")\n",
    "plt.legend()\n",
    "plt.show()"
   ]
  },
  {
   "cell_type": "code",
   "execution_count": null,
   "id": "83f1f813-2c8d-485e-a582-ec983813cd7f",
   "metadata": {},
   "outputs": [],
   "source": []
  }
 ],
 "metadata": {
  "kernelspec": {
   "display_name": "beer",
   "language": "python",
   "name": "beer"
  },
  "language_info": {
   "codemirror_mode": {
    "name": "ipython",
    "version": 3
   },
   "file_extension": ".py",
   "mimetype": "text/x-python",
   "name": "python",
   "nbconvert_exporter": "python",
   "pygments_lexer": "ipython3",
   "version": "3.8.13"
  }
 },
 "nbformat": 4,
 "nbformat_minor": 5
}
