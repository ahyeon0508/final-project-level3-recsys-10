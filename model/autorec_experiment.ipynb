{
 "cells": [
  {
   "cell_type": "code",
   "execution_count": 1,
   "id": "29bcbd9c-2b94-4940-ac5e-cc1bf18cb2cd",
   "metadata": {},
   "outputs": [],
   "source": [
    "import torch\n",
    "import torch.nn as nn\n",
    "import torch.optim as optim\n",
    "from torch.utils.data import DataLoader, Dataset\n",
    "\n",
    "import pandas as pd\n",
    "import numpy as np\n",
    "import matplotlib.pyplot as plt\n",
    "import random\n",
    "import math\n",
    "import seaborn as sns\n",
    "\n",
    "%matplotlib inline\n",
    "\n",
    "from sklearn.model_selection import train_test_split\n",
    "from sklearn.preprocessing import LabelEncoder\n",
    "\n",
    "import warnings\n",
    "warnings.filterwarnings(action='ignore')"
   ]
  },
  {
   "cell_type": "markdown",
   "id": "5510b252-7581-4003-9389-f51ab4fb842b",
   "metadata": {},
   "source": [
    "## dataset"
   ]
  },
  {
   "cell_type": "code",
   "execution_count": 2,
   "id": "ef3c6dfc-7ca7-4943-89b6-dec7ff2ac8ce",
   "metadata": {},
   "outputs": [],
   "source": [
    "ratebeer = pd.read_json(\"../data/ratebeer_korea.json\")"
   ]
  },
  {
   "cell_type": "code",
   "execution_count": 3,
   "id": "5cbfa3e8-550d-4a48-a5ee-ea1f3251f81b",
   "metadata": {},
   "outputs": [
    {
     "data": {
      "text/html": [
       "<div>\n",
       "<style scoped>\n",
       "    .dataframe tbody tr th:only-of-type {\n",
       "        vertical-align: middle;\n",
       "    }\n",
       "\n",
       "    .dataframe tbody tr th {\n",
       "        vertical-align: top;\n",
       "    }\n",
       "\n",
       "    .dataframe thead th {\n",
       "        text-align: right;\n",
       "    }\n",
       "</style>\n",
       "<table border=\"1\" class=\"dataframe\">\n",
       "  <thead>\n",
       "    <tr style=\"text-align: right;\">\n",
       "      <th></th>\n",
       "      <th>reviewScore</th>\n",
       "      <th>reviewTime</th>\n",
       "      <th>reviewText</th>\n",
       "      <th>appearance</th>\n",
       "      <th>aroma</th>\n",
       "      <th>palate</th>\n",
       "      <th>taste</th>\n",
       "      <th>overall</th>\n",
       "      <th>profileName</th>\n",
       "      <th>beerName</th>\n",
       "      <th>beerID</th>\n",
       "      <th>brewerID</th>\n",
       "      <th>ABV</th>\n",
       "      <th>style</th>\n",
       "      <th>imageUrl</th>\n",
       "    </tr>\n",
       "  </thead>\n",
       "  <tbody>\n",
       "    <tr>\n",
       "      <th>94316</th>\n",
       "      <td>3.0</td>\n",
       "      <td>2000-06-14 04:58:02.000</td>\n",
       "      <td>pale clear golden colour with a fine head, low...</td>\n",
       "      <td>4.0</td>\n",
       "      <td>5.0</td>\n",
       "      <td>3.0</td>\n",
       "      <td>6.0</td>\n",
       "      <td>12.0</td>\n",
       "      <td>Bov</td>\n",
       "      <td>Beck's</td>\n",
       "      <td>703</td>\n",
       "      <td>112</td>\n",
       "      <td>4.8</td>\n",
       "      <td>Pale Lager - International / Premium</td>\n",
       "      <td>https://res.cloudinary.com/ratebeer/image/uplo...</td>\n",
       "    </tr>\n",
       "    <tr>\n",
       "      <th>94317</th>\n",
       "      <td>4.2</td>\n",
       "      <td>2000-06-10 16:51:58.000</td>\n",
       "      <td>love that skunky smell !  Actually, my fav eve...</td>\n",
       "      <td>4.0</td>\n",
       "      <td>9.0</td>\n",
       "      <td>4.0</td>\n",
       "      <td>8.0</td>\n",
       "      <td>17.0</td>\n",
       "      <td>sallyclub99</td>\n",
       "      <td>Beck's</td>\n",
       "      <td>703</td>\n",
       "      <td>112</td>\n",
       "      <td>4.8</td>\n",
       "      <td>Pale Lager - International / Premium</td>\n",
       "      <td>https://res.cloudinary.com/ratebeer/image/uplo...</td>\n",
       "    </tr>\n",
       "    <tr>\n",
       "      <th>94318</th>\n",
       "      <td>2.7</td>\n",
       "      <td>2000-06-05 08:46:21.000</td>\n",
       "      <td>Much better than American pilsners which isn't...</td>\n",
       "      <td>2.0</td>\n",
       "      <td>5.0</td>\n",
       "      <td>2.0</td>\n",
       "      <td>6.0</td>\n",
       "      <td>12.0</td>\n",
       "      <td>kublai3</td>\n",
       "      <td>Beck's</td>\n",
       "      <td>703</td>\n",
       "      <td>112</td>\n",
       "      <td>4.8</td>\n",
       "      <td>Pale Lager - International / Premium</td>\n",
       "      <td>https://res.cloudinary.com/ratebeer/image/uplo...</td>\n",
       "    </tr>\n",
       "    <tr>\n",
       "      <th>94319</th>\n",
       "      <td>3.3</td>\n",
       "      <td>2000-06-03 23:59:02.000</td>\n",
       "      <td>A decent, light-German beer. Not bad, but then...</td>\n",
       "      <td>3.0</td>\n",
       "      <td>6.0</td>\n",
       "      <td>3.0</td>\n",
       "      <td>6.0</td>\n",
       "      <td>15.0</td>\n",
       "      <td>Aubrey</td>\n",
       "      <td>Beck's</td>\n",
       "      <td>703</td>\n",
       "      <td>112</td>\n",
       "      <td>4.8</td>\n",
       "      <td>Pale Lager - International / Premium</td>\n",
       "      <td>https://res.cloudinary.com/ratebeer/image/uplo...</td>\n",
       "    </tr>\n",
       "    <tr>\n",
       "      <th>94320</th>\n",
       "      <td>3.3</td>\n",
       "      <td>2000-05-07 01:07:31.000</td>\n",
       "      <td>Beck's is a decent german beer.  It's a little...</td>\n",
       "      <td>3.0</td>\n",
       "      <td>6.0</td>\n",
       "      <td>4.0</td>\n",
       "      <td>7.0</td>\n",
       "      <td>13.0</td>\n",
       "      <td>roland</td>\n",
       "      <td>Beck's</td>\n",
       "      <td>703</td>\n",
       "      <td>112</td>\n",
       "      <td>4.8</td>\n",
       "      <td>Pale Lager - International / Premium</td>\n",
       "      <td>https://res.cloudinary.com/ratebeer/image/uplo...</td>\n",
       "    </tr>\n",
       "  </tbody>\n",
       "</table>\n",
       "</div>"
      ],
      "text/plain": [
       "       reviewScore               reviewTime  \\\n",
       "94316          3.0  2000-06-14 04:58:02.000   \n",
       "94317          4.2  2000-06-10 16:51:58.000   \n",
       "94318          2.7  2000-06-05 08:46:21.000   \n",
       "94319          3.3  2000-06-03 23:59:02.000   \n",
       "94320          3.3  2000-05-07 01:07:31.000   \n",
       "\n",
       "                                              reviewText  appearance  aroma  \\\n",
       "94316  pale clear golden colour with a fine head, low...         4.0    5.0   \n",
       "94317  love that skunky smell !  Actually, my fav eve...         4.0    9.0   \n",
       "94318  Much better than American pilsners which isn't...         2.0    5.0   \n",
       "94319  A decent, light-German beer. Not bad, but then...         3.0    6.0   \n",
       "94320  Beck's is a decent german beer.  It's a little...         3.0    6.0   \n",
       "\n",
       "       palate  taste  overall  profileName beerName  beerID  brewerID  ABV  \\\n",
       "94316     3.0    6.0     12.0          Bov   Beck's     703       112  4.8   \n",
       "94317     4.0    8.0     17.0  sallyclub99   Beck's     703       112  4.8   \n",
       "94318     2.0    6.0     12.0      kublai3   Beck's     703       112  4.8   \n",
       "94319     3.0    6.0     15.0       Aubrey   Beck's     703       112  4.8   \n",
       "94320     4.0    7.0     13.0       roland   Beck's     703       112  4.8   \n",
       "\n",
       "                                      style  \\\n",
       "94316  Pale Lager - International / Premium   \n",
       "94317  Pale Lager - International / Premium   \n",
       "94318  Pale Lager - International / Premium   \n",
       "94319  Pale Lager - International / Premium   \n",
       "94320  Pale Lager - International / Premium   \n",
       "\n",
       "                                                imageUrl  \n",
       "94316  https://res.cloudinary.com/ratebeer/image/uplo...  \n",
       "94317  https://res.cloudinary.com/ratebeer/image/uplo...  \n",
       "94318  https://res.cloudinary.com/ratebeer/image/uplo...  \n",
       "94319  https://res.cloudinary.com/ratebeer/image/uplo...  \n",
       "94320  https://res.cloudinary.com/ratebeer/image/uplo...  "
      ]
     },
     "execution_count": 3,
     "metadata": {},
     "output_type": "execute_result"
    }
   ],
   "source": [
    "ratebeer.tail()"
   ]
  },
  {
   "cell_type": "code",
   "execution_count": 4,
   "id": "9db0f9b0-bc39-4bb0-887e-17c12da6d350",
   "metadata": {},
   "outputs": [
    {
     "name": "stdout",
     "output_type": "stream",
     "text": [
      "<class 'pandas.core.frame.DataFrame'>\n",
      "Int64Index: 93623 entries, 0 to 94320\n",
      "Data columns (total 15 columns):\n",
      " #   Column       Non-Null Count  Dtype  \n",
      "---  ------       --------------  -----  \n",
      " 0   reviewScore  93620 non-null  float64\n",
      " 1   reviewTime   93623 non-null  object \n",
      " 2   reviewText   93623 non-null  object \n",
      " 3   appearance   92036 non-null  float64\n",
      " 4   aroma        92036 non-null  float64\n",
      " 5   palate       92036 non-null  float64\n",
      " 6   taste        92036 non-null  float64\n",
      " 7   overall      92036 non-null  float64\n",
      " 8   profileName  93623 non-null  object \n",
      " 9   beerName     93623 non-null  object \n",
      " 10  beerID       93623 non-null  int64  \n",
      " 11  brewerID     93623 non-null  int64  \n",
      " 12  ABV          93623 non-null  float64\n",
      " 13  style        93623 non-null  object \n",
      " 14  imageUrl     93623 non-null  object \n",
      "dtypes: float64(7), int64(2), object(6)\n",
      "memory usage: 11.4+ MB\n"
     ]
    }
   ],
   "source": [
    "ratebeer.info()"
   ]
  },
  {
   "cell_type": "code",
   "execution_count": 5,
   "id": "cfdbfaaf-8e45-46d0-8bc4-cf73062f3dbe",
   "metadata": {},
   "outputs": [
    {
     "name": "stdout",
     "output_type": "stream",
     "text": [
      "<class 'pandas.core.frame.DataFrame'>\n",
      "RangeIndex: 93620 entries, 0 to 93619\n",
      "Data columns (total 15 columns):\n",
      " #   Column       Non-Null Count  Dtype  \n",
      "---  ------       --------------  -----  \n",
      " 0   reviewScore  93620 non-null  float64\n",
      " 1   reviewTime   93620 non-null  object \n",
      " 2   reviewText   93620 non-null  object \n",
      " 3   appearance   92036 non-null  float64\n",
      " 4   aroma        92036 non-null  float64\n",
      " 5   palate       92036 non-null  float64\n",
      " 6   taste        92036 non-null  float64\n",
      " 7   overall      92036 non-null  float64\n",
      " 8   profileName  93620 non-null  object \n",
      " 9   beerName     93620 non-null  object \n",
      " 10  beerID       93620 non-null  int64  \n",
      " 11  brewerID     93620 non-null  int64  \n",
      " 12  ABV          93620 non-null  float64\n",
      " 13  style        93620 non-null  object \n",
      " 14  imageUrl     93620 non-null  object \n",
      "dtypes: float64(7), int64(2), object(6)\n",
      "memory usage: 10.7+ MB\n"
     ]
    }
   ],
   "source": [
    "# 결측치 제거\n",
    "ratebeer = ratebeer.dropna(subset=['reviewScore']).reset_index(drop = True)\n",
    "ratebeer.info()"
   ]
  },
  {
   "cell_type": "markdown",
   "id": "045cff95-e856-469a-b376-be80fced3a17",
   "metadata": {},
   "source": [
    "### 편의점 유통 맥주만 가져오기"
   ]
  },
  {
   "cell_type": "code",
   "execution_count": 6,
   "id": "36548c9a-27a4-4ecf-a03c-c1fff3fc9794",
   "metadata": {},
   "outputs": [
    {
     "data": {
      "text/plain": [
       "81"
      ]
     },
     "execution_count": 6,
     "metadata": {},
     "output_type": "execute_result"
    }
   ],
   "source": [
    "# 전체 데이터에서 한국 편의점 맥주 개수\n",
    "len(ratebeer['beerName'].unique())"
   ]
  },
  {
   "cell_type": "markdown",
   "id": "4c2f2b12-940d-4e82-9253-f938049bf9c5",
   "metadata": {},
   "source": [
    "### 맥주 점수 분포 체크"
   ]
  },
  {
   "cell_type": "code",
   "execution_count": 7,
   "id": "1f8e2bf1-1da8-4ae2-bded-64827214d372",
   "metadata": {},
   "outputs": [
    {
     "data": {
      "text/plain": [
       "count    93620.000000\n",
       "mean         2.718526\n",
       "std          0.936973\n",
       "min          0.500000\n",
       "25%          2.000000\n",
       "50%          2.800000\n",
       "75%          3.400000\n",
       "max          5.000000\n",
       "Name: reviewScore, dtype: float64"
      ]
     },
     "execution_count": 7,
     "metadata": {},
     "output_type": "execute_result"
    }
   ],
   "source": [
    "ratebeer['reviewScore'].describe()"
   ]
  },
  {
   "cell_type": "code",
   "execution_count": 8,
   "id": "0e160b3d-4a91-4ab8-9336-8291def243b9",
   "metadata": {},
   "outputs": [
    {
     "data": {
      "text/plain": [
       "<AxesSubplot:>"
      ]
     },
     "execution_count": 8,
     "metadata": {},
     "output_type": "execute_result"
    },
    {
     "data": {
      "image/png": "[encoded data removed]",
      "text/plain": [
       "<Figure size 432x288 with 1 Axes>"
      ]
     },
     "metadata": {
      "needs_background": "light"
     },
     "output_type": "display_data"
    }
   ],
   "source": [
    "ratebeer['reviewScore'].hist()"
   ]
  },
  {
   "cell_type": "code",
   "execution_count": 9,
   "id": "b91c7c8b-53ad-4384-9deb-360e9d189019",
   "metadata": {},
   "outputs": [
    {
     "data": {
      "text/plain": [
       "<AxesSubplot:>"
      ]
     },
     "execution_count": 9,
     "metadata": {},
     "output_type": "execute_result"
    },
    {
     "data": {
      "image/png": "[encoded data removed]",
      "text/plain": [
       "<Figure size 432x288 with 1 Axes>"
      ]
     },
     "metadata": {
      "needs_background": "light"
     },
     "output_type": "display_data"
    }
   ],
   "source": [
    "ratebeer[['reviewScore']].boxplot()"
   ]
  },
  {
   "cell_type": "markdown",
   "id": "1ed65f32-cb28-44d0-9710-e0b9c7ce704e",
   "metadata": {},
   "source": [
    "### preprocessing"
   ]
  },
  {
   "cell_type": "code",
   "execution_count": 10,
   "id": "f3e0526b-0124-4902-bab4-c8de03d5bc6c",
   "metadata": {},
   "outputs": [],
   "source": [
    "def preprocessing_df(df):\n",
    "    # rating 전처리\n",
    "    # df['rating/apperance'] = df['review/appearance'].str.split(\"/\").str[0].astype(int)\n",
    "    # df['rating/aroma'] = df['review/aroma'].str.split(\"/\").str[0].astype(int)\n",
    "    # df['rating/palate'] = df['review/palate'].str.split(\"/\").str[0].astype(int)\n",
    "    # df['rating/taste'] = df['review/taste'].str.split(\"/\").str[0].astype(int)\n",
    "    # df['rating/overall'] = df['review/overall'].str.split(\"/\").str[0].astype(int)\n",
    "    \n",
    "    # overall rating 최대치 5로 변환\n",
    "    # df['rating/overall'] = df['rating/overall'] / 20 * 5\n",
    "    \n",
    "    # item, user, rating만 추출\n",
    "    df = df[['beerID', 'profileName', 'reviewScore', 'imageUrl']]\n",
    "    df.rename(columns={'beerID' : 'item', 'profileName' : 'user', 'reviewScore' : 'rating'}, inplace = True) \n",
    "    \n",
    "    # 유저 리뷰 수 개산\n",
    "    df['user/reviewcount'] = df.groupby('user')['user'].transform('count')\n",
    "    # 리뷰 수가 10개 이상인 유저만 남김 \n",
    "#     df = df[(df['user/reviewcount'] > 10)]\n",
    "    \n",
    "#     df.drop(columns=['user/reviewcount'], inplace=True)\n",
    "    \n",
    "    num_users = df.user.unique().shape[0]\n",
    "    num_items = df.item.unique().shape[0]\n",
    "    return df, num_users, num_items"
   ]
  },
  {
   "cell_type": "markdown",
   "id": "479b2adc-0830-4c71-b53f-5ddba3cd7236",
   "metadata": {},
   "source": [
    "### Statistics of the Dataset"
   ]
  },
  {
   "cell_type": "code",
   "execution_count": 11,
   "id": "a0bab6d9-401f-43a9-ba4e-8b337841a466",
   "metadata": {},
   "outputs": [
    {
     "name": "stdout",
     "output_type": "stream",
     "text": [
      "number of users: 17165, number of items: 81\n",
      "matrix sparsity: 0.932665\n",
      "    item        user  rating  \\\n",
      "0  75661  Grzesiek79     1.3   \n",
      "1  75661    GriZZZly     2.7   \n",
      "2  75661   bdleedahl     3.3   \n",
      "3  75661    DoctorHU     2.6   \n",
      "4  75661     McTapps     2.5   \n",
      "\n",
      "                                            imageUrl  user/reviewcount  \n",
      "0  https://res.cloudinary.com/ratebeer/image/uplo...                55  \n",
      "1  https://res.cloudinary.com/ratebeer/image/uplo...                13  \n",
      "2  https://res.cloudinary.com/ratebeer/image/uplo...                31  \n",
      "3  https://res.cloudinary.com/ratebeer/image/uplo...                48  \n",
      "4  https://res.cloudinary.com/ratebeer/image/uplo...                49  \n"
     ]
    }
   ],
   "source": [
    "data, num_users, num_items = preprocessing_df(ratebeer)\n",
    "sparsity = 1 - len(data) / (num_users * num_items)\n",
    "print(f'number of users: {num_users}, number of items: {num_items}')\n",
    "print(f'matrix sparsity: {sparsity:f}')\n",
    "print(data.head())"
   ]
  },
  {
   "cell_type": "code",
   "execution_count": 12,
   "id": "aa65b73b-fae4-49ab-b59a-3ee5652ef44d",
   "metadata": {},
   "outputs": [
    {
     "data": {
      "image/png": "[encoded data removed]",
      "text/plain": [
       "<Figure size 432x288 with 1 Axes>"
      ]
     },
     "metadata": {
      "needs_background": "light"
     },
     "output_type": "display_data"
    }
   ],
   "source": [
    "plt.hist(data['rating'], bins=5, ec='black')\n",
    "plt.xlabel('Rating')\n",
    "plt.ylabel('Count')\n",
    "plt.title('Distribution of Ratings in Ratebeer Korean Beer')\n",
    "plt.show()"
   ]
  },
  {
   "cell_type": "markdown",
   "id": "ac9a07d0-ab1a-4c6f-b321-fc0902cf00c0",
   "metadata": {},
   "source": [
    "### Label Encoding"
   ]
  },
  {
   "cell_type": "code",
   "execution_count": 13,
   "id": "f1506d94-641d-4cb5-afc0-27f58863a737",
   "metadata": {},
   "outputs": [],
   "source": [
    "user_le = LabelEncoder()\n",
    "item_le = LabelEncoder()\n",
    "data['user_id_idx'] = user_le.fit_transform(data['user'].values)\n",
    "data['item_id_idx'] = item_le.fit_transform(data['item'].values)\n",
    "\n",
    "# data.drop(columns=['user', 'item_id'], inplace=True)"
   ]
  },
  {
   "cell_type": "markdown",
   "id": "07172e2f-530d-488c-a4d7-4f38efb9b5b7",
   "metadata": {},
   "source": [
    "### Loading the data"
   ]
  },
  {
   "cell_type": "code",
   "execution_count": 14,
   "id": "9328902d-9c4e-4d35-b7fe-e048040ba2ae",
   "metadata": {},
   "outputs": [],
   "source": [
    "class BeerDataset(Dataset):\n",
    "    def __init__(self, df, mode='train'):\n",
    "        self.df = df\n",
    "        self.mode = mode\n",
    "        self.train_size = 0.8\n",
    "        self.val_size = 0.1\n",
    "        self.test_size = 1 - self.train_size - self.val_size \n",
    "\n",
    "        self.num_items = len(self.df['item_id_idx'].unique())\n",
    "        self.num_users = len(self.df['user_id_idx'].unique())\n",
    "        \n",
    "        n_val = int(self.num_users * self.val_size)\n",
    "        n_test = int(self.num_users * self.test_size)\n",
    "        \n",
    "        random.seed(42)\n",
    "        \n",
    "        val_indices = set(random.choices(range(self.num_users), k=n_val))\n",
    "        test_indices = set(random.choices(list(set(range(self.num_users)) - val_indices), k=n_test))\n",
    "        train_indices = set(range(self.num_users)) - val_indices - test_indices\n",
    "    \n",
    "        # self.train_df, self.test_df = train_test_split(self.df, test_size=self.test_size, train_size=self.train_size, stratify = self.df['user_id_idx'].values, random_state=42)\n",
    "                        \n",
    "        if self.mode == 'train':\n",
    "            self.df = self.df[self.df['user_id_idx'].isin(train_indices)]\n",
    "        elif self.mode == 'val':\n",
    "            self.df = self.df[self.df['user_id_idx'].isin(val_indices)]\n",
    "        else:\n",
    "            self.df = self.df[self.df['user_id_idx'].isin(test_indices)]\n",
    "\n",
    "        self.users = torch.tensor(self.df['user_id_idx'].values)\n",
    "        self.items = torch.tensor(self.df['item_id_idx'].values)\n",
    "        self.ratings = torch.tensor(self.df['rating'].values)\n",
    "        \n",
    "        self.inter_mat = self.make_inter_mat()\n",
    "    \n",
    "    def make_inter_mat(self):\n",
    "        inter_mat = np.zeros((self.num_users, self.num_items))\n",
    "        for user, item, rating in zip(self.users, self.items, self.ratings):\n",
    "            inter_mat[user][item] = rating\n",
    "\n",
    "        return inter_mat\n",
    "\n",
    "    def __len__(self):\n",
    "        return len(self.inter_mat)\n",
    "\n",
    "    def __getitem__(self, index):\n",
    "        inter_mat = torch.tensor(self.inter_mat[index]).float()\n",
    "\n",
    "        return index, inter_mat"
   ]
  },
  {
   "cell_type": "markdown",
   "id": "a00cddbb-7c6a-4871-b796-92602f7f1ae4",
   "metadata": {},
   "source": [
    "### Autorec Model"
   ]
  },
  {
   "cell_type": "code",
   "execution_count": 393,
   "id": "824e9e06-921d-446f-a93a-767c7837c853",
   "metadata": {},
   "outputs": [],
   "source": [
    "class AutoRec(nn.Module):\n",
    "    def __init__(self, num_hidden, num_items, dropout=0.05):\n",
    "        super(AutoRec, self).__init__()\n",
    "        self.encoder = nn.Linear(num_items, num_hidden)\n",
    "        self.activate = nn.Sigmoid()\n",
    "        self.decoder = nn.Linear(num_hidden, num_items)\n",
    "        self.dropout = nn.Dropout(dropout)\n",
    "\n",
    "    def forward(self, mat):\n",
    "        hidden = self.dropout(self.activate(self.encoder(mat)))\n",
    "        pred = self.decoder(hidden)\n",
    "        \n",
    "        return pred"
   ]
  },
  {
   "cell_type": "markdown",
   "id": "1c64864d-aab9-429b-b4b6-d5a319c7bafe",
   "metadata": {},
   "source": [
    "###  Model train, validcation"
   ]
  },
  {
   "cell_type": "code",
   "execution_count": 394,
   "id": "2d670b0f-9ed0-4a9b-953b-832f67dcd695",
   "metadata": {},
   "outputs": [],
   "source": [
    "def train(model, train_iter, criterion, optm, device):\n",
    "    model.train() # to train mode\n",
    "    loss_sum = 0\n",
    "\n",
    "    for _, inter_mat in train_iter:\n",
    "        inter_mat = inter_mat.to(device)    \n",
    "\n",
    "        preds = model(inter_mat)\n",
    "        loss = criterion(preds, inter_mat)\n",
    "\n",
    "        # Update\n",
    "        optm.zero_grad()      # reset gradient \n",
    "        loss.backward()      # backpropagate\n",
    "        optm.step()      # optimizer update\n",
    "        \n",
    "        loss_sum += loss.item()\n",
    "        \n",
    "    loss_avg = loss_sum / len(train_iter)\n",
    "\n",
    "    return loss_avg"
   ]
  },
  {
   "cell_type": "code",
   "execution_count": 395,
   "id": "62571012-7682-460e-b4b6-174a11ea6a5b",
   "metadata": {},
   "outputs": [],
   "source": [
    "def validation(model, valid_iter, criterion, device):\n",
    "    with torch.no_grad():\n",
    "        model.eval()\n",
    "        loss_sum = 0\n",
    "\n",
    "        for _, inter_mat in valid_iter:\n",
    "            inter_mat = inter_mat.to(device) \n",
    "\n",
    "            preds = model(inter_mat)\n",
    "            loss = criterion(preds, inter_mat)            \n",
    "\n",
    "            loss_sum += loss.item()\n",
    "\n",
    "    loss_avg = loss_sum / len(valid_iter)\n",
    "\n",
    "    return loss_avg"
   ]
  },
  {
   "cell_type": "code",
   "execution_count": 396,
   "id": "00a37b7a-7095-458c-8fc6-c7c0fe516018",
   "metadata": {},
   "outputs": [],
   "source": [
    "device = torch.device('cuda:0' if torch.cuda.is_available() else 'cpu')\n",
    "\n",
    "num_epochs = 25\n",
    "lr = 0.001\n",
    "batch_size = 64\n",
    "\n",
    "num_items = data.item_id_idx.nunique()\n",
    "num_hidden = 40"
   ]
  },
  {
   "cell_type": "code",
   "execution_count": 397,
   "id": "d25de793-cb99-4cc4-9c40-0c7458946dd3",
   "metadata": {},
   "outputs": [],
   "source": [
    "train_dataset = BeerDataset(df=data, mode='train')\n",
    "val_dataset = BeerDataset(df=data, mode='val')\n",
    "\n",
    "train_dataloader = DataLoader(dataset=train_dataset, batch_size=batch_size, shuffle=True) \n",
    "val_dataloader = DataLoader(dataset=val_dataset, batch_size=batch_size, shuffle=False)"
   ]
  },
  {
   "cell_type": "code",
   "execution_count": 398,
   "id": "bb92211c-ca43-431c-87f0-b86093d2a600",
   "metadata": {},
   "outputs": [],
   "source": [
    "model = AutoRec(num_hidden, num_items).to(device)\n",
    "loss = nn.MSELoss()\n",
    "optm = optim.Adam(model.parameters(),lr=lr)"
   ]
  },
  {
   "cell_type": "code",
   "execution_count": 399,
   "id": "888f186e-1bb8-40d8-9815-4348378acba1",
   "metadata": {},
   "outputs": [
    {
     "name": "stdout",
     "output_type": "stream",
     "text": [
      "epoch: 0, train Loss: 0.3176, test Loss: 0.0330\n",
      "epoch: 1, train Loss: 0.2164, test Loss: 0.0220\n",
      "epoch: 2, train Loss: 0.1648, test Loss: 0.0169\n",
      "epoch: 3, train Loss: 0.1342, test Loss: 0.0142\n",
      "epoch: 4, train Loss: 0.1169, test Loss: 0.0124\n",
      "epoch: 5, train Loss: 0.1065, test Loss: 0.0115\n",
      "epoch: 6, train Loss: 0.0988, test Loss: 0.0111\n",
      "epoch: 7, train Loss: 0.0936, test Loss: 0.0098\n",
      "epoch: 8, train Loss: 0.0888, test Loss: 0.0088\n",
      "epoch: 9, train Loss: 0.0855, test Loss: 0.0086\n",
      "epoch: 10, train Loss: 0.0820, test Loss: 0.0076\n",
      "epoch: 11, train Loss: 0.0796, test Loss: 0.0073\n",
      "epoch: 12, train Loss: 0.0777, test Loss: 0.0071\n",
      "epoch: 13, train Loss: 0.0750, test Loss: 0.0066\n",
      "epoch: 14, train Loss: 0.0737, test Loss: 0.0063\n",
      "epoch: 15, train Loss: 0.0732, test Loss: 0.0061\n",
      "epoch: 16, train Loss: 0.0718, test Loss: 0.0059\n",
      "epoch: 17, train Loss: 0.0710, test Loss: 0.0058\n",
      "epoch: 18, train Loss: 0.0702, test Loss: 0.0057\n",
      "epoch: 19, train Loss: 0.0692, test Loss: 0.0056\n",
      "epoch: 20, train Loss: 0.0686, test Loss: 0.0055\n",
      "epoch: 21, train Loss: 0.0677, test Loss: 0.0055\n",
      "epoch: 22, train Loss: 0.0682, test Loss: 0.0054\n",
      "epoch: 23, train Loss: 0.0671, test Loss: 0.0054\n",
      "epoch: 24, train Loss: 0.0663, test Loss: 0.0053\n"
     ]
    },
    {
     "data": {
      "image/png": "[encoded data removed]",
      "text/plain": [
       "<Figure size 720x360 with 1 Axes>"
      ]
     },
     "metadata": {
      "needs_background": "light"
     },
     "output_type": "display_data"
    }
   ],
   "source": [
    "train_losses = []\n",
    "val_losses = []\n",
    "\n",
    "for epoch in range(num_epochs):\n",
    "\n",
    "    train_loss = train(model, train_dataloader, loss, optm, device)\n",
    "    val_loss = validation(model, val_dataloader, loss, device)\n",
    "\n",
    "    train_losses.append(train_loss)\n",
    "    val_losses.append(val_loss)\n",
    "    \n",
    "    print(f'epoch: {epoch}, train Loss: {train_loss:.4f}, test Loss: {val_loss:.4f}')\n",
    "\n",
    "plt.figure(figsize=(10,5))\n",
    "plt.plot(train_losses,label=\"train_loss\")\n",
    "plt.plot(val_losses,label=\"val_loss\")\n",
    "plt.xlabel(\"epoch\")\n",
    "plt.ylabel(\"Loss\")\n",
    "plt.legend()\n",
    "plt.show()"
   ]
  },
  {
   "cell_type": "code",
   "execution_count": 400,
   "id": "4e258010-0f76-44eb-a49d-9b116fcc622f",
   "metadata": {},
   "outputs": [],
   "source": [
    "PATH = '../model/autorec_exp.pt'\n",
    "torch.save(model.state_dict(), PATH)"
   ]
  },
  {
   "cell_type": "markdown",
   "id": "bdb75490-0841-4e51-b7ee-ca53fbc949a5",
   "metadata": {},
   "source": [
    "## inference"
   ]
  },
  {
   "cell_type": "markdown",
   "id": "e9ececd1-0882-42fe-8891-6dc6a7d8e81a",
   "metadata": {},
   "source": [
    "### 모델 불러오기"
   ]
  },
  {
   "cell_type": "code",
   "execution_count": 401,
   "id": "1c7802a9-a41b-41a9-a485-ca7c0cc4683a",
   "metadata": {},
   "outputs": [
    {
     "data": {
      "text/plain": [
       "<All keys matched successfully>"
      ]
     },
     "execution_count": 401,
     "metadata": {},
     "output_type": "execute_result"
    }
   ],
   "source": [
    "model = AutoRec(num_hidden, num_items).to(device)\n",
    "model.load_state_dict(torch.load(PATH))"
   ]
  },
  {
   "cell_type": "markdown",
   "id": "07170d85-4d36-4e3b-9d62-0bf2bdeac6ef",
   "metadata": {},
   "source": [
    "### 평가지표 함수"
   ]
  },
  {
   "cell_type": "code",
   "execution_count": 282,
   "id": "0ebe94ba-f586-4bb0-a26e-91e7fe13327a",
   "metadata": {},
   "outputs": [],
   "source": [
    "def ndcg_k(actual, predicted, topk):\n",
    "    res = 0\n",
    "    for user_id in range(len(actual)):\n",
    "        k = min(topk, len(actual[user_id]))\n",
    "        idcg = idcg_k(k)\n",
    "        dcg_k = sum(\n",
    "            [\n",
    "                int(predicted[user_id][j] in set(actual[user_id])) / math.log(j + 2, 2)\n",
    "                for j in range(topk)\n",
    "            ]\n",
    "        )\n",
    "        res += dcg_k / idcg\n",
    "    return res / float(len(actual))\n",
    "\n",
    "# Calculates the ideal discounted cumulative gain at k\n",
    "def idcg_k(k):\n",
    "    res = sum([1.0 / math.log(i + 2, 2) for i in range(k)])\n",
    "    if not res:\n",
    "        return 1.0\n",
    "    else:\n",
    "        return res\n",
    "\n",
    "def recall_at_k(actual, predicted, topk):\n",
    "    sum_recall = 0.0\n",
    "    num_users = len(predicted)\n",
    "    true_users = 0\n",
    "    for i in range(num_users):\n",
    "        act_set = set(actual[i])\n",
    "        pred_set = set(predicted[i][:topk])\n",
    "        if len(act_set) != 0:\n",
    "            sum_recall += len(act_set & pred_set) / float(len(act_set))\n",
    "            true_users += 1\n",
    "    return sum_recall / true_users"
   ]
  },
  {
   "cell_type": "code",
   "execution_count": 283,
   "id": "b824c518-3699-46d0-b141-298428939d38",
   "metadata": {},
   "outputs": [],
   "source": [
    "def inference(model, test_iter, test_matrix, device, topk = 4):\n",
    "    pred_list = None\n",
    "    answer_list = None\n",
    "    with torch.no_grad():\n",
    "        model.eval()\n",
    "\n",
    "        for i, (user_ids, inter_mat) in enumerate(test_iter):\n",
    "            inter_mat = inter_mat.to(device)\n",
    "            \n",
    "            rating_pred = model(inter_mat)\n",
    "            \n",
    "            rating_pred = rating_pred.cpu().data.numpy().copy()\n",
    "            \n",
    "            batch_user_index = user_ids.cpu().numpy()\n",
    "            answers = test_matrix.argsort(axis = 1)[batch_user_index, -topk:][:, ::-1]\n",
    "            # rating_pred[test_matrix[batch_user_index] > 0] = 0\n",
    "            \n",
    "            ind = np.argpartition(rating_pred, -topk)[:, -topk:]\n",
    "            \n",
    "            arr_ind = rating_pred[np.arange(len(rating_pred))[:, None], ind]\n",
    "\n",
    "            arr_ind_argsort = np.argsort(arr_ind)[np.arange(len(rating_pred)), ::-1]\n",
    "\n",
    "            batch_pred_list = ind[\n",
    "                np.arange(len(rating_pred))[:, None], arr_ind_argsort\n",
    "            ]\n",
    "\n",
    "            if i == 0:\n",
    "                pred_list = batch_pred_list\n",
    "                answer_list = answers\n",
    "            else:\n",
    "                pred_list = np.append(pred_list, batch_pred_list, axis=0)\n",
    "                answer_list = np.append(\n",
    "                        answer_list, answers, axis=0\n",
    "                )\n",
    "            \n",
    "        recall = recall_at_k(answer_list, pred_list, topk)\n",
    "        ndcg = ndcg_k(answer_list, pred_list, topk)\n",
    "        \n",
    "        print(f'recall@{topk} = {recall}, ndcg@{topk} = {ndcg}')\n",
    "    return pred_list, answer_list"
   ]
  },
  {
   "cell_type": "code",
   "execution_count": 88,
   "id": "95a484f1-91ef-497b-87f8-eeac00dac966",
   "metadata": {},
   "outputs": [],
   "source": [
    "device = torch.device('cuda:0' if torch.cuda.is_available() else 'cpu')\n",
    "\n",
    "num_epochs = 25\n",
    "lr = 0.001\n",
    "batch_size = 1\n",
    "\n",
    "num_items = data.item_id_idx.nunique()\n",
    "num_hidden = 40"
   ]
  },
  {
   "cell_type": "code",
   "execution_count": 89,
   "id": "5590df15-498d-453e-b8a0-2a1d321ad8ba",
   "metadata": {},
   "outputs": [],
   "source": [
    "test_dataset = BeerDataset(df=data, mode='test')\n",
    "\n",
    "test_dataloader = DataLoader(dataset=test_dataset, batch_size=batch_size, shuffle=False)\n",
    "\n",
    "test_matrix = test_dataset.inter_mat"
   ]
  },
  {
   "cell_type": "markdown",
   "id": "927a0c6e-626f-499f-9c35-a44f8be81c9e",
   "metadata": {},
   "source": [
    "### inference 수행"
   ]
  },
  {
   "cell_type": "code",
   "execution_count": 59,
   "id": "f079b6e7-fccb-494a-ac5d-bcecab8fcda7",
   "metadata": {},
   "outputs": [
    {
     "name": "stdout",
     "output_type": "stream",
     "text": [
      "recall@4 = 0.05295659772793475, ndcg@4 = 0.061438824849315406\n"
     ]
    }
   ],
   "source": [
    "pred_list, answer_list = inference(model, test_dataloader, test_matrix, device, topk=4)"
   ]
  },
  {
   "cell_type": "code",
   "execution_count": 60,
   "id": "aec90108-a730-4d45-a5b9-3dc7489b1c05",
   "metadata": {},
   "outputs": [
    {
     "data": {
      "text/plain": [
       "array([14420,  2619, 12238, ...,  7819, 14540,  3600])"
      ]
     },
     "execution_count": 60,
     "metadata": {},
     "output_type": "execute_result"
    }
   ],
   "source": [
    "# test 데이터 user 목록\n",
    "test_dataset.df.user_id_idx.unique()"
   ]
  },
  {
   "cell_type": "code",
   "execution_count": 61,
   "id": "06ac0bf9-9d7b-49c4-8f5f-402ba8e3d2fb",
   "metadata": {},
   "outputs": [
    {
     "data": {
      "text/plain": [
       "array([58, 55, 19,  9])"
      ]
     },
     "execution_count": 61,
     "metadata": {},
     "output_type": "execute_result"
    }
   ],
   "source": [
    "# 모델 예측 선호 맥주 top4\n",
    "pred_list[14420]"
   ]
  },
  {
   "cell_type": "code",
   "execution_count": 62,
   "id": "5b82772b-a1b2-4a6f-af10-4409f63945a8",
   "metadata": {},
   "outputs": [
    {
     "data": {
      "text/plain": [
       "array([58, 19, 55, 15])"
      ]
     },
     "execution_count": 62,
     "metadata": {},
     "output_type": "execute_result"
    }
   ],
   "source": [
    "# 유저 실제 선호 맥주 top4\n",
    "answer_list[14420]"
   ]
  },
  {
   "cell_type": "code",
   "execution_count": 63,
   "id": "142ee032-cefb-4444-81a1-221ab37608f2",
   "metadata": {},
   "outputs": [
    {
     "data": {
      "text/plain": [
       "array([1.9, 0. , 0. , 1.5, 2.2, 2.1, 3.5, 1.9, 1.4, 3.4, 2.8, 0. , 0. ,\n",
       "       3.3, 0. , 3.6, 1.7, 1.6, 3.5, 3.8, 2.8, 2.2, 0. , 2.9, 3. , 3. ,\n",
       "       3.4, 3.3, 0. , 0. , 2. , 2.4, 0. , 1.8, 0. , 2.3, 0. , 0. , 0. ,\n",
       "       0. , 0. , 0. , 0. , 0. , 0. , 0. , 3.2, 0. , 0. , 0. , 0. , 3. ,\n",
       "       3.1, 0. , 1.9, 3.7, 2. , 0. , 3.8, 0. , 0. , 0. , 0. , 0. , 0. ,\n",
       "       0. , 0. , 0. , 0. , 0. , 3. , 1.8, 0. , 0. , 0. , 0. , 0. , 0. ,\n",
       "       0. , 0. , 0. ])"
      ]
     },
     "execution_count": 63,
     "metadata": {},
     "output_type": "execute_result"
    }
   ],
   "source": [
    "test_matrix[14420]"
   ]
  },
  {
   "cell_type": "markdown",
   "id": "4eaa3539-071c-4769-82ff-05d5f4c8ddd3",
   "metadata": {},
   "source": [
    "### 웹사이트 inference"
   ]
  },
  {
   "cell_type": "code",
   "execution_count": 432,
   "id": "69d3bed9-a5ac-4bb8-8651-02ab4c5b2f17",
   "metadata": {},
   "outputs": [
    {
     "name": "stdout",
     "output_type": "stream",
     "text": [
      "[23 25 11  6]\n",
      "[4.26408   4.0621214 3.309432  3.0157337]\n"
     ]
    }
   ],
   "source": [
    "# 웹사이트 input\n",
    "# x_test = torch.tensor([1.9, 0. , 0. , 1.5, 2.2, 2.1, 3.5, 1.9, 1.4, 3.4, 2.8, 0. , 0. ,\n",
    "#        3.3, 0. , 3.6, 1.7, 1.6, 3.5, 3.8, 2.8, 2.2, 0. , 2.9, 3. , 3. ,\n",
    "#        3.4, 3.3, 0. , 0. , 2. , 2.4, 0. , 1.8, 0. , 2.3, 0. , 0. , 0. ,\n",
    "#        0. , 0. , 0. , 0. , 0. , 0. , 0. , 3.2, 0. , 0. , 0. , 0. , 3. ,\n",
    "#        3.1, 0. , 1.9, 3.7, 2. , 0. , 3.8, 0. , 0. , 0. , 0. , 0. , 0. ,\n",
    "#        0. , 0. , 0. , 0. , 0. , 3. , 1.8, 0. , 0. , 0. , 0. , 0. , 0. ,\n",
    "#        0. , 0. , 0. ]).to(device)\n",
    "\n",
    "num_item = data['item'].nunique()\n",
    "\n",
    "rating_list = [5.0, 2.8, 0.5] # 좋아요, 몰라요, 싫어요\n",
    "x_test = torch.tensor([random.choice(rating_list) for _ in range(num_item)]).to(device)\n",
    "\n",
    "# 추천 맥주 개수\n",
    "topk = 4\n",
    "\n",
    "# 모델 에측 맥주 평점\n",
    "rating_pred = model(x_test)\n",
    "\n",
    "rating_pred = rating_pred.cpu().data.numpy().copy()\n",
    "# print(rating_pred)\n",
    "\n",
    "# batch_user_index = user_ids.cpu().numpy()\n",
    "answers = x_test.cpu().numpy().argsort()[-topk:][::-1]\n",
    "\n",
    "# user가 리뷰를 남긴 맥주 추천하고 싶지 않을 때 사용\n",
    "\n",
    "# if novelty:\n",
    "# 좋아요로 직접 평가한 맥주는 다시 추천하지 않도록 설정\n",
    "# rating_pred[x_test.cpu().numpy() == rating_list[0]] = 0\n",
    "# print(rating_pred)\n",
    "\n",
    "# topk 맥주 index\n",
    "ind = np.argpartition(rating_pred, -topk)[-topk:]\n",
    "# print(ind)\n",
    "\n",
    "# topk 맥주 index별 평점\n",
    "arr_ind = rating_pred[ind]\n",
    "# print(arr_ind)\n",
    "\n",
    "# 평점 기준으로 내림차순으로 정렬\n",
    "arr_ind_argsort = np.argsort(arr_ind)[::-1]\n",
    "# print(arr_ind_argsort)\n",
    "\n",
    "# rating 내림차순 모델 예측 topk 맥주 index \n",
    "topk_pred_list = ind[arr_ind_argsort]\n",
    "print(topk_pred_list)\n",
    "\n",
    "# rating 내림차순 모델 예측 맥주 평점 중 topk개\n",
    "topk_rating_list = rating_pred[topk_pred_list] #rating_pred[np.arange(len(rating_pred))[:, None], ind]\n",
    "print(topk_rating_list)"
   ]
  },
  {
   "cell_type": "code",
   "execution_count": 433,
   "id": "3bc6f34e-9951-4feb-8035-722319024bc9",
   "metadata": {},
   "outputs": [
    {
     "data": {
      "text/plain": [
       "array([23, 25, 11,  6])"
      ]
     },
     "execution_count": 433,
     "metadata": {},
     "output_type": "execute_result"
    }
   ],
   "source": [
    "# 모델 예측 선호 맥주 top4\n",
    "topk_pred_list"
   ]
  },
  {
   "cell_type": "code",
   "execution_count": 434,
   "id": "11f57e89-f6fd-4a3d-a989-4b2b229768e3",
   "metadata": {},
   "outputs": [
    {
     "data": {
      "text/plain": [
       "array([80, 33, 56, 50])"
      ]
     },
     "execution_count": 434,
     "metadata": {},
     "output_type": "execute_result"
    }
   ],
   "source": [
    "# 유저 실제 선호 맥주 top4\n",
    "answers"
   ]
  },
  {
   "cell_type": "code",
   "execution_count": 435,
   "id": "b30f5bdb-4698-47b6-8246-bba8660ac7fc",
   "metadata": {},
   "outputs": [
    {
     "data": {
      "text/plain": [
       "array([4.26408  , 4.0621214, 3.309432 , 3.0157337], dtype=float32)"
      ]
     },
     "execution_count": 435,
     "metadata": {},
     "output_type": "execute_result"
    }
   ],
   "source": [
    "rating_pred[topk_pred_list]"
   ]
  },
  {
   "cell_type": "code",
   "execution_count": 436,
   "id": "ff0240f1-a8af-4232-9094-422768412b90",
   "metadata": {},
   "outputs": [
    {
     "name": "stdout",
     "output_type": "stream",
     "text": [
      "good\n",
      "[4.26408, 4.0621214, 3.309432, 2.9435837, 2.5138192, 2.472801, 2.4099026, 2.1256049, 1.6941911, 1.1788489, 1.1643821, 1.1642079, 0.76228213, 0.6668209, 0.5736381, 0.5039738, 0.36541566, 0.2599463, 0.2463097, 0.16786335, 0.14794841, 0.14294763, 0.1332011, 0.048426036, -0.0047852797]\n",
      "\n",
      "unknown\n",
      "[3.0157337, 2.7779715, 2.741613, 2.7136064, 2.4995987, 2.3698914, 2.16725, 2.058119, 1.7312217, 1.6893394, 1.6090599, 1.5271612, 1.2322147, 1.220505, 1.2077489, 1.1199178, 1.0969818, 1.0486139, 0.9670328, 0.44345564, 0.4180119, 0.13668081, 0.03376079, 0.0028686412]\n",
      "\n",
      "bad\n",
      "[2.6388783, 2.5511377, 2.3912463, 2.2711177, 2.145404, 1.896892, 1.7330465, 1.4754276, 1.4067134, 1.2494069, 1.2307029, 1.0831382, 0.9109339, 0.87931275, 0.7912947, 0.757687, 0.7528747, 0.57942295, 0.41612437, 0.24029168, 0.23380283, 0.21760184, 0.21017966, 0.19579034, 0.13589476, 0.1357734, 0.09465668, 0.06816541, 0.06373448, 0.014628353, 0.003000007, -0.48749205]\n",
      "\n"
     ]
    }
   ],
   "source": [
    "label_list = ['good', 'unknown', 'bad']\n",
    "\n",
    "for i, rating in enumerate(rating_list):\n",
    "    print(label_list[i])\n",
    "    print(list(sorted([rating_pred[i] for i in np.where(x_test.cpu().numpy() == rating)[0]], reverse=True)))\n",
    "    print()"
   ]
  },
  {
   "cell_type": "code",
   "execution_count": 382,
   "id": "e557d852-5b65-4b47-be97-e3184535d82b",
   "metadata": {},
   "outputs": [
    {
     "data": {
      "image/png": "[encoded data removed]",
      "text/plain": [
       "<Figure size 720x360 with 1 Axes>"
      ]
     },
     "metadata": {
      "needs_background": "light"
     },
     "output_type": "display_data"
    }
   ],
   "source": [
    "label_list = ['good', 'unknown', 'bad']\n",
    "\n",
    "fig, ax = plt.subplots(1, 1, figsize=(10, 5))\n",
    "\n",
    "for i, rating in enumerate(rating_list):\n",
    "    \n",
    "    ax = sns.kdeplot(sorted([rating_pred[i] for i in np.where(x_test.cpu().numpy() == rating)[0]], reverse=True), label = label_list[i], fill = True)\n",
    "\n",
    "plt.legend()\n",
    "plt.show()"
   ]
  },
  {
   "cell_type": "code",
   "execution_count": 290,
   "id": "b6f3abd2-16da-4e7d-8d4c-d55bca913da1",
   "metadata": {},
   "outputs": [
    {
     "data": {
      "text/plain": [
       "array([ 1.47546172e+00,  1.69184613e+00,  1.99994540e+00,  1.59567380e+00,\n",
       "        2.95294094e+00,  1.06013727e+00,  3.07361460e+00,  2.15415359e+00,\n",
       "        1.35666573e+00,  5.19033623e+00,  2.49862480e+00,  2.55922246e+00,\n",
       "        4.75388384e+00,  6.63135910e+00,  2.74059010e+00,  2.88123131e+00,\n",
       "        1.37604880e+00,  2.23030519e+00,  1.02435303e+00,  2.28660798e+00,\n",
       "        3.16005039e+00,  2.83956242e+00,  2.64085740e-01,  6.29173803e+00,\n",
       "        3.85689068e+00,  5.09783888e+00,  2.86299634e+00,  3.64590716e+00,\n",
       "        1.62682742e-01,  3.16866708e+00,  2.24804401e+00,  2.44594073e+00,\n",
       "        1.47686827e+00,  1.63630497e+00,  2.67838550e+00,  5.87140799e-01,\n",
       "        1.16310287e+00,  2.21746826e+00,  6.60477877e-01,  1.18828189e+00,\n",
       "        4.34402108e-01,  9.78398860e-01,  1.08562899e+00,  2.46906504e-01,\n",
       "        1.86117291e+00,  5.36082554e+00,  2.24745989e+00, -2.01914422e-02,\n",
       "        1.36391628e+00,  4.17154342e-01,  4.91129607e-01,  4.37338400e+00,\n",
       "        4.53760672e+00,  4.46969652e+00,  1.83491910e+00,  2.10795593e+00,\n",
       "        1.04064238e+00,  1.89827263e+00,  5.70648313e-01,  1.74760923e-01,\n",
       "        4.79837328e-01,  1.05348909e+00,  6.76852703e-01,  5.50962746e-01,\n",
       "        6.70738965e-02,  5.69897115e-01,  8.08448493e-02, -1.50367487e-02,\n",
       "        2.39020482e-01,  1.36660635e-01, -1.02638793e+00,  1.00298844e-01,\n",
       "       -2.91485037e-03,  1.00211191e+00,  2.94436440e-02,  3.73005122e-03,\n",
       "        1.08400864e-05, -2.55273678e-03,  3.43138784e-01,  1.46433666e-01,\n",
       "        1.07602105e-01], dtype=float32)"
      ]
     },
     "execution_count": 290,
     "metadata": {},
     "output_type": "execute_result"
    }
   ],
   "source": [
    "# 모델 예측 rating 점수\n",
    "rating_pred"
   ]
  },
  {
   "cell_type": "code",
   "execution_count": 291,
   "id": "c1f9edd6-a542-4479-9be5-6348791a9ef1",
   "metadata": {},
   "outputs": [
    {
     "data": {
      "text/plain": [
       "tensor([0.5000, 0.5000, 5.0000, 2.8000, 2.8000, 2.8000, 0.5000, 2.8000, 0.5000,\n",
       "        5.0000, 2.8000, 2.8000, 5.0000, 5.0000, 2.8000, 2.8000, 2.8000, 2.8000,\n",
       "        2.8000, 0.5000, 2.8000, 2.8000, 0.5000, 5.0000, 5.0000, 5.0000, 0.5000,\n",
       "        0.5000, 5.0000, 5.0000, 5.0000, 2.8000, 0.5000, 2.8000, 0.5000, 0.5000,\n",
       "        2.8000, 5.0000, 0.5000, 2.8000, 2.8000, 0.5000, 5.0000, 0.5000, 0.5000,\n",
       "        5.0000, 2.8000, 2.8000, 5.0000, 2.8000, 2.8000, 5.0000, 5.0000, 2.8000,\n",
       "        0.5000, 2.8000, 5.0000, 0.5000, 0.5000, 0.5000, 0.5000, 0.5000, 0.5000,\n",
       "        0.5000, 5.0000, 0.5000, 2.8000, 0.5000, 0.5000, 0.5000, 0.5000, 0.5000,\n",
       "        5.0000, 2.8000, 0.5000, 0.5000, 5.0000, 2.8000, 2.8000, 0.5000, 0.5000],\n",
       "       device='cuda:0')"
      ]
     },
     "execution_count": 291,
     "metadata": {},
     "output_type": "execute_result"
    }
   ],
   "source": [
    "x_test"
   ]
  },
  {
   "cell_type": "code",
   "execution_count": 37,
   "id": "1a327d6e-2041-4a3c-aa09-6f6a5cb765c0",
   "metadata": {},
   "outputs": [
    {
     "data": {
      "text/plain": [
       "array([ 2,  9, 12, 13, 23, 24, 25, 28, 29, 30, 37, 42, 45, 48, 51, 52, 56,\n",
       "       64, 72, 76])"
      ]
     },
     "execution_count": 37,
     "metadata": {},
     "output_type": "execute_result"
    }
   ],
   "source": [
    "np.where(x_test.cpu().numpy() == 2.0)[0]"
   ]
  },
  {
   "cell_type": "code",
   "execution_count": 36,
   "id": "2a55642a-c7c1-483a-9e82-67656da36a3c",
   "metadata": {},
   "outputs": [
    {
     "data": {
      "text/plain": [
       "{2, 9, 12, 24, 28, 30, 37, 42, 45, 48, 52, 56, 64, 72, 76}"
      ]
     },
     "execution_count": 36,
     "metadata": {},
     "output_type": "execute_result"
    }
   ],
   "source": [
    "set(np.where(x_test.cpu().numpy() == 2.0)[0]) & set(np.where(rating_pred < 2.0)[0])"
   ]
  },
  {
   "cell_type": "code",
   "execution_count": 48,
   "id": "e7e96936-e3aa-43ce-bd76-b8ad25f9fd32",
   "metadata": {},
   "outputs": [
    {
     "data": {
      "text/plain": [
       "-4.3385754"
      ]
     },
     "execution_count": 48,
     "metadata": {},
     "output_type": "execute_result"
    }
   ],
   "source": [
    "rating_pred[21]"
   ]
  },
  {
   "cell_type": "code",
   "execution_count": 34,
   "id": "023d5a6a-a58b-4e8a-b944-f7f607f7c4cb",
   "metadata": {},
   "outputs": [
    {
     "data": {
      "text/plain": [
       "array(['https://res.cloudinary.com/ratebeer/image/upload/w_400,c_limit,d_Default_Beer_qqrv7k.png,f_auto/beer_75071',\n",
       "       'https://res.cloudinary.com/ratebeer/image/upload/w_400,c_limit,d_Default_Beer_qqrv7k.png,f_auto/beer_729',\n",
       "       'https://res.cloudinary.com/ratebeer/image/upload/w_400,c_limit,d_Default_Beer_qqrv7k.png,f_auto/beer_399',\n",
       "       'https://res.cloudinary.com/ratebeer/image/upload/w_400,c_limit,d_Default_Beer_qqrv7k.png,f_auto/beer_1088'],\n",
       "      dtype=object)"
      ]
     },
     "execution_count": 34,
     "metadata": {},
     "output_type": "execute_result"
    }
   ],
   "source": [
    "# image url\n",
    "data[data['item_id_idx'].isin(topk_pred_list)]['imageUrl'].unique()"
   ]
  },
  {
   "cell_type": "code",
   "execution_count": 35,
   "id": "468b0d25-c614-467e-ab62-63a9b586169e",
   "metadata": {},
   "outputs": [
    {
     "data": {
      "text/plain": [
       "array([75071,   729,   399,  1088])"
      ]
     },
     "execution_count": 35,
     "metadata": {},
     "output_type": "execute_result"
    }
   ],
   "source": [
    "# 맥주 이름\n",
    "data[data['item_id_idx'].isin(topk_pred_list)]['item'].unique()"
   ]
  },
  {
   "cell_type": "markdown",
   "id": "2696b346-a8d0-43eb-b0c2-270dad50c4d4",
   "metadata": {},
   "source": [
    "### 평가지표 점수"
   ]
  },
  {
   "cell_type": "code",
   "execution_count": 36,
   "id": "4e81f064-cf8e-4188-bcd0-905ef1d81419",
   "metadata": {},
   "outputs": [],
   "source": [
    "def ndcg_k_inf(actual, predicted, topk):\n",
    "    res = 0\n",
    "    k = min(topk, len(actual))\n",
    "    idcg = idcg_k(k)\n",
    "    dcg_k = sum(\n",
    "        [\n",
    "            int(predicted[j] in set(actual)) / math.log(j + 2, 2)\n",
    "            for j in range(topk)\n",
    "        ]\n",
    "    )\n",
    "    res += dcg_k / idcg\n",
    "    return res / float(len(actual))\n",
    "\n",
    "# Calculates the ideal discounted cumulative gain at k\n",
    "def idcg_k(k):\n",
    "    res = sum([1.0 / math.log(i + 2, 2) for i in range(k)])\n",
    "    if not res:\n",
    "        return 1.0\n",
    "    else:\n",
    "        return res\n",
    "\n",
    "def recall_at_k_inf(actual, predicted, topk):\n",
    "    act_set = set(actual)\n",
    "    pred_set = set(predicted[:topk])\n",
    "    if len(act_set) != 0:\n",
    "        sum_recall = len(act_set & pred_set) / float(len(act_set))\n",
    "        \n",
    "    return sum_recall"
   ]
  },
  {
   "cell_type": "code",
   "execution_count": 37,
   "id": "6ceded6d-5fd8-4038-844c-918bdf15c77f",
   "metadata": {},
   "outputs": [
    {
     "data": {
      "text/plain": [
       "0.75"
      ]
     },
     "execution_count": 37,
     "metadata": {},
     "output_type": "execute_result"
    }
   ],
   "source": [
    "recall_at_k_inf(answers, topk_pred_list, 4)"
   ]
  },
  {
   "cell_type": "code",
   "execution_count": 38,
   "id": "f9b9cb9a-5b0f-4477-9a7e-8a8caa35a1c0",
   "metadata": {},
   "outputs": [
    {
     "data": {
      "text/plain": [
       "0.18842440281481754"
      ]
     },
     "execution_count": 38,
     "metadata": {},
     "output_type": "execute_result"
    }
   ],
   "source": [
    "ndcg_k_inf(answers, topk_pred_list, 4)"
   ]
  },
  {
   "cell_type": "code",
   "execution_count": 39,
   "id": "6d8a63f7-b824-4a2b-95fc-d0eee870e298",
   "metadata": {},
   "outputs": [
    {
     "data": {
      "text/html": [
       "<div>\n",
       "<style scoped>\n",
       "    .dataframe tbody tr th:only-of-type {\n",
       "        vertical-align: middle;\n",
       "    }\n",
       "\n",
       "    .dataframe tbody tr th {\n",
       "        vertical-align: top;\n",
       "    }\n",
       "\n",
       "    .dataframe thead th {\n",
       "        text-align: right;\n",
       "    }\n",
       "</style>\n",
       "<table border=\"1\" class=\"dataframe\">\n",
       "  <thead>\n",
       "    <tr style=\"text-align: right;\">\n",
       "      <th></th>\n",
       "      <th>item</th>\n",
       "      <th>user</th>\n",
       "      <th>rating</th>\n",
       "      <th>imageUrl</th>\n",
       "      <th>user/reviewcount</th>\n",
       "      <th>user_id_idx</th>\n",
       "      <th>item_id_idx</th>\n",
       "    </tr>\n",
       "  </thead>\n",
       "  <tbody>\n",
       "    <tr>\n",
       "      <th>0</th>\n",
       "      <td>75661</td>\n",
       "      <td>Grzesiek79</td>\n",
       "      <td>1.3</td>\n",
       "      <td>https://res.cloudinary.com/ratebeer/image/uplo...</td>\n",
       "      <td>55</td>\n",
       "      <td>3051</td>\n",
       "      <td>56</td>\n",
       "    </tr>\n",
       "    <tr>\n",
       "      <th>1</th>\n",
       "      <td>75661</td>\n",
       "      <td>GriZZZly</td>\n",
       "      <td>2.7</td>\n",
       "      <td>https://res.cloudinary.com/ratebeer/image/uplo...</td>\n",
       "      <td>13</td>\n",
       "      <td>3028</td>\n",
       "      <td>56</td>\n",
       "    </tr>\n",
       "    <tr>\n",
       "      <th>2</th>\n",
       "      <td>75661</td>\n",
       "      <td>bdleedahl</td>\n",
       "      <td>3.3</td>\n",
       "      <td>https://res.cloudinary.com/ratebeer/image/uplo...</td>\n",
       "      <td>31</td>\n",
       "      <td>8450</td>\n",
       "      <td>56</td>\n",
       "    </tr>\n",
       "    <tr>\n",
       "      <th>3</th>\n",
       "      <td>75661</td>\n",
       "      <td>DoctorHU</td>\n",
       "      <td>2.6</td>\n",
       "      <td>https://res.cloudinary.com/ratebeer/image/uplo...</td>\n",
       "      <td>48</td>\n",
       "      <td>2153</td>\n",
       "      <td>56</td>\n",
       "    </tr>\n",
       "    <tr>\n",
       "      <th>4</th>\n",
       "      <td>75661</td>\n",
       "      <td>McTapps</td>\n",
       "      <td>2.5</td>\n",
       "      <td>https://res.cloudinary.com/ratebeer/image/uplo...</td>\n",
       "      <td>49</td>\n",
       "      <td>4783</td>\n",
       "      <td>56</td>\n",
       "    </tr>\n",
       "    <tr>\n",
       "      <th>...</th>\n",
       "      <td>...</td>\n",
       "      <td>...</td>\n",
       "      <td>...</td>\n",
       "      <td>...</td>\n",
       "      <td>...</td>\n",
       "      <td>...</td>\n",
       "      <td>...</td>\n",
       "    </tr>\n",
       "    <tr>\n",
       "      <th>93615</th>\n",
       "      <td>703</td>\n",
       "      <td>Bov</td>\n",
       "      <td>3.0</td>\n",
       "      <td>https://res.cloudinary.com/ratebeer/image/uplo...</td>\n",
       "      <td>46</td>\n",
       "      <td>1215</td>\n",
       "      <td>10</td>\n",
       "    </tr>\n",
       "    <tr>\n",
       "      <th>93616</th>\n",
       "      <td>703</td>\n",
       "      <td>sallyclub99</td>\n",
       "      <td>4.2</td>\n",
       "      <td>https://res.cloudinary.com/ratebeer/image/uplo...</td>\n",
       "      <td>7</td>\n",
       "      <td>15196</td>\n",
       "      <td>10</td>\n",
       "    </tr>\n",
       "    <tr>\n",
       "      <th>93617</th>\n",
       "      <td>703</td>\n",
       "      <td>kublai3</td>\n",
       "      <td>2.7</td>\n",
       "      <td>https://res.cloudinary.com/ratebeer/image/uplo...</td>\n",
       "      <td>6</td>\n",
       "      <td>12689</td>\n",
       "      <td>10</td>\n",
       "    </tr>\n",
       "    <tr>\n",
       "      <th>93618</th>\n",
       "      <td>703</td>\n",
       "      <td>Aubrey</td>\n",
       "      <td>3.3</td>\n",
       "      <td>https://res.cloudinary.com/ratebeer/image/uplo...</td>\n",
       "      <td>23</td>\n",
       "      <td>520</td>\n",
       "      <td>10</td>\n",
       "    </tr>\n",
       "    <tr>\n",
       "      <th>93619</th>\n",
       "      <td>703</td>\n",
       "      <td>roland</td>\n",
       "      <td>3.3</td>\n",
       "      <td>https://res.cloudinary.com/ratebeer/image/uplo...</td>\n",
       "      <td>5</td>\n",
       "      <td>15050</td>\n",
       "      <td>10</td>\n",
       "    </tr>\n",
       "  </tbody>\n",
       "</table>\n",
       "<p>93620 rows × 7 columns</p>\n",
       "</div>"
      ],
      "text/plain": [
       "        item         user  rating  \\\n",
       "0      75661   Grzesiek79     1.3   \n",
       "1      75661     GriZZZly     2.7   \n",
       "2      75661    bdleedahl     3.3   \n",
       "3      75661     DoctorHU     2.6   \n",
       "4      75661      McTapps     2.5   \n",
       "...      ...          ...     ...   \n",
       "93615    703          Bov     3.0   \n",
       "93616    703  sallyclub99     4.2   \n",
       "93617    703      kublai3     2.7   \n",
       "93618    703       Aubrey     3.3   \n",
       "93619    703       roland     3.3   \n",
       "\n",
       "                                                imageUrl  user/reviewcount  \\\n",
       "0      https://res.cloudinary.com/ratebeer/image/uplo...                55   \n",
       "1      https://res.cloudinary.com/ratebeer/image/uplo...                13   \n",
       "2      https://res.cloudinary.com/ratebeer/image/uplo...                31   \n",
       "3      https://res.cloudinary.com/ratebeer/image/uplo...                48   \n",
       "4      https://res.cloudinary.com/ratebeer/image/uplo...                49   \n",
       "...                                                  ...               ...   \n",
       "93615  https://res.cloudinary.com/ratebeer/image/uplo...                46   \n",
       "93616  https://res.cloudinary.com/ratebeer/image/uplo...                 7   \n",
       "93617  https://res.cloudinary.com/ratebeer/image/uplo...                 6   \n",
       "93618  https://res.cloudinary.com/ratebeer/image/uplo...                23   \n",
       "93619  https://res.cloudinary.com/ratebeer/image/uplo...                 5   \n",
       "\n",
       "       user_id_idx  item_id_idx  \n",
       "0             3051           56  \n",
       "1             3028           56  \n",
       "2             8450           56  \n",
       "3             2153           56  \n",
       "4             4783           56  \n",
       "...            ...          ...  \n",
       "93615         1215           10  \n",
       "93616        15196           10  \n",
       "93617        12689           10  \n",
       "93618          520           10  \n",
       "93619        15050           10  \n",
       "\n",
       "[93620 rows x 7 columns]"
      ]
     },
     "execution_count": 39,
     "metadata": {},
     "output_type": "execute_result"
    }
   ],
   "source": [
    "data"
   ]
  },
  {
   "cell_type": "code",
   "execution_count": 40,
   "id": "454bb394-0e01-4e4e-803e-818850a8f3f1",
   "metadata": {},
   "outputs": [],
   "source": [
    "data.to_csv('../data/ratebeer_label_encoding.csv', index = False)"
   ]
  },
  {
   "cell_type": "code",
   "execution_count": null,
   "id": "7dab0412-aed7-4653-898d-4b0850302492",
   "metadata": {},
   "outputs": [],
   "source": []
  }
 ],
 "metadata": {
  "kernelspec": {
   "display_name": "beer",
   "language": "python",
   "name": "beer"
  },
  "language_info": {
   "codemirror_mode": {
    "name": "ipython",
    "version": 3
   },
   "file_extension": ".py",
   "mimetype": "text/x-python",
   "name": "python",
   "nbconvert_exporter": "python",
   "pygments_lexer": "ipython3",
   "version": "3.8.13"
  }
 },
 "nbformat": 4,
 "nbformat_minor": 5
}
