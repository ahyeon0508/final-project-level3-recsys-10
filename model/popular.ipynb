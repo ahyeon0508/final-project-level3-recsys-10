{
 "cells": [
  {
   "cell_type": "code",
   "execution_count": 1,
   "id": "29bcbd9c-2b94-4940-ac5e-cc1bf18cb2cd",
   "metadata": {},
   "outputs": [],
   "source": [
    "import torch\n",
    "import torch.nn as nn\n",
    "import torch.optim as optim\n",
    "from torch.utils.data import DataLoader, Dataset\n",
    "\n",
    "import pandas as pd\n",
    "import numpy as np\n",
    "import matplotlib.pyplot as plt\n",
    "import random\n",
    "import math\n",
    "import time\n",
    "from datetime import datetime\n",
    "\n",
    "from sklearn.model_selection import train_test_split\n",
    "from sklearn.preprocessing import LabelEncoder\n",
    "\n",
    "import warnings\n",
    "warnings.filterwarnings(action='ignore')"
   ]
  },
  {
   "cell_type": "markdown",
   "id": "5510b252-7581-4003-9389-f51ab4fb842b",
   "metadata": {},
   "source": [
    "## dataset"
   ]
  },
  {
   "cell_type": "code",
   "execution_count": 2,
   "id": "ef3c6dfc-7ca7-4943-89b6-dec7ff2ac8ce",
   "metadata": {},
   "outputs": [],
   "source": [
    "ratebeer = pd.read_json(\"../data/ratebeer_korea.json\")"
   ]
  },
  {
   "cell_type": "code",
   "execution_count": 3,
   "id": "5cbfa3e8-550d-4a48-a5ee-ea1f3251f81b",
   "metadata": {},
   "outputs": [
    {
     "data": {
      "text/html": [
       "<div>\n",
       "<style scoped>\n",
       "    .dataframe tbody tr th:only-of-type {\n",
       "        vertical-align: middle;\n",
       "    }\n",
       "\n",
       "    .dataframe tbody tr th {\n",
       "        vertical-align: top;\n",
       "    }\n",
       "\n",
       "    .dataframe thead th {\n",
       "        text-align: right;\n",
       "    }\n",
       "</style>\n",
       "<table border=\"1\" class=\"dataframe\">\n",
       "  <thead>\n",
       "    <tr style=\"text-align: right;\">\n",
       "      <th></th>\n",
       "      <th>reviewScore</th>\n",
       "      <th>reviewTime</th>\n",
       "      <th>reviewText</th>\n",
       "      <th>appearance</th>\n",
       "      <th>aroma</th>\n",
       "      <th>palate</th>\n",
       "      <th>taste</th>\n",
       "      <th>overall</th>\n",
       "      <th>profileName</th>\n",
       "      <th>beerName</th>\n",
       "      <th>beerID</th>\n",
       "      <th>brewerID</th>\n",
       "      <th>ABV</th>\n",
       "      <th>style</th>\n",
       "      <th>imageUrl</th>\n",
       "    </tr>\n",
       "  </thead>\n",
       "  <tbody>\n",
       "    <tr>\n",
       "      <th>94316</th>\n",
       "      <td>3.0</td>\n",
       "      <td>2000-06-14 04:58:02.000</td>\n",
       "      <td>pale clear golden colour with a fine head, low...</td>\n",
       "      <td>4.0</td>\n",
       "      <td>5.0</td>\n",
       "      <td>3.0</td>\n",
       "      <td>6.0</td>\n",
       "      <td>12.0</td>\n",
       "      <td>Bov</td>\n",
       "      <td>Beck's</td>\n",
       "      <td>703</td>\n",
       "      <td>112</td>\n",
       "      <td>4.8</td>\n",
       "      <td>Pale Lager - International / Premium</td>\n",
       "      <td>https://res.cloudinary.com/ratebeer/image/uplo...</td>\n",
       "    </tr>\n",
       "    <tr>\n",
       "      <th>94317</th>\n",
       "      <td>4.2</td>\n",
       "      <td>2000-06-10 16:51:58.000</td>\n",
       "      <td>love that skunky smell !  Actually, my fav eve...</td>\n",
       "      <td>4.0</td>\n",
       "      <td>9.0</td>\n",
       "      <td>4.0</td>\n",
       "      <td>8.0</td>\n",
       "      <td>17.0</td>\n",
       "      <td>sallyclub99</td>\n",
       "      <td>Beck's</td>\n",
       "      <td>703</td>\n",
       "      <td>112</td>\n",
       "      <td>4.8</td>\n",
       "      <td>Pale Lager - International / Premium</td>\n",
       "      <td>https://res.cloudinary.com/ratebeer/image/uplo...</td>\n",
       "    </tr>\n",
       "    <tr>\n",
       "      <th>94318</th>\n",
       "      <td>2.7</td>\n",
       "      <td>2000-06-05 08:46:21.000</td>\n",
       "      <td>Much better than American pilsners which isn't...</td>\n",
       "      <td>2.0</td>\n",
       "      <td>5.0</td>\n",
       "      <td>2.0</td>\n",
       "      <td>6.0</td>\n",
       "      <td>12.0</td>\n",
       "      <td>kublai3</td>\n",
       "      <td>Beck's</td>\n",
       "      <td>703</td>\n",
       "      <td>112</td>\n",
       "      <td>4.8</td>\n",
       "      <td>Pale Lager - International / Premium</td>\n",
       "      <td>https://res.cloudinary.com/ratebeer/image/uplo...</td>\n",
       "    </tr>\n",
       "    <tr>\n",
       "      <th>94319</th>\n",
       "      <td>3.3</td>\n",
       "      <td>2000-06-03 23:59:02.000</td>\n",
       "      <td>A decent, light-German beer. Not bad, but then...</td>\n",
       "      <td>3.0</td>\n",
       "      <td>6.0</td>\n",
       "      <td>3.0</td>\n",
       "      <td>6.0</td>\n",
       "      <td>15.0</td>\n",
       "      <td>Aubrey</td>\n",
       "      <td>Beck's</td>\n",
       "      <td>703</td>\n",
       "      <td>112</td>\n",
       "      <td>4.8</td>\n",
       "      <td>Pale Lager - International / Premium</td>\n",
       "      <td>https://res.cloudinary.com/ratebeer/image/uplo...</td>\n",
       "    </tr>\n",
       "    <tr>\n",
       "      <th>94320</th>\n",
       "      <td>3.3</td>\n",
       "      <td>2000-05-07 01:07:31.000</td>\n",
       "      <td>Beck's is a decent german beer.  It's a little...</td>\n",
       "      <td>3.0</td>\n",
       "      <td>6.0</td>\n",
       "      <td>4.0</td>\n",
       "      <td>7.0</td>\n",
       "      <td>13.0</td>\n",
       "      <td>roland</td>\n",
       "      <td>Beck's</td>\n",
       "      <td>703</td>\n",
       "      <td>112</td>\n",
       "      <td>4.8</td>\n",
       "      <td>Pale Lager - International / Premium</td>\n",
       "      <td>https://res.cloudinary.com/ratebeer/image/uplo...</td>\n",
       "    </tr>\n",
       "  </tbody>\n",
       "</table>\n",
       "</div>"
      ],
      "text/plain": [
       "       reviewScore               reviewTime  \\\n",
       "94316          3.0  2000-06-14 04:58:02.000   \n",
       "94317          4.2  2000-06-10 16:51:58.000   \n",
       "94318          2.7  2000-06-05 08:46:21.000   \n",
       "94319          3.3  2000-06-03 23:59:02.000   \n",
       "94320          3.3  2000-05-07 01:07:31.000   \n",
       "\n",
       "                                              reviewText  appearance  aroma  \\\n",
       "94316  pale clear golden colour with a fine head, low...         4.0    5.0   \n",
       "94317  love that skunky smell !  Actually, my fav eve...         4.0    9.0   \n",
       "94318  Much better than American pilsners which isn't...         2.0    5.0   \n",
       "94319  A decent, light-German beer. Not bad, but then...         3.0    6.0   \n",
       "94320  Beck's is a decent german beer.  It's a little...         3.0    6.0   \n",
       "\n",
       "       palate  taste  overall  profileName beerName  beerID  brewerID  ABV  \\\n",
       "94316     3.0    6.0     12.0          Bov   Beck's     703       112  4.8   \n",
       "94317     4.0    8.0     17.0  sallyclub99   Beck's     703       112  4.8   \n",
       "94318     2.0    6.0     12.0      kublai3   Beck's     703       112  4.8   \n",
       "94319     3.0    6.0     15.0       Aubrey   Beck's     703       112  4.8   \n",
       "94320     4.0    7.0     13.0       roland   Beck's     703       112  4.8   \n",
       "\n",
       "                                      style  \\\n",
       "94316  Pale Lager - International / Premium   \n",
       "94317  Pale Lager - International / Premium   \n",
       "94318  Pale Lager - International / Premium   \n",
       "94319  Pale Lager - International / Premium   \n",
       "94320  Pale Lager - International / Premium   \n",
       "\n",
       "                                                imageUrl  \n",
       "94316  https://res.cloudinary.com/ratebeer/image/uplo...  \n",
       "94317  https://res.cloudinary.com/ratebeer/image/uplo...  \n",
       "94318  https://res.cloudinary.com/ratebeer/image/uplo...  \n",
       "94319  https://res.cloudinary.com/ratebeer/image/uplo...  \n",
       "94320  https://res.cloudinary.com/ratebeer/image/uplo...  "
      ]
     },
     "execution_count": 3,
     "metadata": {},
     "output_type": "execute_result"
    }
   ],
   "source": [
    "ratebeer.tail()"
   ]
  },
  {
   "cell_type": "code",
   "execution_count": 4,
   "id": "9db0f9b0-bc39-4bb0-887e-17c12da6d350",
   "metadata": {},
   "outputs": [
    {
     "name": "stdout",
     "output_type": "stream",
     "text": [
      "<class 'pandas.core.frame.DataFrame'>\n",
      "Int64Index: 93623 entries, 0 to 94320\n",
      "Data columns (total 15 columns):\n",
      " #   Column       Non-Null Count  Dtype  \n",
      "---  ------       --------------  -----  \n",
      " 0   reviewScore  93620 non-null  float64\n",
      " 1   reviewTime   93623 non-null  object \n",
      " 2   reviewText   93623 non-null  object \n",
      " 3   appearance   92036 non-null  float64\n",
      " 4   aroma        92036 non-null  float64\n",
      " 5   palate       92036 non-null  float64\n",
      " 6   taste        92036 non-null  float64\n",
      " 7   overall      92036 non-null  float64\n",
      " 8   profileName  93623 non-null  object \n",
      " 9   beerName     93623 non-null  object \n",
      " 10  beerID       93623 non-null  int64  \n",
      " 11  brewerID     93623 non-null  int64  \n",
      " 12  ABV          93623 non-null  float64\n",
      " 13  style        93623 non-null  object \n",
      " 14  imageUrl     93623 non-null  object \n",
      "dtypes: float64(7), int64(2), object(6)\n",
      "memory usage: 11.4+ MB\n"
     ]
    }
   ],
   "source": [
    "ratebeer.info()"
   ]
  },
  {
   "cell_type": "code",
   "execution_count": 5,
   "id": "cfdbfaaf-8e45-46d0-8bc4-cf73062f3dbe",
   "metadata": {},
   "outputs": [
    {
     "name": "stdout",
     "output_type": "stream",
     "text": [
      "<class 'pandas.core.frame.DataFrame'>\n",
      "Int64Index: 93620 entries, 0 to 94320\n",
      "Data columns (total 15 columns):\n",
      " #   Column       Non-Null Count  Dtype  \n",
      "---  ------       --------------  -----  \n",
      " 0   reviewScore  93620 non-null  float64\n",
      " 1   reviewTime   93620 non-null  object \n",
      " 2   reviewText   93620 non-null  object \n",
      " 3   appearance   92036 non-null  float64\n",
      " 4   aroma        92036 non-null  float64\n",
      " 5   palate       92036 non-null  float64\n",
      " 6   taste        92036 non-null  float64\n",
      " 7   overall      92036 non-null  float64\n",
      " 8   profileName  93620 non-null  object \n",
      " 9   beerName     93620 non-null  object \n",
      " 10  beerID       93620 non-null  int64  \n",
      " 11  brewerID     93620 non-null  int64  \n",
      " 12  ABV          93620 non-null  float64\n",
      " 13  style        93620 non-null  object \n",
      " 14  imageUrl     93620 non-null  object \n",
      "dtypes: float64(7), int64(2), object(6)\n",
      "memory usage: 11.4+ MB\n"
     ]
    }
   ],
   "source": [
    "# 결측치 제거\n",
    "ratebeer = ratebeer.dropna(subset=['reviewScore'])\n",
    "ratebeer.info()"
   ]
  },
  {
   "cell_type": "markdown",
   "id": "045cff95-e856-469a-b376-be80fced3a17",
   "metadata": {},
   "source": [
    "### 편의점 유통 맥주 개수"
   ]
  },
  {
   "cell_type": "code",
   "execution_count": 6,
   "id": "36548c9a-27a4-4ecf-a03c-c1fff3fc9794",
   "metadata": {},
   "outputs": [
    {
     "data": {
      "text/plain": [
       "81"
      ]
     },
     "execution_count": 6,
     "metadata": {},
     "output_type": "execute_result"
    }
   ],
   "source": [
    "# 전체 데이터에서 한국 편의점 맥주 개수\n",
    "len(ratebeer['beerName'].unique())"
   ]
  },
  {
   "cell_type": "markdown",
   "id": "1ed65f32-cb28-44d0-9710-e0b9c7ce704e",
   "metadata": {},
   "source": [
    "## preprocessing"
   ]
  },
  {
   "cell_type": "markdown",
   "id": "4f259d90-2068-4bbb-9e50-ff4bced15b87",
   "metadata": {},
   "source": [
    "### reviewScore 기준 상위권"
   ]
  },
  {
   "cell_type": "code",
   "execution_count": 18,
   "id": "7dab0412-aed7-4653-898d-4b0850302492",
   "metadata": {},
   "outputs": [],
   "source": [
    "reviewScore_top = ratebeer.groupby(['beerID']).mean()[['reviewScore']].sort_values(by=['reviewScore'], ascending = False).iloc[:4, :].index"
   ]
  },
  {
   "cell_type": "code",
   "execution_count": 20,
   "id": "3c668d67-78ca-4136-a121-d482eee785b4",
   "metadata": {},
   "outputs": [
    {
     "data": {
      "text/plain": [
       "array(['Platinum White Ale', 'Paulaner Hefe-Weissbier',\n",
       "       'Franziskaner Hefe-Weissbier / Weissbier Naturtrub',\n",
       "       'BrewDog Punk IPA'], dtype=object)"
      ]
     },
     "execution_count": 20,
     "metadata": {},
     "output_type": "execute_result"
    }
   ],
   "source": [
    "ratebeer[ratebeer['beerID'].isin(reviewScore_top)]['beerName'].unique()"
   ]
  },
  {
   "cell_type": "code",
   "execution_count": 36,
   "id": "0c021c92-d80d-4b90-b1c7-cdba8e1bff06",
   "metadata": {},
   "outputs": [
    {
     "data": {
      "text/plain": [
       "array(['https://res.cloudinary.com/ratebeer/image/upload/w_400,c_limit,d_Default_Beer_qqrv7k.png,f_auto/beer_580686',\n",
       "       'https://res.cloudinary.com/ratebeer/image/upload/w_400,c_limit,d_Default_Beer_qqrv7k.png,f_auto/beer_647',\n",
       "       'https://res.cloudinary.com/ratebeer/image/upload/w_400,c_limit,d_Default_Beer_qqrv7k.png,f_auto/beer_1088',\n",
       "       'https://res.cloudinary.com/ratebeer/image/upload/w_400,c_limit,d_Default_Beer_qqrv7k.png,f_auto/beer_135361'],\n",
       "      dtype=object)"
      ]
     },
     "execution_count": 36,
     "metadata": {},
     "output_type": "execute_result"
    }
   ],
   "source": [
    "ratebeer[ratebeer['beerID'].isin(reviewScore_top)]['imageUrl'].unique()"
   ]
  },
  {
   "cell_type": "markdown",
   "id": "d1ee045b-f491-4877-a8cc-c472ed8d9797",
   "metadata": {},
   "source": [
    "### 리뷰수 기준 상위권"
   ]
  },
  {
   "cell_type": "code",
   "execution_count": 28,
   "id": "29f70715-d343-47c7-89f2-bf851a552a33",
   "metadata": {},
   "outputs": [],
   "source": [
    "reviewNum_top = ratebeer.groupby(['beerID']).count()[['beerName']].sort_values(by=['beerName'], ascending = False).iloc[:4, :].index"
   ]
  },
  {
   "cell_type": "code",
   "execution_count": 31,
   "id": "2512a408-62f8-4e82-a592-dfe7504c2bbb",
   "metadata": {},
   "outputs": [
    {
     "data": {
      "text/plain": [
       "array(['Pilsner Urquell', 'Hoegaarden', 'Heineken', 'Budweiser'],\n",
       "      dtype=object)"
      ]
     },
     "execution_count": 31,
     "metadata": {},
     "output_type": "execute_result"
    }
   ],
   "source": [
    "ratebeer[ratebeer['beerID'].isin(reviewNum_top)]['beerName'].unique()"
   ]
  },
  {
   "cell_type": "code",
   "execution_count": 32,
   "id": "01a4a8fc-957e-49d7-ab54-2e22b02770f4",
   "metadata": {},
   "outputs": [
    {
     "data": {
      "text/plain": [
       "array(['https://res.cloudinary.com/ratebeer/image/upload/w_400,c_limit,d_Default_Beer_qqrv7k.png,f_auto/beer_717',\n",
       "       'https://res.cloudinary.com/ratebeer/image/upload/w_400,c_limit,d_Default_Beer_qqrv7k.png,f_auto/beer_399',\n",
       "       'https://res.cloudinary.com/ratebeer/image/upload/w_400,c_limit,d_Default_Beer_qqrv7k.png,f_auto/beer_37',\n",
       "       'https://res.cloudinary.com/ratebeer/image/upload/w_400,c_limit,d_Default_Beer_qqrv7k.png,f_auto/beer_473'],\n",
       "      dtype=object)"
      ]
     },
     "execution_count": 32,
     "metadata": {},
     "output_type": "execute_result"
    }
   ],
   "source": [
    "ratebeer[ratebeer['beerID'].isin(reviewNum_top)]['imageUrl'].unique()"
   ]
  },
  {
   "cell_type": "markdown",
   "id": "1da6fd39-f090-4875-96fa-bcdf1494b3b1",
   "metadata": {},
   "source": [
    "### Overall 기준 상위권"
   ]
  },
  {
   "cell_type": "code",
   "execution_count": 33,
   "id": "a2d41861-446f-41b6-b3c8-2329f40fb3d5",
   "metadata": {},
   "outputs": [],
   "source": [
    "overall_top = ratebeer.groupby(['beerID']).mean()[['overall']].sort_values(by=['overall'], ascending = False).iloc[:4, :].index"
   ]
  },
  {
   "cell_type": "code",
   "execution_count": 34,
   "id": "d50f151e-97f4-41af-a33b-5e09a0690a61",
   "metadata": {},
   "outputs": [
    {
     "data": {
      "text/plain": [
       "array(['Platinum White Ale', 'Paulaner Hefe-Weissbier',\n",
       "       'Franziskaner Hefe-Weissbier / Weissbier Naturtrub',\n",
       "       'BrewDog Punk IPA'], dtype=object)"
      ]
     },
     "execution_count": 34,
     "metadata": {},
     "output_type": "execute_result"
    }
   ],
   "source": [
    "ratebeer[ratebeer['beerID'].isin(overall_top)]['beerName'].unique()"
   ]
  },
  {
   "cell_type": "code",
   "execution_count": 35,
   "id": "32391ca1-3893-4d81-8327-398ac2fbefcb",
   "metadata": {},
   "outputs": [
    {
     "data": {
      "text/plain": [
       "array(['https://res.cloudinary.com/ratebeer/image/upload/w_400,c_limit,d_Default_Beer_qqrv7k.png,f_auto/beer_580686',\n",
       "       'https://res.cloudinary.com/ratebeer/image/upload/w_400,c_limit,d_Default_Beer_qqrv7k.png,f_auto/beer_647',\n",
       "       'https://res.cloudinary.com/ratebeer/image/upload/w_400,c_limit,d_Default_Beer_qqrv7k.png,f_auto/beer_1088',\n",
       "       'https://res.cloudinary.com/ratebeer/image/upload/w_400,c_limit,d_Default_Beer_qqrv7k.png,f_auto/beer_135361'],\n",
       "      dtype=object)"
      ]
     },
     "execution_count": 35,
     "metadata": {},
     "output_type": "execute_result"
    }
   ],
   "source": [
    "ratebeer[ratebeer['beerID'].isin(overall_top)]['imageUrl'].unique()"
   ]
  },
  {
   "cell_type": "markdown",
   "id": "8e9d7b58-75cc-46c7-894e-deefd8e73cf0",
   "metadata": {},
   "source": [
    "### Steam Rating Formula"
   ]
  },
  {
   "cell_type": "code",
   "execution_count": 47,
   "id": "c9d6bf6d-e77a-4d69-9489-261a9d519959",
   "metadata": {},
   "outputs": [],
   "source": [
    "avg_rating = ratebeer.groupby(['beerID']).mean()[['reviewScore']]"
   ]
  },
  {
   "cell_type": "code",
   "execution_count": 48,
   "id": "7cfbb544-7a1c-454e-a1ff-053632ac3c88",
   "metadata": {},
   "outputs": [
    {
     "data": {
      "text/html": [
       "<div>\n",
       "<style scoped>\n",
       "    .dataframe tbody tr th:only-of-type {\n",
       "        vertical-align: middle;\n",
       "    }\n",
       "\n",
       "    .dataframe tbody tr th {\n",
       "        vertical-align: top;\n",
       "    }\n",
       "\n",
       "    .dataframe thead th {\n",
       "        text-align: right;\n",
       "    }\n",
       "</style>\n",
       "<table border=\"1\" class=\"dataframe\">\n",
       "  <thead>\n",
       "    <tr style=\"text-align: right;\">\n",
       "      <th></th>\n",
       "      <th>reviewScore</th>\n",
       "    </tr>\n",
       "    <tr>\n",
       "      <th>beerID</th>\n",
       "      <th></th>\n",
       "    </tr>\n",
       "  </thead>\n",
       "  <tbody>\n",
       "    <tr>\n",
       "      <th>37</th>\n",
       "      <td>2.168056</td>\n",
       "    </tr>\n",
       "    <tr>\n",
       "      <th>55</th>\n",
       "      <td>3.230782</td>\n",
       "    </tr>\n",
       "    <tr>\n",
       "      <th>221</th>\n",
       "      <td>2.497443</td>\n",
       "    </tr>\n",
       "    <tr>\n",
       "      <th>251</th>\n",
       "      <td>2.204497</td>\n",
       "    </tr>\n",
       "    <tr>\n",
       "      <th>268</th>\n",
       "      <td>2.234644</td>\n",
       "    </tr>\n",
       "    <tr>\n",
       "      <th>...</th>\n",
       "      <td>...</td>\n",
       "    </tr>\n",
       "    <tr>\n",
       "      <th>580686</th>\n",
       "      <td>4.100000</td>\n",
       "    </tr>\n",
       "    <tr>\n",
       "      <th>614833</th>\n",
       "      <td>2.500000</td>\n",
       "    </tr>\n",
       "    <tr>\n",
       "      <th>621308</th>\n",
       "      <td>2.790909</td>\n",
       "    </tr>\n",
       "    <tr>\n",
       "      <th>632627</th>\n",
       "      <td>2.682927</td>\n",
       "    </tr>\n",
       "    <tr>\n",
       "      <th>667837</th>\n",
       "      <td>2.678571</td>\n",
       "    </tr>\n",
       "  </tbody>\n",
       "</table>\n",
       "<p>81 rows × 1 columns</p>\n",
       "</div>"
      ],
      "text/plain": [
       "        reviewScore\n",
       "beerID             \n",
       "37         2.168056\n",
       "55         3.230782\n",
       "221        2.497443\n",
       "251        2.204497\n",
       "268        2.234644\n",
       "...             ...\n",
       "580686     4.100000\n",
       "614833     2.500000\n",
       "621308     2.790909\n",
       "632627     2.682927\n",
       "667837     2.678571\n",
       "\n",
       "[81 rows x 1 columns]"
      ]
     },
     "execution_count": 48,
     "metadata": {},
     "output_type": "execute_result"
    }
   ],
   "source": [
    "avg_rating"
   ]
  },
  {
   "cell_type": "code",
   "execution_count": 49,
   "id": "a7ba54f6-011d-43ad-b38c-ca1b4fcfec8f",
   "metadata": {},
   "outputs": [
    {
     "data": {
      "text/html": [
       "<div>\n",
       "<style scoped>\n",
       "    .dataframe tbody tr th:only-of-type {\n",
       "        vertical-align: middle;\n",
       "    }\n",
       "\n",
       "    .dataframe tbody tr th {\n",
       "        vertical-align: top;\n",
       "    }\n",
       "\n",
       "    .dataframe thead th {\n",
       "        text-align: right;\n",
       "    }\n",
       "</style>\n",
       "<table border=\"1\" class=\"dataframe\">\n",
       "  <thead>\n",
       "    <tr style=\"text-align: right;\">\n",
       "      <th></th>\n",
       "      <th>reviewScore</th>\n",
       "    </tr>\n",
       "    <tr>\n",
       "      <th>beerID</th>\n",
       "      <th></th>\n",
       "    </tr>\n",
       "  </thead>\n",
       "  <tbody>\n",
       "    <tr>\n",
       "      <th>37</th>\n",
       "      <td>2.168253</td>\n",
       "    </tr>\n",
       "    <tr>\n",
       "      <th>55</th>\n",
       "      <td>3.230406</td>\n",
       "    </tr>\n",
       "    <tr>\n",
       "      <th>221</th>\n",
       "      <td>2.498871</td>\n",
       "    </tr>\n",
       "    <tr>\n",
       "      <th>251</th>\n",
       "      <td>2.204885</td>\n",
       "    </tr>\n",
       "    <tr>\n",
       "      <th>268</th>\n",
       "      <td>2.235030</td>\n",
       "    </tr>\n",
       "    <tr>\n",
       "      <th>...</th>\n",
       "      <td>...</td>\n",
       "    </tr>\n",
       "    <tr>\n",
       "      <th>580686</th>\n",
       "      <td>3.000000</td>\n",
       "    </tr>\n",
       "    <tr>\n",
       "      <th>614833</th>\n",
       "      <td>2.600000</td>\n",
       "    </tr>\n",
       "    <tr>\n",
       "      <th>621308</th>\n",
       "      <td>2.797245</td>\n",
       "    </tr>\n",
       "    <tr>\n",
       "      <th>632627</th>\n",
       "      <td>2.690660</td>\n",
       "    </tr>\n",
       "    <tr>\n",
       "      <th>667837</th>\n",
       "      <td>2.701531</td>\n",
       "    </tr>\n",
       "  </tbody>\n",
       "</table>\n",
       "<p>81 rows × 1 columns</p>\n",
       "</div>"
      ],
      "text/plain": [
       "        reviewScore\n",
       "beerID             \n",
       "37         2.168253\n",
       "55         3.230406\n",
       "221        2.498871\n",
       "251        2.204885\n",
       "268        2.235030\n",
       "...             ...\n",
       "580686     3.000000\n",
       "614833     2.600000\n",
       "621308     2.797245\n",
       "632627     2.690660\n",
       "667837     2.701531\n",
       "\n",
       "[81 rows x 1 columns]"
      ]
     },
     "execution_count": 49,
     "metadata": {},
     "output_type": "execute_result"
    }
   ],
   "source": [
    "score = avg_rating - ((avg_rating - 3.0) * (2 ** (-1 * np.log2(ratebeer.groupby(['beerID']).count()[['reviewScore']]))))\n",
    "score"
   ]
  },
  {
   "cell_type": "code",
   "execution_count": 50,
   "id": "e11d7fe3-37fb-45c9-be7e-189dc3b11d98",
   "metadata": {},
   "outputs": [],
   "source": [
    "streamRating_top = score.sort_values(by=['reviewScore'], ascending = False).iloc[:4, :].index "
   ]
  },
  {
   "cell_type": "code",
   "execution_count": 51,
   "id": "49e71567-46e8-4b51-ab8d-192c742413fc",
   "metadata": {},
   "outputs": [
    {
     "data": {
      "text/plain": [
       "array(['Paulaner Hefe-Weissbier', 'Goose Island Goose IPA',\n",
       "       'Franziskaner Hefe-Weissbier / Weissbier Naturtrub',\n",
       "       'BrewDog Punk IPA'], dtype=object)"
      ]
     },
     "execution_count": 51,
     "metadata": {},
     "output_type": "execute_result"
    }
   ],
   "source": [
    "ratebeer[ratebeer['beerID'].isin(streamRating_top)]['beerName'].unique()"
   ]
  },
  {
   "cell_type": "code",
   "execution_count": 52,
   "id": "c999b474-b0b0-4c1e-ad7b-bfe7b581aa24",
   "metadata": {},
   "outputs": [
    {
     "data": {
      "text/plain": [
       "array(['https://res.cloudinary.com/ratebeer/image/upload/w_400,c_limit,d_Default_Beer_qqrv7k.png,f_auto/beer_647',\n",
       "       'https://res.cloudinary.com/ratebeer/image/upload/w_400,c_limit,d_Default_Beer_qqrv7k.png,f_auto/beer_814',\n",
       "       'https://res.cloudinary.com/ratebeer/image/upload/w_400,c_limit,d_Default_Beer_qqrv7k.png,f_auto/beer_1088',\n",
       "       'https://res.cloudinary.com/ratebeer/image/upload/w_400,c_limit,d_Default_Beer_qqrv7k.png,f_auto/beer_135361'],\n",
       "      dtype=object)"
      ]
     },
     "execution_count": 52,
     "metadata": {},
     "output_type": "execute_result"
    }
   ],
   "source": [
    "ratebeer[ratebeer['beerID'].isin(streamRating_top)]['imageUrl'].unique()"
   ]
  },
  {
   "cell_type": "markdown",
   "id": "3bc734b5-78f5-41e6-a844-0833b79b93f9",
   "metadata": {},
   "source": [
    "### Hacker News Formula"
   ]
  },
  {
   "cell_type": "code",
   "execution_count": 72,
   "id": "13d8c9a3-e170-4413-bda4-e77d1f1f3736",
   "metadata": {},
   "outputs": [
    {
     "data": {
      "text/html": [
       "<div>\n",
       "<style scoped>\n",
       "    .dataframe tbody tr th:only-of-type {\n",
       "        vertical-align: middle;\n",
       "    }\n",
       "\n",
       "    .dataframe tbody tr th {\n",
       "        vertical-align: top;\n",
       "    }\n",
       "\n",
       "    .dataframe thead th {\n",
       "        text-align: right;\n",
       "    }\n",
       "</style>\n",
       "<table border=\"1\" class=\"dataframe\">\n",
       "  <thead>\n",
       "    <tr style=\"text-align: right;\">\n",
       "      <th></th>\n",
       "      <th>beerName</th>\n",
       "    </tr>\n",
       "    <tr>\n",
       "      <th>beerID</th>\n",
       "      <th></th>\n",
       "    </tr>\n",
       "  </thead>\n",
       "  <tbody>\n",
       "    <tr>\n",
       "      <th>399</th>\n",
       "      <td>4620</td>\n",
       "    </tr>\n",
       "    <tr>\n",
       "      <th>473</th>\n",
       "      <td>4428</td>\n",
       "    </tr>\n",
       "    <tr>\n",
       "      <th>717</th>\n",
       "      <td>4347</td>\n",
       "    </tr>\n",
       "    <tr>\n",
       "      <th>37</th>\n",
       "      <td>4222</td>\n",
       "    </tr>\n",
       "    <tr>\n",
       "      <th>742</th>\n",
       "      <td>4075</td>\n",
       "    </tr>\n",
       "    <tr>\n",
       "      <th>...</th>\n",
       "      <td>...</td>\n",
       "    </tr>\n",
       "    <tr>\n",
       "      <th>252000</th>\n",
       "      <td>7</td>\n",
       "    </tr>\n",
       "    <tr>\n",
       "      <th>506847</th>\n",
       "      <td>4</td>\n",
       "    </tr>\n",
       "    <tr>\n",
       "      <th>614833</th>\n",
       "      <td>4</td>\n",
       "    </tr>\n",
       "    <tr>\n",
       "      <th>480225</th>\n",
       "      <td>1</td>\n",
       "    </tr>\n",
       "    <tr>\n",
       "      <th>580686</th>\n",
       "      <td>0</td>\n",
       "    </tr>\n",
       "  </tbody>\n",
       "</table>\n",
       "<p>81 rows × 1 columns</p>\n",
       "</div>"
      ],
      "text/plain": [
       "        beerName\n",
       "beerID          \n",
       "399         4620\n",
       "473         4428\n",
       "717         4347\n",
       "37          4222\n",
       "742         4075\n",
       "...          ...\n",
       "252000         7\n",
       "506847         4\n",
       "614833         4\n",
       "480225         1\n",
       "580686         0\n",
       "\n",
       "[81 rows x 1 columns]"
      ]
     },
     "execution_count": 72,
     "metadata": {},
     "output_type": "execute_result"
    }
   ],
   "source": [
    "ratebeer.groupby(['beerID']).count()[['beerName']].sort_values(by=['beerName'], ascending = False) - 1"
   ]
  },
  {
   "cell_type": "code",
   "execution_count": 99,
   "id": "b23f60ff-6559-41d0-8619-f8d589214c97",
   "metadata": {},
   "outputs": [
    {
     "data": {
      "text/plain": [
       "array([1614430433, 1610129192, 1608214821, ...,  960194781,  960076742,\n",
       "        957661651])"
      ]
     },
     "execution_count": 99,
     "metadata": {},
     "output_type": "execute_result"
    }
   ],
   "source": [
    "pd.to_datetime(ratebeer['reviewTime']).values.astype(np.int64) // 10 ** 9"
   ]
  },
  {
   "cell_type": "code",
   "execution_count": null,
   "id": "a1cd6e19-23e6-4aec-81b4-e44b6e2fe93b",
   "metadata": {},
   "outputs": [],
   "source": []
  }
 ],
 "metadata": {
  "kernelspec": {
   "display_name": "beer",
   "language": "python",
   "name": "beer"
  },
  "language_info": {
   "codemirror_mode": {
    "name": "ipython",
    "version": 3
   },
   "file_extension": ".py",
   "mimetype": "text/x-python",
   "name": "python",
   "nbconvert_exporter": "python",
   "pygments_lexer": "ipython3",
   "version": "3.8.13"
  }
 },
 "nbformat": 4,
 "nbformat_minor": 5
}
