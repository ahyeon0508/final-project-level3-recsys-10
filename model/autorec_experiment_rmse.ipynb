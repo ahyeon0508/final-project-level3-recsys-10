{
 "cells": [
  {
   "cell_type": "code",
   "execution_count": 1,
   "id": "29bcbd9c-2b94-4940-ac5e-cc1bf18cb2cd",
   "metadata": {},
   "outputs": [],
   "source": [
    "import torch\n",
    "import torch.nn as nn\n",
    "import torch.optim as optim\n",
    "from torch.utils.data import DataLoader, Dataset\n",
    "\n",
    "import pandas as pd\n",
    "import numpy as np\n",
    "import matplotlib.pyplot as plt\n",
    "import random\n",
    "import math\n",
    "import seaborn as sns\n",
    "import os\n",
    "from tqdm import tqdm\n",
    "\n",
    "%matplotlib inline\n",
    "\n",
    "from sklearn.model_selection import train_test_split\n",
    "from sklearn.preprocessing import LabelEncoder\n",
    "\n",
    "import warnings\n",
    "warnings.filterwarnings(action='ignore')"
   ]
  },
  {
   "cell_type": "markdown",
   "id": "5510b252-7581-4003-9389-f51ab4fb842b",
   "metadata": {},
   "source": [
    "## dataset"
   ]
  },
  {
   "cell_type": "code",
   "execution_count": 2,
   "id": "860cc5ff-db1f-4de7-9705-a8cfc2a785cb",
   "metadata": {},
   "outputs": [],
   "source": [
    "ratebeer = pd.read_csv(\"../data/train_ratebeer_without_text.csv\")"
   ]
  },
  {
   "cell_type": "markdown",
   "id": "045cff95-e856-469a-b376-be80fced3a17",
   "metadata": {},
   "source": [
    "### 편의점 유통 맥주만 가져오기"
   ]
  },
  {
   "cell_type": "code",
   "execution_count": 3,
   "id": "267e7de8-5ff2-4686-b1df-e7c6ff045f39",
   "metadata": {},
   "outputs": [],
   "source": [
    "kor_beer_list = np.array([ 8666,  75661, 614833, 169964,    251,  10726,   5588,   5571,\n",
    "                        703,   6668,   7656,   2228, 135361,    473,  36249,    709,\n",
    "                        12775, 143730,    742,   4007,  72025,  58275, 221535, 291276,\n",
    "                        2469,   2468, 553454,   1088,    721,  30913,    814,  75071,\n",
    "                        715,   1267,     55,  17334,     37, 493355,  64253,  34662,\n",
    "                        136165, 500620,  13833, 506847,  73158,    399,   5159,   3101,\n",
    "                        315443, 552713, 911382, 906973,    268, 550283, 271470,    390,\n",
    "                        71469,  35424,   4701,   2514,   2516, 288954,    405, 303473,\n",
    "                        136785,    647, 632627,   3029,    717, 553245, 580686, 252000,\n",
    "                        21936, 667837,   2811,    729,  71458, 634182,  86387,   1478,\n",
    "                        146878, 146725, 149060,  15747, 718172,   3126, 480225, 268685,\n",
    "                        730, 211962,  64518, 621308,   7580, 452525,   1417,   1486,\n",
    "                        221])\n",
    "\n",
    "kor_ratebeer = ratebeer[ratebeer['beer_id'].isin(kor_beer_list)]"
   ]
  },
  {
   "cell_type": "code",
   "execution_count": 4,
   "id": "36548c9a-27a4-4ecf-a03c-c1fff3fc9794",
   "metadata": {},
   "outputs": [
    {
     "data": {
      "text/plain": [
       "84"
      ]
     },
     "execution_count": 4,
     "metadata": {},
     "output_type": "execute_result"
    }
   ],
   "source": [
    "# 전체 데이터에서 한국 편의점 맥주 개수\n",
    "len(kor_ratebeer['beer_name'].unique())"
   ]
  },
  {
   "cell_type": "markdown",
   "id": "4c2f2b12-940d-4e82-9253-f938049bf9c5",
   "metadata": {},
   "source": [
    "### 맥주 점수 분포 체크"
   ]
  },
  {
   "cell_type": "code",
   "execution_count": 5,
   "id": "fd0a6abf-7013-4757-9af0-f5b60cded026",
   "metadata": {},
   "outputs": [
    {
     "name": "stdout",
     "output_type": "stream",
     "text": [
      "<class 'pandas.core.frame.DataFrame'>\n",
      "RangeIndex: 2931605 entries, 0 to 2931604\n",
      "Data columns (total 15 columns):\n",
      " #   Column        Dtype  \n",
      "---  ------        -----  \n",
      " 0   review_score  float64\n",
      " 1   review_time   object \n",
      " 2   appearance    float64\n",
      " 3   aroma         float64\n",
      " 4   palate        float64\n",
      " 5   taste         float64\n",
      " 6   overall       float64\n",
      " 7   profile_name  object \n",
      " 8   beer_name     object \n",
      " 9   beer_id       int64  \n",
      " 10  brewer_id     int64  \n",
      " 11  abv           float64\n",
      " 12  style         object \n",
      " 13  image_url     object \n",
      " 14  user_id       int64  \n",
      "dtypes: float64(7), int64(3), object(5)\n",
      "memory usage: 335.5+ MB\n"
     ]
    }
   ],
   "source": [
    "ratebeer.info()"
   ]
  },
  {
   "cell_type": "code",
   "execution_count": 6,
   "id": "b6acb070-8bbc-4178-b58d-3dffd03befd5",
   "metadata": {},
   "outputs": [
    {
     "data": {
      "text/plain": [
       "array([3.9, 4.1, 3.8, 4. , 4.2, 3.7, 4.5, 4.8, 3.6, 4.7, 4.3, 4.9, 3.4,\n",
       "       4.4, 5. , 3.5, 4.6, 3.3, 3. , 3.2, 2.9, 3.1, 2.5, 2.4, 2.7, 2.6,\n",
       "       2.3, 2.8, 1.8, 1.9, 1.5, 1.6, 2.2, 2.1, 2. , 1.4, 1.7, 1.3, 0.9,\n",
       "       1. , 0.5, 1.2, 1.1, 0.8, 0.6, 0.7])"
      ]
     },
     "execution_count": 6,
     "metadata": {},
     "output_type": "execute_result"
    }
   ],
   "source": [
    "ratebeer['review_score'].unique()"
   ]
  },
  {
   "cell_type": "code",
   "execution_count": 7,
   "id": "1f8e2bf1-1da8-4ae2-bded-64827214d372",
   "metadata": {},
   "outputs": [
    {
     "data": {
      "text/plain": [
       "count    2.931605e+06\n",
       "mean     3.369230e+00\n",
       "std      7.281425e-01\n",
       "min      5.000000e-01\n",
       "25%      3.000000e+00\n",
       "50%      3.500000e+00\n",
       "75%      3.800000e+00\n",
       "max      5.000000e+00\n",
       "Name: review_score, dtype: float64"
      ]
     },
     "execution_count": 7,
     "metadata": {},
     "output_type": "execute_result"
    }
   ],
   "source": [
    "ratebeer['review_score'].describe()"
   ]
  },
  {
   "cell_type": "code",
   "execution_count": 8,
   "id": "0e160b3d-4a91-4ab8-9336-8291def243b9",
   "metadata": {},
   "outputs": [
    {
     "data": {
      "text/plain": [
       "<AxesSubplot:>"
      ]
     },
     "execution_count": 8,
     "metadata": {},
     "output_type": "execute_result"
    },
    {
     "data": {
      "image/png": "[encoded data removed]",
      "text/plain": [
       "<Figure size 432x288 with 1 Axes>"
      ]
     },
     "metadata": {
      "needs_background": "light"
     },
     "output_type": "display_data"
    }
   ],
   "source": [
    "ratebeer['review_score'].hist()"
   ]
  },
  {
   "cell_type": "code",
   "execution_count": 9,
   "id": "b91c7c8b-53ad-4384-9deb-360e9d189019",
   "metadata": {},
   "outputs": [
    {
     "data": {
      "text/plain": [
       "<AxesSubplot:>"
      ]
     },
     "execution_count": 9,
     "metadata": {},
     "output_type": "execute_result"
    },
    {
     "data": {
      "image/png": "[encoded data removed]",
      "text/plain": [
       "<Figure size 432x288 with 1 Axes>"
      ]
     },
     "metadata": {
      "needs_background": "light"
     },
     "output_type": "display_data"
    }
   ],
   "source": [
    "ratebeer[['review_score']].boxplot()"
   ]
  },
  {
   "cell_type": "code",
   "execution_count": 10,
   "id": "8c54cb0f-14b9-4f44-9e8b-65ad9ad4c890",
   "metadata": {},
   "outputs": [
    {
     "data": {
      "text/plain": [
       "2931605"
      ]
     },
     "execution_count": 10,
     "metadata": {},
     "output_type": "execute_result"
    }
   ],
   "source": [
    "len(ratebeer)"
   ]
  },
  {
   "cell_type": "markdown",
   "id": "1ed65f32-cb28-44d0-9710-e0b9c7ce704e",
   "metadata": {},
   "source": [
    "### preprocessing"
   ]
  },
  {
   "cell_type": "code",
   "execution_count": 11,
   "id": "f3e0526b-0124-4902-bab4-c8de03d5bc6c",
   "metadata": {},
   "outputs": [],
   "source": [
    "def preprocessing_df(df):\n",
    "    # rating 전처리\n",
    "    # df['rating/apperance'] = df['review/appearance'].str.split(\"/\").str[0].astype(int)\n",
    "    # df['rating/aroma'] = df['review/aroma'].str.split(\"/\").str[0].astype(int)\n",
    "    # df['rating/palate'] = df['review/palate'].str.split(\"/\").str[0].astype(int)\n",
    "    # df['rating/taste'] = df['review/taste'].str.split(\"/\").str[0].astype(int)\n",
    "    # df['rating/overall'] = df['review/overall'].str.split(\"/\").str[0].astype(int)\n",
    "    \n",
    "    # overall rating 최대치 5로 변환\n",
    "    # df['rating/overall'] = df['rating/overall'] / 20 * 5\n",
    "    \n",
    "    # item, user, rating만 추출\n",
    "    df = df[['beer_id', 'profile_name', 'review_score', 'image_url']]\n",
    "    df.rename(columns={'beer_id' : 'item', 'profile_name' : 'user', 'review_score' : 'rating'}, inplace = True) \n",
    "    \n",
    "    # 유저 리뷰 수 개산\n",
    "    df['user/reviewcount'] = df.groupby('user')['user'].transform('count')\n",
    "    # 리뷰 수가 10개 이상인 유저만 남김 \n",
    "    df = df[(df['user/reviewcount'] >= 10)]\n",
    "    \n",
    "#     df.drop(columns=['user/reviewcount'], inplace=True)\n",
    "    \n",
    "    num_users = df.user.unique().shape[0]\n",
    "    num_items = df.item.unique().shape[0]\n",
    "    return df, num_users, num_items"
   ]
  },
  {
   "cell_type": "markdown",
   "id": "479b2adc-0830-4c71-b53f-5ddba3cd7236",
   "metadata": {},
   "source": [
    "### Statistics of the Dataset"
   ]
  },
  {
   "cell_type": "code",
   "execution_count": 12,
   "id": "a0bab6d9-401f-43a9-ba4e-8b337841a466",
   "metadata": {},
   "outputs": [
    {
     "name": "stdout",
     "output_type": "stream",
     "text": [
      "number of users: 13224, number of items: 9336\n",
      "matrix sparsity: 0.977028\n",
      "     item        user  rating  \\\n",
      "0  131594   jmgreenuk     3.9   \n",
      "1  131594         Ron     3.9   \n",
      "2  131594     olberic     4.1   \n",
      "3  131594  bergstaden     4.1   \n",
      "4  131594      rumore     3.8   \n",
      "\n",
      "                                           image_url  user/reviewcount  \n",
      "0  https://res.cloudinary.com/ratebeer/image/uplo...              1299  \n",
      "1  https://res.cloudinary.com/ratebeer/image/uplo...              1667  \n",
      "2  https://res.cloudinary.com/ratebeer/image/uplo...               110  \n",
      "3  https://res.cloudinary.com/ratebeer/image/uplo...               652  \n",
      "4  https://res.cloudinary.com/ratebeer/image/uplo...               386  \n"
     ]
    }
   ],
   "source": [
    "data, num_users, num_items = preprocessing_df(ratebeer)\n",
    "sparsity = 1 - len(data) / (num_users * num_items)\n",
    "print(f'number of users: {num_users}, number of items: {num_items}')\n",
    "print(f'matrix sparsity: {sparsity:f}')\n",
    "print(data.head())"
   ]
  },
  {
   "cell_type": "code",
   "execution_count": 13,
   "id": "f8b6cacf-81f5-41c8-be59-e6546393326a",
   "metadata": {},
   "outputs": [
    {
     "data": {
      "text/plain": [
       "count    2.836096e+06\n",
       "mean     3.361636e+00\n",
       "std      7.133313e-01\n",
       "min      5.000000e-01\n",
       "25%      3.000000e+00\n",
       "50%      3.500000e+00\n",
       "75%      3.800000e+00\n",
       "max      5.000000e+00\n",
       "Name: rating, dtype: float64"
      ]
     },
     "execution_count": 13,
     "metadata": {},
     "output_type": "execute_result"
    }
   ],
   "source": [
    "data['rating'].describe()"
   ]
  },
  {
   "cell_type": "code",
   "execution_count": 14,
   "id": "aa65b73b-fae4-49ab-b59a-3ee5652ef44d",
   "metadata": {},
   "outputs": [
    {
     "data": {
      "image/png": "[encoded data removed]",
      "text/plain": [
       "<Figure size 432x288 with 1 Axes>"
      ]
     },
     "metadata": {
      "needs_background": "light"
     },
     "output_type": "display_data"
    }
   ],
   "source": [
    "plt.hist(data['rating'], bins=5, ec='black')\n",
    "plt.xlabel('Rating')\n",
    "plt.ylabel('Count')\n",
    "plt.title('Distribution of Ratings in Ratebeer Beer')\n",
    "plt.show()"
   ]
  },
  {
   "cell_type": "markdown",
   "id": "ac9a07d0-ab1a-4c6f-b321-fc0902cf00c0",
   "metadata": {},
   "source": [
    "### Label Encoding"
   ]
  },
  {
   "cell_type": "code",
   "execution_count": 15,
   "id": "f1506d94-641d-4cb5-afc0-27f58863a737",
   "metadata": {},
   "outputs": [],
   "source": [
    "user_le = LabelEncoder()\n",
    "item_le = LabelEncoder()\n",
    "data['user_id_idx'] = user_le.fit_transform(data['user'].values)\n",
    "data['item_id_idx'] = item_le.fit_transform(data['item'].values)\n",
    "\n",
    "# data.drop(columns=['user', 'item_id'], inplace=True)"
   ]
  },
  {
   "cell_type": "markdown",
   "id": "07172e2f-530d-488c-a4d7-4f38efb9b5b7",
   "metadata": {},
   "source": [
    "### Loading the data"
   ]
  },
  {
   "cell_type": "code",
   "execution_count": 16,
   "id": "9328902d-9c4e-4d35-b7fe-e048040ba2ae",
   "metadata": {},
   "outputs": [],
   "source": [
    "class BeerDataset(Dataset):\n",
    "    def __init__(self, df, mode='train'):\n",
    "        self.df = df\n",
    "        self.mode = mode\n",
    "        self.train_size = 0.9\n",
    "        self.val_size = 0.1\n",
    "        # self.test_size = 1 - self.train_size - self.val_size \n",
    "\n",
    "        self.num_items = len(self.df['item_id_idx'].unique())\n",
    "        self.num_users = len(self.df['user_id_idx'].unique())\n",
    "        \n",
    "        n_val = int(self.num_users * self.val_size)\n",
    "#         n_test = int(self.num_users * self.test_size)\n",
    "        \n",
    "        np.random.seed(42)\n",
    "        \n",
    "        val_indices = set(np.random.choice(range(self.num_users), n_val, replace = False))\n",
    "        # test_indices = set(random.choices(list(set(range(self.num_users)) - val_indices), k=n_test))\n",
    "        train_indices = set(range(self.num_users)) - val_indices # - test_indices\n",
    "#         # self.train_df, self.test_df = train_test_split(self.df, test_size=self.test_size, train_size=self.train_size, stratify = self.df['user_id_idx'].values, random_state=42)\n",
    "        \n",
    "        if self.mode == 'train':\n",
    "            self.df = self.df[self.df['user_id_idx'].isin(train_indices)]\n",
    "        elif self.mode == 'val':\n",
    "            self.df = self.df[self.df['user_id_idx'].isin(val_indices)]\n",
    "#         else:\n",
    "#             self.df = self.df[self.df['user_id_idx'].isin(test_indices)]\n",
    "        \n",
    "        # 유저 리뷰 수 개산\n",
    "        # self.df['user/reviewcount'] = self.df.groupby('user_id_idx')['user_id_idx'].transform('count')\n",
    "        \n",
    "        # #리뷰 수가 4개 이상인 유저만 남김 \n",
    "        # self.df = self.df[(self.df['user/reviewcount'] > 3)]\n",
    "        # self.df.drop(columns=['user/reviewcount'], inplace=True)\n",
    "        \n",
    "        self.users = torch.tensor(self.df['user_id_idx'].values)\n",
    "        self.items = torch.tensor(self.df['item_id_idx'].values)\n",
    "        self.ratings = torch.tensor(self.df['rating'].values)\n",
    "        \n",
    "        self.inter_mat = self.make_inter_mat()\n",
    "    \n",
    "    def make_inter_mat(self):\n",
    "        inter_mat = np.zeros((self.num_users, self.num_items))\n",
    "        for user, item, rating in zip(self.users, self.items, self.ratings):\n",
    "            inter_mat[user][item] = rating\n",
    "            \n",
    "        # for user in self.users:\n",
    "        #     nonzero_ind = np.where(inter_mat[user] > 0)[0]\n",
    "        #     # if len(nonzero_ind) > 3:\n",
    "        #     valid_ind = np.random.choice(nonzero_ind, 3, replace = False)\n",
    "        #     if self.mode == 'train':\n",
    "        #         inter_mat[user][valid_ind] = 0\n",
    "        #     else:\n",
    "        #         inter_mat[user][np.setdiff1d(nonzero_ind, valid_ind)] = 0\n",
    "\n",
    "        return inter_mat\n",
    "\n",
    "    def __len__(self):\n",
    "        # return len(self.users)\n",
    "        return len(self.inter_mat)\n",
    "\n",
    "    def __getitem__(self, index):\n",
    "        # inter_mat = torch.tensor(self.inter_mat[self.users[index]]).float()\n",
    "        inter_mat = torch.tensor(self.inter_mat[index]).float()\n",
    "\n",
    "        return index, inter_mat"
   ]
  },
  {
   "cell_type": "markdown",
   "id": "a00cddbb-7c6a-4871-b796-92602f7f1ae4",
   "metadata": {},
   "source": [
    "### Autorec Model"
   ]
  },
  {
   "cell_type": "code",
   "execution_count": 17,
   "id": "824e9e06-921d-446f-a93a-767c7837c853",
   "metadata": {},
   "outputs": [],
   "source": [
    "class AutoRec(nn.Module):\n",
    "    def __init__(self, num_hidden, num_items, dropout=0.2):\n",
    "        super(AutoRec, self).__init__()\n",
    "        self.encoder = nn.Linear(num_items, num_hidden)\n",
    "        self.activate = nn.Sigmoid()\n",
    "        self.decoder = nn.Linear(num_hidden, num_items)\n",
    "        self.dropout = nn.Dropout(dropout)\n",
    "\n",
    "    def forward(self, mat):\n",
    "        hidden = self.dropout(self.activate(self.encoder(mat)))\n",
    "        pred = self.decoder(hidden)\n",
    "        \n",
    "        return pred"
   ]
  },
  {
   "cell_type": "markdown",
   "id": "1c64864d-aab9-429b-b4b6-d5a319c7bafe",
   "metadata": {},
   "source": [
    "###  Model train, validcation"
   ]
  },
  {
   "cell_type": "code",
   "execution_count": 18,
   "id": "2d670b0f-9ed0-4a9b-953b-832f67dcd695",
   "metadata": {},
   "outputs": [],
   "source": [
    "def train(model, train_iter, criterion, optm, device):\n",
    "    model.train() # to train mode\n",
    "    loss_sum = 0\n",
    "    # loss_cal_count = 0\n",
    "\n",
    "    for _, inter_mat in train_iter:\n",
    "        inter_mat = inter_mat.to(device)    \n",
    "\n",
    "        preds = model(inter_mat)\n",
    "        loss = criterion(preds, inter_mat)\n",
    "\n",
    "        # Update\n",
    "        optm.zero_grad()      # reset gradient \n",
    "        loss.backward()      # backpropagate\n",
    "        optm.step()      # optimizer update\n",
    "        \n",
    "        # if not np.isnan(loss.cpu().detach().numpy()):\n",
    "        #     loss_cal_count += 1\n",
    "        loss_sum += loss.item()\n",
    "            \n",
    "    loss_avg = loss_sum / len(train_iter)\n",
    "\n",
    "    return loss_avg"
   ]
  },
  {
   "cell_type": "code",
   "execution_count": 19,
   "id": "62571012-7682-460e-b4b6-174a11ea6a5b",
   "metadata": {},
   "outputs": [],
   "source": [
    "def validation(model, valid_iter, criterion, device):\n",
    "    \n",
    "    # np.random.seed(42)\n",
    "    \n",
    "    with torch.no_grad():\n",
    "        model.eval()\n",
    "        loss_sum = 0\n",
    "        loss_cal_count = 0\n",
    "        \n",
    "        for _, inter_mat in valid_iter:\n",
    "            inter_mat = inter_mat.to(device)\n",
    "            \n",
    "#             # matrix 값 중 0보다 큰 값만 추출\n",
    "#             y_for_compute = inter_mat.squeeze().cpu().numpy()\n",
    "#             index = np.where(y_for_compute > 0)[0]\n",
    "            \n",
    "#             # 0보다 큰 값 중 n_val개를 masking\n",
    "#             n_val = min(int(len(index) * 0.1), 3)\n",
    "#             valid_ind = np.random.choice(index, n_val, replace = False)\n",
    "#             y_for_compute[valid_ind] = 0\n",
    "            \n",
    "#             # n_val개 masking 된 input 생성\n",
    "#             masked_input = torch.tensor(y_for_compute).to(device).unsqueeze(0)\n",
    "            \n",
    "#             # 정답지는 input에서 masking 되지 않은 위치를 masking  \n",
    "#             if len(index):\n",
    "#                 # print(len(index))\n",
    "#                 # print(valid_ind)\n",
    "#                 # print(index)\n",
    "#                 mat_masked_idx = np.array([i for i in index if i not in valid_ind]) \n",
    "#                 # print(mat_masked_idx)\n",
    "#                 inter_mat = inter_mat.squeeze().cpu().numpy()\n",
    "#                 inter_mat[mat_masked_idx] = 0\n",
    "#                 inter_mat = torch.tensor(inter_mat).to(device).unsqueeze(0)\n",
    "            \n",
    "            # mask된 input으로 prediction 후 기존 정답 활용 loss값 계산\n",
    "            preds = model(inter_mat)\n",
    "            loss = criterion(preds, inter_mat)\n",
    "            \n",
    "            if not np.isnan(loss.cpu().numpy()):\n",
    "                loss_cal_count += 1\n",
    "                loss_sum += loss.item()\n",
    "            # loss_sum += loss.item()\n",
    "      \n",
    "    loss_avg = loss_sum / loss_cal_count\n",
    "    # loss_avg = loss_sum / len(valid_iter)\n",
    "\n",
    "        \n",
    "    return loss_avg"
   ]
  },
  {
   "cell_type": "code",
   "execution_count": 20,
   "id": "a8b51f04-17b8-4dcd-8f7c-55ebe883d1ec",
   "metadata": {},
   "outputs": [],
   "source": [
    "class AutoRec_loss_fn(nn.Module):\n",
    "\n",
    "    def __init__(self, loss_fn):\n",
    "        super(AutoRec_loss_fn, self).__init__()\n",
    "        self.loss_fn = loss_fn\n",
    "    \n",
    "    def forward(self, pred, y):\n",
    "        y_for_compute = y.clone().to('cpu')\n",
    "        index = np.where(y_for_compute > 0) # FILL HERE : USE np.where & y_for_compute. WARNING: y를 사용 시, y의 device가 gpu일 경우 오류 발생 #\n",
    "        loss = self.loss_fn(pred[index], y[index])\n",
    "        return loss"
   ]
  },
  {
   "cell_type": "code",
   "execution_count": 21,
   "id": "00a37b7a-7095-458c-8fc6-c7c0fe516018",
   "metadata": {},
   "outputs": [],
   "source": [
    "device = torch.device('cuda:0' if torch.cuda.is_available() else 'cpu')\n",
    "\n",
    "num_epochs = 50\n",
    "lr = 0.001\n",
    "batch_size = 256\n",
    "\n",
    "PATH = '../model/autorec_exp_rmse.pt'\n",
    "patience = 5\n",
    "\n",
    "num_items = data.item_id_idx.nunique()\n",
    "num_hidden = 500"
   ]
  },
  {
   "cell_type": "code",
   "execution_count": 22,
   "id": "d25de793-cb99-4cc4-9c40-0c7458946dd3",
   "metadata": {},
   "outputs": [],
   "source": [
    "train_dataset = BeerDataset(df=data, mode='train')\n",
    "val_dataset = BeerDataset(df=data, mode='val')\n",
    "\n",
    "train_dataloader = DataLoader(dataset=train_dataset, batch_size=batch_size, shuffle=True) \n",
    "val_dataloader = DataLoader(dataset=val_dataset, batch_size=1, shuffle=False)"
   ]
  },
  {
   "cell_type": "code",
   "execution_count": 23,
   "id": "bb92211c-ca43-431c-87f0-b86093d2a600",
   "metadata": {},
   "outputs": [],
   "source": [
    "model = AutoRec(num_hidden, num_items).to(device)\n",
    "loss = AutoRec_loss_fn(nn.MSELoss().to(device)).to(device)\n",
    "optm = optim.Adam(model.parameters(),lr=lr)"
   ]
  },
  {
   "cell_type": "code",
   "execution_count": 24,
   "id": "bb46cd6f-589a-48e6-b97d-11b423ddda61",
   "metadata": {},
   "outputs": [],
   "source": [
    "class EarlyStopping:\n",
    "    \"\"\"주어진 patience 이후로 validation loss가 개선되지 않으면 학습을 조기 중지\"\"\"\n",
    "    def __init__(self, patience=7, verbose=False, delta=0, path='checkpoint.pt'):\n",
    "        \"\"\"\n",
    "        Args:\n",
    "            patience (int): validation loss가 개선된 후 기다리는 기간\n",
    "                            Default: 7\n",
    "            verbose (bool): True일 경우 각 validation loss의 개선 사항 메세지 출력\n",
    "                            Default: False\n",
    "            delta (float): 개선되었다고 인정되는 monitered quantity의 최소 변화\n",
    "                            Default: 0\n",
    "            path (str): checkpoint저장 경로\n",
    "                            Default: 'checkpoint.pt'\n",
    "        \"\"\"\n",
    "        self.patience = patience\n",
    "        self.verbose = verbose\n",
    "        self.counter = 0\n",
    "        self.best_score = None\n",
    "        self.early_stop = False\n",
    "        self.val_loss_min = np.Inf\n",
    "        self.delta = delta\n",
    "        self.path = path\n",
    "\n",
    "    def __call__(self, val_loss, model):\n",
    "\n",
    "        score = -val_loss\n",
    "\n",
    "        if self.best_score is None:\n",
    "            self.best_score = score\n",
    "            self.save_checkpoint(val_loss, model)\n",
    "        elif score < self.best_score + self.delta:\n",
    "            self.counter += 1\n",
    "            print(f'EarlyStopping counter: {self.counter} out of {self.patience}')\n",
    "            if self.counter >= self.patience:\n",
    "                self.early_stop = True\n",
    "        else:\n",
    "            self.best_score = score\n",
    "            self.save_checkpoint(val_loss, model)\n",
    "            self.counter = 0\n",
    "\n",
    "    def save_checkpoint(self, val_loss, model):\n",
    "        '''validation loss가 감소하면 모델을 저장한다.'''\n",
    "        if self.verbose:\n",
    "            print(f'Validation loss decreased ({self.val_loss_min:.6f} --> {val_loss:.6f}).  Saving model ...')\n",
    "        torch.save(model.state_dict(), self.path)\n",
    "        self.val_loss_min = val_loss"
   ]
  },
  {
   "cell_type": "code",
   "execution_count": 25,
   "id": "888f186e-1bb8-40d8-9815-4348378acba1",
   "metadata": {},
   "outputs": [
    {
     "name": "stderr",
     "output_type": "stream",
     "text": [
      "  2%|▎               | 1/50 [00:11<09:11, 11.26s/it]"
     ]
    },
    {
     "name": "stdout",
     "output_type": "stream",
     "text": [
      "Validation loss decreased (inf --> 0.627956).  Saving model ...\n",
      "epoch: 0, train Loss: 1.5073, test Loss: 0.6280\n"
     ]
    },
    {
     "name": "stderr",
     "output_type": "stream",
     "text": [
      "  4%|▋               | 2/50 [00:21<08:24, 10.50s/it]"
     ]
    },
    {
     "name": "stdout",
     "output_type": "stream",
     "text": [
      "Validation loss decreased (0.627956 --> 0.527901).  Saving model ...\n",
      "epoch: 1, train Loss: 0.3139, test Loss: 0.5279\n"
     ]
    },
    {
     "name": "stderr",
     "output_type": "stream",
     "text": [
      "  6%|▉               | 3/50 [00:31<08:01, 10.25s/it]"
     ]
    },
    {
     "name": "stdout",
     "output_type": "stream",
     "text": [
      "Validation loss decreased (0.527901 --> 0.466025).  Saving model ...\n",
      "epoch: 2, train Loss: 0.3030, test Loss: 0.4660\n"
     ]
    },
    {
     "name": "stderr",
     "output_type": "stream",
     "text": [
      "  8%|█▎              | 4/50 [00:41<07:49, 10.21s/it]"
     ]
    },
    {
     "name": "stdout",
     "output_type": "stream",
     "text": [
      "Validation loss decreased (0.466025 --> 0.437186).  Saving model ...\n",
      "epoch: 3, train Loss: 0.2982, test Loss: 0.4372\n"
     ]
    },
    {
     "name": "stderr",
     "output_type": "stream",
     "text": [
      " 10%|█▌              | 5/50 [00:51<07:35, 10.12s/it]"
     ]
    },
    {
     "name": "stdout",
     "output_type": "stream",
     "text": [
      "Validation loss decreased (0.437186 --> 0.418838).  Saving model ...\n",
      "epoch: 4, train Loss: 0.2911, test Loss: 0.4188\n"
     ]
    },
    {
     "name": "stderr",
     "output_type": "stream",
     "text": [
      " 12%|█▉              | 6/50 [01:01<07:22, 10.05s/it]"
     ]
    },
    {
     "name": "stdout",
     "output_type": "stream",
     "text": [
      "Validation loss decreased (0.418838 --> 0.405628).  Saving model ...\n",
      "epoch: 5, train Loss: 0.2869, test Loss: 0.4056\n"
     ]
    },
    {
     "name": "stderr",
     "output_type": "stream",
     "text": [
      " 14%|██▏             | 7/50 [01:11<07:09,  9.99s/it]"
     ]
    },
    {
     "name": "stdout",
     "output_type": "stream",
     "text": [
      "Validation loss decreased (0.405628 --> 0.392272).  Saving model ...\n",
      "epoch: 6, train Loss: 0.2839, test Loss: 0.3923\n"
     ]
    },
    {
     "name": "stderr",
     "output_type": "stream",
     "text": [
      " 16%|██▌             | 8/50 [01:21<07:05, 10.12s/it]"
     ]
    },
    {
     "name": "stdout",
     "output_type": "stream",
     "text": [
      "Validation loss decreased (0.392272 --> 0.388162).  Saving model ...\n",
      "epoch: 7, train Loss: 0.2795, test Loss: 0.3882\n"
     ]
    },
    {
     "name": "stderr",
     "output_type": "stream",
     "text": [
      " 18%|██▉             | 9/50 [01:31<06:52, 10.06s/it]"
     ]
    },
    {
     "name": "stdout",
     "output_type": "stream",
     "text": [
      "Validation loss decreased (0.388162 --> 0.381192).  Saving model ...\n",
      "epoch: 8, train Loss: 0.2728, test Loss: 0.3812\n"
     ]
    },
    {
     "name": "stderr",
     "output_type": "stream",
     "text": [
      " 20%|███            | 10/50 [01:41<06:41, 10.03s/it]"
     ]
    },
    {
     "name": "stdout",
     "output_type": "stream",
     "text": [
      "Validation loss decreased (0.381192 --> 0.380209).  Saving model ...\n",
      "epoch: 9, train Loss: 0.2672, test Loss: 0.3802\n"
     ]
    },
    {
     "name": "stderr",
     "output_type": "stream",
     "text": [
      " 22%|███▎           | 11/50 [01:51<06:34, 10.12s/it]"
     ]
    },
    {
     "name": "stdout",
     "output_type": "stream",
     "text": [
      "Validation loss decreased (0.380209 --> 0.376521).  Saving model ...\n",
      "epoch: 10, train Loss: 0.2609, test Loss: 0.3765\n"
     ]
    },
    {
     "name": "stderr",
     "output_type": "stream",
     "text": [
      " 24%|███▌           | 12/50 [02:01<06:23, 10.09s/it]"
     ]
    },
    {
     "name": "stdout",
     "output_type": "stream",
     "text": [
      "Validation loss decreased (0.376521 --> 0.370028).  Saving model ...\n",
      "epoch: 11, train Loss: 0.2557, test Loss: 0.3700\n"
     ]
    },
    {
     "name": "stderr",
     "output_type": "stream",
     "text": [
      " 26%|███▉           | 13/50 [02:12<06:19, 10.26s/it]"
     ]
    },
    {
     "name": "stdout",
     "output_type": "stream",
     "text": [
      "EarlyStopping counter: 1 out of 5\n",
      "epoch: 12, train Loss: 0.2516, test Loss: 0.3742\n"
     ]
    },
    {
     "name": "stderr",
     "output_type": "stream",
     "text": [
      " 28%|████▏          | 14/50 [02:22<06:06, 10.19s/it]"
     ]
    },
    {
     "name": "stdout",
     "output_type": "stream",
     "text": [
      "Validation loss decreased (0.370028 --> 0.366143).  Saving model ...\n",
      "epoch: 13, train Loss: 0.2474, test Loss: 0.3661\n"
     ]
    },
    {
     "name": "stderr",
     "output_type": "stream",
     "text": [
      " 30%|████▌          | 15/50 [02:32<05:54, 10.14s/it]"
     ]
    },
    {
     "name": "stdout",
     "output_type": "stream",
     "text": [
      "Validation loss decreased (0.366143 --> 0.363922).  Saving model ...\n",
      "epoch: 14, train Loss: 0.2416, test Loss: 0.3639\n"
     ]
    },
    {
     "name": "stderr",
     "output_type": "stream",
     "text": [
      " 32%|████▊          | 16/50 [02:42<05:43, 10.10s/it]"
     ]
    },
    {
     "name": "stdout",
     "output_type": "stream",
     "text": [
      "Validation loss decreased (0.363922 --> 0.361933).  Saving model ...\n",
      "epoch: 15, train Loss: 0.2378, test Loss: 0.3619\n"
     ]
    },
    {
     "name": "stderr",
     "output_type": "stream",
     "text": [
      " 34%|█████          | 17/50 [02:52<05:31, 10.05s/it]"
     ]
    },
    {
     "name": "stdout",
     "output_type": "stream",
     "text": [
      "EarlyStopping counter: 1 out of 5\n",
      "epoch: 16, train Loss: 0.2320, test Loss: 0.3631\n"
     ]
    },
    {
     "name": "stderr",
     "output_type": "stream",
     "text": [
      " 36%|█████▍         | 18/50 [03:02<05:22, 10.09s/it]"
     ]
    },
    {
     "name": "stdout",
     "output_type": "stream",
     "text": [
      "Validation loss decreased (0.361933 --> 0.361376).  Saving model ...\n",
      "epoch: 17, train Loss: 0.2284, test Loss: 0.3614\n"
     ]
    },
    {
     "name": "stderr",
     "output_type": "stream",
     "text": [
      " 38%|█████▋         | 19/50 [03:13<05:17, 10.26s/it]"
     ]
    },
    {
     "name": "stdout",
     "output_type": "stream",
     "text": [
      "EarlyStopping counter: 1 out of 5\n",
      "epoch: 18, train Loss: 0.2238, test Loss: 0.3615\n"
     ]
    },
    {
     "name": "stderr",
     "output_type": "stream",
     "text": [
      " 40%|██████         | 20/50 [03:23<05:11, 10.40s/it]"
     ]
    },
    {
     "name": "stdout",
     "output_type": "stream",
     "text": [
      "Validation loss decreased (0.361376 --> 0.359192).  Saving model ...\n",
      "epoch: 19, train Loss: 0.2197, test Loss: 0.3592\n"
     ]
    },
    {
     "name": "stderr",
     "output_type": "stream",
     "text": [
      " 42%|██████▎        | 21/50 [03:34<05:04, 10.51s/it]"
     ]
    },
    {
     "name": "stdout",
     "output_type": "stream",
     "text": [
      "Validation loss decreased (0.359192 --> 0.358091).  Saving model ...\n",
      "epoch: 20, train Loss: 0.2172, test Loss: 0.3581\n"
     ]
    },
    {
     "name": "stderr",
     "output_type": "stream",
     "text": [
      " 44%|██████▌        | 22/50 [03:45<04:56, 10.60s/it]"
     ]
    },
    {
     "name": "stdout",
     "output_type": "stream",
     "text": [
      "Validation loss decreased (0.358091 --> 0.356308).  Saving model ...\n",
      "epoch: 21, train Loss: 0.2122, test Loss: 0.3563\n"
     ]
    },
    {
     "name": "stderr",
     "output_type": "stream",
     "text": [
      " 46%|██████▉        | 23/50 [03:56<04:46, 10.63s/it]"
     ]
    },
    {
     "name": "stdout",
     "output_type": "stream",
     "text": [
      "Validation loss decreased (0.356308 --> 0.354542).  Saving model ...\n",
      "epoch: 22, train Loss: 0.2086, test Loss: 0.3545\n"
     ]
    },
    {
     "name": "stderr",
     "output_type": "stream",
     "text": [
      " 48%|███████▏       | 24/50 [04:07<04:40, 10.79s/it]"
     ]
    },
    {
     "name": "stdout",
     "output_type": "stream",
     "text": [
      "Validation loss decreased (0.354542 --> 0.353992).  Saving model ...\n",
      "epoch: 23, train Loss: 0.2060, test Loss: 0.3540\n"
     ]
    },
    {
     "name": "stderr",
     "output_type": "stream",
     "text": [
      " 50%|███████▌       | 25/50 [04:18<04:29, 10.80s/it]"
     ]
    },
    {
     "name": "stdout",
     "output_type": "stream",
     "text": [
      "Validation loss decreased (0.353992 --> 0.352943).  Saving model ...\n",
      "epoch: 24, train Loss: 0.2027, test Loss: 0.3529\n"
     ]
    },
    {
     "name": "stderr",
     "output_type": "stream",
     "text": [
      " 52%|███████▊       | 26/50 [04:28<04:19, 10.80s/it]"
     ]
    },
    {
     "name": "stdout",
     "output_type": "stream",
     "text": [
      "Validation loss decreased (0.352943 --> 0.351705).  Saving model ...\n",
      "epoch: 25, train Loss: 0.1998, test Loss: 0.3517\n"
     ]
    },
    {
     "name": "stderr",
     "output_type": "stream",
     "text": [
      " 54%|████████       | 27/50 [04:39<04:07, 10.77s/it]"
     ]
    },
    {
     "name": "stdout",
     "output_type": "stream",
     "text": [
      "Validation loss decreased (0.351705 --> 0.350923).  Saving model ...\n",
      "epoch: 26, train Loss: 0.1964, test Loss: 0.3509\n"
     ]
    },
    {
     "name": "stderr",
     "output_type": "stream",
     "text": [
      " 56%|████████▍      | 28/50 [04:50<03:56, 10.75s/it]"
     ]
    },
    {
     "name": "stdout",
     "output_type": "stream",
     "text": [
      "Validation loss decreased (0.350923 --> 0.349129).  Saving model ...\n",
      "epoch: 27, train Loss: 0.1940, test Loss: 0.3491\n"
     ]
    },
    {
     "name": "stderr",
     "output_type": "stream",
     "text": [
      " 58%|████████▋      | 29/50 [05:00<03:44, 10.69s/it]"
     ]
    },
    {
     "name": "stdout",
     "output_type": "stream",
     "text": [
      "EarlyStopping counter: 1 out of 5\n",
      "epoch: 28, train Loss: 0.1911, test Loss: 0.3494\n"
     ]
    },
    {
     "name": "stderr",
     "output_type": "stream",
     "text": [
      " 60%|█████████      | 30/50 [05:11<03:32, 10.64s/it]"
     ]
    },
    {
     "name": "stdout",
     "output_type": "stream",
     "text": [
      "EarlyStopping counter: 2 out of 5\n",
      "epoch: 29, train Loss: 0.1880, test Loss: 0.3503\n"
     ]
    },
    {
     "name": "stderr",
     "output_type": "stream",
     "text": [
      " 62%|█████████▎     | 31/50 [05:22<03:22, 10.64s/it]"
     ]
    },
    {
     "name": "stdout",
     "output_type": "stream",
     "text": [
      "Validation loss decreased (0.349129 --> 0.347735).  Saving model ...\n",
      "epoch: 30, train Loss: 0.1865, test Loss: 0.3477\n"
     ]
    },
    {
     "name": "stderr",
     "output_type": "stream",
     "text": [
      " 64%|█████████▌     | 32/50 [05:32<03:11, 10.65s/it]"
     ]
    },
    {
     "name": "stdout",
     "output_type": "stream",
     "text": [
      "Validation loss decreased (0.347735 --> 0.346206).  Saving model ...\n",
      "epoch: 31, train Loss: 0.1809, test Loss: 0.3462\n"
     ]
    },
    {
     "name": "stderr",
     "output_type": "stream",
     "text": [
      " 66%|█████████▉     | 33/50 [05:43<02:59, 10.55s/it]"
     ]
    },
    {
     "name": "stdout",
     "output_type": "stream",
     "text": [
      "EarlyStopping counter: 1 out of 5\n",
      "epoch: 32, train Loss: 0.1798, test Loss: 0.3462\n"
     ]
    },
    {
     "name": "stderr",
     "output_type": "stream",
     "text": [
      " 68%|██████████▏    | 34/50 [05:52<02:45, 10.36s/it]"
     ]
    },
    {
     "name": "stdout",
     "output_type": "stream",
     "text": [
      "EarlyStopping counter: 2 out of 5\n",
      "epoch: 33, train Loss: 0.1780, test Loss: 0.3464\n"
     ]
    },
    {
     "name": "stderr",
     "output_type": "stream",
     "text": [
      " 70%|██████████▌    | 35/50 [06:03<02:34, 10.27s/it]"
     ]
    },
    {
     "name": "stdout",
     "output_type": "stream",
     "text": [
      "EarlyStopping counter: 3 out of 5\n",
      "epoch: 34, train Loss: 0.1752, test Loss: 0.3475\n"
     ]
    },
    {
     "name": "stderr",
     "output_type": "stream",
     "text": [
      " 72%|██████████▊    | 36/50 [06:13<02:23, 10.26s/it]"
     ]
    },
    {
     "name": "stdout",
     "output_type": "stream",
     "text": [
      "Validation loss decreased (0.346206 --> 0.345219).  Saving model ...\n",
      "epoch: 35, train Loss: 0.1745, test Loss: 0.3452\n"
     ]
    },
    {
     "name": "stderr",
     "output_type": "stream",
     "text": [
      " 74%|███████████    | 37/50 [06:23<02:12, 10.17s/it]"
     ]
    },
    {
     "name": "stdout",
     "output_type": "stream",
     "text": [
      "EarlyStopping counter: 1 out of 5\n",
      "epoch: 36, train Loss: 0.1722, test Loss: 0.3474\n"
     ]
    },
    {
     "name": "stderr",
     "output_type": "stream",
     "text": [
      " 76%|███████████▍   | 38/50 [06:33<02:01, 10.13s/it]"
     ]
    },
    {
     "name": "stdout",
     "output_type": "stream",
     "text": [
      "EarlyStopping counter: 2 out of 5\n",
      "epoch: 37, train Loss: 0.1708, test Loss: 0.3481\n"
     ]
    },
    {
     "name": "stderr",
     "output_type": "stream",
     "text": [
      " 78%|███████████▋   | 39/50 [06:43<01:51, 10.11s/it]"
     ]
    },
    {
     "name": "stdout",
     "output_type": "stream",
     "text": [
      "Validation loss decreased (0.345219 --> 0.343490).  Saving model ...\n",
      "epoch: 38, train Loss: 0.1677, test Loss: 0.3435\n"
     ]
    },
    {
     "name": "stderr",
     "output_type": "stream",
     "text": [
      " 80%|████████████   | 40/50 [06:53<01:40, 10.04s/it]"
     ]
    },
    {
     "name": "stdout",
     "output_type": "stream",
     "text": [
      "EarlyStopping counter: 1 out of 5\n",
      "epoch: 39, train Loss: 0.1665, test Loss: 0.3447\n"
     ]
    },
    {
     "name": "stderr",
     "output_type": "stream",
     "text": [
      " 82%|████████████▎  | 41/50 [07:03<01:30, 10.01s/it]"
     ]
    },
    {
     "name": "stdout",
     "output_type": "stream",
     "text": [
      "EarlyStopping counter: 2 out of 5\n",
      "epoch: 40, train Loss: 0.1654, test Loss: 0.3464\n"
     ]
    },
    {
     "name": "stderr",
     "output_type": "stream",
     "text": [
      " 84%|████████████▌  | 42/50 [07:13<01:20, 10.03s/it]"
     ]
    },
    {
     "name": "stdout",
     "output_type": "stream",
     "text": [
      "EarlyStopping counter: 3 out of 5\n",
      "epoch: 41, train Loss: 0.1614, test Loss: 0.3437\n"
     ]
    },
    {
     "name": "stderr",
     "output_type": "stream",
     "text": [
      " 86%|████████████▉  | 43/50 [07:23<01:10, 10.00s/it]"
     ]
    },
    {
     "name": "stdout",
     "output_type": "stream",
     "text": [
      "Validation loss decreased (0.343490 --> 0.340620).  Saving model ...\n",
      "epoch: 42, train Loss: 0.1592, test Loss: 0.3406\n"
     ]
    },
    {
     "name": "stderr",
     "output_type": "stream",
     "text": [
      " 88%|█████████████▏ | 44/50 [07:32<00:59,  9.95s/it]"
     ]
    },
    {
     "name": "stdout",
     "output_type": "stream",
     "text": [
      "EarlyStopping counter: 1 out of 5\n",
      "epoch: 43, train Loss: 0.1587, test Loss: 0.3414\n"
     ]
    },
    {
     "name": "stderr",
     "output_type": "stream",
     "text": [
      " 90%|█████████████▌ | 45/50 [07:42<00:49,  9.90s/it]"
     ]
    },
    {
     "name": "stdout",
     "output_type": "stream",
     "text": [
      "EarlyStopping counter: 2 out of 5\n",
      "epoch: 44, train Loss: 0.1579, test Loss: 0.3427\n"
     ]
    },
    {
     "name": "stderr",
     "output_type": "stream",
     "text": [
      " 92%|█████████████▊ | 46/50 [07:52<00:39,  9.86s/it]"
     ]
    },
    {
     "name": "stdout",
     "output_type": "stream",
     "text": [
      "EarlyStopping counter: 3 out of 5\n",
      "epoch: 45, train Loss: 0.1556, test Loss: 0.3450\n"
     ]
    },
    {
     "name": "stderr",
     "output_type": "stream",
     "text": [
      " 94%|██████████████ | 47/50 [08:02<00:29,  9.82s/it]"
     ]
    },
    {
     "name": "stdout",
     "output_type": "stream",
     "text": [
      "EarlyStopping counter: 4 out of 5\n",
      "epoch: 46, train Loss: 0.1537, test Loss: 0.3408\n"
     ]
    },
    {
     "name": "stderr",
     "output_type": "stream",
     "text": [
      " 94%|██████████████ | 47/50 [08:11<00:31, 10.47s/it]"
     ]
    },
    {
     "name": "stdout",
     "output_type": "stream",
     "text": [
      "EarlyStopping counter: 5 out of 5\n",
      "Early stopping\n"
     ]
    },
    {
     "name": "stderr",
     "output_type": "stream",
     "text": [
      "\n"
     ]
    },
    {
     "data": {
      "image/png": "[encoded data removed]",
      "text/plain": [
       "<Figure size 720x360 with 1 Axes>"
      ]
     },
     "metadata": {
      "needs_background": "light"
     },
     "output_type": "display_data"
    }
   ],
   "source": [
    "train_losses = []\n",
    "val_losses = []\n",
    "\n",
    "early_stopping = EarlyStopping(patience = patience, verbose = True, path=PATH)\n",
    "\n",
    "for epoch in tqdm(range(num_epochs)):\n",
    "\n",
    "    train_loss = train(model, train_dataloader, loss, optm, device)\n",
    "    val_loss = validation(model, val_dataloader, loss, device)\n",
    "\n",
    "    train_losses.append(train_loss)\n",
    "    val_losses.append(val_loss)\n",
    "    \n",
    "    early_stopping(val_loss, model)\n",
    "\n",
    "    if early_stopping.early_stop:\n",
    "        print(\"Early stopping\")\n",
    "        break\n",
    "        \n",
    "    print(f'epoch: {epoch}, train Loss: {train_loss:.4f}, test Loss: {val_loss:.4f}')\n",
    "\n",
    "plt.figure(figsize=(10,5))\n",
    "plt.plot(train_losses,label=\"train_loss\")\n",
    "plt.plot(val_losses,label=\"val_loss\")\n",
    "plt.xlabel(\"epoch\")\n",
    "plt.ylabel(\"Loss\")\n",
    "plt.legend()\n",
    "plt.show()"
   ]
  },
  {
   "cell_type": "markdown",
   "id": "bdb75490-0841-4e51-b7ee-ca53fbc949a5",
   "metadata": {},
   "source": [
    "## inference"
   ]
  },
  {
   "cell_type": "markdown",
   "id": "e9ececd1-0882-42fe-8891-6dc6a7d8e81a",
   "metadata": {},
   "source": [
    "### 모델 불러오기"
   ]
  },
  {
   "cell_type": "code",
   "execution_count": 26,
   "id": "1c7802a9-a41b-41a9-a485-ca7c0cc4683a",
   "metadata": {},
   "outputs": [
    {
     "data": {
      "text/plain": [
       "<All keys matched successfully>"
      ]
     },
     "execution_count": 26,
     "metadata": {},
     "output_type": "execute_result"
    }
   ],
   "source": [
    "model = AutoRec(num_hidden, num_items).to(device)\n",
    "model.load_state_dict(torch.load(PATH))"
   ]
  },
  {
   "cell_type": "markdown",
   "id": "aef7a560-c581-4f5b-a27b-3b8949edad50",
   "metadata": {},
   "source": [
    "### 파일 불러오기"
   ]
  },
  {
   "cell_type": "code",
   "execution_count": 27,
   "id": "9cbd90f8-0863-4365-bc13-860bef17d662",
   "metadata": {},
   "outputs": [],
   "source": [
    "test_input = pd.read_csv(\"../data/test_input_ratebeer_without_text.csv\")\n",
    "test_ans = pd.read_csv(\"../data/test_output_ratebeer_without_text.csv\")"
   ]
  },
  {
   "cell_type": "code",
   "execution_count": 28,
   "id": "5b3836dd-ca6b-40b9-a627-62a4c82be0b1",
   "metadata": {},
   "outputs": [
    {
     "data": {
      "text/html": [
       "<div>\n",
       "<style scoped>\n",
       "    .dataframe tbody tr th:only-of-type {\n",
       "        vertical-align: middle;\n",
       "    }\n",
       "\n",
       "    .dataframe tbody tr th {\n",
       "        vertical-align: top;\n",
       "    }\n",
       "\n",
       "    .dataframe thead th {\n",
       "        text-align: right;\n",
       "    }\n",
       "</style>\n",
       "<table border=\"1\" class=\"dataframe\">\n",
       "  <thead>\n",
       "    <tr style=\"text-align: right;\">\n",
       "      <th></th>\n",
       "      <th>user_id</th>\n",
       "      <th>beer_id</th>\n",
       "      <th>review_score</th>\n",
       "      <th>review_time</th>\n",
       "      <th>appearance</th>\n",
       "      <th>aroma</th>\n",
       "      <th>palate</th>\n",
       "      <th>taste</th>\n",
       "      <th>overall</th>\n",
       "      <th>profile_name</th>\n",
       "      <th>beer_name</th>\n",
       "      <th>brewer_id</th>\n",
       "      <th>abv</th>\n",
       "      <th>style</th>\n",
       "      <th>image_url</th>\n",
       "    </tr>\n",
       "  </thead>\n",
       "  <tbody>\n",
       "    <tr>\n",
       "      <th>0</th>\n",
       "      <td>4</td>\n",
       "      <td>12027</td>\n",
       "      <td>3.8</td>\n",
       "      <td>2021-08-23 02:21:37.730000+00:00</td>\n",
       "      <td>4.0</td>\n",
       "      <td>8.0</td>\n",
       "      <td>4.0</td>\n",
       "      <td>7.0</td>\n",
       "      <td>15.0</td>\n",
       "      <td>ZayZay</td>\n",
       "      <td>Boon Oude Geuze Mariage Parfait</td>\n",
       "      <td>748</td>\n",
       "      <td>8.0</td>\n",
       "      <td>Lambic - Gueuze</td>\n",
       "      <td>https://res.cloudinary.com/ratebeer/image/uplo...</td>\n",
       "    </tr>\n",
       "    <tr>\n",
       "      <th>1</th>\n",
       "      <td>4</td>\n",
       "      <td>59197</td>\n",
       "      <td>3.8</td>\n",
       "      <td>2020-10-24 01:01:04.880000+00:00</td>\n",
       "      <td>4.0</td>\n",
       "      <td>8.0</td>\n",
       "      <td>4.0</td>\n",
       "      <td>8.0</td>\n",
       "      <td>14.0</td>\n",
       "      <td>ZayZay</td>\n",
       "      <td>Le Trou du Diable La Buteuse</td>\n",
       "      <td>6444</td>\n",
       "      <td>10.0</td>\n",
       "      <td>Tripel</td>\n",
       "      <td>https://res.cloudinary.com/ratebeer/image/uplo...</td>\n",
       "    </tr>\n",
       "    <tr>\n",
       "      <th>2</th>\n",
       "      <td>4</td>\n",
       "      <td>59877</td>\n",
       "      <td>3.5</td>\n",
       "      <td>2021-04-10 00:07:47.060000+00:00</td>\n",
       "      <td>3.0</td>\n",
       "      <td>8.0</td>\n",
       "      <td>3.0</td>\n",
       "      <td>7.0</td>\n",
       "      <td>14.0</td>\n",
       "      <td>ZayZay</td>\n",
       "      <td>Dieu du Ciel! Rosée d'Hibiscus</td>\n",
       "      <td>364</td>\n",
       "      <td>5.9</td>\n",
       "      <td>Flavored - Other</td>\n",
       "      <td>https://res.cloudinary.com/ratebeer/image/uplo...</td>\n",
       "    </tr>\n",
       "    <tr>\n",
       "      <th>3</th>\n",
       "      <td>4</td>\n",
       "      <td>11461</td>\n",
       "      <td>4.1</td>\n",
       "      <td>2020-11-01 16:15:56.533000+00:00</td>\n",
       "      <td>3.0</td>\n",
       "      <td>9.0</td>\n",
       "      <td>3.0</td>\n",
       "      <td>9.0</td>\n",
       "      <td>17.0</td>\n",
       "      <td>ZayZay</td>\n",
       "      <td>Dieu du Ciel! Péché Mortel</td>\n",
       "      <td>364</td>\n",
       "      <td>9.5</td>\n",
       "      <td>Stout - Imperial Flavored / Pastry</td>\n",
       "      <td>https://res.cloudinary.com/ratebeer/image/uplo...</td>\n",
       "    </tr>\n",
       "    <tr>\n",
       "      <th>4</th>\n",
       "      <td>4</td>\n",
       "      <td>715</td>\n",
       "      <td>2.3</td>\n",
       "      <td>2021-07-08 02:36:24.657000+00:00</td>\n",
       "      <td>2.0</td>\n",
       "      <td>5.0</td>\n",
       "      <td>2.0</td>\n",
       "      <td>5.0</td>\n",
       "      <td>9.0</td>\n",
       "      <td>ZayZay</td>\n",
       "      <td>Grolsch Premium Lager</td>\n",
       "      <td>114</td>\n",
       "      <td>5.0</td>\n",
       "      <td>Pale Lager - International / Premium</td>\n",
       "      <td>https://res.cloudinary.com/ratebeer/image/uplo...</td>\n",
       "    </tr>\n",
       "  </tbody>\n",
       "</table>\n",
       "</div>"
      ],
      "text/plain": [
       "   user_id  beer_id  review_score                       review_time  \\\n",
       "0        4    12027           3.8  2021-08-23 02:21:37.730000+00:00   \n",
       "1        4    59197           3.8  2020-10-24 01:01:04.880000+00:00   \n",
       "2        4    59877           3.5  2021-04-10 00:07:47.060000+00:00   \n",
       "3        4    11461           4.1  2020-11-01 16:15:56.533000+00:00   \n",
       "4        4      715           2.3  2021-07-08 02:36:24.657000+00:00   \n",
       "\n",
       "   appearance  aroma  palate  taste  overall profile_name  \\\n",
       "0         4.0    8.0     4.0    7.0     15.0       ZayZay   \n",
       "1         4.0    8.0     4.0    8.0     14.0       ZayZay   \n",
       "2         3.0    8.0     3.0    7.0     14.0       ZayZay   \n",
       "3         3.0    9.0     3.0    9.0     17.0       ZayZay   \n",
       "4         2.0    5.0     2.0    5.0      9.0       ZayZay   \n",
       "\n",
       "                         beer_name  brewer_id   abv  \\\n",
       "0  Boon Oude Geuze Mariage Parfait        748   8.0   \n",
       "1     Le Trou du Diable La Buteuse       6444  10.0   \n",
       "2   Dieu du Ciel! Rosée d'Hibiscus        364   5.9   \n",
       "3       Dieu du Ciel! Péché Mortel        364   9.5   \n",
       "4            Grolsch Premium Lager        114   5.0   \n",
       "\n",
       "                                  style  \\\n",
       "0                       Lambic - Gueuze   \n",
       "1                                Tripel   \n",
       "2                      Flavored - Other   \n",
       "3    Stout - Imperial Flavored / Pastry   \n",
       "4  Pale Lager - International / Premium   \n",
       "\n",
       "                                           image_url  \n",
       "0  https://res.cloudinary.com/ratebeer/image/uplo...  \n",
       "1  https://res.cloudinary.com/ratebeer/image/uplo...  \n",
       "2  https://res.cloudinary.com/ratebeer/image/uplo...  \n",
       "3  https://res.cloudinary.com/ratebeer/image/uplo...  \n",
       "4  https://res.cloudinary.com/ratebeer/image/uplo...  "
      ]
     },
     "execution_count": 28,
     "metadata": {},
     "output_type": "execute_result"
    }
   ],
   "source": [
    "test_input.head()"
   ]
  },
  {
   "cell_type": "code",
   "execution_count": 29,
   "id": "cdbdfa3d-3616-4e07-bf53-665c4f25f536",
   "metadata": {},
   "outputs": [
    {
     "data": {
      "text/html": [
       "<div>\n",
       "<style scoped>\n",
       "    .dataframe tbody tr th:only-of-type {\n",
       "        vertical-align: middle;\n",
       "    }\n",
       "\n",
       "    .dataframe tbody tr th {\n",
       "        vertical-align: top;\n",
       "    }\n",
       "\n",
       "    .dataframe thead th {\n",
       "        text-align: right;\n",
       "    }\n",
       "</style>\n",
       "<table border=\"1\" class=\"dataframe\">\n",
       "  <thead>\n",
       "    <tr style=\"text-align: right;\">\n",
       "      <th></th>\n",
       "      <th>user_id</th>\n",
       "      <th>beer_id</th>\n",
       "      <th>review_score</th>\n",
       "      <th>review_time</th>\n",
       "      <th>appearance</th>\n",
       "      <th>aroma</th>\n",
       "      <th>palate</th>\n",
       "      <th>taste</th>\n",
       "      <th>overall</th>\n",
       "      <th>profile_name</th>\n",
       "      <th>beer_name</th>\n",
       "      <th>brewer_id</th>\n",
       "      <th>abv</th>\n",
       "      <th>style</th>\n",
       "      <th>image_url</th>\n",
       "    </tr>\n",
       "  </thead>\n",
       "  <tbody>\n",
       "    <tr>\n",
       "      <th>0</th>\n",
       "      <td>4</td>\n",
       "      <td>37</td>\n",
       "      <td>1.9</td>\n",
       "      <td>2021-07-08 03:31:02.923000+00:00</td>\n",
       "      <td>3.0</td>\n",
       "      <td>3.0</td>\n",
       "      <td>2.0</td>\n",
       "      <td>3.0</td>\n",
       "      <td>8.0</td>\n",
       "      <td>ZayZay</td>\n",
       "      <td>Heineken</td>\n",
       "      <td>9</td>\n",
       "      <td>5.0</td>\n",
       "      <td>Pale Lager - International / Premium</td>\n",
       "      <td>https://res.cloudinary.com/ratebeer/image/uplo...</td>\n",
       "    </tr>\n",
       "    <tr>\n",
       "      <th>1</th>\n",
       "      <td>4</td>\n",
       "      <td>473</td>\n",
       "      <td>1.7</td>\n",
       "      <td>2022-05-27 03:50:49.850000+00:00</td>\n",
       "      <td>3.0</td>\n",
       "      <td>3.0</td>\n",
       "      <td>2.0</td>\n",
       "      <td>3.0</td>\n",
       "      <td>6.0</td>\n",
       "      <td>ZayZay</td>\n",
       "      <td>Budweiser</td>\n",
       "      <td>84</td>\n",
       "      <td>5.0</td>\n",
       "      <td>Pale Lager - American</td>\n",
       "      <td>https://res.cloudinary.com/ratebeer/image/uplo...</td>\n",
       "    </tr>\n",
       "    <tr>\n",
       "      <th>2</th>\n",
       "      <td>4</td>\n",
       "      <td>742</td>\n",
       "      <td>1.7</td>\n",
       "      <td>2020-10-24 21:25:51.827000+00:00</td>\n",
       "      <td>2.0</td>\n",
       "      <td>3.0</td>\n",
       "      <td>2.0</td>\n",
       "      <td>3.0</td>\n",
       "      <td>7.0</td>\n",
       "      <td>ZayZay</td>\n",
       "      <td>Corona Extra</td>\n",
       "      <td>119</td>\n",
       "      <td>4.5</td>\n",
       "      <td>Pale Lager - American</td>\n",
       "      <td>https://res.cloudinary.com/ratebeer/image/uplo...</td>\n",
       "    </tr>\n",
       "    <tr>\n",
       "      <th>3</th>\n",
       "      <td>6</td>\n",
       "      <td>1478</td>\n",
       "      <td>2.0</td>\n",
       "      <td>2010-12-29 10:07:17.433000+00:00</td>\n",
       "      <td>1.0</td>\n",
       "      <td>4.0</td>\n",
       "      <td>2.0</td>\n",
       "      <td>5.0</td>\n",
       "      <td>8.0</td>\n",
       "      <td>PapaSkeetSkeet</td>\n",
       "      <td>Stella Artois</td>\n",
       "      <td>260</td>\n",
       "      <td>5.2</td>\n",
       "      <td>Pale Lager - International / Premium</td>\n",
       "      <td>https://res.cloudinary.com/ratebeer/image/uplo...</td>\n",
       "    </tr>\n",
       "    <tr>\n",
       "      <th>4</th>\n",
       "      <td>6</td>\n",
       "      <td>717</td>\n",
       "      <td>3.3</td>\n",
       "      <td>2010-04-20 16:48:45.717000+00:00</td>\n",
       "      <td>4.0</td>\n",
       "      <td>7.0</td>\n",
       "      <td>3.0</td>\n",
       "      <td>5.0</td>\n",
       "      <td>14.0</td>\n",
       "      <td>PapaSkeetSkeet</td>\n",
       "      <td>Pilsner Urquell</td>\n",
       "      <td>115</td>\n",
       "      <td>4.4</td>\n",
       "      <td>Pilsener - Bohemian / Czech</td>\n",
       "      <td>https://res.cloudinary.com/ratebeer/image/uplo...</td>\n",
       "    </tr>\n",
       "  </tbody>\n",
       "</table>\n",
       "</div>"
      ],
      "text/plain": [
       "   user_id  beer_id  review_score                       review_time  \\\n",
       "0        4       37           1.9  2021-07-08 03:31:02.923000+00:00   \n",
       "1        4      473           1.7  2022-05-27 03:50:49.850000+00:00   \n",
       "2        4      742           1.7  2020-10-24 21:25:51.827000+00:00   \n",
       "3        6     1478           2.0  2010-12-29 10:07:17.433000+00:00   \n",
       "4        6      717           3.3  2010-04-20 16:48:45.717000+00:00   \n",
       "\n",
       "   appearance  aroma  palate  taste  overall    profile_name        beer_name  \\\n",
       "0         3.0    3.0     2.0    3.0      8.0          ZayZay         Heineken   \n",
       "1         3.0    3.0     2.0    3.0      6.0          ZayZay        Budweiser   \n",
       "2         2.0    3.0     2.0    3.0      7.0          ZayZay     Corona Extra   \n",
       "3         1.0    4.0     2.0    5.0      8.0  PapaSkeetSkeet    Stella Artois   \n",
       "4         4.0    7.0     3.0    5.0     14.0  PapaSkeetSkeet  Pilsner Urquell   \n",
       "\n",
       "   brewer_id  abv                                 style  \\\n",
       "0          9  5.0  Pale Lager - International / Premium   \n",
       "1         84  5.0                 Pale Lager - American   \n",
       "2        119  4.5                 Pale Lager - American   \n",
       "3        260  5.2  Pale Lager - International / Premium   \n",
       "4        115  4.4           Pilsener - Bohemian / Czech   \n",
       "\n",
       "                                           image_url  \n",
       "0  https://res.cloudinary.com/ratebeer/image/uplo...  \n",
       "1  https://res.cloudinary.com/ratebeer/image/uplo...  \n",
       "2  https://res.cloudinary.com/ratebeer/image/uplo...  \n",
       "3  https://res.cloudinary.com/ratebeer/image/uplo...  \n",
       "4  https://res.cloudinary.com/ratebeer/image/uplo...  "
      ]
     },
     "execution_count": 29,
     "metadata": {},
     "output_type": "execute_result"
    }
   ],
   "source": [
    "test_ans.head()"
   ]
  },
  {
   "cell_type": "markdown",
   "id": "97fdf792-4e70-463c-b0e8-f8228dfa03b0",
   "metadata": {},
   "source": [
    "### labelEncoding"
   ]
  },
  {
   "cell_type": "code",
   "execution_count": 30,
   "id": "d854e559-80df-43be-9c1f-1986bb87d91b",
   "metadata": {},
   "outputs": [],
   "source": [
    "user_test_le = LabelEncoder()\n",
    "\n",
    "test_input['user_id_idx'] = user_test_le.fit_transform(test_input['profile_name'].values)\n",
    "test_input['item_id_idx'] = item_le.transform(test_input['beer_id'].values)\n",
    "\n",
    "test_ans['user_id_idx'] = user_test_le.transform(test_ans['profile_name'].values)\n",
    "test_ans['item_id_idx'] = item_le.transform(test_ans['beer_id'].values)\n"
   ]
  },
  {
   "cell_type": "code",
   "execution_count": 31,
   "id": "683d8721-ff7e-42a9-98fc-973d6922a29a",
   "metadata": {},
   "outputs": [],
   "source": [
    "class TestBeerDataset(Dataset):\n",
    "    def __init__(self, input_df, ans_df):\n",
    "        self.input_df = input_df\n",
    "        self.ans_df = ans_df\n",
    "\n",
    "        self.num_items = self.input_df.item_id_idx.max() + 1\n",
    "        self.num_users = self.input_df.user_id_idx.nunique()\n",
    "        \n",
    "        # input matrix\n",
    "        self.users = torch.tensor(self.input_df['user_id_idx'].values)\n",
    "        self.items = torch.tensor(self.input_df['item_id_idx'].values)\n",
    "        self.ratings = torch.tensor(self.input_df['review_score'].values)\n",
    "        \n",
    "        self.inter_mat_input = self.make_inter_mat()\n",
    "        \n",
    "        # ans matrix\n",
    "        self.users = torch.tensor(self.ans_df['user_id_idx'].values)\n",
    "        self.items = torch.tensor(self.ans_df['item_id_idx'].values)\n",
    "        self.ratings = torch.tensor(self.ans_df['review_score'].values)\n",
    "        \n",
    "        self.inter_mat_ans = self.make_inter_mat()\n",
    "    \n",
    "    def make_inter_mat(self):\n",
    "        inter_mat = np.zeros((self.num_users, self.num_items))\n",
    "        for user, item, rating in zip(self.users, self.items, self.ratings):\n",
    "            inter_mat[user][item] = rating\n",
    "\n",
    "        return inter_mat\n",
    "\n",
    "    def __len__(self):\n",
    "        # return len(self.users)\n",
    "        return len(self.inter_mat_input)\n",
    "\n",
    "    def __getitem__(self, index):\n",
    "        # inter_mat = torch.tensor(self.inter_mat[self.users[index]]).float()\n",
    "        inter_mat_input = torch.tensor(self.inter_mat_input[index]).float()\n",
    "        inter_mat_ans = torch.tensor(self.inter_mat_ans[index]).float()\n",
    "\n",
    "        return index, inter_mat_input, inter_mat_ans"
   ]
  },
  {
   "cell_type": "markdown",
   "id": "07170d85-4d36-4e3b-9d62-0bf2bdeac6ef",
   "metadata": {},
   "source": [
    "### 평가지표 함수"
   ]
  },
  {
   "cell_type": "code",
   "execution_count": 32,
   "id": "0ebe94ba-f586-4bb0-a26e-91e7fe13327a",
   "metadata": {},
   "outputs": [],
   "source": [
    "def ndcg_k(actual, predicted, topk):\n",
    "    res = 0\n",
    "    for user_id in range(len(actual)):\n",
    "        k = min(topk, len(actual[user_id]))\n",
    "        idcg = idcg_k(k)\n",
    "        dcg_k = sum(\n",
    "            [\n",
    "                int(predicted[user_id][j] in set(actual[user_id])) / math.log(j + 2, 2)\n",
    "                for j in range(topk)\n",
    "            ]\n",
    "        )\n",
    "        res += dcg_k / idcg\n",
    "    return res / float(len(actual))\n",
    "\n",
    "# Calculates the ideal discounted cumulative gain at k\n",
    "def idcg_k(k):\n",
    "    res = sum([1.0 / math.log(i + 2, 2) for i in range(k)])\n",
    "    if not res:\n",
    "        return 1.0\n",
    "    else:\n",
    "        return res\n",
    "\n",
    "def recall_at_k(actual, predicted, topk):\n",
    "    sum_recall = 0.0\n",
    "    num_users = len(predicted)\n",
    "    true_users = 0\n",
    "    for i in range(num_users):\n",
    "        act_set = set(actual[i])\n",
    "        pred_set = set(predicted[i][:topk])\n",
    "        if len(act_set) != 0:\n",
    "            sum_recall += len(act_set & pred_set) / float(len(act_set))\n",
    "            true_users += 1\n",
    "    return sum_recall / true_users"
   ]
  },
  {
   "cell_type": "code",
   "execution_count": 32,
   "id": "a9f7183f-cb9c-4b61-a041-3904542d0b04",
   "metadata": {},
   "outputs": [],
   "source": [
    "def inference(model, test_iter, criterion, device):\n",
    "    \n",
    "    # np.random.seed(42)\n",
    "    \n",
    "    with torch.no_grad():\n",
    "        model.eval()\n",
    "        loss_sum = 0\n",
    "        loss_cal_count = 0\n",
    "        \n",
    "        for _, inter_mat_input, inter_mat_ans in test_iter:\n",
    "            inter_mat_input = inter_mat_input.to(device)\n",
    "            inter_mat_ans = inter_mat_ans.to(device)\n",
    "            \n",
    "#             # matrix 값 중 0보다 큰 값만 추출\n",
    "#             y_for_compute = inter_mat.squeeze().cpu().numpy()\n",
    "#             index = np.where(y_for_compute > 0)[0]\n",
    "            \n",
    "#             # 0보다 큰 값 중 n_val개를 masking\n",
    "#             n_val = min(int(len(index) * 0.1), 3)\n",
    "#             valid_ind = np.random.choice(index, n_val, replace = False)\n",
    "#             y_for_compute[valid_ind] = 0\n",
    "            \n",
    "#             # n_val개 masking 된 input 생성\n",
    "#             masked_input = torch.tensor(y_for_compute).to(device).unsqueeze(0)\n",
    "            \n",
    "#             # 정답지는 input에서 masking 되지 않은 위치를 masking  \n",
    "#             if len(index):\n",
    "#                 # print(len(index))\n",
    "#                 # print(valid_ind)\n",
    "#                 # print(index)\n",
    "#                 mat_masked_idx = np.array([i for i in index if i not in valid_ind]) \n",
    "#                 # print(mat_masked_idx)\n",
    "#                 inter_mat = inter_mat.squeeze().cpu().numpy()\n",
    "#                 inter_mat[mat_masked_idx] = 0\n",
    "#                 inter_mat = torch.tensor(inter_mat).to(device).unsqueeze(0)\n",
    "            \n",
    "            # mask된 input으로 prediction 후 기존 정답 활용 loss값 계산\n",
    "            preds = model(inter_mat_input)\n",
    "            loss = criterion(preds, inter_mat_ans)\n",
    "            \n",
    "            if not np.isnan(loss.cpu().numpy()):\n",
    "                loss_cal_count += 1\n",
    "                loss_sum += loss.item()\n",
    "            \n",
    "        loss_avg = loss_sum / loss_cal_count\n",
    "        print(f'test mse = {loss_avg}')\n",
    "    return loss_avg"
   ]
  },
  {
   "cell_type": "code",
   "execution_count": 87,
   "id": "b824c518-3699-46d0-b141-298428939d38",
   "metadata": {},
   "outputs": [],
   "source": [
    "# def inference(model, test_iter, test_matrix, device, topk = 4):\n",
    "#     pred_list = None\n",
    "#     answer_list = None\n",
    "#     with torch.no_grad():\n",
    "#         model.eval()\n",
    "\n",
    "#         for i, (user_ids, inter_mat) in enumerate(test_iter):\n",
    "#             inter_mat = inter_mat.to(device)\n",
    "            \n",
    "#             rating_pred = model(inter_mat)\n",
    "            \n",
    "#             rating_pred = rating_pred.cpu().data.numpy().copy()\n",
    "            \n",
    "#             batch_user_index = user_ids.cpu().numpy()\n",
    "#             answers = test_matrix.argsort(axis = 1)[batch_user_index, -topk:][:, ::-1]\n",
    "#             # rating_pred[test_matrix[batch_user_index] > 0] = 0\n",
    "            \n",
    "#             ind = np.argpartition(rating_pred, -topk)[:, -topk:]\n",
    "            \n",
    "#             arr_ind = rating_pred[np.arange(len(rating_pred))[:, None], ind]\n",
    "\n",
    "#             arr_ind_argsort = np.argsort(arr_ind)[np.arange(len(rating_pred)), ::-1]\n",
    "\n",
    "#             batch_pred_list = ind[\n",
    "#                 np.arange(len(rating_pred))[:, None], arr_ind_argsort\n",
    "#             ]\n",
    "\n",
    "#             if i == 0:\n",
    "#                 pred_list = batch_pred_list\n",
    "#                 answer_list = answers\n",
    "#             else:\n",
    "#                 pred_list = np.append(pred_list, batch_pred_list, axis=0)\n",
    "#                 answer_list = np.append(\n",
    "#                         answer_list, answers, axis=0\n",
    "#                 )\n",
    "            \n",
    "#         recall = recall_at_k(answer_list, pred_list, topk)\n",
    "#         ndcg = ndcg_k(answer_list, pred_list, topk)\n",
    "        \n",
    "#         print(f'recall@{topk} = {recall}, ndcg@{topk} = {ndcg}')\n",
    "#     return pred_list, answer_list"
   ]
  },
  {
   "cell_type": "code",
   "execution_count": 33,
   "id": "95a484f1-91ef-497b-87f8-eeac00dac966",
   "metadata": {},
   "outputs": [],
   "source": [
    "device = torch.device('cuda:0' if torch.cuda.is_available() else 'cpu')\n",
    "\n",
    "num_epochs = 50\n",
    "lr = 0.001\n",
    "batch_size = 1\n",
    "\n",
    "num_items = data.item_id_idx.nunique()\n",
    "num_hidden = 500"
   ]
  },
  {
   "cell_type": "code",
   "execution_count": 34,
   "id": "5590df15-498d-453e-b8a0-2a1d321ad8ba",
   "metadata": {},
   "outputs": [],
   "source": [
    "test_dataset = TestBeerDataset(input_df = test_input, ans_df = test_ans)\n",
    "\n",
    "test_dataloader = DataLoader(dataset=test_dataset, batch_size=batch_size, shuffle=False)\n",
    "\n",
    "# test_matrix = test_dataset.inter_mat\n",
    "loss = AutoRec_loss_fn(nn.MSELoss().to(device)).to(device)"
   ]
  },
  {
   "cell_type": "markdown",
   "id": "927a0c6e-626f-499f-9c35-a44f8be81c9e",
   "metadata": {},
   "source": [
    "### inference 수행"
   ]
  },
  {
   "cell_type": "code",
   "execution_count": 35,
   "id": "f079b6e7-fccb-494a-ac5d-bcecab8fcda7",
   "metadata": {},
   "outputs": [
    {
     "name": "stdout",
     "output_type": "stream",
     "text": [
      "test mse = 0.7245696075029318\n"
     ]
    }
   ],
   "source": [
    "# pred_list, answer_list = inference(model, test_dataloader, test_matrix, device, topk=4)\n",
    "# model, test_iter, criterion, device\n",
    "mse = inference(model, test_dataloader, loss, device)"
   ]
  },
  {
   "cell_type": "markdown",
   "id": "4eaa3539-071c-4769-82ff-05d5f4c8ddd3",
   "metadata": {},
   "source": [
    "### 웹사이트 inference"
   ]
  },
  {
   "cell_type": "code",
   "execution_count": 36,
   "id": "d75b8c96-621c-419a-8ae1-9a85fd2153de",
   "metadata": {},
   "outputs": [],
   "source": [
    "kor_beer_list = np.array([ 8666,  75661, 614833, 169964,    251,  10726,   5588,   5571,\n",
    "                        703,   6668,   7656,   2228, 135361,    473,  36249,    709,\n",
    "                        12775, 143730,    742,   4007,  72025,  58275, 221535, 291276,\n",
    "                        2469,   2468, 553454,   1088,    721,  30913,    814,  75071,\n",
    "                        715,   1267,     55,  17334,     37, 493355,  64253,  34662,\n",
    "                        136165, 500620,  13833, 506847,  73158,    399,   5159,   3101,\n",
    "                        315443, 552713, 911382, 906973,    268, 550283, 271470,    390,\n",
    "                        71469,  35424,   4701,   2514,   2516, 288954,    405, 303473,\n",
    "                        136785,    647, 632627,   3029,    717, 553245, 580686, 252000,\n",
    "                        21936, 667837,   2811,    729,  71458, 634182,  86387,   1478,\n",
    "                        146878, 146725, 149060,  15747, 718172,   3126, 480225, 268685,\n",
    "                        730, 211962,  64518, 621308,   7580, 452525,   1417,   1486,\n",
    "                        221])\n",
    "\n",
    "kor_ratebeer = ratebeer[ratebeer['beer_id'].isin(kor_beer_list)]"
   ]
  },
  {
   "cell_type": "code",
   "execution_count": 37,
   "id": "c50ba7ca-75d0-4d9e-9291-e08f0a4ed638",
   "metadata": {},
   "outputs": [
    {
     "data": {
      "text/plain": [
       "count    89498.000000\n",
       "mean         2.760370\n",
       "std          0.944286\n",
       "min          0.500000\n",
       "25%          2.100000\n",
       "50%          2.900000\n",
       "75%          3.500000\n",
       "max          5.000000\n",
       "Name: review_score, dtype: float64"
      ]
     },
     "execution_count": 37,
     "metadata": {},
     "output_type": "execute_result"
    }
   ],
   "source": [
    "kor_ratebeer['review_score'].describe()"
   ]
  },
  {
   "cell_type": "code",
   "execution_count": 38,
   "id": "bdfc9655-e605-4a8c-a1c0-8dfdb424fa16",
   "metadata": {},
   "outputs": [],
   "source": [
    "kor_beer_idx = data[data['item'].isin(kor_beer_list)]['item_id_idx'].unique()"
   ]
  },
  {
   "cell_type": "code",
   "execution_count": 52,
   "id": "69d3bed9-a5ac-4bb8-8651-02ab4c5b2f17",
   "metadata": {},
   "outputs": [
    {
     "name": "stdout",
     "output_type": "stream",
     "text": [
      "[18  6  9 19]\n",
      "[3.416766  3.2703178 3.2682452 3.2589982]\n"
     ]
    }
   ],
   "source": [
    "# 웹사이트 input\n",
    "# x_test = torch.tensor([1.9, 0. , 0. , 1.5, 2.2, 2.1, 3.5, 1.9, 1.4, 3.4, 2.8, 0. , 0. ,\n",
    "#        3.3, 0. , 3.6, 1.7, 1.6, 3.5, 3.8, 2.8, 2.2, 0. , 2.9, 3. , 3. ,\n",
    "#        3.4, 3.3, 0. , 0. , 2. , 2.4, 0. , 1.8, 0. , 2.3, 0. , 0. , 0. ,\n",
    "#        0. , 0. , 0. , 0. , 0. , 0. , 0. , 3.2, 0. , 0. , 0. , 0. , 3. ,\n",
    "#        3.1, 0. , 1.9, 3.7, 2. , 0. , 3.8, 0. , 0. , 0. , 0. , 0. , 0. ,\n",
    "#        0. , 0. , 0. , 0. , 0. , 3. , 1.8, 0. , 0. , 0. , 0. , 0. , 0. ,\n",
    "#        0. , 0. , 0. ]).to(device)\n",
    "\n",
    "num_item = data['item'].nunique()\n",
    "\n",
    "# 한국 맥주 평가\n",
    "rating_list = [5.0, 2.76, 0.5] # 좋아요, 몰라요, 싫어요\n",
    "kor_beer_idx = data[data['item'].isin(kor_beer_list)]['item_id_idx'].unique()\n",
    "show_list = np.random.choice(kor_beer_idx, 29, replace=False) # 임의로 29개 추출\n",
    "not_show_list = set(kor_beer_idx) - set(show_list)\n",
    "x_test = torch.zeros(num_item).to(device) # 0으로 초기화\n",
    "\n",
    "for beer in show_list:\n",
    "    x_test[beer] = random.choice(rating_list) # 29개에 대해서 임의로 평가\n",
    "    \n",
    "# for beer in not_show_list:\n",
    "#     x_test[beer] = rating_list[1] # 나머지는 몰라요로 배정\n",
    "    \n",
    "# show_df = data[data['item_id_idx'].isin(show_list)]\n",
    "\n",
    "# 나머지 맥주 중 일부 평가\n",
    "not_kor_rating_list = [5.0, 3.36, 0.5]\n",
    "not_kor_idx = np.delete(np.arange(num_item), kor_beer_idx)\n",
    "not_kor_choice = np.random.randint(int(len(not_kor_idx) * 0.3))\n",
    "not_kor_list = np.random.choice(not_kor_idx, not_kor_choice , replace=False) \n",
    "\n",
    "for beer in not_kor_list:\n",
    "    x_test[beer] = random.choice(not_kor_rating_list)\n",
    "\n",
    "# for i in not_show_list:\n",
    "#     style = data[data['item_id_idx'] == i]['label'].unique()[0]\n",
    "#     rating = show_df[show_df['label'] == style]['rating'].mean()\n",
    "    \n",
    "#     if np.isnan(rating):\n",
    "#         rating = rating_list[1] # style로 점수를 채울 수 없는 경우 몰라요로 채운다\n",
    "#     x_test[i] = rating\n",
    "#     # print(rating)\n",
    "\n",
    "# 추천 맥주 개수\n",
    "topk = 4\n",
    "\n",
    "# 모델 에측 맥주 평점\n",
    "rating_pred = model(x_test)\n",
    "\n",
    "rating_pred = rating_pred.cpu().data.numpy().copy()\n",
    "# print(rating_pred)\n",
    "\n",
    "rating_pred = rating_pred[kor_beer_idx]\n",
    "x_test = x_test[kor_beer_idx]\n",
    "# batch_user_index = user_ids.cpu().numpy()\n",
    "\n",
    "\n",
    "answers = x_test.cpu().numpy().argsort()[-topk:][::-1]\n",
    "# print(answers)\n",
    "\n",
    "# user가 리뷰를 남긴 맥주 추천하고 싶지 않을 때 사용\n",
    "\n",
    "# if novelty:\n",
    "# 좋아요, 싫어요로 직접 평가한 맥주는 다시 추천하지 않도록 설정\n",
    "rating_pred[x_test.cpu().numpy() == rating_list[0]] = 0\n",
    "rating_pred[x_test.cpu().numpy() == rating_list[2]] = 0\n",
    "# print(rating_pred)\n",
    "\n",
    "# topk 맥주 index\n",
    "ind = np.argpartition(rating_pred, -topk)[-topk:]\n",
    "# print(ind)\n",
    "\n",
    "# topk 맥주 index별 평점\n",
    "arr_ind = rating_pred[ind]\n",
    "# print(arr_ind)\n",
    "\n",
    "# 평점 기준으로 내림차순으로 정렬\n",
    "arr_ind_argsort = np.argsort(arr_ind)[::-1]\n",
    "# print(arr_ind_argsort)\n",
    "\n",
    "# rating 내림차순 모델 예측 topk 맥주 index \n",
    "topk_pred_list = ind[arr_ind_argsort]\n",
    "print(topk_pred_list)\n",
    "\n",
    "# rating 내림차순 모델 예측 맥주 평점 중 topk개\n",
    "topk_rating_list = rating_pred[topk_pred_list] #rating_pred[np.arange(len(rating_pred))[:, None], ind]\n",
    "print(topk_rating_list)"
   ]
  },
  {
   "cell_type": "code",
   "execution_count": 53,
   "id": "3bc6f34e-9951-4feb-8035-722319024bc9",
   "metadata": {},
   "outputs": [
    {
     "data": {
      "text/plain": [
       "array([18,  6,  9, 19])"
      ]
     },
     "execution_count": 53,
     "metadata": {},
     "output_type": "execute_result"
    }
   ],
   "source": [
    "# 모델 예측 선호 맥주 top4\n",
    "topk_pred_list"
   ]
  },
  {
   "cell_type": "code",
   "execution_count": 54,
   "id": "11f57e89-f6fd-4a3d-a989-4b2b229768e3",
   "metadata": {},
   "outputs": [
    {
     "data": {
      "text/plain": [
       "array([27, 49, 56, 76])"
      ]
     },
     "execution_count": 54,
     "metadata": {},
     "output_type": "execute_result"
    }
   ],
   "source": [
    "# 유저 실제 선호 맥주 top4\n",
    "answers"
   ]
  },
  {
   "cell_type": "code",
   "execution_count": 55,
   "id": "b30f5bdb-4698-47b6-8246-bba8660ac7fc",
   "metadata": {},
   "outputs": [
    {
     "data": {
      "text/plain": [
       "array([3.416766 , 3.2703178, 3.2682452, 3.2589982], dtype=float32)"
      ]
     },
     "execution_count": 55,
     "metadata": {},
     "output_type": "execute_result"
    }
   ],
   "source": [
    "rating_pred[topk_pred_list]"
   ]
  },
  {
   "cell_type": "code",
   "execution_count": 56,
   "id": "ff0240f1-a8af-4232-9094-422768412b90",
   "metadata": {},
   "outputs": [
    {
     "name": "stdout",
     "output_type": "stream",
     "text": [
      "good\n",
      "[0.0, 0.0, 0.0, 0.0, 0.0, 0.0, 0.0]\n",
      "\n",
      "unknown\n",
      "[3.416766, 3.2703178, 3.2589982, 3.1011105, 2.7217038, 2.5470698, 2.3598585, 2.3385963, 2.2435734, 2.0498514, 2.0451856, 1.9319882, 1.5421729]\n",
      "\n",
      "bad\n",
      "[0.0, 0.0, 0.0, 0.0, 0.0, 0.0, 0.0, 0.0, 0.0]\n",
      "\n"
     ]
    }
   ],
   "source": [
    "label_list = ['good', 'unknown', 'bad']\n",
    "\n",
    "for i, rating in enumerate(rating_list):\n",
    "    print(label_list[i])\n",
    "    print(list(sorted([rating_pred[i] for i in np.where(x_test.cpu().numpy() == rating)[0]], reverse=True)))\n",
    "    print()"
   ]
  },
  {
   "cell_type": "code",
   "execution_count": 57,
   "id": "e557d852-5b65-4b47-be97-e3184535d82b",
   "metadata": {},
   "outputs": [
    {
     "data": {
      "image/png": "[encoded data removed]",
      "text/plain": [
       "<Figure size 720x360 with 1 Axes>"
      ]
     },
     "metadata": {
      "needs_background": "light"
     },
     "output_type": "display_data"
    }
   ],
   "source": [
    "label_list = ['good', 'unknown', 'bad']\n",
    "\n",
    "fig, ax = plt.subplots(1, 1, figsize=(10, 5))\n",
    "\n",
    "for i, rating in enumerate(rating_list):\n",
    "    \n",
    "    ax = sns.kdeplot(sorted([rating_pred[i] for i in np.where(x_test.cpu().numpy() == rating)[0]], reverse=True), label = label_list[i], fill = True)\n",
    "\n",
    "plt.legend()\n",
    "plt.show()"
   ]
  },
  {
   "cell_type": "code",
   "execution_count": 58,
   "id": "bcbf81ba-6bde-4716-bd16-706bd7c7633c",
   "metadata": {},
   "outputs": [
    {
     "data": {
      "text/plain": [
       "<AxesSubplot:ylabel='Count'>"
      ]
     },
     "execution_count": 58,
     "metadata": {},
     "output_type": "execute_result"
    },
    {
     "data": {
      "image/png": "[encoded data removed]",
      "text/plain": [
       "<Figure size 432x288 with 1 Axes>"
      ]
     },
     "metadata": {
      "needs_background": "light"
     },
     "output_type": "display_data"
    }
   ],
   "source": [
    "sns.histplot(x_test.cpu().numpy(), bins = 10)"
   ]
  },
  {
   "cell_type": "code",
   "execution_count": 59,
   "id": "c65b32b9-bebf-42ac-9fec-e992862357db",
   "metadata": {},
   "outputs": [
    {
     "data": {
      "text/plain": [
       "<AxesSubplot:ylabel='Count'>"
      ]
     },
     "execution_count": 59,
     "metadata": {},
     "output_type": "execute_result"
    },
    {
     "data": {
      "image/png": "[encoded data removed]",
      "text/plain": [
       "<Figure size 432x288 with 1 Axes>"
      ]
     },
     "metadata": {
      "needs_background": "light"
     },
     "output_type": "display_data"
    }
   ],
   "source": [
    "sns.histplot(rating_pred)"
   ]
  },
  {
   "cell_type": "code",
   "execution_count": 60,
   "id": "b6f3abd2-16da-4e7d-8d4c-d55bca913da1",
   "metadata": {},
   "outputs": [
    {
     "data": {
      "text/plain": [
       "array([2.047485 , 2.9925442, 2.3088334, 2.0404248, 2.0498514, 3.0129635,\n",
       "       3.2703178, 1.4554367, 1.3688322, 3.2682452, 2.4375732, 2.161606 ,\n",
       "       2.4110057, 3.18344  , 2.4404755, 2.0451856, 2.1636817, 1.5421729,\n",
       "       3.416766 , 3.2589982, 2.4445233, 2.528792 , 2.3598585, 0.       ,\n",
       "       2.3385963, 0.       , 2.7511876, 0.       , 3.1011105, 0.       ,\n",
       "       0.       , 2.5868766, 2.0925598, 2.1089776, 2.2382212, 0.       ,\n",
       "       2.5923111, 0.       , 0.       , 2.2435734, 2.1556284, 2.10437  ,\n",
       "       2.0912876, 2.961918 , 3.0323355, 2.7217038, 3.1058424, 1.7950395,\n",
       "       2.5470698, 0.       , 2.5710516, 1.9768884, 3.0255919, 2.8011315,\n",
       "       0.       , 2.4104464, 0.       , 2.6271226, 1.9694874, 0.       ,\n",
       "       0.       , 2.165319 , 2.5583687, 0.       , 1.9619943, 2.0324445,\n",
       "       2.774293 , 2.8785849, 1.9319882, 2.7717268, 1.805103 , 2.6670587,\n",
       "       2.2569425, 2.2277644, 2.9973342, 1.3681163, 0.       , 2.8818018,\n",
       "       2.704384 , 2.6635518, 2.1370914, 0.       , 2.3337536],\n",
       "      dtype=float32)"
      ]
     },
     "execution_count": 60,
     "metadata": {},
     "output_type": "execute_result"
    }
   ],
   "source": [
    "# 모델 예측 rating 점수\n",
    "rating_pred"
   ]
  },
  {
   "cell_type": "code",
   "execution_count": 61,
   "id": "c1f9edd6-a542-4479-9be5-6348791a9ef1",
   "metadata": {},
   "outputs": [
    {
     "data": {
      "text/plain": [
       "tensor([0.0000, 0.0000, 0.0000, 0.0000, 2.7600, 0.0000, 2.7600, 0.0000, 0.0000,\n",
       "        0.0000, 0.0000, 0.0000, 0.0000, 0.0000, 0.0000, 2.7600, 0.0000, 2.7600,\n",
       "        2.7600, 2.7600, 0.0000, 0.0000, 2.7600, 5.0000, 2.7600, 5.0000, 0.0000,\n",
       "        5.0000, 2.7600, 0.5000, 0.5000, 0.0000, 0.0000, 0.0000, 0.0000, 0.5000,\n",
       "        0.0000, 0.5000, 0.5000, 2.7600, 0.0000, 0.0000, 0.0000, 0.0000, 0.0000,\n",
       "        2.7600, 0.0000, 0.0000, 2.7600, 5.0000, 0.0000, 0.0000, 0.0000, 0.0000,\n",
       "        0.5000, 0.0000, 5.0000, 0.0000, 0.0000, 0.5000, 5.0000, 0.0000, 0.0000,\n",
       "        0.5000, 0.0000, 0.0000, 0.0000, 0.0000, 2.7600, 0.0000, 0.0000, 0.0000,\n",
       "        0.0000, 0.0000, 0.0000, 0.0000, 5.0000, 0.0000, 0.0000, 0.0000, 0.0000,\n",
       "        0.5000, 0.0000], device='cuda:0')"
      ]
     },
     "execution_count": 61,
     "metadata": {},
     "output_type": "execute_result"
    }
   ],
   "source": [
    "x_test"
   ]
  },
  {
   "cell_type": "code",
   "execution_count": 62,
   "id": "ad5e0207-b8de-469b-8326-d857ca34f03d",
   "metadata": {},
   "outputs": [
    {
     "data": {
      "text/plain": [
       "array([  23,   37,  132,  148,  159,  201,  205,  210,  258,  364,  405,\n",
       "        410,  414,  415,  417,  419,  420,  432,  450,  553,  673, 6651,\n",
       "        692,  695, 9329, 4851,  866,  981,  982, 1001, 1003, 4887, 1078,\n",
       "       1128, 1144, 1147, 4925, 1339, 9039, 1503, 1612, 1697, 1705, 9073,\n",
       "       6653, 9319, 6687, 9323, 1945, 2170, 6741, 2186,  612, 6814, 9334,\n",
       "       6836, 2835, 9335, 6283, 9330, 9320, 9235, 3546, 9238, 3722, 9254,\n",
       "       4665, 9326, 7342, 9328, 4051, 9322, 9321, 9332, 6012, 9327, 9324,\n",
       "       9331, 9325, 9333, 6277, 3338, 2422])"
      ]
     },
     "execution_count": 62,
     "metadata": {},
     "output_type": "execute_result"
    }
   ],
   "source": [
    "kor_beer_idx"
   ]
  },
  {
   "cell_type": "code",
   "execution_count": 63,
   "id": "023d5a6a-a58b-4e8a-b944-f7f607f7c4cb",
   "metadata": {},
   "outputs": [
    {
     "data": {
      "text/plain": [
       "array(['https://res.cloudinary.com/ratebeer/image/upload/w_400,c_limit,d_Default_Beer_qqrv7k.png,f_auto/beer_399',\n",
       "       'https://res.cloudinary.com/ratebeer/image/upload/w_400,c_limit,d_Default_Beer_qqrv7k.png,f_auto/beer_647',\n",
       "       'https://res.cloudinary.com/ratebeer/image/upload/w_400,c_limit,d_Default_Beer_qqrv7k.png,f_auto/beer_814',\n",
       "       'https://res.cloudinary.com/ratebeer/image/upload/w_400,c_limit,d_Default_Beer_qqrv7k.png,f_auto/beer_1088'],\n",
       "      dtype=object)"
      ]
     },
     "execution_count": 63,
     "metadata": {},
     "output_type": "execute_result"
    }
   ],
   "source": [
    "# image url\n",
    "data[data['item_id_idx'].isin(kor_beer_idx[topk_pred_list])]['image_url'].unique()"
   ]
  },
  {
   "cell_type": "code",
   "execution_count": 64,
   "id": "468b0d25-c614-467e-ab62-63a9b586169e",
   "metadata": {},
   "outputs": [
    {
     "data": {
      "text/plain": [
       "array([ 399,  647,  814, 1088])"
      ]
     },
     "execution_count": 64,
     "metadata": {},
     "output_type": "execute_result"
    }
   ],
   "source": [
    "# 맥주 이름\n",
    "data[data['item_id_idx'].isin(kor_beer_idx[topk_pred_list])]['item'].unique()"
   ]
  },
  {
   "cell_type": "markdown",
   "id": "2696b346-a8d0-43eb-b0c2-270dad50c4d4",
   "metadata": {},
   "source": [
    "### 평가지표 점수"
   ]
  },
  {
   "cell_type": "code",
   "execution_count": 141,
   "id": "4e81f064-cf8e-4188-bcd0-905ef1d81419",
   "metadata": {},
   "outputs": [],
   "source": [
    "def ndcg_k_inf(actual, predicted, topk):\n",
    "    res = 0\n",
    "    k = min(topk, len(actual))\n",
    "    idcg = idcg_k(k)\n",
    "    dcg_k = sum(\n",
    "        [\n",
    "            int(predicted[j] in set(actual)) / math.log(j + 2, 2)\n",
    "            for j in range(topk)\n",
    "        ]\n",
    "    )\n",
    "    res += dcg_k / idcg\n",
    "    return res / float(len(actual))\n",
    "\n",
    "# Calculates the ideal discounted cumulative gain at k\n",
    "def idcg_k(k):\n",
    "    res = sum([1.0 / math.log(i + 2, 2) for i in range(k)])\n",
    "    if not res:\n",
    "        return 1.0\n",
    "    else:\n",
    "        return res\n",
    "\n",
    "def recall_at_k_inf(actual, predicted, topk):\n",
    "    act_set = set(actual)\n",
    "    pred_set = set(predicted[:topk])\n",
    "    if len(act_set) != 0:\n",
    "        sum_recall = len(act_set & pred_set) / float(len(act_set))\n",
    "        \n",
    "    return sum_recall"
   ]
  },
  {
   "cell_type": "code",
   "execution_count": 142,
   "id": "6ceded6d-5fd8-4038-844c-918bdf15c77f",
   "metadata": {},
   "outputs": [
    {
     "data": {
      "text/plain": [
       "0.0"
      ]
     },
     "execution_count": 142,
     "metadata": {},
     "output_type": "execute_result"
    }
   ],
   "source": [
    "recall_at_k_inf(answers, topk_pred_list, 4)"
   ]
  },
  {
   "cell_type": "code",
   "execution_count": 143,
   "id": "f9b9cb9a-5b0f-4477-9a7e-8a8caa35a1c0",
   "metadata": {},
   "outputs": [
    {
     "data": {
      "text/plain": [
       "0.0"
      ]
     },
     "execution_count": 143,
     "metadata": {},
     "output_type": "execute_result"
    }
   ],
   "source": [
    "ndcg_k_inf(answers, topk_pred_list, 4)"
   ]
  },
  {
   "cell_type": "code",
   "execution_count": 144,
   "id": "6d8a63f7-b824-4a2b-95fc-d0eee870e298",
   "metadata": {},
   "outputs": [
    {
     "data": {
      "text/html": [
       "<div>\n",
       "<style scoped>\n",
       "    .dataframe tbody tr th:only-of-type {\n",
       "        vertical-align: middle;\n",
       "    }\n",
       "\n",
       "    .dataframe tbody tr th {\n",
       "        vertical-align: top;\n",
       "    }\n",
       "\n",
       "    .dataframe thead th {\n",
       "        text-align: right;\n",
       "    }\n",
       "</style>\n",
       "<table border=\"1\" class=\"dataframe\">\n",
       "  <thead>\n",
       "    <tr style=\"text-align: right;\">\n",
       "      <th></th>\n",
       "      <th>item</th>\n",
       "      <th>user</th>\n",
       "      <th>rating</th>\n",
       "      <th>imageUrl</th>\n",
       "      <th>user/reviewcount</th>\n",
       "      <th>user_id_idx</th>\n",
       "      <th>item_id_idx</th>\n",
       "    </tr>\n",
       "  </thead>\n",
       "  <tbody>\n",
       "    <tr>\n",
       "      <th>0</th>\n",
       "      <td>75661</td>\n",
       "      <td>Grzesiek79</td>\n",
       "      <td>1.3</td>\n",
       "      <td>https://res.cloudinary.com/ratebeer/image/uplo...</td>\n",
       "      <td>55</td>\n",
       "      <td>3051</td>\n",
       "      <td>56</td>\n",
       "    </tr>\n",
       "    <tr>\n",
       "      <th>1</th>\n",
       "      <td>75661</td>\n",
       "      <td>GriZZZly</td>\n",
       "      <td>2.7</td>\n",
       "      <td>https://res.cloudinary.com/ratebeer/image/uplo...</td>\n",
       "      <td>13</td>\n",
       "      <td>3028</td>\n",
       "      <td>56</td>\n",
       "    </tr>\n",
       "    <tr>\n",
       "      <th>2</th>\n",
       "      <td>75661</td>\n",
       "      <td>bdleedahl</td>\n",
       "      <td>3.3</td>\n",
       "      <td>https://res.cloudinary.com/ratebeer/image/uplo...</td>\n",
       "      <td>31</td>\n",
       "      <td>8450</td>\n",
       "      <td>56</td>\n",
       "    </tr>\n",
       "    <tr>\n",
       "      <th>3</th>\n",
       "      <td>75661</td>\n",
       "      <td>DoctorHU</td>\n",
       "      <td>2.6</td>\n",
       "      <td>https://res.cloudinary.com/ratebeer/image/uplo...</td>\n",
       "      <td>48</td>\n",
       "      <td>2153</td>\n",
       "      <td>56</td>\n",
       "    </tr>\n",
       "    <tr>\n",
       "      <th>4</th>\n",
       "      <td>75661</td>\n",
       "      <td>McTapps</td>\n",
       "      <td>2.5</td>\n",
       "      <td>https://res.cloudinary.com/ratebeer/image/uplo...</td>\n",
       "      <td>49</td>\n",
       "      <td>4783</td>\n",
       "      <td>56</td>\n",
       "    </tr>\n",
       "    <tr>\n",
       "      <th>...</th>\n",
       "      <td>...</td>\n",
       "      <td>...</td>\n",
       "      <td>...</td>\n",
       "      <td>...</td>\n",
       "      <td>...</td>\n",
       "      <td>...</td>\n",
       "      <td>...</td>\n",
       "    </tr>\n",
       "    <tr>\n",
       "      <th>93615</th>\n",
       "      <td>703</td>\n",
       "      <td>Bov</td>\n",
       "      <td>3.0</td>\n",
       "      <td>https://res.cloudinary.com/ratebeer/image/uplo...</td>\n",
       "      <td>46</td>\n",
       "      <td>1215</td>\n",
       "      <td>10</td>\n",
       "    </tr>\n",
       "    <tr>\n",
       "      <th>93616</th>\n",
       "      <td>703</td>\n",
       "      <td>sallyclub99</td>\n",
       "      <td>4.2</td>\n",
       "      <td>https://res.cloudinary.com/ratebeer/image/uplo...</td>\n",
       "      <td>7</td>\n",
       "      <td>15196</td>\n",
       "      <td>10</td>\n",
       "    </tr>\n",
       "    <tr>\n",
       "      <th>93617</th>\n",
       "      <td>703</td>\n",
       "      <td>kublai3</td>\n",
       "      <td>2.7</td>\n",
       "      <td>https://res.cloudinary.com/ratebeer/image/uplo...</td>\n",
       "      <td>6</td>\n",
       "      <td>12689</td>\n",
       "      <td>10</td>\n",
       "    </tr>\n",
       "    <tr>\n",
       "      <th>93618</th>\n",
       "      <td>703</td>\n",
       "      <td>Aubrey</td>\n",
       "      <td>3.3</td>\n",
       "      <td>https://res.cloudinary.com/ratebeer/image/uplo...</td>\n",
       "      <td>23</td>\n",
       "      <td>520</td>\n",
       "      <td>10</td>\n",
       "    </tr>\n",
       "    <tr>\n",
       "      <th>93619</th>\n",
       "      <td>703</td>\n",
       "      <td>roland</td>\n",
       "      <td>3.3</td>\n",
       "      <td>https://res.cloudinary.com/ratebeer/image/uplo...</td>\n",
       "      <td>5</td>\n",
       "      <td>15050</td>\n",
       "      <td>10</td>\n",
       "    </tr>\n",
       "  </tbody>\n",
       "</table>\n",
       "<p>93620 rows × 7 columns</p>\n",
       "</div>"
      ],
      "text/plain": [
       "        item         user  rating  \\\n",
       "0      75661   Grzesiek79     1.3   \n",
       "1      75661     GriZZZly     2.7   \n",
       "2      75661    bdleedahl     3.3   \n",
       "3      75661     DoctorHU     2.6   \n",
       "4      75661      McTapps     2.5   \n",
       "...      ...          ...     ...   \n",
       "93615    703          Bov     3.0   \n",
       "93616    703  sallyclub99     4.2   \n",
       "93617    703      kublai3     2.7   \n",
       "93618    703       Aubrey     3.3   \n",
       "93619    703       roland     3.3   \n",
       "\n",
       "                                                imageUrl  user/reviewcount  \\\n",
       "0      https://res.cloudinary.com/ratebeer/image/uplo...                55   \n",
       "1      https://res.cloudinary.com/ratebeer/image/uplo...                13   \n",
       "2      https://res.cloudinary.com/ratebeer/image/uplo...                31   \n",
       "3      https://res.cloudinary.com/ratebeer/image/uplo...                48   \n",
       "4      https://res.cloudinary.com/ratebeer/image/uplo...                49   \n",
       "...                                                  ...               ...   \n",
       "93615  https://res.cloudinary.com/ratebeer/image/uplo...                46   \n",
       "93616  https://res.cloudinary.com/ratebeer/image/uplo...                 7   \n",
       "93617  https://res.cloudinary.com/ratebeer/image/uplo...                 6   \n",
       "93618  https://res.cloudinary.com/ratebeer/image/uplo...                23   \n",
       "93619  https://res.cloudinary.com/ratebeer/image/uplo...                 5   \n",
       "\n",
       "       user_id_idx  item_id_idx  \n",
       "0             3051           56  \n",
       "1             3028           56  \n",
       "2             8450           56  \n",
       "3             2153           56  \n",
       "4             4783           56  \n",
       "...            ...          ...  \n",
       "93615         1215           10  \n",
       "93616        15196           10  \n",
       "93617        12689           10  \n",
       "93618          520           10  \n",
       "93619        15050           10  \n",
       "\n",
       "[93620 rows x 7 columns]"
      ]
     },
     "execution_count": 144,
     "metadata": {},
     "output_type": "execute_result"
    }
   ],
   "source": [
    "data"
   ]
  },
  {
   "cell_type": "code",
   "execution_count": 40,
   "id": "454bb394-0e01-4e4e-803e-818850a8f3f1",
   "metadata": {},
   "outputs": [],
   "source": [
    "data.to_csv('../data/ratebeer_label_encoding.csv', index = False)"
   ]
  },
  {
   "cell_type": "code",
   "execution_count": null,
   "id": "7dab0412-aed7-4653-898d-4b0850302492",
   "metadata": {},
   "outputs": [],
   "source": []
  }
 ],
 "metadata": {
  "kernelspec": {
   "display_name": "beer",
   "language": "python",
   "name": "beer"
  },
  "language_info": {
   "codemirror_mode": {
    "name": "ipython",
    "version": 3
   },
   "file_extension": ".py",
   "mimetype": "text/x-python",
   "name": "python",
   "nbconvert_exporter": "python",
   "pygments_lexer": "ipython3",
   "version": "3.8.13"
  }
 },
 "nbformat": 4,
 "nbformat_minor": 5
}
