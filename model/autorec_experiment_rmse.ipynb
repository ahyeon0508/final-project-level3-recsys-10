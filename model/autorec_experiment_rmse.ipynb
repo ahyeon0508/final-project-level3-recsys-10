{
 "cells": [
  {
   "cell_type": "code",
   "execution_count": 1,
   "id": "29bcbd9c-2b94-4940-ac5e-cc1bf18cb2cd",
   "metadata": {},
   "outputs": [
    {
     "name": "stderr",
     "output_type": "stream",
     "text": [
      "/opt/conda/envs/beer/lib/python3.8/site-packages/tqdm/auto.py:22: TqdmWarning: IProgress not found. Please update jupyter and ipywidgets. See https://ipywidgets.readthedocs.io/en/stable/user_install.html\n",
      "  from .autonotebook import tqdm as notebook_tqdm\n"
     ]
    }
   ],
   "source": [
    "import torch\n",
    "import torch.nn as nn\n",
    "import torch.optim as optim\n",
    "from torch.utils.data import DataLoader, Dataset\n",
    "\n",
    "import pandas as pd\n",
    "import numpy as np\n",
    "import matplotlib.pyplot as plt\n",
    "import random\n",
    "import math\n",
    "import seaborn as sns\n",
    "import os\n",
    "from tqdm import tqdm\n",
    "\n",
    "%matplotlib inline\n",
    "\n",
    "from sklearn.model_selection import train_test_split\n",
    "from sklearn.preprocessing import LabelEncoder\n",
    "\n",
    "import warnings\n",
    "warnings.filterwarnings(action='ignore')"
   ]
  },
  {
   "cell_type": "code",
   "execution_count": 183,
   "id": "90d2ee43-87cc-49c4-875f-6bd41ad3e813",
   "metadata": {},
   "outputs": [
    {
     "data": {
      "text/plain": [
       "99.63613885167887"
      ]
     },
     "execution_count": 183,
     "metadata": {},
     "output_type": "execute_result"
    }
   ],
   "source": [
    "data_len = 10 * 1000000\n",
    "num_users = 136677\n",
    "num_items = 20108\n",
    "\n",
    "sparsity = (1 - data_len / (num_users * num_items)) * 100\n",
    "sparsity"
   ]
  },
  {
   "cell_type": "markdown",
   "id": "5510b252-7581-4003-9389-f51ab4fb842b",
   "metadata": {},
   "source": [
    "## dataset"
   ]
  },
  {
   "cell_type": "code",
   "execution_count": 2,
   "id": "860cc5ff-db1f-4de7-9705-a8cfc2a785cb",
   "metadata": {},
   "outputs": [],
   "source": [
    "ratebeer = pd.read_csv(\"../data/train_ratebeer_without_text.csv\")"
   ]
  },
  {
   "cell_type": "code",
   "execution_count": 66,
   "id": "ef3c6dfc-7ca7-4943-89b6-dec7ff2ac8ce",
   "metadata": {},
   "outputs": [],
   "source": [
    "# ratebeer = pd.read_json(\"../data/ratebeer_korea.json\")"
   ]
  },
  {
   "cell_type": "markdown",
   "id": "b55de8f7-7af3-4431-9d13-0ba50b558d9b",
   "metadata": {},
   "source": [
    "### 데이터 전처리"
   ]
  },
  {
   "cell_type": "code",
   "execution_count": 2,
   "id": "5cf71be9-da4c-48fe-b0cc-d3204b44aa64",
   "metadata": {},
   "outputs": [],
   "source": [
    "# data_dir = \"../data\"\n",
    "# # preprocessed_output_dir = \"../data/train\"\n",
    "# ratebeer = pd.read_json(os.path.join(data_dir, \"raw_ratebeer.json\"))"
   ]
  },
  {
   "cell_type": "markdown",
   "id": "1fd28712-9be8-40ad-a864-d5dba170944e",
   "metadata": {},
   "source": [
    "### 1. 결측치 제거 (label) reviewscore, beer_id NaN 제거"
   ]
  },
  {
   "cell_type": "code",
   "execution_count": 3,
   "id": "391177f4-b12f-4209-88bb-95ea98d39210",
   "metadata": {},
   "outputs": [
    {
     "name": "stdout",
     "output_type": "stream",
     "text": [
      "28\n"
     ]
    }
   ],
   "source": [
    "# # reviewscore\n",
    "# print(ratebeer.reviewscore.isna().sum())\n",
    "\n",
    "# # 인덱스 초기화\n",
    "# ratebeer = ratebeer[~ratebeer.reviewscore.isna()]\n",
    "# ratebeer.index = range(len(ratebeer))"
   ]
  },
  {
   "cell_type": "code",
   "execution_count": 4,
   "id": "cb4659b8-8cd1-4f85-9817-c1ceeb2d5ae2",
   "metadata": {},
   "outputs": [
    {
     "name": "stdout",
     "output_type": "stream",
     "text": [
      "779\n"
     ]
    }
   ],
   "source": [
    "# # reviewscore\n",
    "# print(ratebeer.beer_id.isna().sum())\n",
    "\n",
    "# # 인덱스 초기화\n",
    "# ratebeer = ratebeer[~ratebeer.beer_id.isna()]\n",
    "# ratebeer.index = range(len(ratebeer))"
   ]
  },
  {
   "cell_type": "markdown",
   "id": "f5b520d2-b579-4c08-a69a-08ede4ea01ea",
   "metadata": {},
   "source": [
    "### 2. 리뷰 개수가 10개 미만인 유저 제거"
   ]
  },
  {
   "cell_type": "code",
   "execution_count": 5,
   "id": "6e5c6d09-f9a7-49d9-9058-a8590a263bd2",
   "metadata": {},
   "outputs": [],
   "source": [
    "# # 리뷰 개수 10개 이상인 유저 리스트\n",
    "# over10user_list = (ratebeer[\"profile_name\"].value_counts() >= 10).where(lambda x: x == True).dropna().index.tolist()\n",
    "\n",
    "# # 리뷰 개수 10개 이상인 유저 리스트를 받아와서 해당 유저들로만 구성된 데이터셋으로 업데이트\n",
    "# ratebeer = ratebeer[ratebeer[\"profile_name\"].isin(over10user_list)]\n",
    "\n",
    "# # 인덱스 초기화\n",
    "# ratebeer = ratebeer[~ratebeer.reviewscore.isna()]\n",
    "# ratebeer.index = range(len(ratebeer))"
   ]
  },
  {
   "cell_type": "markdown",
   "id": "66636504-026c-4aa0-8ef3-804b297cc5c1",
   "metadata": {},
   "source": [
    "### 3. user_id 등록"
   ]
  },
  {
   "cell_type": "code",
   "execution_count": 6,
   "id": "47f23358-3fef-4b8a-b06a-4755bd2ae855",
   "metadata": {},
   "outputs": [
    {
     "name": "stdout",
     "output_type": "stream",
     "text": [
      "n_user= 14,701\n"
     ]
    }
   ],
   "source": [
    "# n_user = ratebeer.profile_name.nunique()\n",
    "# print(f\"n_user= {n_user:,}\")"
   ]
  },
  {
   "cell_type": "code",
   "execution_count": 7,
   "id": "128e1701-7d3e-4db7-8888-b1055df8c09d",
   "metadata": {},
   "outputs": [
    {
     "data": {
      "text/html": [
       "<div>\n",
       "<style scoped>\n",
       "    .dataframe tbody tr th:only-of-type {\n",
       "        vertical-align: middle;\n",
       "    }\n",
       "\n",
       "    .dataframe tbody tr th {\n",
       "        vertical-align: top;\n",
       "    }\n",
       "\n",
       "    .dataframe thead th {\n",
       "        text-align: right;\n",
       "    }\n",
       "</style>\n",
       "<table border=\"1\" class=\"dataframe\">\n",
       "  <thead>\n",
       "    <tr style=\"text-align: right;\">\n",
       "      <th></th>\n",
       "      <th>reviewscore</th>\n",
       "      <th>reviewtime</th>\n",
       "      <th>reviewtext</th>\n",
       "      <th>appearance</th>\n",
       "      <th>aroma</th>\n",
       "      <th>palate</th>\n",
       "      <th>taste</th>\n",
       "      <th>overall</th>\n",
       "      <th>profile_name</th>\n",
       "      <th>beer_name</th>\n",
       "      <th>beer_id</th>\n",
       "      <th>brewer_id</th>\n",
       "      <th>abv</th>\n",
       "      <th>style</th>\n",
       "      <th>image_url</th>\n",
       "      <th>user_id</th>\n",
       "    </tr>\n",
       "  </thead>\n",
       "  <tbody>\n",
       "    <tr>\n",
       "      <th>0</th>\n",
       "      <td>3.9</td>\n",
       "      <td>2022-05-15T17:26:51.803Z</td>\n",
       "      <td>Tap at Fermentoren CPH. Poured a hazy golden c...</td>\n",
       "      <td>3.0</td>\n",
       "      <td>8.0</td>\n",
       "      <td>4.0</td>\n",
       "      <td>8.0</td>\n",
       "      <td>16.0</td>\n",
       "      <td>jmgreenuk</td>\n",
       "      <td>Hill Farmstead Arthur</td>\n",
       "      <td>131594.0</td>\n",
       "      <td>11233.0</td>\n",
       "      <td>6.0</td>\n",
       "      <td>Saison / Farmhouse / Grisette</td>\n",
       "      <td>https://res.cloudinary.com/ratebeer/image/uplo...</td>\n",
       "      <td>0</td>\n",
       "    </tr>\n",
       "  </tbody>\n",
       "</table>\n",
       "</div>"
      ],
      "text/plain": [
       "   reviewscore                reviewtime  \\\n",
       "0          3.9  2022-05-15T17:26:51.803Z   \n",
       "\n",
       "                                          reviewtext  appearance  aroma  \\\n",
       "0  Tap at Fermentoren CPH. Poured a hazy golden c...         3.0    8.0   \n",
       "\n",
       "   palate  taste  overall profile_name              beer_name   beer_id  \\\n",
       "0     4.0    8.0     16.0    jmgreenuk  Hill Farmstead Arthur  131594.0   \n",
       "\n",
       "   brewer_id  abv                          style  \\\n",
       "0    11233.0  6.0  Saison / Farmhouse / Grisette   \n",
       "\n",
       "                                           image_url  user_id  \n",
       "0  https://res.cloudinary.com/ratebeer/image/uplo...        0  "
      ]
     },
     "execution_count": 7,
     "metadata": {},
     "output_type": "execute_result"
    }
   ],
   "source": [
    "# profile_name2idx = {profile_name:user_id for user_id, profile_name in enumerate(ratebeer.profile_name.unique())}\n",
    "# ratebeer[\"user_id\"] = [profile_name2idx[profile_name] for profile_name in ratebeer.profile_name]\n",
    "\n",
    "# ratebeer.head(1)"
   ]
  },
  {
   "cell_type": "markdown",
   "id": "3efc9b94-e494-4f3c-9f97-68fd243576ae",
   "metadata": {},
   "source": [
    "### 4. type 정정"
   ]
  },
  {
   "cell_type": "code",
   "execution_count": 8,
   "id": "b5831094-14cc-4af1-bed1-c866c819a38b",
   "metadata": {},
   "outputs": [],
   "source": [
    "# ratebeer[\"beer_id\"] = ratebeer[\"beer_id\"].astype(int)\n",
    "# ratebeer[\"brewer_id\"] = ratebeer[\"brewer_id\"].astype(int)\n",
    "# ratebeer[\"user_id\"] = ratebeer[\"user_id\"].astype(int)"
   ]
  },
  {
   "cell_type": "code",
   "execution_count": 9,
   "id": "5cbfa3e8-550d-4a48-a5ee-ea1f3251f81b",
   "metadata": {},
   "outputs": [
    {
     "data": {
      "text/html": [
       "<div>\n",
       "<style scoped>\n",
       "    .dataframe tbody tr th:only-of-type {\n",
       "        vertical-align: middle;\n",
       "    }\n",
       "\n",
       "    .dataframe tbody tr th {\n",
       "        vertical-align: top;\n",
       "    }\n",
       "\n",
       "    .dataframe thead th {\n",
       "        text-align: right;\n",
       "    }\n",
       "</style>\n",
       "<table border=\"1\" class=\"dataframe\">\n",
       "  <thead>\n",
       "    <tr style=\"text-align: right;\">\n",
       "      <th></th>\n",
       "      <th>reviewscore</th>\n",
       "      <th>reviewtime</th>\n",
       "      <th>reviewtext</th>\n",
       "      <th>appearance</th>\n",
       "      <th>aroma</th>\n",
       "      <th>palate</th>\n",
       "      <th>taste</th>\n",
       "      <th>overall</th>\n",
       "      <th>profile_name</th>\n",
       "      <th>beer_name</th>\n",
       "      <th>beer_id</th>\n",
       "      <th>brewer_id</th>\n",
       "      <th>abv</th>\n",
       "      <th>style</th>\n",
       "      <th>image_url</th>\n",
       "      <th>user_id</th>\n",
       "    </tr>\n",
       "  </thead>\n",
       "  <tbody>\n",
       "    <tr>\n",
       "      <th>3137528</th>\n",
       "      <td>3.7</td>\n",
       "      <td>2001-12-28T01:50:14.000Z</td>\n",
       "      <td>A surprisingly nice, smooth Scottish ale with ...</td>\n",
       "      <td>4.0</td>\n",
       "      <td>6.0</td>\n",
       "      <td>5.0</td>\n",
       "      <td>7.0</td>\n",
       "      <td>15.0</td>\n",
       "      <td>BillKismet</td>\n",
       "      <td>Appalachian Jolly Scot Scottish Ale</td>\n",
       "      <td>3324</td>\n",
       "      <td>574</td>\n",
       "      <td>5.2</td>\n",
       "      <td>Scottish Ale</td>\n",
       "      <td>https://res.cloudinary.com/ratebeer/image/uplo...</td>\n",
       "      <td>1895</td>\n",
       "    </tr>\n",
       "    <tr>\n",
       "      <th>3137529</th>\n",
       "      <td>3.0</td>\n",
       "      <td>2001-11-26T13:09:46.000Z</td>\n",
       "      <td>Good beer, much beter on tap at the Brewery th...</td>\n",
       "      <td>3.0</td>\n",
       "      <td>5.0</td>\n",
       "      <td>3.0</td>\n",
       "      <td>6.0</td>\n",
       "      <td>13.0</td>\n",
       "      <td>bigmattiem</td>\n",
       "      <td>Appalachian Jolly Scot Scottish Ale</td>\n",
       "      <td>3324</td>\n",
       "      <td>574</td>\n",
       "      <td>5.2</td>\n",
       "      <td>Scottish Ale</td>\n",
       "      <td>https://res.cloudinary.com/ratebeer/image/uplo...</td>\n",
       "      <td>12657</td>\n",
       "    </tr>\n",
       "    <tr>\n",
       "      <th>3137530</th>\n",
       "      <td>3.4</td>\n",
       "      <td>2001-06-27T15:13:30.000Z</td>\n",
       "      <td>Good roasted flavor with just a hint of sweetn...</td>\n",
       "      <td>3.0</td>\n",
       "      <td>8.0</td>\n",
       "      <td>3.0</td>\n",
       "      <td>7.0</td>\n",
       "      <td>13.0</td>\n",
       "      <td>tbookman</td>\n",
       "      <td>Appalachian Jolly Scot Scottish Ale</td>\n",
       "      <td>3324</td>\n",
       "      <td>574</td>\n",
       "      <td>5.2</td>\n",
       "      <td>Scottish Ale</td>\n",
       "      <td>https://res.cloudinary.com/ratebeer/image/uplo...</td>\n",
       "      <td>4662</td>\n",
       "    </tr>\n",
       "    <tr>\n",
       "      <th>3137531</th>\n",
       "      <td>2.9</td>\n",
       "      <td>2001-06-02T16:24:19.000Z</td>\n",
       "      <td>It's a sweet beer. I think the more I drank it...</td>\n",
       "      <td>3.0</td>\n",
       "      <td>5.0</td>\n",
       "      <td>3.0</td>\n",
       "      <td>7.0</td>\n",
       "      <td>11.0</td>\n",
       "      <td>jstu9</td>\n",
       "      <td>Appalachian Jolly Scot Scottish Ale</td>\n",
       "      <td>3324</td>\n",
       "      <td>574</td>\n",
       "      <td>5.2</td>\n",
       "      <td>Scottish Ale</td>\n",
       "      <td>https://res.cloudinary.com/ratebeer/image/uplo...</td>\n",
       "      <td>4688</td>\n",
       "    </tr>\n",
       "    <tr>\n",
       "      <th>3137532</th>\n",
       "      <td>3.7</td>\n",
       "      <td>2000-07-19T13:26:50.000Z</td>\n",
       "      <td>.................................................</td>\n",
       "      <td>4.0</td>\n",
       "      <td>7.0</td>\n",
       "      <td>4.0</td>\n",
       "      <td>7.0</td>\n",
       "      <td>15.0</td>\n",
       "      <td>kublai3</td>\n",
       "      <td>Appalachian Jolly Scot Scottish Ale</td>\n",
       "      <td>3324</td>\n",
       "      <td>574</td>\n",
       "      <td>5.2</td>\n",
       "      <td>Scottish Ale</td>\n",
       "      <td>https://res.cloudinary.com/ratebeer/image/uplo...</td>\n",
       "      <td>9268</td>\n",
       "    </tr>\n",
       "  </tbody>\n",
       "</table>\n",
       "</div>"
      ],
      "text/plain": [
       "         reviewscore                reviewtime  \\\n",
       "3137528          3.7  2001-12-28T01:50:14.000Z   \n",
       "3137529          3.0  2001-11-26T13:09:46.000Z   \n",
       "3137530          3.4  2001-06-27T15:13:30.000Z   \n",
       "3137531          2.9  2001-06-02T16:24:19.000Z   \n",
       "3137532          3.7  2000-07-19T13:26:50.000Z   \n",
       "\n",
       "                                                reviewtext  appearance  aroma  \\\n",
       "3137528  A surprisingly nice, smooth Scottish ale with ...         4.0    6.0   \n",
       "3137529  Good beer, much beter on tap at the Brewery th...         3.0    5.0   \n",
       "3137530  Good roasted flavor with just a hint of sweetn...         3.0    8.0   \n",
       "3137531  It's a sweet beer. I think the more I drank it...         3.0    5.0   \n",
       "3137532  .................................................         4.0    7.0   \n",
       "\n",
       "         palate  taste  overall profile_name  \\\n",
       "3137528     5.0    7.0     15.0   BillKismet   \n",
       "3137529     3.0    6.0     13.0   bigmattiem   \n",
       "3137530     3.0    7.0     13.0     tbookman   \n",
       "3137531     3.0    7.0     11.0        jstu9   \n",
       "3137532     4.0    7.0     15.0      kublai3   \n",
       "\n",
       "                                   beer_name  beer_id  brewer_id  abv  \\\n",
       "3137528  Appalachian Jolly Scot Scottish Ale     3324        574  5.2   \n",
       "3137529  Appalachian Jolly Scot Scottish Ale     3324        574  5.2   \n",
       "3137530  Appalachian Jolly Scot Scottish Ale     3324        574  5.2   \n",
       "3137531  Appalachian Jolly Scot Scottish Ale     3324        574  5.2   \n",
       "3137532  Appalachian Jolly Scot Scottish Ale     3324        574  5.2   \n",
       "\n",
       "                style                                          image_url  \\\n",
       "3137528  Scottish Ale  https://res.cloudinary.com/ratebeer/image/uplo...   \n",
       "3137529  Scottish Ale  https://res.cloudinary.com/ratebeer/image/uplo...   \n",
       "3137530  Scottish Ale  https://res.cloudinary.com/ratebeer/image/uplo...   \n",
       "3137531  Scottish Ale  https://res.cloudinary.com/ratebeer/image/uplo...   \n",
       "3137532  Scottish Ale  https://res.cloudinary.com/ratebeer/image/uplo...   \n",
       "\n",
       "         user_id  \n",
       "3137528     1895  \n",
       "3137529    12657  \n",
       "3137530     4662  \n",
       "3137531     4688  \n",
       "3137532     9268  "
      ]
     },
     "execution_count": 9,
     "metadata": {},
     "output_type": "execute_result"
    }
   ],
   "source": [
    "# ratebeer.tail()"
   ]
  },
  {
   "cell_type": "code",
   "execution_count": 10,
   "id": "9db0f9b0-bc39-4bb0-887e-17c12da6d350",
   "metadata": {},
   "outputs": [
    {
     "name": "stdout",
     "output_type": "stream",
     "text": [
      "<class 'pandas.core.frame.DataFrame'>\n",
      "RangeIndex: 3137533 entries, 0 to 3137532\n",
      "Data columns (total 16 columns):\n",
      " #   Column        Dtype  \n",
      "---  ------        -----  \n",
      " 0   reviewscore   float64\n",
      " 1   reviewtime    object \n",
      " 2   reviewtext    object \n",
      " 3   appearance    float64\n",
      " 4   aroma         float64\n",
      " 5   palate        float64\n",
      " 6   taste         float64\n",
      " 7   overall       float64\n",
      " 8   profile_name  object \n",
      " 9   beer_name     object \n",
      " 10  beer_id       int64  \n",
      " 11  brewer_id     int64  \n",
      " 12  abv           float64\n",
      " 13  style         object \n",
      " 14  image_url     object \n",
      " 15  user_id       int64  \n",
      "dtypes: float64(7), int64(3), object(6)\n",
      "memory usage: 383.0+ MB\n"
     ]
    }
   ],
   "source": [
    "# ratebeer.info()"
   ]
  },
  {
   "cell_type": "code",
   "execution_count": 69,
   "id": "cfdbfaaf-8e45-46d0-8bc4-cf73062f3dbe",
   "metadata": {},
   "outputs": [
    {
     "name": "stdout",
     "output_type": "stream",
     "text": [
      "<class 'pandas.core.frame.DataFrame'>\n",
      "RangeIndex: 93620 entries, 0 to 93619\n",
      "Data columns (total 15 columns):\n",
      " #   Column       Non-Null Count  Dtype  \n",
      "---  ------       --------------  -----  \n",
      " 0   reviewScore  93620 non-null  float64\n",
      " 1   reviewTime   93620 non-null  object \n",
      " 2   reviewText   93620 non-null  object \n",
      " 3   appearance   92036 non-null  float64\n",
      " 4   aroma        92036 non-null  float64\n",
      " 5   palate       92036 non-null  float64\n",
      " 6   taste        92036 non-null  float64\n",
      " 7   overall      92036 non-null  float64\n",
      " 8   profileName  93620 non-null  object \n",
      " 9   beerName     93620 non-null  object \n",
      " 10  beerID       93620 non-null  int64  \n",
      " 11  brewerID     93620 non-null  int64  \n",
      " 12  ABV          93620 non-null  float64\n",
      " 13  style        93620 non-null  object \n",
      " 14  imageUrl     93620 non-null  object \n",
      "dtypes: float64(7), int64(2), object(6)\n",
      "memory usage: 10.7+ MB\n"
     ]
    }
   ],
   "source": [
    "# 결측치 제거\n",
    "# ratebeer = ratebeer.dropna(subset=['reviewScore']).reset_index(drop = True)\n",
    "# ratebeer.info()"
   ]
  },
  {
   "cell_type": "code",
   "execution_count": 70,
   "id": "e92377fd-7fb3-4e4d-afe9-beb68ac782a7",
   "metadata": {},
   "outputs": [],
   "source": [
    "# # coldstart ID 생성\n",
    "# style_dict = {\n",
    "#     'Amber Lager - International / Vienna':0,\n",
    "#     'Apple Cider':1,\n",
    "#     'Belgian Ale - Dark / Amber':2,\n",
    "#     'Belgian Ale - Pale / Golden / Single':3,\n",
    "#     'Dark Lager - Dunkel / Tmavý':4,\n",
    "#     'Dark Lager - International / Premium':5,\n",
    "#     'Flavored - Fruit':6,\n",
    "#     'Flavored - Other':7,\n",
    "#     'IPA':8,\n",
    "#     'IPA - English':8,\n",
    "#     'Low / No Alcohol Beer - Pale':9,\n",
    "#     'Märzen / Oktoberfest Bier':10,\n",
    "#     'Pale Ale - American (APA)':11,\n",
    "#     'Pale Ale - English':11,\n",
    "#     'Pale Lager - American':12,\n",
    "#     'Pale Lager - International / Premium':12,\n",
    "#     'Pilsener - Bohemian / Czech':13,\n",
    "#     'Pilsener - Imperial':13,\n",
    "#     'Pilsener / Pils / Pilsner':13,\n",
    "#     'Radler / Shandy':14,\n",
    "#     'Stout':14,\n",
    "#     'Weissbier - Dunkelweizen':15,\n",
    "#     'Weissbier - Hefeweizen':15,\n",
    "#     'Wheat Ale':16,\n",
    "#     'Witbier / Belgian White Ale':17,\n",
    "#     'Zwickelbier / Kellerbier / Landbier':18\n",
    "# }\n",
    "# ratebeer['label'] = ratebeer['style'].apply(lambda x : style_dict[x])"
   ]
  },
  {
   "cell_type": "markdown",
   "id": "045cff95-e856-469a-b376-be80fced3a17",
   "metadata": {},
   "source": [
    "### 편의점 유통 맥주만 가져오기"
   ]
  },
  {
   "cell_type": "code",
   "execution_count": 3,
   "id": "267e7de8-5ff2-4686-b1df-e7c6ff045f39",
   "metadata": {},
   "outputs": [],
   "source": [
    "kor_beer_list = np.array([ 75661, 614833, 169964,    251,  10726,   5588,   5571,   6668,\n",
    "         7656,  36249,    709,   4007,  72025,  58275, 221535, 291276,\n",
    "         2469,    721,  30913,  75071,     55,  17334, 493355,  64253,\n",
    "        34662, 506847,  73158,   5159,   3101, 315443,    268,    390,\n",
    "        71469,  35424,   4701, 288954, 136785, 632627,   3029, 553245,\n",
    "       580686, 252000,  21936, 667837,   2811,    729,  71458,  86387,\n",
    "       146878, 146725, 149060,  15747,   3126, 480225, 268685, 211962,\n",
    "        64518, 621308,   7580, 452525,   1486,    221,   1417,    730,\n",
    "         1478,    717,    647,    405,   2516,   2514,    399,     37,\n",
    "          715,    814,   1088,   2468,    742,    473, 135361,   2228,\n",
    "          703])\n",
    "\n",
    "kor_ratebeer = ratebeer[ratebeer['beer_id'].isin(kor_beer_list)]"
   ]
  },
  {
   "cell_type": "code",
   "execution_count": 4,
   "id": "36548c9a-27a4-4ecf-a03c-c1fff3fc9794",
   "metadata": {},
   "outputs": [
    {
     "data": {
      "text/plain": [
       "80"
      ]
     },
     "execution_count": 4,
     "metadata": {},
     "output_type": "execute_result"
    }
   ],
   "source": [
    "# 전체 데이터에서 한국 편의점 맥주 개수\n",
    "len(kor_ratebeer['beer_name'].unique())"
   ]
  },
  {
   "cell_type": "markdown",
   "id": "4c2f2b12-940d-4e82-9253-f938049bf9c5",
   "metadata": {},
   "source": [
    "### 맥주 점수 분포 체크"
   ]
  },
  {
   "cell_type": "code",
   "execution_count": 5,
   "id": "fd0a6abf-7013-4757-9af0-f5b60cded026",
   "metadata": {},
   "outputs": [
    {
     "name": "stdout",
     "output_type": "stream",
     "text": [
      "<class 'pandas.core.frame.DataFrame'>\n",
      "RangeIndex: 2808429 entries, 0 to 2808428\n",
      "Data columns (total 15 columns):\n",
      " #   Column        Dtype  \n",
      "---  ------        -----  \n",
      " 0   reviewscore   float64\n",
      " 1   reviewtime    object \n",
      " 2   appearance    float64\n",
      " 3   aroma         float64\n",
      " 4   palate        float64\n",
      " 5   taste         float64\n",
      " 6   overall       float64\n",
      " 7   profile_name  object \n",
      " 8   beer_name     object \n",
      " 9   beer_id       int64  \n",
      " 10  brewer_id     int64  \n",
      " 11  abv           float64\n",
      " 12  style         object \n",
      " 13  image_url     object \n",
      " 14  user_id       int64  \n",
      "dtypes: float64(7), int64(3), object(5)\n",
      "memory usage: 321.4+ MB\n"
     ]
    }
   ],
   "source": [
    "ratebeer.info()"
   ]
  },
  {
   "cell_type": "code",
   "execution_count": 6,
   "id": "1f8e2bf1-1da8-4ae2-bded-64827214d372",
   "metadata": {},
   "outputs": [
    {
     "data": {
      "text/plain": [
       "count    2.808429e+06\n",
       "mean     3.364627e+00\n",
       "std      7.150438e-01\n",
       "min      5.000000e-01\n",
       "25%      3.000000e+00\n",
       "50%      3.500000e+00\n",
       "75%      3.800000e+00\n",
       "max      5.000000e+00\n",
       "Name: reviewscore, dtype: float64"
      ]
     },
     "execution_count": 6,
     "metadata": {},
     "output_type": "execute_result"
    }
   ],
   "source": [
    "ratebeer['reviewscore'].describe()"
   ]
  },
  {
   "cell_type": "code",
   "execution_count": 7,
   "id": "0e160b3d-4a91-4ab8-9336-8291def243b9",
   "metadata": {},
   "outputs": [
    {
     "data": {
      "text/plain": [
       "<AxesSubplot:>"
      ]
     },
     "execution_count": 7,
     "metadata": {},
     "output_type": "execute_result"
    },
    {
     "data": {
      "image/png": "[encoded data removed]",
      "text/plain": [
       "<Figure size 432x288 with 1 Axes>"
      ]
     },
     "metadata": {
      "needs_background": "light"
     },
     "output_type": "display_data"
    }
   ],
   "source": [
    "ratebeer['reviewscore'].hist()"
   ]
  },
  {
   "cell_type": "code",
   "execution_count": 8,
   "id": "b91c7c8b-53ad-4384-9deb-360e9d189019",
   "metadata": {},
   "outputs": [
    {
     "data": {
      "text/plain": [
       "<AxesSubplot:>"
      ]
     },
     "execution_count": 8,
     "metadata": {},
     "output_type": "execute_result"
    },
    {
     "data": {
      "image/png": "[encoded data removed]",
      "text/plain": [
       "<Figure size 432x288 with 1 Axes>"
      ]
     },
     "metadata": {
      "needs_background": "light"
     },
     "output_type": "display_data"
    }
   ],
   "source": [
    "ratebeer[['reviewscore']].boxplot()"
   ]
  },
  {
   "cell_type": "code",
   "execution_count": 9,
   "id": "8c54cb0f-14b9-4f44-9e8b-65ad9ad4c890",
   "metadata": {},
   "outputs": [
    {
     "data": {
      "text/plain": [
       "2808429"
      ]
     },
     "execution_count": 9,
     "metadata": {},
     "output_type": "execute_result"
    }
   ],
   "source": [
    "len(ratebeer)"
   ]
  },
  {
   "cell_type": "markdown",
   "id": "1ed65f32-cb28-44d0-9710-e0b9c7ce704e",
   "metadata": {},
   "source": [
    "### preprocessing"
   ]
  },
  {
   "cell_type": "code",
   "execution_count": 10,
   "id": "f3e0526b-0124-4902-bab4-c8de03d5bc6c",
   "metadata": {},
   "outputs": [],
   "source": [
    "def preprocessing_df(df):\n",
    "    # rating 전처리\n",
    "    # df['rating/apperance'] = df['review/appearance'].str.split(\"/\").str[0].astype(int)\n",
    "    # df['rating/aroma'] = df['review/aroma'].str.split(\"/\").str[0].astype(int)\n",
    "    # df['rating/palate'] = df['review/palate'].str.split(\"/\").str[0].astype(int)\n",
    "    # df['rating/taste'] = df['review/taste'].str.split(\"/\").str[0].astype(int)\n",
    "    # df['rating/overall'] = df['review/overall'].str.split(\"/\").str[0].astype(int)\n",
    "    \n",
    "    # overall rating 최대치 5로 변환\n",
    "    # df['rating/overall'] = df['rating/overall'] / 20 * 5\n",
    "    \n",
    "    # item, user, rating만 추출\n",
    "    df = df[['beer_id', 'profile_name', 'reviewscore', 'image_url']]\n",
    "    df.rename(columns={'beer_id' : 'item', 'profile_name' : 'user', 'reviewscore' : 'rating'}, inplace = True) \n",
    "    \n",
    "    # 유저 리뷰 수 개산\n",
    "    # df['user/reviewcount'] = df.groupby('user')['user'].transform('count')\n",
    "    # 리뷰 수가 10개 이상인 유저만 남김 \n",
    "#     df = df[(df['user/reviewcount'] >= 10)]\n",
    "    \n",
    "#     df.drop(columns=['user/reviewcount'], inplace=True)\n",
    "    \n",
    "    num_users = df.user.unique().shape[0]\n",
    "    num_items = df.item.unique().shape[0]\n",
    "    return df, num_users, num_items"
   ]
  },
  {
   "cell_type": "markdown",
   "id": "479b2adc-0830-4c71-b53f-5ddba3cd7236",
   "metadata": {},
   "source": [
    "### Statistics of the Dataset"
   ]
  },
  {
   "cell_type": "code",
   "execution_count": 11,
   "id": "a0bab6d9-401f-43a9-ba4e-8b337841a466",
   "metadata": {},
   "outputs": [
    {
     "name": "stdout",
     "output_type": "stream",
     "text": [
      "number of users: 13231, number of items: 9335\n",
      "matrix sparsity: 0.977262\n",
      "     item        user  rating  \\\n",
      "0  131594   jmgreenuk     3.9   \n",
      "1  131594         Ron     3.9   \n",
      "2  131594     olberic     4.1   \n",
      "3  131594  bergstaden     4.1   \n",
      "4  131594      ZayZay     4.0   \n",
      "\n",
      "                                           image_url  \n",
      "0  https://res.cloudinary.com/ratebeer/image/uplo...  \n",
      "1  https://res.cloudinary.com/ratebeer/image/uplo...  \n",
      "2  https://res.cloudinary.com/ratebeer/image/uplo...  \n",
      "3  https://res.cloudinary.com/ratebeer/image/uplo...  \n",
      "4  https://res.cloudinary.com/ratebeer/image/uplo...  \n"
     ]
    }
   ],
   "source": [
    "data, num_users, num_items = preprocessing_df(ratebeer)\n",
    "sparsity = 1 - len(data) / (num_users * num_items)\n",
    "print(f'number of users: {num_users}, number of items: {num_items}')\n",
    "print(f'matrix sparsity: {sparsity:f}')\n",
    "print(data.head())"
   ]
  },
  {
   "cell_type": "code",
   "execution_count": 184,
   "id": "aa65b73b-fae4-49ab-b59a-3ee5652ef44d",
   "metadata": {},
   "outputs": [
    {
     "data": {
      "image/png": "[encoded data removed]",
      "text/plain": [
       "<Figure size 432x288 with 1 Axes>"
      ]
     },
     "metadata": {
      "needs_background": "light"
     },
     "output_type": "display_data"
    }
   ],
   "source": [
    "plt.hist(data['rating'], bins=5, ec='black')\n",
    "plt.xlabel('Rating')\n",
    "plt.ylabel('Count')\n",
    "plt.title('Distribution of Ratings in Ratebeer Beer')\n",
    "plt.show()"
   ]
  },
  {
   "cell_type": "markdown",
   "id": "ac9a07d0-ab1a-4c6f-b321-fc0902cf00c0",
   "metadata": {},
   "source": [
    "### Label Encoding"
   ]
  },
  {
   "cell_type": "code",
   "execution_count": 13,
   "id": "f1506d94-641d-4cb5-afc0-27f58863a737",
   "metadata": {},
   "outputs": [],
   "source": [
    "user_le = LabelEncoder()\n",
    "item_le = LabelEncoder()\n",
    "data['user_id_idx'] = user_le.fit_transform(data['user'].values)\n",
    "data['item_id_idx'] = item_le.fit_transform(data['item'].values)\n",
    "\n",
    "# data.drop(columns=['user', 'item_id'], inplace=True)"
   ]
  },
  {
   "cell_type": "markdown",
   "id": "07172e2f-530d-488c-a4d7-4f38efb9b5b7",
   "metadata": {},
   "source": [
    "### Loading the data"
   ]
  },
  {
   "cell_type": "code",
   "execution_count": 14,
   "id": "9328902d-9c4e-4d35-b7fe-e048040ba2ae",
   "metadata": {},
   "outputs": [],
   "source": [
    "class BeerDataset(Dataset):\n",
    "    def __init__(self, df, mode='train'):\n",
    "        self.df = df\n",
    "        self.mode = mode\n",
    "        self.train_size = 0.9\n",
    "        self.val_size = 0.1\n",
    "        # self.test_size = 1 - self.train_size - self.val_size \n",
    "\n",
    "        self.num_items = len(self.df['item_id_idx'].unique())\n",
    "        self.num_users = len(self.df['user_id_idx'].unique())\n",
    "        \n",
    "        n_val = int(self.num_users * self.val_size)\n",
    "#         n_test = int(self.num_users * self.test_size)\n",
    "        \n",
    "        np.random.seed(42)\n",
    "        \n",
    "        val_indices = set(np.random.choice(range(self.num_users), n_val, replace = False))\n",
    "        # test_indices = set(random.choices(list(set(range(self.num_users)) - val_indices), k=n_test))\n",
    "        train_indices = set(range(self.num_users)) - val_indices # - test_indices\n",
    "#         # self.train_df, self.test_df = train_test_split(self.df, test_size=self.test_size, train_size=self.train_size, stratify = self.df['user_id_idx'].values, random_state=42)\n",
    "        \n",
    "        if self.mode == 'train':\n",
    "            self.df = self.df[self.df['user_id_idx'].isin(train_indices)]\n",
    "        elif self.mode == 'val':\n",
    "            self.df = self.df[self.df['user_id_idx'].isin(val_indices)]\n",
    "#         else:\n",
    "#             self.df = self.df[self.df['user_id_idx'].isin(test_indices)]\n",
    "        \n",
    "        # 유저 리뷰 수 개산\n",
    "        # self.df['user/reviewcount'] = self.df.groupby('user_id_idx')['user_id_idx'].transform('count')\n",
    "        \n",
    "        # #리뷰 수가 4개 이상인 유저만 남김 \n",
    "        # self.df = self.df[(self.df['user/reviewcount'] > 3)]\n",
    "        # self.df.drop(columns=['user/reviewcount'], inplace=True)\n",
    "        \n",
    "        self.users = torch.tensor(self.df['user_id_idx'].values)\n",
    "        self.items = torch.tensor(self.df['item_id_idx'].values)\n",
    "        self.ratings = torch.tensor(self.df['rating'].values)\n",
    "        \n",
    "        self.inter_mat = self.make_inter_mat()\n",
    "    \n",
    "    def make_inter_mat(self):\n",
    "        inter_mat = np.zeros((self.num_users, self.num_items))\n",
    "        for user, item, rating in zip(self.users, self.items, self.ratings):\n",
    "            inter_mat[user][item] = rating\n",
    "            \n",
    "        # for user in self.users:\n",
    "        #     nonzero_ind = np.where(inter_mat[user] > 0)[0]\n",
    "        #     # if len(nonzero_ind) > 3:\n",
    "        #     valid_ind = np.random.choice(nonzero_ind, 3, replace = False)\n",
    "        #     if self.mode == 'train':\n",
    "        #         inter_mat[user][valid_ind] = 0\n",
    "        #     else:\n",
    "        #         inter_mat[user][np.setdiff1d(nonzero_ind, valid_ind)] = 0\n",
    "\n",
    "        return inter_mat\n",
    "\n",
    "    def __len__(self):\n",
    "        # return len(self.users)\n",
    "        return len(self.inter_mat)\n",
    "\n",
    "    def __getitem__(self, index):\n",
    "        # inter_mat = torch.tensor(self.inter_mat[self.users[index]]).float()\n",
    "        inter_mat = torch.tensor(self.inter_mat[index]).float()\n",
    "\n",
    "        return index, inter_mat"
   ]
  },
  {
   "cell_type": "markdown",
   "id": "a00cddbb-7c6a-4871-b796-92602f7f1ae4",
   "metadata": {},
   "source": [
    "### Autorec Model"
   ]
  },
  {
   "cell_type": "code",
   "execution_count": 15,
   "id": "824e9e06-921d-446f-a93a-767c7837c853",
   "metadata": {},
   "outputs": [],
   "source": [
    "class AutoRec(nn.Module):\n",
    "    def __init__(self, num_hidden, num_items, dropout=0.2):\n",
    "        super(AutoRec, self).__init__()\n",
    "        self.encoder = nn.Linear(num_items, num_hidden)\n",
    "        self.activate = nn.Sigmoid()\n",
    "        self.decoder = nn.Linear(num_hidden, num_items)\n",
    "        self.dropout = nn.Dropout(dropout)\n",
    "\n",
    "    def forward(self, mat):\n",
    "        hidden = self.dropout(self.activate(self.encoder(mat)))\n",
    "        pred = self.decoder(hidden)\n",
    "        \n",
    "        return pred"
   ]
  },
  {
   "cell_type": "markdown",
   "id": "1c64864d-aab9-429b-b4b6-d5a319c7bafe",
   "metadata": {},
   "source": [
    "###  Model train, validcation"
   ]
  },
  {
   "cell_type": "code",
   "execution_count": 16,
   "id": "2d670b0f-9ed0-4a9b-953b-832f67dcd695",
   "metadata": {},
   "outputs": [],
   "source": [
    "def train(model, train_iter, criterion, optm, device):\n",
    "    model.train() # to train mode\n",
    "    loss_sum = 0\n",
    "\n",
    "    for _, inter_mat in train_iter:\n",
    "        inter_mat = inter_mat.to(device)    \n",
    "\n",
    "        preds = model(inter_mat)\n",
    "        loss = criterion(preds, inter_mat)\n",
    "\n",
    "        # Update\n",
    "        optm.zero_grad()      # reset gradient \n",
    "        loss.backward()      # backpropagate\n",
    "        optm.step()      # optimizer update\n",
    "        \n",
    "        loss_sum += loss.item()\n",
    "\n",
    "    loss_avg = loss_sum / len(train_iter)\n",
    "\n",
    "    return loss_avg"
   ]
  },
  {
   "cell_type": "code",
   "execution_count": 171,
   "id": "62571012-7682-460e-b4b6-174a11ea6a5b",
   "metadata": {},
   "outputs": [],
   "source": [
    "def validation(model, valid_iter, criterion, device):\n",
    "    \n",
    "    # np.random.seed(42)\n",
    "    \n",
    "    with torch.no_grad():\n",
    "        model.eval()\n",
    "        loss_sum = 0\n",
    "        loss_cal_count = 0\n",
    "        \n",
    "        for _, inter_mat in valid_iter:\n",
    "            inter_mat = inter_mat.to(device)\n",
    "            \n",
    "            # matrix 값 중 0보다 큰 값만 추출\n",
    "            y_for_compute = inter_mat.squeeze().cpu().numpy()\n",
    "            index = np.where(y_for_compute > 0)[0]\n",
    "            \n",
    "            # 0보다 큰 값 중 n_val개를 masking\n",
    "            n_val = min(int(len(index) * 0.1), 3)\n",
    "            valid_ind = np.random.choice(index, n_val, replace = False)\n",
    "            y_for_compute[valid_ind] = 0\n",
    "            \n",
    "            # n_val개 masking 된 input 생성\n",
    "            masked_input = torch.tensor(y_for_compute).to(device).unsqueeze(0)\n",
    "            \n",
    "            # 정답지는 input에서 masking 되지 않은 위치를 masking  \n",
    "            if len(index):\n",
    "                # print(len(index))\n",
    "                # print(valid_ind)\n",
    "                # print(index)\n",
    "                mat_masked_idx = np.array([i for i in index if i not in valid_ind]) \n",
    "                # print(mat_masked_idx)\n",
    "                inter_mat = inter_mat.squeeze().cpu().numpy()\n",
    "                inter_mat[mat_masked_idx] = 0\n",
    "                inter_mat = torch.tensor(inter_mat).to(device).unsqueeze(0)\n",
    "            \n",
    "            # mask된 input으로 prediction 후 기존 정답 활용 loss값 계산\n",
    "            preds = model(masked_input)\n",
    "            loss = criterion(preds, inter_mat)\n",
    "            \n",
    "            if not np.isnan(loss.cpu().numpy()):\n",
    "                loss_cal_count += 1\n",
    "                loss_sum += loss.item()\n",
    "            \n",
    "        loss_avg = loss_sum / loss_cal_count\n",
    "        \n",
    "    return loss_avg"
   ]
  },
  {
   "cell_type": "code",
   "execution_count": 172,
   "id": "a8b51f04-17b8-4dcd-8f7c-55ebe883d1ec",
   "metadata": {},
   "outputs": [],
   "source": [
    "class AutoRec_loss_fn(nn.Module):\n",
    "\n",
    "    def __init__(self, loss_fn):\n",
    "        super(AutoRec_loss_fn, self).__init__()\n",
    "        self.loss_fn = loss_fn\n",
    "    \n",
    "    def forward(self, pred, y):\n",
    "        y_for_compute = y.clone().to('cpu')\n",
    "        index = np.where(y_for_compute > 0) # FILL HERE : USE np.where & y_for_compute. WARNING: y를 사용 시, y의 device가 gpu일 경우 오류 발생 #\n",
    "        loss = self.loss_fn(pred[index], y[index])\n",
    "        return loss"
   ]
  },
  {
   "cell_type": "code",
   "execution_count": 173,
   "id": "00a37b7a-7095-458c-8fc6-c7c0fe516018",
   "metadata": {},
   "outputs": [],
   "source": [
    "device = torch.device('cuda:0' if torch.cuda.is_available() else 'cpu')\n",
    "\n",
    "num_epochs = 25\n",
    "lr = 0.001\n",
    "batch_size = 64\n",
    "\n",
    "PATH = '../model/autorec_exp_rmse.pt'\n",
    "patience = 5\n",
    "\n",
    "num_items = data.item_id_idx.nunique()\n",
    "num_hidden = 500"
   ]
  },
  {
   "cell_type": "code",
   "execution_count": 174,
   "id": "d25de793-cb99-4cc4-9c40-0c7458946dd3",
   "metadata": {},
   "outputs": [],
   "source": [
    "train_dataset = BeerDataset(df=data, mode='train')\n",
    "val_dataset = BeerDataset(df=data, mode='val')\n",
    "\n",
    "train_dataloader = DataLoader(dataset=train_dataset, batch_size=batch_size, shuffle=True) \n",
    "val_dataloader = DataLoader(dataset=val_dataset, batch_size=1, shuffle=False)"
   ]
  },
  {
   "cell_type": "code",
   "execution_count": 175,
   "id": "bb92211c-ca43-431c-87f0-b86093d2a600",
   "metadata": {},
   "outputs": [],
   "source": [
    "model = AutoRec(num_hidden, num_items).to(device)\n",
    "loss = AutoRec_loss_fn(nn.MSELoss().to(device)).to(device)\n",
    "optm = optim.Adam(model.parameters(),lr=lr)"
   ]
  },
  {
   "cell_type": "code",
   "execution_count": 176,
   "id": "bb46cd6f-589a-48e6-b97d-11b423ddda61",
   "metadata": {},
   "outputs": [],
   "source": [
    "class EarlyStopping:\n",
    "    \"\"\"주어진 patience 이후로 validation loss가 개선되지 않으면 학습을 조기 중지\"\"\"\n",
    "    def __init__(self, patience=7, verbose=False, delta=0, path='checkpoint.pt'):\n",
    "        \"\"\"\n",
    "        Args:\n",
    "            patience (int): validation loss가 개선된 후 기다리는 기간\n",
    "                            Default: 7\n",
    "            verbose (bool): True일 경우 각 validation loss의 개선 사항 메세지 출력\n",
    "                            Default: False\n",
    "            delta (float): 개선되었다고 인정되는 monitered quantity의 최소 변화\n",
    "                            Default: 0\n",
    "            path (str): checkpoint저장 경로\n",
    "                            Default: 'checkpoint.pt'\n",
    "        \"\"\"\n",
    "        self.patience = patience\n",
    "        self.verbose = verbose\n",
    "        self.counter = 0\n",
    "        self.best_score = None\n",
    "        self.early_stop = False\n",
    "        self.val_loss_min = np.Inf\n",
    "        self.delta = delta\n",
    "        self.path = path\n",
    "\n",
    "    def __call__(self, val_loss, model):\n",
    "\n",
    "        score = -val_loss\n",
    "\n",
    "        if self.best_score is None:\n",
    "            self.best_score = score\n",
    "            self.save_checkpoint(val_loss, model)\n",
    "        elif score < self.best_score + self.delta:\n",
    "            self.counter += 1\n",
    "            print(f'EarlyStopping counter: {self.counter} out of {self.patience}')\n",
    "            if self.counter >= self.patience:\n",
    "                self.early_stop = True\n",
    "        else:\n",
    "            self.best_score = score\n",
    "            self.save_checkpoint(val_loss, model)\n",
    "            self.counter = 0\n",
    "\n",
    "    def save_checkpoint(self, val_loss, model):\n",
    "        '''validation loss가 감소하면 모델을 저장한다.'''\n",
    "        if self.verbose:\n",
    "            print(f'Validation loss decreased ({self.val_loss_min:.6f} --> {val_loss:.6f}).  Saving model ...')\n",
    "        torch.save(model.state_dict(), self.path)\n",
    "        self.val_loss_min = val_loss"
   ]
  },
  {
   "cell_type": "code",
   "execution_count": 177,
   "id": "888f186e-1bb8-40d8-9815-4348378acba1",
   "metadata": {},
   "outputs": [
    {
     "name": "stderr",
     "output_type": "stream",
     "text": [
      "  4%|▋               | 1/25 [00:15<06:09, 15.38s/it]"
     ]
    },
    {
     "name": "stdout",
     "output_type": "stream",
     "text": [
      "Validation loss decreased (inf --> 0.550437).  Saving model ...\n",
      "epoch: 0, train Loss: 0.6982, test Loss: 0.5504\n"
     ]
    },
    {
     "name": "stderr",
     "output_type": "stream",
     "text": [
      "  8%|█▎              | 2/25 [00:30<05:52, 15.31s/it]"
     ]
    },
    {
     "name": "stdout",
     "output_type": "stream",
     "text": [
      "Validation loss decreased (0.550437 --> 0.453848).  Saving model ...\n",
      "epoch: 1, train Loss: 0.3519, test Loss: 0.4538\n"
     ]
    },
    {
     "name": "stderr",
     "output_type": "stream",
     "text": [
      " 12%|█▉              | 3/25 [00:45<05:32, 15.11s/it]"
     ]
    },
    {
     "name": "stdout",
     "output_type": "stream",
     "text": [
      "Validation loss decreased (0.453848 --> 0.433204).  Saving model ...\n",
      "epoch: 2, train Loss: 0.3361, test Loss: 0.4332\n"
     ]
    },
    {
     "name": "stderr",
     "output_type": "stream",
     "text": [
      " 16%|██▌             | 4/25 [01:00<05:15, 15.01s/it]"
     ]
    },
    {
     "name": "stdout",
     "output_type": "stream",
     "text": [
      "Validation loss decreased (0.433204 --> 0.415158).  Saving model ...\n",
      "epoch: 3, train Loss: 0.3189, test Loss: 0.4152\n"
     ]
    },
    {
     "name": "stderr",
     "output_type": "stream",
     "text": [
      " 20%|███▏            | 5/25 [01:15<05:00, 15.02s/it]"
     ]
    },
    {
     "name": "stdout",
     "output_type": "stream",
     "text": [
      "Validation loss decreased (0.415158 --> 0.390789).  Saving model ...\n",
      "epoch: 4, train Loss: 0.2959, test Loss: 0.3908\n"
     ]
    },
    {
     "name": "stderr",
     "output_type": "stream",
     "text": [
      " 24%|███▊            | 6/25 [01:30<04:45, 15.02s/it]"
     ]
    },
    {
     "name": "stdout",
     "output_type": "stream",
     "text": [
      "EarlyStopping counter: 1 out of 5\n",
      "epoch: 5, train Loss: 0.2810, test Loss: 0.4026\n"
     ]
    },
    {
     "name": "stderr",
     "output_type": "stream",
     "text": [
      " 28%|████▍           | 7/25 [01:45<04:28, 14.92s/it]"
     ]
    },
    {
     "name": "stdout",
     "output_type": "stream",
     "text": [
      "Validation loss decreased (0.390789 --> 0.380128).  Saving model ...\n",
      "epoch: 6, train Loss: 0.2640, test Loss: 0.3801\n"
     ]
    },
    {
     "name": "stderr",
     "output_type": "stream",
     "text": [
      " 32%|█████           | 8/25 [01:59<04:13, 14.89s/it]"
     ]
    },
    {
     "name": "stdout",
     "output_type": "stream",
     "text": [
      "EarlyStopping counter: 1 out of 5\n",
      "epoch: 7, train Loss: 0.2532, test Loss: 0.3827\n"
     ]
    },
    {
     "name": "stderr",
     "output_type": "stream",
     "text": [
      " 36%|█████▊          | 9/25 [02:14<03:58, 14.88s/it]"
     ]
    },
    {
     "name": "stdout",
     "output_type": "stream",
     "text": [
      "Validation loss decreased (0.380128 --> 0.358291).  Saving model ...\n",
      "epoch: 8, train Loss: 0.2432, test Loss: 0.3583\n"
     ]
    },
    {
     "name": "stderr",
     "output_type": "stream",
     "text": [
      " 40%|██████         | 10/25 [02:29<03:42, 14.84s/it]"
     ]
    },
    {
     "name": "stdout",
     "output_type": "stream",
     "text": [
      "EarlyStopping counter: 1 out of 5\n",
      "epoch: 9, train Loss: 0.2344, test Loss: 0.3901\n"
     ]
    },
    {
     "name": "stderr",
     "output_type": "stream",
     "text": [
      " 44%|██████▌        | 11/25 [02:44<03:28, 14.87s/it]"
     ]
    },
    {
     "name": "stdout",
     "output_type": "stream",
     "text": [
      "EarlyStopping counter: 2 out of 5\n",
      "epoch: 10, train Loss: 0.2267, test Loss: 0.4046\n"
     ]
    },
    {
     "name": "stderr",
     "output_type": "stream",
     "text": [
      " 48%|███████▏       | 12/25 [02:59<03:13, 14.88s/it]"
     ]
    },
    {
     "name": "stdout",
     "output_type": "stream",
     "text": [
      "EarlyStopping counter: 3 out of 5\n",
      "epoch: 11, train Loss: 0.2235, test Loss: 0.3964\n"
     ]
    },
    {
     "name": "stderr",
     "output_type": "stream",
     "text": [
      " 52%|███████▊       | 13/25 [03:14<02:58, 14.86s/it]"
     ]
    },
    {
     "name": "stdout",
     "output_type": "stream",
     "text": [
      "EarlyStopping counter: 4 out of 5\n",
      "epoch: 12, train Loss: 0.2165, test Loss: 0.4163\n"
     ]
    },
    {
     "name": "stderr",
     "output_type": "stream",
     "text": [
      " 52%|███████▊       | 13/25 [03:28<03:12, 16.07s/it]"
     ]
    },
    {
     "name": "stdout",
     "output_type": "stream",
     "text": [
      "EarlyStopping counter: 5 out of 5\n",
      "Early stopping\n"
     ]
    },
    {
     "name": "stderr",
     "output_type": "stream",
     "text": [
      "\n"
     ]
    },
    {
     "data": {
      "image/png": "[encoded data removed]",
      "text/plain": [
       "<Figure size 720x360 with 1 Axes>"
      ]
     },
     "metadata": {
      "needs_background": "light"
     },
     "output_type": "display_data"
    }
   ],
   "source": [
    "train_losses = []\n",
    "val_losses = []\n",
    "\n",
    "early_stopping = EarlyStopping(patience = patience, verbose = True, path=PATH)\n",
    "\n",
    "for epoch in tqdm(range(num_epochs)):\n",
    "\n",
    "    train_loss = train(model, train_dataloader, loss, optm, device)\n",
    "    val_loss = validation(model, val_dataloader, loss, device)\n",
    "\n",
    "    train_losses.append(train_loss)\n",
    "    val_losses.append(val_loss)\n",
    "    \n",
    "    early_stopping(val_loss, model)\n",
    "\n",
    "    if early_stopping.early_stop:\n",
    "        print(\"Early stopping\")\n",
    "        break\n",
    "        \n",
    "    print(f'epoch: {epoch}, train Loss: {train_loss:.4f}, test Loss: {val_loss:.4f}')\n",
    "\n",
    "plt.figure(figsize=(10,5))\n",
    "plt.plot(train_losses,label=\"train_loss\")\n",
    "plt.plot(val_losses,label=\"val_loss\")\n",
    "plt.xlabel(\"epoch\")\n",
    "plt.ylabel(\"Loss\")\n",
    "plt.legend()\n",
    "plt.show()"
   ]
  },
  {
   "cell_type": "code",
   "execution_count": 24,
   "id": "5676ef9e-b3b5-4dac-97e8-ead85d27d596",
   "metadata": {},
   "outputs": [
    {
     "data": {
      "text/plain": [
       "(13231, 9335)"
      ]
     },
     "execution_count": 24,
     "metadata": {},
     "output_type": "execute_result"
    }
   ],
   "source": [
    "train_dataset.inter_mat.shape"
   ]
  },
  {
   "cell_type": "code",
   "execution_count": 24,
   "id": "4e258010-0f76-44eb-a49d-9b116fcc622f",
   "metadata": {},
   "outputs": [],
   "source": [
    "# PATH = '../model/autorec_exp_rmse.pt'\n",
    "# torch.save(model.state_dict(), PATH)"
   ]
  },
  {
   "cell_type": "markdown",
   "id": "bdb75490-0841-4e51-b7ee-ca53fbc949a5",
   "metadata": {},
   "source": [
    "## inference"
   ]
  },
  {
   "cell_type": "markdown",
   "id": "e9ececd1-0882-42fe-8891-6dc6a7d8e81a",
   "metadata": {},
   "source": [
    "### 모델 불러오기"
   ]
  },
  {
   "cell_type": "code",
   "execution_count": 144,
   "id": "1c7802a9-a41b-41a9-a485-ca7c0cc4683a",
   "metadata": {},
   "outputs": [
    {
     "data": {
      "text/plain": [
       "<All keys matched successfully>"
      ]
     },
     "execution_count": 144,
     "metadata": {},
     "output_type": "execute_result"
    }
   ],
   "source": [
    "model = AutoRec(num_hidden, num_items).to(device)\n",
    "model.load_state_dict(torch.load(PATH))"
   ]
  },
  {
   "cell_type": "markdown",
   "id": "07170d85-4d36-4e3b-9d62-0bf2bdeac6ef",
   "metadata": {},
   "source": [
    "### 평가지표 함수"
   ]
  },
  {
   "cell_type": "code",
   "execution_count": 86,
   "id": "0ebe94ba-f586-4bb0-a26e-91e7fe13327a",
   "metadata": {},
   "outputs": [],
   "source": [
    "def ndcg_k(actual, predicted, topk):\n",
    "    res = 0\n",
    "    for user_id in range(len(actual)):\n",
    "        k = min(topk, len(actual[user_id]))\n",
    "        idcg = idcg_k(k)\n",
    "        dcg_k = sum(\n",
    "            [\n",
    "                int(predicted[user_id][j] in set(actual[user_id])) / math.log(j + 2, 2)\n",
    "                for j in range(topk)\n",
    "            ]\n",
    "        )\n",
    "        res += dcg_k / idcg\n",
    "    return res / float(len(actual))\n",
    "\n",
    "# Calculates the ideal discounted cumulative gain at k\n",
    "def idcg_k(k):\n",
    "    res = sum([1.0 / math.log(i + 2, 2) for i in range(k)])\n",
    "    if not res:\n",
    "        return 1.0\n",
    "    else:\n",
    "        return res\n",
    "\n",
    "def recall_at_k(actual, predicted, topk):\n",
    "    sum_recall = 0.0\n",
    "    num_users = len(predicted)\n",
    "    true_users = 0\n",
    "    for i in range(num_users):\n",
    "        act_set = set(actual[i])\n",
    "        pred_set = set(predicted[i][:topk])\n",
    "        if len(act_set) != 0:\n",
    "            sum_recall += len(act_set & pred_set) / float(len(act_set))\n",
    "            true_users += 1\n",
    "    return sum_recall / true_users"
   ]
  },
  {
   "cell_type": "code",
   "execution_count": 87,
   "id": "b824c518-3699-46d0-b141-298428939d38",
   "metadata": {},
   "outputs": [],
   "source": [
    "def inference(model, test_iter, test_matrix, device, topk = 4):\n",
    "    pred_list = None\n",
    "    answer_list = None\n",
    "    with torch.no_grad():\n",
    "        model.eval()\n",
    "\n",
    "        for i, (user_ids, inter_mat) in enumerate(test_iter):\n",
    "            inter_mat = inter_mat.to(device)\n",
    "            \n",
    "            rating_pred = model(inter_mat)\n",
    "            \n",
    "            rating_pred = rating_pred.cpu().data.numpy().copy()\n",
    "            \n",
    "            batch_user_index = user_ids.cpu().numpy()\n",
    "            answers = test_matrix.argsort(axis = 1)[batch_user_index, -topk:][:, ::-1]\n",
    "            # rating_pred[test_matrix[batch_user_index] > 0] = 0\n",
    "            \n",
    "            ind = np.argpartition(rating_pred, -topk)[:, -topk:]\n",
    "            \n",
    "            arr_ind = rating_pred[np.arange(len(rating_pred))[:, None], ind]\n",
    "\n",
    "            arr_ind_argsort = np.argsort(arr_ind)[np.arange(len(rating_pred)), ::-1]\n",
    "\n",
    "            batch_pred_list = ind[\n",
    "                np.arange(len(rating_pred))[:, None], arr_ind_argsort\n",
    "            ]\n",
    "\n",
    "            if i == 0:\n",
    "                pred_list = batch_pred_list\n",
    "                answer_list = answers\n",
    "            else:\n",
    "                pred_list = np.append(pred_list, batch_pred_list, axis=0)\n",
    "                answer_list = np.append(\n",
    "                        answer_list, answers, axis=0\n",
    "                )\n",
    "            \n",
    "        recall = recall_at_k(answer_list, pred_list, topk)\n",
    "        ndcg = ndcg_k(answer_list, pred_list, topk)\n",
    "        \n",
    "        print(f'recall@{topk} = {recall}, ndcg@{topk} = {ndcg}')\n",
    "    return pred_list, answer_list"
   ]
  },
  {
   "cell_type": "code",
   "execution_count": 88,
   "id": "95a484f1-91ef-497b-87f8-eeac00dac966",
   "metadata": {},
   "outputs": [],
   "source": [
    "device = torch.device('cuda:0' if torch.cuda.is_available() else 'cpu')\n",
    "\n",
    "num_epochs = 25\n",
    "lr = 0.001\n",
    "batch_size = 1\n",
    "\n",
    "num_items = data.item_id_idx.nunique()\n",
    "num_hidden = 40"
   ]
  },
  {
   "cell_type": "code",
   "execution_count": 89,
   "id": "5590df15-498d-453e-b8a0-2a1d321ad8ba",
   "metadata": {},
   "outputs": [],
   "source": [
    "test_dataset = BeerDataset(df=data, mode='test')\n",
    "\n",
    "test_dataloader = DataLoader(dataset=test_dataset, batch_size=batch_size, shuffle=False)\n",
    "\n",
    "test_matrix = test_dataset.inter_mat"
   ]
  },
  {
   "cell_type": "markdown",
   "id": "927a0c6e-626f-499f-9c35-a44f8be81c9e",
   "metadata": {},
   "source": [
    "### inference 수행"
   ]
  },
  {
   "cell_type": "code",
   "execution_count": 59,
   "id": "f079b6e7-fccb-494a-ac5d-bcecab8fcda7",
   "metadata": {},
   "outputs": [
    {
     "name": "stdout",
     "output_type": "stream",
     "text": [
      "recall@4 = 0.05295659772793475, ndcg@4 = 0.061438824849315406\n"
     ]
    }
   ],
   "source": [
    "pred_list, answer_list = inference(model, test_dataloader, test_matrix, device, topk=4)"
   ]
  },
  {
   "cell_type": "code",
   "execution_count": 60,
   "id": "aec90108-a730-4d45-a5b9-3dc7489b1c05",
   "metadata": {},
   "outputs": [
    {
     "data": {
      "text/plain": [
       "array([14420,  2619, 12238, ...,  7819, 14540,  3600])"
      ]
     },
     "execution_count": 60,
     "metadata": {},
     "output_type": "execute_result"
    }
   ],
   "source": [
    "# test 데이터 user 목록\n",
    "test_dataset.df.user_id_idx.unique()"
   ]
  },
  {
   "cell_type": "code",
   "execution_count": 61,
   "id": "06ac0bf9-9d7b-49c4-8f5f-402ba8e3d2fb",
   "metadata": {},
   "outputs": [
    {
     "data": {
      "text/plain": [
       "array([58, 55, 19,  9])"
      ]
     },
     "execution_count": 61,
     "metadata": {},
     "output_type": "execute_result"
    }
   ],
   "source": [
    "# 모델 예측 선호 맥주 top4\n",
    "pred_list[14420]"
   ]
  },
  {
   "cell_type": "code",
   "execution_count": 62,
   "id": "5b82772b-a1b2-4a6f-af10-4409f63945a8",
   "metadata": {},
   "outputs": [
    {
     "data": {
      "text/plain": [
       "array([58, 19, 55, 15])"
      ]
     },
     "execution_count": 62,
     "metadata": {},
     "output_type": "execute_result"
    }
   ],
   "source": [
    "# 유저 실제 선호 맥주 top4\n",
    "answer_list[14420]"
   ]
  },
  {
   "cell_type": "code",
   "execution_count": 63,
   "id": "142ee032-cefb-4444-81a1-221ab37608f2",
   "metadata": {},
   "outputs": [
    {
     "data": {
      "text/plain": [
       "array([1.9, 0. , 0. , 1.5, 2.2, 2.1, 3.5, 1.9, 1.4, 3.4, 2.8, 0. , 0. ,\n",
       "       3.3, 0. , 3.6, 1.7, 1.6, 3.5, 3.8, 2.8, 2.2, 0. , 2.9, 3. , 3. ,\n",
       "       3.4, 3.3, 0. , 0. , 2. , 2.4, 0. , 1.8, 0. , 2.3, 0. , 0. , 0. ,\n",
       "       0. , 0. , 0. , 0. , 0. , 0. , 0. , 3.2, 0. , 0. , 0. , 0. , 3. ,\n",
       "       3.1, 0. , 1.9, 3.7, 2. , 0. , 3.8, 0. , 0. , 0. , 0. , 0. , 0. ,\n",
       "       0. , 0. , 0. , 0. , 0. , 3. , 1.8, 0. , 0. , 0. , 0. , 0. , 0. ,\n",
       "       0. , 0. , 0. ])"
      ]
     },
     "execution_count": 63,
     "metadata": {},
     "output_type": "execute_result"
    }
   ],
   "source": [
    "test_matrix[14420]"
   ]
  },
  {
   "cell_type": "markdown",
   "id": "4eaa3539-071c-4769-82ff-05d5f4c8ddd3",
   "metadata": {},
   "source": [
    "### 웹사이트 inference"
   ]
  },
  {
   "cell_type": "code",
   "execution_count": 252,
   "id": "47481daf-8600-4c6a-98e6-3f3514e51115",
   "metadata": {},
   "outputs": [],
   "source": [
    "# show_list = np.random.choice(81, 30, replace = False)"
   ]
  },
  {
   "cell_type": "code",
   "execution_count": 253,
   "id": "2f028389-7a15-44c7-b254-f9402d0ebc11",
   "metadata": {},
   "outputs": [
    {
     "data": {
      "text/plain": [
       "array([26,  8, 45, 12, 53, 21, 44, 43,  3, 71, 49, 29, 11, 66, 54, 55, 15,\n",
       "       30, 14, 18, 39, 63, 68, 19, 79, 42,  4, 20, 76, 22])"
      ]
     },
     "execution_count": 253,
     "metadata": {},
     "output_type": "execute_result"
    }
   ],
   "source": [
    "# show_list"
   ]
  },
  {
   "cell_type": "code",
   "execution_count": 254,
   "id": "82247570-841a-4ce9-9e49-26daaa3e3a57",
   "metadata": {},
   "outputs": [
    {
     "data": {
      "text/plain": [
       "tensor([0., 0., 0., 0., 0., 0., 0., 0., 0., 0., 0., 0., 0., 0., 0., 0., 0., 0., 0., 0., 0., 0., 0., 0.,\n",
       "        0., 0., 0., 0., 0., 0., 0., 0., 0., 0., 0., 0., 0., 0., 0., 0., 0., 0., 0., 0., 0., 0., 0., 0.,\n",
       "        0., 0., 0., 0., 0., 0., 0., 0., 0., 0., 0., 0., 0., 0., 0., 0., 0., 0., 0., 0., 0., 0., 0., 0.,\n",
       "        0., 0., 0., 0., 0., 0., 0., 0., 0.])"
      ]
     },
     "execution_count": 254,
     "metadata": {},
     "output_type": "execute_result"
    }
   ],
   "source": [
    "# x_test = torch.zeros(81)\n",
    "# x_test"
   ]
  },
  {
   "cell_type": "code",
   "execution_count": 255,
   "id": "085cfd77-07d1-429e-9fa9-9dc9aa28eb98",
   "metadata": {},
   "outputs": [
    {
     "data": {
      "text/plain": [
       "tensor([0.0000, 0.0000, 0.0000, 2.8000, 0.5000, 0.0000, 0.0000, 0.0000, 0.5000,\n",
       "        0.0000, 0.0000, 0.5000, 5.0000, 0.0000, 0.5000, 0.5000, 0.0000, 0.0000,\n",
       "        2.8000, 2.8000, 5.0000, 2.8000, 2.8000, 0.0000, 0.0000, 0.0000, 0.5000,\n",
       "        0.0000, 0.0000, 2.8000, 0.5000, 0.0000, 0.0000, 0.0000, 0.0000, 0.0000,\n",
       "        0.0000, 0.0000, 0.0000, 5.0000, 0.0000, 0.0000, 0.5000, 2.8000, 0.5000,\n",
       "        2.8000, 0.0000, 0.0000, 0.0000, 5.0000, 0.0000, 0.0000, 0.0000, 5.0000,\n",
       "        0.5000, 5.0000, 0.0000, 0.0000, 0.0000, 0.0000, 0.0000, 0.0000, 0.0000,\n",
       "        0.5000, 0.0000, 0.0000, 5.0000, 0.0000, 0.5000, 0.0000, 0.0000, 5.0000,\n",
       "        0.0000, 0.0000, 0.0000, 0.0000, 5.0000, 0.0000, 0.0000, 2.8000, 0.0000])"
      ]
     },
     "execution_count": 255,
     "metadata": {},
     "output_type": "execute_result"
    }
   ],
   "source": [
    "# for beer in show_list:\n",
    "#     x_test[beer] = random.choice(rating_list)\n",
    "# x_test"
   ]
  },
  {
   "cell_type": "code",
   "execution_count": 256,
   "id": "0f325bfc-bcea-477f-8e57-e2c9a24de880",
   "metadata": {},
   "outputs": [],
   "source": [
    "# show_df = data[data['item_id_idx'].isin(show_list)]"
   ]
  },
  {
   "cell_type": "code",
   "execution_count": 257,
   "id": "8c410e4b-b4c2-491f-b062-fe12621dcd68",
   "metadata": {},
   "outputs": [
    {
     "data": {
      "text/plain": [
       "array([ 0,  1,  2,  5,  6,  7,  9, 10, 13, 16, 17, 23, 24, 25, 27, 28, 31,\n",
       "       32, 33, 34, 35, 36, 37, 38, 40, 41, 46, 47, 48, 50, 51, 52, 56, 57,\n",
       "       58, 59, 60, 61, 62, 64, 65, 67, 69, 70, 72, 73, 74, 75, 77, 78, 80])"
      ]
     },
     "execution_count": 257,
     "metadata": {},
     "output_type": "execute_result"
    }
   ],
   "source": [
    "# not_show_list = np.delete(np.arange(81), show_list)\n",
    "# not_show_list"
   ]
  },
  {
   "cell_type": "code",
   "execution_count": 258,
   "id": "3f51f53c-4c76-4d8f-a159-e1a300bdef8b",
   "metadata": {},
   "outputs": [
    {
     "data": {
      "text/plain": [
       "tensor([2.1645, 2.8000, 2.1645, 2.8000, 0.5000, 2.8000, 3.1620, 2.1645, 0.5000,\n",
       "        3.5909, 2.1645, 0.5000, 5.0000, 2.5330, 0.5000, 0.5000, 2.1645, 2.1645,\n",
       "        2.8000, 2.8000, 5.0000, 2.8000, 2.8000, 3.1620, 3.5909, 3.5909, 0.5000,\n",
       "        2.8000, 2.1645, 2.8000, 0.5000, 2.1645, 2.8000, 2.1645, 2.1645, 2.1645,\n",
       "        2.5330, 2.5330, 2.1645, 5.0000, 2.1645, 2.1645, 0.5000, 2.8000, 0.5000,\n",
       "        2.8000, 3.1620, 2.1645, 2.8000, 5.0000, 2.1645, 2.8000, 3.5909, 5.0000,\n",
       "        0.5000, 5.0000, 2.5330, 2.8000, 3.5131, 3.1620, 2.1645, 3.5909, 2.5330,\n",
       "        0.5000, 2.1645, 2.8000, 5.0000, 2.8000, 0.5000, 2.8000, 2.1645, 5.0000,\n",
       "        2.8000, 2.8000, 2.8000, 3.0375, 5.0000, 2.8000, 3.5909, 2.8000, 3.5909])"
      ]
     },
     "execution_count": 258,
     "metadata": {},
     "output_type": "execute_result"
    }
   ],
   "source": [
    "# for i in not_show_list:\n",
    "#     style = data[data['item_id_idx'] == i]['label'].unique()[0]\n",
    "#     rating = show_df[show_df['label'] == style]['rating'].mean()\n",
    "#     if np.isnan(rating):\n",
    "#         rating = rating_list[1] # style로 점수를 채울 수 없는 경우 몰라요로 채운다\n",
    "#     x_test[i] = rating\n",
    "# x_test"
   ]
  },
  {
   "cell_type": "code",
   "execution_count": 145,
   "id": "d75b8c96-621c-419a-8ae1-9a85fd2153de",
   "metadata": {},
   "outputs": [],
   "source": [
    "kor_beer_list = np.array([ 75661, 614833, 169964,    251,  10726,   5588,   5571,   6668,\n",
    "         7656,  36249,    709,   4007,  72025,  58275, 221535, 291276,\n",
    "         2469,    721,  30913,  75071,     55,  17334, 493355,  64253,\n",
    "        34662, 506847,  73158,   5159,   3101, 315443,    268,    390,\n",
    "        71469,  35424,   4701, 288954, 136785, 632627,   3029, 553245,\n",
    "       580686, 252000,  21936, 667837,   2811,    729,  71458,  86387,\n",
    "       146878, 146725, 149060,  15747,   3126, 480225, 268685, 211962,\n",
    "        64518, 621308,   7580, 452525,   1486,    221,   1417,    730,\n",
    "         1478,    717,    647,    405,   2516,   2514,    399,     37,\n",
    "          715,    814,   1088,   2468,    742,    473, 135361,   2228,\n",
    "          703])\n",
    "\n",
    "kor_ratebeer = ratebeer[ratebeer['beer_id'].isin(kor_beer_list)]"
   ]
  },
  {
   "cell_type": "code",
   "execution_count": 146,
   "id": "bdfc9655-e605-4a8c-a1c0-8dfdb424fa16",
   "metadata": {},
   "outputs": [],
   "source": [
    "kor_beer_idx = data[data['item'].isin(kor_beer_list)]['item_id_idx'].unique()"
   ]
  },
  {
   "cell_type": "code",
   "execution_count": 147,
   "id": "1a259cf1-8403-444b-8ee2-4d0a7371aa6f",
   "metadata": {},
   "outputs": [
    {
     "data": {
      "text/plain": [
       "array([0.5, 1. , 1.5, 2. , 2.5, 3. , 3.5, 4. , 4.5, 5. ])"
      ]
     },
     "execution_count": 147,
     "metadata": {},
     "output_type": "execute_result"
    }
   ],
   "source": [
    "np.arange(0.5, 5.5, 0.5)"
   ]
  },
  {
   "cell_type": "code",
   "execution_count": 148,
   "id": "998d7b4c-3fe8-487f-82e4-0e40e705a07c",
   "metadata": {},
   "outputs": [
    {
     "data": {
      "text/plain": [
       "array([   0,    1,    2, ..., 9315, 9316, 9317])"
      ]
     },
     "execution_count": 148,
     "metadata": {},
     "output_type": "execute_result"
    }
   ],
   "source": [
    "np.delete(np.arange(num_item), kor_beer_idx)"
   ]
  },
  {
   "cell_type": "code",
   "execution_count": null,
   "id": "ab5049b4-b514-4020-a5c7-b0e1948ae623",
   "metadata": {},
   "outputs": [],
   "source": []
  },
  {
   "cell_type": "code",
   "execution_count": 170,
   "id": "69d3bed9-a5ac-4bb8-8651-02ab4c5b2f17",
   "metadata": {},
   "outputs": [
    {
     "name": "stdout",
     "output_type": "stream",
     "text": [
      "[ 9 19 38 29]\n",
      "[3.5332427 3.5163522 3.4324605 3.3487043]\n"
     ]
    }
   ],
   "source": [
    "# 웹사이트 input\n",
    "# x_test = torch.tensor([1.9, 0. , 0. , 1.5, 2.2, 2.1, 3.5, 1.9, 1.4, 3.4, 2.8, 0. , 0. ,\n",
    "#        3.3, 0. , 3.6, 1.7, 1.6, 3.5, 3.8, 2.8, 2.2, 0. , 2.9, 3. , 3. ,\n",
    "#        3.4, 3.3, 0. , 0. , 2. , 2.4, 0. , 1.8, 0. , 2.3, 0. , 0. , 0. ,\n",
    "#        0. , 0. , 0. , 0. , 0. , 0. , 0. , 3.2, 0. , 0. , 0. , 0. , 3. ,\n",
    "#        3.1, 0. , 1.9, 3.7, 2. , 0. , 3.8, 0. , 0. , 0. , 0. , 0. , 0. ,\n",
    "#        0. , 0. , 0. , 0. , 0. , 3. , 1.8, 0. , 0. , 0. , 0. , 0. , 0. ,\n",
    "#        0. , 0. , 0. ]).to(device)\n",
    "\n",
    "num_item = data['item'].nunique()\n",
    "\n",
    "# 한국 맥주 평가\n",
    "rating_list = [5.0, 2.8, 0.5] # 좋아요, 몰라요, 싫어요\n",
    "kor_beer_idx = data[data['item'].isin(kor_beer_list)]['item_id_idx'].unique()\n",
    "show_list = np.random.choice(kor_beer_idx, 30, replace=False) # 임의로 30개 추출\n",
    "x_test = torch.zeros(num_item).to(device) # 0으로 초기화\n",
    "\n",
    "for beer in show_list:\n",
    "    x_test[beer] = random.choice(rating_list) # 30개에 대해서 임의로 평가\n",
    "    \n",
    "# show_df = data[data['item_id_idx'].isin(show_list)]\n",
    "\n",
    "# 나머지 맥주 중 일부 평가\n",
    "not_kor_rating_list = np.arange(0.5, 5.5, 0.5)\n",
    "not_kor_idx = np.delete(np.arange(num_item), kor_beer_idx)\n",
    "not_kor_list = np.random.choice(not_kor_idx, int(len(not_kor_idx) * 0.1) , replace=False) \n",
    "\n",
    "for beer in not_kor_list:\n",
    "    x_test[beer] = random.choice(not_kor_rating_list)\n",
    "\n",
    "# for i in not_show_list:\n",
    "#     style = data[data['item_id_idx'] == i]['label'].unique()[0]\n",
    "#     rating = show_df[show_df['label'] == style]['rating'].mean()\n",
    "    \n",
    "#     if np.isnan(rating):\n",
    "#         rating = rating_list[1] # style로 점수를 채울 수 없는 경우 몰라요로 채운다\n",
    "#     x_test[i] = rating\n",
    "#     # print(rating)\n",
    "\n",
    "# 추천 맥주 개수\n",
    "topk = 4\n",
    "\n",
    "# 모델 에측 맥주 평점\n",
    "rating_pred = model(x_test)\n",
    "\n",
    "rating_pred = rating_pred.cpu().data.numpy().copy()\n",
    "# print(rating_pred)\n",
    "\n",
    "rating_pred = rating_pred[kor_beer_idx]\n",
    "x_test = x_test[kor_beer_idx]\n",
    "# batch_user_index = user_ids.cpu().numpy()\n",
    "\n",
    "\n",
    "answers = x_test.cpu().numpy().argsort()[-topk:][::-1]\n",
    "# print(answers)\n",
    "\n",
    "# user가 리뷰를 남긴 맥주 추천하고 싶지 않을 때 사용\n",
    "\n",
    "# if novelty:\n",
    "# 좋아요, 싫어요로 직접 평가한 맥주는 다시 추천하지 않도록 설정\n",
    "rating_pred[x_test.cpu().numpy() == rating_list[0]] = 0\n",
    "rating_pred[x_test.cpu().numpy() == rating_list[2]] = 0\n",
    "# print(rating_pred)\n",
    "\n",
    "# topk 맥주 index\n",
    "ind = np.argpartition(rating_pred, -topk)[-topk:]\n",
    "# print(ind)\n",
    "\n",
    "# topk 맥주 index별 평점\n",
    "arr_ind = rating_pred[ind]\n",
    "# print(arr_ind)\n",
    "\n",
    "# 평점 기준으로 내림차순으로 정렬\n",
    "arr_ind_argsort = np.argsort(arr_ind)[::-1]\n",
    "# print(arr_ind_argsort)\n",
    "\n",
    "# rating 내림차순 모델 예측 topk 맥주 index \n",
    "topk_pred_list = ind[arr_ind_argsort]\n",
    "print(topk_pred_list)\n",
    "\n",
    "# rating 내림차순 모델 예측 맥주 평점 중 topk개\n",
    "topk_rating_list = rating_pred[topk_pred_list] #rating_pred[np.arange(len(rating_pred))[:, None], ind]\n",
    "print(topk_rating_list)"
   ]
  },
  {
   "cell_type": "code",
   "execution_count": 150,
   "id": "3bc6f34e-9951-4feb-8035-722319024bc9",
   "metadata": {},
   "outputs": [
    {
     "data": {
      "text/plain": [
       "array([38, 19, 52, 30])"
      ]
     },
     "execution_count": 150,
     "metadata": {},
     "output_type": "execute_result"
    }
   ],
   "source": [
    "# 모델 예측 선호 맥주 top4\n",
    "topk_pred_list"
   ]
  },
  {
   "cell_type": "code",
   "execution_count": 151,
   "id": "11f57e89-f6fd-4a3d-a989-4b2b229768e3",
   "metadata": {},
   "outputs": [
    {
     "data": {
      "text/plain": [
       "array([16, 77, 34, 35])"
      ]
     },
     "execution_count": 151,
     "metadata": {},
     "output_type": "execute_result"
    }
   ],
   "source": [
    "# 유저 실제 선호 맥주 top4\n",
    "answers"
   ]
  },
  {
   "cell_type": "code",
   "execution_count": 152,
   "id": "b30f5bdb-4698-47b6-8246-bba8660ac7fc",
   "metadata": {},
   "outputs": [
    {
     "data": {
      "text/plain": [
       "array([3.4209647, 3.3806093, 3.3294287, 3.3096955], dtype=float32)"
      ]
     },
     "execution_count": 152,
     "metadata": {},
     "output_type": "execute_result"
    }
   ],
   "source": [
    "rating_pred[topk_pred_list]"
   ]
  },
  {
   "cell_type": "code",
   "execution_count": 153,
   "id": "ff0240f1-a8af-4232-9094-422768412b90",
   "metadata": {},
   "outputs": [
    {
     "name": "stdout",
     "output_type": "stream",
     "text": [
      "good\n",
      "[0.0, 0.0, 0.0, 0.0, 0.0, 0.0, 0.0, 0.0, 0.0]\n",
      "\n",
      "unknown\n",
      "[3.1390154, 2.9578788, 2.6885693, 2.366922, 2.3635569, 2.126513, 1.8678279, 1.5981327, 1.3306361, 1.0609407]\n",
      "\n",
      "bad\n",
      "[0.0, 0.0, 0.0, 0.0, 0.0, 0.0, 0.0, 0.0, 0.0, 0.0, 0.0]\n",
      "\n"
     ]
    }
   ],
   "source": [
    "label_list = ['good', 'unknown', 'bad']\n",
    "\n",
    "for i, rating in enumerate(rating_list):\n",
    "    print(label_list[i])\n",
    "    print(list(sorted([rating_pred[i] for i in np.where(x_test.cpu().numpy() == rating)[0]], reverse=True)))\n",
    "    print()"
   ]
  },
  {
   "cell_type": "code",
   "execution_count": 154,
   "id": "e557d852-5b65-4b47-be97-e3184535d82b",
   "metadata": {},
   "outputs": [
    {
     "data": {
      "image/png": "[encoded data removed]",
      "text/plain": [
       "<Figure size 720x360 with 1 Axes>"
      ]
     },
     "metadata": {
      "needs_background": "light"
     },
     "output_type": "display_data"
    }
   ],
   "source": [
    "label_list = ['good', 'unknown', 'bad']\n",
    "\n",
    "fig, ax = plt.subplots(1, 1, figsize=(10, 5))\n",
    "\n",
    "for i, rating in enumerate(rating_list):\n",
    "    \n",
    "    ax = sns.kdeplot(sorted([rating_pred[i] for i in np.where(x_test.cpu().numpy() == rating)[0]], reverse=True), label = label_list[i], fill = True)\n",
    "\n",
    "plt.legend()\n",
    "plt.show()"
   ]
  },
  {
   "cell_type": "code",
   "execution_count": 155,
   "id": "bcbf81ba-6bde-4716-bd16-706bd7c7633c",
   "metadata": {},
   "outputs": [
    {
     "data": {
      "text/plain": [
       "<AxesSubplot:ylabel='Count'>"
      ]
     },
     "execution_count": 155,
     "metadata": {},
     "output_type": "execute_result"
    },
    {
     "data": {
      "image/png": "[encoded data removed]",
      "text/plain": [
       "<Figure size 432x288 with 1 Axes>"
      ]
     },
     "metadata": {
      "needs_background": "light"
     },
     "output_type": "display_data"
    }
   ],
   "source": [
    "sns.histplot(x_test.cpu().numpy(), bins = 10)"
   ]
  },
  {
   "cell_type": "code",
   "execution_count": 156,
   "id": "c65b32b9-bebf-42ac-9fec-e992862357db",
   "metadata": {},
   "outputs": [
    {
     "data": {
      "text/plain": [
       "<AxesSubplot:ylabel='Count'>"
      ]
     },
     "execution_count": 156,
     "metadata": {},
     "output_type": "execute_result"
    },
    {
     "data": {
      "image/png": "[encoded data removed]",
      "text/plain": [
       "<Figure size 432x288 with 1 Axes>"
      ]
     },
     "metadata": {
      "needs_background": "light"
     },
     "output_type": "display_data"
    }
   ],
   "source": [
    "sns.histplot(rating_pred)"
   ]
  },
  {
   "cell_type": "code",
   "execution_count": 157,
   "id": "b6f3abd2-16da-4e7d-8d4c-d55bca913da1",
   "metadata": {},
   "outputs": [
    {
     "data": {
      "text/plain": [
       "array([1.4724944, 2.5048585, 2.6916757, 1.8473616, 1.9333318, 2.9928658,\n",
       "       0.       , 0.       , 1.0609407, 3.269311 , 1.9110364, 2.0773952,\n",
       "       0.       , 2.8757148, 2.4127142, 1.8022404, 0.       , 1.3306361,\n",
       "       0.       , 3.3806093, 2.2658656, 2.3569367, 2.366922 , 1.7269574,\n",
       "       2.4274683, 2.6952438, 0.       , 2.7207973, 2.9087462, 3.0110261,\n",
       "       3.3096955, 0.       , 2.0088189, 1.6940594, 0.       , 0.       ,\n",
       "       0.       , 1.3019787, 3.4209647, 2.221292 , 2.1975222, 1.980085 ,\n",
       "       1.6719086, 2.046482 , 2.9578788, 2.0903986, 3.1886268, 1.8678279,\n",
       "       0.       , 2.0859718, 0.       , 1.9188781, 3.3294287, 1.9870416,\n",
       "       2.2455173, 1.8538606, 0.       , 2.0140269, 0.       , 0.       ,\n",
       "       1.5981327, 0.       , 2.6885693, 0.       , 2.126513 , 2.6851337,\n",
       "       2.3635569, 2.101599 , 3.034761 , 1.8858762, 3.1390154, 1.6498015,\n",
       "       0.       , 2.4805458, 1.152667 , 1.7970858, 2.631058 , 0.       ,\n",
       "       2.6861198, 0.       ], dtype=float32)"
      ]
     },
     "execution_count": 157,
     "metadata": {},
     "output_type": "execute_result"
    }
   ],
   "source": [
    "# 모델 예측 rating 점수\n",
    "rating_pred"
   ]
  },
  {
   "cell_type": "code",
   "execution_count": 158,
   "id": "c1f9edd6-a542-4479-9be5-6348791a9ef1",
   "metadata": {},
   "outputs": [
    {
     "data": {
      "text/plain": [
       "tensor([0.0000, 0.0000, 0.0000, 0.0000, 0.0000, 0.0000, 5.0000, 0.5000, 2.8000,\n",
       "        0.0000, 0.0000, 0.0000, 0.5000, 0.0000, 0.0000, 0.0000, 5.0000, 2.8000,\n",
       "        5.0000, 0.0000, 0.0000, 0.0000, 2.8000, 0.0000, 0.0000, 0.0000, 0.5000,\n",
       "        0.0000, 0.0000, 0.0000, 0.0000, 0.5000, 0.0000, 0.0000, 5.0000, 5.0000,\n",
       "        5.0000, 0.0000, 0.0000, 0.0000, 0.0000, 0.0000, 0.0000, 0.0000, 2.8000,\n",
       "        0.0000, 0.0000, 2.8000, 0.5000, 0.0000, 0.5000, 0.0000, 0.0000, 0.0000,\n",
       "        0.0000, 0.0000, 0.5000, 0.0000, 0.5000, 0.5000, 2.8000, 0.5000, 2.8000,\n",
       "        5.0000, 2.8000, 0.0000, 2.8000, 0.0000, 0.0000, 0.0000, 2.8000, 0.0000,\n",
       "        5.0000, 0.0000, 0.0000, 0.0000, 0.0000, 5.0000, 0.0000, 0.5000],\n",
       "       device='cuda:0')"
      ]
     },
     "execution_count": 158,
     "metadata": {},
     "output_type": "execute_result"
    }
   ],
   "source": [
    "x_test"
   ]
  },
  {
   "cell_type": "code",
   "execution_count": 83,
   "id": "1a327d6e-2041-4a3c-aa09-6f6a5cb765c0",
   "metadata": {},
   "outputs": [],
   "source": [
    "# np.where(x_test.cpu().numpy() == 0.5)[0]"
   ]
  },
  {
   "cell_type": "code",
   "execution_count": 36,
   "id": "2a55642a-c7c1-483a-9e82-67656da36a3c",
   "metadata": {},
   "outputs": [
    {
     "data": {
      "text/plain": [
       "{2, 9, 12, 24, 28, 30, 37, 42, 45, 48, 52, 56, 64, 72, 76}"
      ]
     },
     "execution_count": 36,
     "metadata": {},
     "output_type": "execute_result"
    }
   ],
   "source": [
    "# set(np.where(x_test.cpu().numpy() == 0.5)[0]) & set(np.where(rating_pred < 2.0)[0])"
   ]
  },
  {
   "cell_type": "code",
   "execution_count": 48,
   "id": "e7e96936-e3aa-43ce-bd76-b8ad25f9fd32",
   "metadata": {},
   "outputs": [
    {
     "data": {
      "text/plain": [
       "-4.3385754"
      ]
     },
     "execution_count": 48,
     "metadata": {},
     "output_type": "execute_result"
    }
   ],
   "source": [
    "# rating_pred[21]"
   ]
  },
  {
   "cell_type": "code",
   "execution_count": 159,
   "id": "ad5e0207-b8de-469b-8326-d857ca34f03d",
   "metadata": {},
   "outputs": [
    {
     "data": {
      "text/plain": [
       "array([  23,   37,  132,  148,  159,  201,  205,  210,  258,  364,  405,\n",
       "        410,  414,  415,  417,  419,  420,  432,  450,  553,  673, 6650,\n",
       "        692,  695, 9328, 4850,  866,  981,  982, 1001, 1003, 4886, 1078,\n",
       "       1128, 1144, 1147, 4924, 1339, 9038, 1503, 1612, 1697, 1705, 9072,\n",
       "       6652, 9318, 6686, 9322, 1945, 2170, 6740, 2186, 6813, 9333, 6835,\n",
       "       2834, 9334, 6282, 9329, 9319, 9234, 3545, 9237, 3721, 9253, 4664,\n",
       "       9325, 7341, 9327, 4050, 9321, 9320, 9331, 6011, 9326, 9323, 9330,\n",
       "       9324, 9332, 6276])"
      ]
     },
     "execution_count": 159,
     "metadata": {},
     "output_type": "execute_result"
    }
   ],
   "source": [
    "kor_beer_idx"
   ]
  },
  {
   "cell_type": "code",
   "execution_count": 160,
   "id": "023d5a6a-a58b-4e8a-b944-f7f607f7c4cb",
   "metadata": {},
   "outputs": [
    {
     "data": {
      "text/plain": [
       "array(['https://res.cloudinary.com/ratebeer/image/upload/w_400,c_limit,d_Default_Beer_qqrv7k.png,f_auto/beer_1088',\n",
       "       'https://res.cloudinary.com/ratebeer/image/upload/w_400,c_limit,d_Default_Beer_qqrv7k.png,f_auto/beer_2516',\n",
       "       'https://res.cloudinary.com/ratebeer/image/upload/w_400,c_limit,d_Default_Beer_qqrv7k.png,f_auto/beer_135361',\n",
       "       'https://res.cloudinary.com/ratebeer/image/upload/w_400,c_limit,d_Default_Beer_qqrv7k.png,f_auto/beer_75071'],\n",
       "      dtype=object)"
      ]
     },
     "execution_count": 160,
     "metadata": {},
     "output_type": "execute_result"
    }
   ],
   "source": [
    "# image url\n",
    "data[data['item_id_idx'].isin(kor_beer_idx[topk_pred_list])]['image_url'].unique()"
   ]
  },
  {
   "cell_type": "code",
   "execution_count": 161,
   "id": "468b0d25-c614-467e-ab62-63a9b586169e",
   "metadata": {},
   "outputs": [
    {
     "data": {
      "text/plain": [
       "array([  1088,   2516, 135361,  75071])"
      ]
     },
     "execution_count": 161,
     "metadata": {},
     "output_type": "execute_result"
    }
   ],
   "source": [
    "# 맥주 이름\n",
    "data[data['item_id_idx'].isin(kor_beer_idx[topk_pred_list])]['item'].unique()"
   ]
  },
  {
   "cell_type": "markdown",
   "id": "2696b346-a8d0-43eb-b0c2-270dad50c4d4",
   "metadata": {},
   "source": [
    "### 평가지표 점수"
   ]
  },
  {
   "cell_type": "code",
   "execution_count": 141,
   "id": "4e81f064-cf8e-4188-bcd0-905ef1d81419",
   "metadata": {},
   "outputs": [],
   "source": [
    "def ndcg_k_inf(actual, predicted, topk):\n",
    "    res = 0\n",
    "    k = min(topk, len(actual))\n",
    "    idcg = idcg_k(k)\n",
    "    dcg_k = sum(\n",
    "        [\n",
    "            int(predicted[j] in set(actual)) / math.log(j + 2, 2)\n",
    "            for j in range(topk)\n",
    "        ]\n",
    "    )\n",
    "    res += dcg_k / idcg\n",
    "    return res / float(len(actual))\n",
    "\n",
    "# Calculates the ideal discounted cumulative gain at k\n",
    "def idcg_k(k):\n",
    "    res = sum([1.0 / math.log(i + 2, 2) for i in range(k)])\n",
    "    if not res:\n",
    "        return 1.0\n",
    "    else:\n",
    "        return res\n",
    "\n",
    "def recall_at_k_inf(actual, predicted, topk):\n",
    "    act_set = set(actual)\n",
    "    pred_set = set(predicted[:topk])\n",
    "    if len(act_set) != 0:\n",
    "        sum_recall = len(act_set & pred_set) / float(len(act_set))\n",
    "        \n",
    "    return sum_recall"
   ]
  },
  {
   "cell_type": "code",
   "execution_count": 142,
   "id": "6ceded6d-5fd8-4038-844c-918bdf15c77f",
   "metadata": {},
   "outputs": [
    {
     "data": {
      "text/plain": [
       "0.0"
      ]
     },
     "execution_count": 142,
     "metadata": {},
     "output_type": "execute_result"
    }
   ],
   "source": [
    "recall_at_k_inf(answers, topk_pred_list, 4)"
   ]
  },
  {
   "cell_type": "code",
   "execution_count": 143,
   "id": "f9b9cb9a-5b0f-4477-9a7e-8a8caa35a1c0",
   "metadata": {},
   "outputs": [
    {
     "data": {
      "text/plain": [
       "0.0"
      ]
     },
     "execution_count": 143,
     "metadata": {},
     "output_type": "execute_result"
    }
   ],
   "source": [
    "ndcg_k_inf(answers, topk_pred_list, 4)"
   ]
  },
  {
   "cell_type": "code",
   "execution_count": 144,
   "id": "6d8a63f7-b824-4a2b-95fc-d0eee870e298",
   "metadata": {},
   "outputs": [
    {
     "data": {
      "text/html": [
       "<div>\n",
       "<style scoped>\n",
       "    .dataframe tbody tr th:only-of-type {\n",
       "        vertical-align: middle;\n",
       "    }\n",
       "\n",
       "    .dataframe tbody tr th {\n",
       "        vertical-align: top;\n",
       "    }\n",
       "\n",
       "    .dataframe thead th {\n",
       "        text-align: right;\n",
       "    }\n",
       "</style>\n",
       "<table border=\"1\" class=\"dataframe\">\n",
       "  <thead>\n",
       "    <tr style=\"text-align: right;\">\n",
       "      <th></th>\n",
       "      <th>item</th>\n",
       "      <th>user</th>\n",
       "      <th>rating</th>\n",
       "      <th>imageUrl</th>\n",
       "      <th>user/reviewcount</th>\n",
       "      <th>user_id_idx</th>\n",
       "      <th>item_id_idx</th>\n",
       "    </tr>\n",
       "  </thead>\n",
       "  <tbody>\n",
       "    <tr>\n",
       "      <th>0</th>\n",
       "      <td>75661</td>\n",
       "      <td>Grzesiek79</td>\n",
       "      <td>1.3</td>\n",
       "      <td>https://res.cloudinary.com/ratebeer/image/uplo...</td>\n",
       "      <td>55</td>\n",
       "      <td>3051</td>\n",
       "      <td>56</td>\n",
       "    </tr>\n",
       "    <tr>\n",
       "      <th>1</th>\n",
       "      <td>75661</td>\n",
       "      <td>GriZZZly</td>\n",
       "      <td>2.7</td>\n",
       "      <td>https://res.cloudinary.com/ratebeer/image/uplo...</td>\n",
       "      <td>13</td>\n",
       "      <td>3028</td>\n",
       "      <td>56</td>\n",
       "    </tr>\n",
       "    <tr>\n",
       "      <th>2</th>\n",
       "      <td>75661</td>\n",
       "      <td>bdleedahl</td>\n",
       "      <td>3.3</td>\n",
       "      <td>https://res.cloudinary.com/ratebeer/image/uplo...</td>\n",
       "      <td>31</td>\n",
       "      <td>8450</td>\n",
       "      <td>56</td>\n",
       "    </tr>\n",
       "    <tr>\n",
       "      <th>3</th>\n",
       "      <td>75661</td>\n",
       "      <td>DoctorHU</td>\n",
       "      <td>2.6</td>\n",
       "      <td>https://res.cloudinary.com/ratebeer/image/uplo...</td>\n",
       "      <td>48</td>\n",
       "      <td>2153</td>\n",
       "      <td>56</td>\n",
       "    </tr>\n",
       "    <tr>\n",
       "      <th>4</th>\n",
       "      <td>75661</td>\n",
       "      <td>McTapps</td>\n",
       "      <td>2.5</td>\n",
       "      <td>https://res.cloudinary.com/ratebeer/image/uplo...</td>\n",
       "      <td>49</td>\n",
       "      <td>4783</td>\n",
       "      <td>56</td>\n",
       "    </tr>\n",
       "    <tr>\n",
       "      <th>...</th>\n",
       "      <td>...</td>\n",
       "      <td>...</td>\n",
       "      <td>...</td>\n",
       "      <td>...</td>\n",
       "      <td>...</td>\n",
       "      <td>...</td>\n",
       "      <td>...</td>\n",
       "    </tr>\n",
       "    <tr>\n",
       "      <th>93615</th>\n",
       "      <td>703</td>\n",
       "      <td>Bov</td>\n",
       "      <td>3.0</td>\n",
       "      <td>https://res.cloudinary.com/ratebeer/image/uplo...</td>\n",
       "      <td>46</td>\n",
       "      <td>1215</td>\n",
       "      <td>10</td>\n",
       "    </tr>\n",
       "    <tr>\n",
       "      <th>93616</th>\n",
       "      <td>703</td>\n",
       "      <td>sallyclub99</td>\n",
       "      <td>4.2</td>\n",
       "      <td>https://res.cloudinary.com/ratebeer/image/uplo...</td>\n",
       "      <td>7</td>\n",
       "      <td>15196</td>\n",
       "      <td>10</td>\n",
       "    </tr>\n",
       "    <tr>\n",
       "      <th>93617</th>\n",
       "      <td>703</td>\n",
       "      <td>kublai3</td>\n",
       "      <td>2.7</td>\n",
       "      <td>https://res.cloudinary.com/ratebeer/image/uplo...</td>\n",
       "      <td>6</td>\n",
       "      <td>12689</td>\n",
       "      <td>10</td>\n",
       "    </tr>\n",
       "    <tr>\n",
       "      <th>93618</th>\n",
       "      <td>703</td>\n",
       "      <td>Aubrey</td>\n",
       "      <td>3.3</td>\n",
       "      <td>https://res.cloudinary.com/ratebeer/image/uplo...</td>\n",
       "      <td>23</td>\n",
       "      <td>520</td>\n",
       "      <td>10</td>\n",
       "    </tr>\n",
       "    <tr>\n",
       "      <th>93619</th>\n",
       "      <td>703</td>\n",
       "      <td>roland</td>\n",
       "      <td>3.3</td>\n",
       "      <td>https://res.cloudinary.com/ratebeer/image/uplo...</td>\n",
       "      <td>5</td>\n",
       "      <td>15050</td>\n",
       "      <td>10</td>\n",
       "    </tr>\n",
       "  </tbody>\n",
       "</table>\n",
       "<p>93620 rows × 7 columns</p>\n",
       "</div>"
      ],
      "text/plain": [
       "        item         user  rating  \\\n",
       "0      75661   Grzesiek79     1.3   \n",
       "1      75661     GriZZZly     2.7   \n",
       "2      75661    bdleedahl     3.3   \n",
       "3      75661     DoctorHU     2.6   \n",
       "4      75661      McTapps     2.5   \n",
       "...      ...          ...     ...   \n",
       "93615    703          Bov     3.0   \n",
       "93616    703  sallyclub99     4.2   \n",
       "93617    703      kublai3     2.7   \n",
       "93618    703       Aubrey     3.3   \n",
       "93619    703       roland     3.3   \n",
       "\n",
       "                                                imageUrl  user/reviewcount  \\\n",
       "0      https://res.cloudinary.com/ratebeer/image/uplo...                55   \n",
       "1      https://res.cloudinary.com/ratebeer/image/uplo...                13   \n",
       "2      https://res.cloudinary.com/ratebeer/image/uplo...                31   \n",
       "3      https://res.cloudinary.com/ratebeer/image/uplo...                48   \n",
       "4      https://res.cloudinary.com/ratebeer/image/uplo...                49   \n",
       "...                                                  ...               ...   \n",
       "93615  https://res.cloudinary.com/ratebeer/image/uplo...                46   \n",
       "93616  https://res.cloudinary.com/ratebeer/image/uplo...                 7   \n",
       "93617  https://res.cloudinary.com/ratebeer/image/uplo...                 6   \n",
       "93618  https://res.cloudinary.com/ratebeer/image/uplo...                23   \n",
       "93619  https://res.cloudinary.com/ratebeer/image/uplo...                 5   \n",
       "\n",
       "       user_id_idx  item_id_idx  \n",
       "0             3051           56  \n",
       "1             3028           56  \n",
       "2             8450           56  \n",
       "3             2153           56  \n",
       "4             4783           56  \n",
       "...            ...          ...  \n",
       "93615         1215           10  \n",
       "93616        15196           10  \n",
       "93617        12689           10  \n",
       "93618          520           10  \n",
       "93619        15050           10  \n",
       "\n",
       "[93620 rows x 7 columns]"
      ]
     },
     "execution_count": 144,
     "metadata": {},
     "output_type": "execute_result"
    }
   ],
   "source": [
    "data"
   ]
  },
  {
   "cell_type": "code",
   "execution_count": 40,
   "id": "454bb394-0e01-4e4e-803e-818850a8f3f1",
   "metadata": {},
   "outputs": [],
   "source": [
    "data.to_csv('../data/ratebeer_label_encoding.csv', index = False)"
   ]
  },
  {
   "cell_type": "code",
   "execution_count": null,
   "id": "7dab0412-aed7-4653-898d-4b0850302492",
   "metadata": {},
   "outputs": [],
   "source": []
  }
 ],
 "metadata": {
  "kernelspec": {
   "display_name": "beer",
   "language": "python",
   "name": "beer"
  },
  "language_info": {
   "codemirror_mode": {
    "name": "ipython",
    "version": 3
   },
   "file_extension": ".py",
   "mimetype": "text/x-python",
   "name": "python",
   "nbconvert_exporter": "python",
   "pygments_lexer": "ipython3",
   "version": "3.8.13"
  }
 },
 "nbformat": 4,
 "nbformat_minor": 5
}
