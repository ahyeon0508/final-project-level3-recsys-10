{
 "cells": [
  {
   "cell_type": "code",
   "execution_count": 30,
   "metadata": {},
   "outputs": [],
   "source": [
    "import os\n",
    "import pandas as pd\n",
    "import numpy as np"
   ]
  },
  {
   "cell_type": "markdown",
   "metadata": {},
   "source": [
    "### 데이터 전처리"
   ]
  },
  {
   "cell_type": "code",
   "execution_count": 66,
   "metadata": {},
   "outputs": [],
   "source": [
    "data_dir = \"../data\"\n",
    "preprocessed_output_dir = \"../data/train\"\n",
    "raw_ratebeer = pd.read_json(os.path.join(data_dir, \"raw_ratebeer.json\"))"
   ]
  },
  {
   "cell_type": "markdown",
   "metadata": {},
   "source": [
    "### 1. 결측치 제거 (label) reviewscore, beer_id NaN 제거"
   ]
  },
  {
   "cell_type": "code",
   "execution_count": 54,
   "metadata": {},
   "outputs": [],
   "source": [
    "# reviewscore\n",
    "print(raw_ratebeer.reviewscore.isna().sum())\n",
    "\n",
    "# 인덱스 초기화\n",
    "raw_ratebeer = raw_ratebeer[~raw_ratebeer.reviewscore.isna()]\n",
    "raw_ratebeer.index = range(len(raw_ratebeer))"
   ]
  },
  {
   "cell_type": "code",
   "execution_count": 55,
   "metadata": {},
   "outputs": [],
   "source": [
    "# reviewscore\n",
    "print(raw_ratebeer.beer_id.isna().sum())\n",
    "\n",
    "# 인덱스 초기화\n",
    "raw_ratebeer = raw_ratebeer[~raw_ratebeer.beer_id.isna()]\n",
    "raw_ratebeer.index = range(len(raw_ratebeer))"
   ]
  },
  {
   "cell_type": "markdown",
   "metadata": {},
   "source": [
    "### 2. 리뷰 개수가 10개 미만인 유저 제거"
   ]
  },
  {
   "cell_type": "code",
   "execution_count": 57,
   "metadata": {},
   "outputs": [],
   "source": [
    "# 리뷰 개수 10개 이상인 유저 리스트\n",
    "over10user_list = (raw_ratebeer[\"profile_name\"].value_counts() >= 10).where(lambda x: x == True).dropna().index.tolist()\n",
    "\n",
    "# 리뷰 개수 10개 이상인 유저 리스트를 받아와서 해당 유저들로만 구성된 데이터셋으로 업데이트\n",
    "raw_ratebeer = raw_ratebeer[raw_ratebeer[\"profile_name\"].isin(over10user_list)]\n",
    "\n",
    "# 인덱스 초기화\n",
    "raw_ratebeer = raw_ratebeer[~raw_ratebeer.reviewscore.isna()]\n",
    "raw_ratebeer.index = range(len(raw_ratebeer))"
   ]
  },
  {
   "cell_type": "markdown",
   "metadata": {},
   "source": [
    "### 3. user_id 등록"
   ]
  },
  {
   "cell_type": "code",
   "execution_count": 58,
   "metadata": {},
   "outputs": [
    {
     "name": "stdout",
     "output_type": "stream",
     "text": [
      "n_user= 14,701\n"
     ]
    }
   ],
   "source": [
    "n_user = raw_ratebeer.profile_name.nunique()\n",
    "print(f\"n_user= {n_user:,}\")"
   ]
  },
  {
   "cell_type": "code",
   "execution_count": 59,
   "metadata": {},
   "outputs": [
    {
     "data": {
      "text/html": [
       "<div>\n",
       "<style scoped>\n",
       "    .dataframe tbody tr th:only-of-type {\n",
       "        vertical-align: middle;\n",
       "    }\n",
       "\n",
       "    .dataframe tbody tr th {\n",
       "        vertical-align: top;\n",
       "    }\n",
       "\n",
       "    .dataframe thead th {\n",
       "        text-align: right;\n",
       "    }\n",
       "</style>\n",
       "<table border=\"1\" class=\"dataframe\">\n",
       "  <thead>\n",
       "    <tr style=\"text-align: right;\">\n",
       "      <th></th>\n",
       "      <th>reviewscore</th>\n",
       "      <th>reviewtime</th>\n",
       "      <th>reviewtext</th>\n",
       "      <th>appearance</th>\n",
       "      <th>aroma</th>\n",
       "      <th>palate</th>\n",
       "      <th>taste</th>\n",
       "      <th>overall</th>\n",
       "      <th>profile_name</th>\n",
       "      <th>beer_name</th>\n",
       "      <th>beer_id</th>\n",
       "      <th>brewer_id</th>\n",
       "      <th>abv</th>\n",
       "      <th>style</th>\n",
       "      <th>image_url</th>\n",
       "      <th>user_id</th>\n",
       "    </tr>\n",
       "  </thead>\n",
       "  <tbody>\n",
       "    <tr>\n",
       "      <th>0</th>\n",
       "      <td>3.9</td>\n",
       "      <td>2022-05-15T17:26:51.803Z</td>\n",
       "      <td>Tap at Fermentoren CPH. Poured a hazy golden c...</td>\n",
       "      <td>3.0</td>\n",
       "      <td>8.0</td>\n",
       "      <td>4.0</td>\n",
       "      <td>8.0</td>\n",
       "      <td>16.0</td>\n",
       "      <td>jmgreenuk</td>\n",
       "      <td>Hill Farmstead Arthur</td>\n",
       "      <td>131594.0</td>\n",
       "      <td>11233.0</td>\n",
       "      <td>6.0</td>\n",
       "      <td>Saison / Farmhouse / Grisette</td>\n",
       "      <td>https://res.cloudinary.com/ratebeer/image/uplo...</td>\n",
       "      <td>0</td>\n",
       "    </tr>\n",
       "  </tbody>\n",
       "</table>\n",
       "</div>"
      ],
      "text/plain": [
       "   reviewscore                reviewtime  \\\n",
       "0          3.9  2022-05-15T17:26:51.803Z   \n",
       "\n",
       "                                          reviewtext  appearance  aroma  \\\n",
       "0  Tap at Fermentoren CPH. Poured a hazy golden c...         3.0    8.0   \n",
       "\n",
       "   palate  taste  overall profile_name              beer_name   beer_id  \\\n",
       "0     4.0    8.0     16.0    jmgreenuk  Hill Farmstead Arthur  131594.0   \n",
       "\n",
       "   brewer_id  abv                          style  \\\n",
       "0    11233.0  6.0  Saison / Farmhouse / Grisette   \n",
       "\n",
       "                                           image_url  user_id  \n",
       "0  https://res.cloudinary.com/ratebeer/image/uplo...        0  "
      ]
     },
     "execution_count": 59,
     "metadata": {},
     "output_type": "execute_result"
    }
   ],
   "source": [
    "profile_name2idx = {profile_name:user_id for user_id, profile_name in enumerate(raw_ratebeer.profile_name.unique())}\n",
    "raw_ratebeer[\"user_id\"] = [profile_name2idx[profile_name] for profile_name in raw_ratebeer.profile_name]\n",
    "\n",
    "raw_ratebeer.head(1)"
   ]
  },
  {
   "cell_type": "markdown",
   "metadata": {},
   "source": [
    "### 4. user-password 등록 (임의설정) - varcha"
   ]
  },
  {
   "cell_type": "code",
   "execution_count": 60,
   "metadata": {},
   "outputs": [],
   "source": [
    "# np.random.seed(42)\n",
    "# profile_name2password = {profile_name:str(np.random.randint(low = 0, high = 99999999)).zfill(8) for profile_name in raw_ratebeer.profile_name.unique()}\n",
    "# raw_ratebeer[\"password\"] = [profile_name2password[profile_name] for profile_name in raw_ratebeer.profile_name]"
   ]
  },
  {
   "cell_type": "markdown",
   "metadata": {},
   "source": [
    "### 5. gender, birth"
   ]
  },
  {
   "cell_type": "code",
   "execution_count": 61,
   "metadata": {},
   "outputs": [],
   "source": [
    "####"
   ]
  },
  {
   "cell_type": "markdown",
   "metadata": {},
   "source": [
    "### 6. text 처리"
   ]
  },
  {
   "cell_type": "code",
   "execution_count": 62,
   "metadata": {},
   "outputs": [],
   "source": [
    "# raw_ratebeer[\"reviewtext\"].iloc[3138322].replace(\"......\", \"\")"
   ]
  },
  {
   "cell_type": "markdown",
   "metadata": {},
   "source": [
    "### 7. type 정정"
   ]
  },
  {
   "cell_type": "code",
   "execution_count": 91,
   "metadata": {},
   "outputs": [],
   "source": [
    "raw_ratebeer[\"beer_id\"] = raw_ratebeer[\"beer_id\"].astype(int)\n",
    "raw_ratebeer[\"brewer_id\"] = raw_ratebeer[\"brewer_id\"].astype(int)\n",
    "raw_ratebeer[\"user_id\"] = raw_ratebeer[\"user_id\"].astype(int)"
   ]
  },
  {
   "cell_type": "markdown",
   "metadata": {},
   "source": [
    "### 8. training file making"
   ]
  },
  {
   "cell_type": "code",
   "execution_count": 92,
   "metadata": {},
   "outputs": [
    {
     "data": {
      "text/plain": [
       "user_id        0\n",
       "beer_id        0\n",
       "reviewscore    0\n",
       "reviewtime     0\n",
       "dtype: int64"
      ]
     },
     "execution_count": 92,
     "metadata": {},
     "output_type": "execute_result"
    }
   ],
   "source": [
    "raw_ratebeer[[\"user_id\", \"beer_id\", \"reviewscore\", \"reviewtime\"]].isna().sum()"
   ]
  },
  {
   "cell_type": "code",
   "execution_count": 93,
   "metadata": {},
   "outputs": [
    {
     "data": {
      "text/html": [
       "<div>\n",
       "<style scoped>\n",
       "    .dataframe tbody tr th:only-of-type {\n",
       "        vertical-align: middle;\n",
       "    }\n",
       "\n",
       "    .dataframe tbody tr th {\n",
       "        vertical-align: top;\n",
       "    }\n",
       "\n",
       "    .dataframe thead th {\n",
       "        text-align: right;\n",
       "    }\n",
       "</style>\n",
       "<table border=\"1\" class=\"dataframe\">\n",
       "  <thead>\n",
       "    <tr style=\"text-align: right;\">\n",
       "      <th></th>\n",
       "      <th>user</th>\n",
       "      <th>item</th>\n",
       "      <th>rating</th>\n",
       "      <th>time</th>\n",
       "    </tr>\n",
       "  </thead>\n",
       "  <tbody>\n",
       "    <tr>\n",
       "      <th>0</th>\n",
       "      <td>0</td>\n",
       "      <td>131594</td>\n",
       "      <td>3.9</td>\n",
       "      <td>2022-05-15T17:26:51.803Z</td>\n",
       "    </tr>\n",
       "  </tbody>\n",
       "</table>\n",
       "</div>"
      ],
      "text/plain": [
       "   user    item  rating                      time\n",
       "0     0  131594     3.9  2022-05-15T17:26:51.803Z"
      ]
     },
     "execution_count": 93,
     "metadata": {},
     "output_type": "execute_result"
    }
   ],
   "source": [
    "train_ratings = raw_ratebeer[[\"user_id\", \"beer_id\", \"reviewscore\", \"reviewtime\"]]\n",
    "train_ratings.columns = [\"user\", \"item\", \"rating\", \"time\"]\n",
    "train_ratings.head(1)"
   ]
  },
  {
   "cell_type": "code",
   "execution_count": 96,
   "metadata": {},
   "outputs": [],
   "source": [
    "train_ratings.to_csv(os.path.join(preprocessed_output_dir, \"train_ratings.csv\"), index=False)"
   ]
  },
  {
   "cell_type": "markdown",
   "metadata": {},
   "source": [
    "### 8. attribute extraction (style)"
   ]
  },
  {
   "cell_type": "code",
   "execution_count": 97,
   "metadata": {},
   "outputs": [
    {
     "name": "stderr",
     "output_type": "stream",
     "text": [
      "<ipython-input-97-4ab092addaaa>:1: FutureWarning: Indexing with multiple keys (implicitly converted to a tuple of keys) will be deprecated, use a list instead.\n",
      "  style_df = raw_ratebeer.groupby(\"beer_id\")[\"beer_id\", \"style\"].head(1)\n"
     ]
    }
   ],
   "source": [
    "style_df = raw_ratebeer.groupby(\"beer_id\")[\"beer_id\", \"style\"].head(1)\n",
    "style_df.index = range(len(style_df))"
   ]
  },
  {
   "cell_type": "code",
   "execution_count": 100,
   "metadata": {},
   "outputs": [
    {
     "data": {
      "text/html": [
       "<div>\n",
       "<style scoped>\n",
       "    .dataframe tbody tr th:only-of-type {\n",
       "        vertical-align: middle;\n",
       "    }\n",
       "\n",
       "    .dataframe tbody tr th {\n",
       "        vertical-align: top;\n",
       "    }\n",
       "\n",
       "    .dataframe thead th {\n",
       "        text-align: right;\n",
       "    }\n",
       "</style>\n",
       "<table border=\"1\" class=\"dataframe\">\n",
       "  <thead>\n",
       "    <tr style=\"text-align: right;\">\n",
       "      <th></th>\n",
       "      <th>beer_id</th>\n",
       "      <th>style</th>\n",
       "    </tr>\n",
       "  </thead>\n",
       "  <tbody>\n",
       "    <tr>\n",
       "      <th>0</th>\n",
       "      <td>131594</td>\n",
       "      <td>Saison / Farmhouse / Grisette</td>\n",
       "    </tr>\n",
       "    <tr>\n",
       "      <th>1</th>\n",
       "      <td>121536</td>\n",
       "      <td>Specialty Grain - Other</td>\n",
       "    </tr>\n",
       "    <tr>\n",
       "      <th>2</th>\n",
       "      <td>12617</td>\n",
       "      <td>Pale Lager - American</td>\n",
       "    </tr>\n",
       "    <tr>\n",
       "      <th>3</th>\n",
       "      <td>14940</td>\n",
       "      <td>IPA - English</td>\n",
       "    </tr>\n",
       "    <tr>\n",
       "      <th>4</th>\n",
       "      <td>25933</td>\n",
       "      <td>Blonde Ale / Golden Ale</td>\n",
       "    </tr>\n",
       "    <tr>\n",
       "      <th>...</th>\n",
       "      <td>...</td>\n",
       "      <td>...</td>\n",
       "    </tr>\n",
       "    <tr>\n",
       "      <th>9330</th>\n",
       "      <td>118583</td>\n",
       "      <td>Red Ale - Irish</td>\n",
       "    </tr>\n",
       "    <tr>\n",
       "      <th>9331</th>\n",
       "      <td>786</td>\n",
       "      <td>Amber Lager - International / Vienna</td>\n",
       "    </tr>\n",
       "    <tr>\n",
       "      <th>9332</th>\n",
       "      <td>51898</td>\n",
       "      <td>Stout - Imperial</td>\n",
       "    </tr>\n",
       "    <tr>\n",
       "      <th>9333</th>\n",
       "      <td>5067</td>\n",
       "      <td>Red Ale / International Amber Ale</td>\n",
       "    </tr>\n",
       "    <tr>\n",
       "      <th>9334</th>\n",
       "      <td>3324</td>\n",
       "      <td>Scottish Ale</td>\n",
       "    </tr>\n",
       "  </tbody>\n",
       "</table>\n",
       "<p>9335 rows × 2 columns</p>\n",
       "</div>"
      ],
      "text/plain": [
       "      beer_id                                 style\n",
       "0      131594         Saison / Farmhouse / Grisette\n",
       "1      121536               Specialty Grain - Other\n",
       "2       12617                 Pale Lager - American\n",
       "3       14940                         IPA - English\n",
       "4       25933               Blonde Ale / Golden Ale\n",
       "...       ...                                   ...\n",
       "9330   118583                       Red Ale - Irish\n",
       "9331      786  Amber Lager - International / Vienna\n",
       "9332    51898                      Stout - Imperial\n",
       "9333     5067     Red Ale / International Amber Ale\n",
       "9334     3324                          Scottish Ale\n",
       "\n",
       "[9335 rows x 2 columns]"
      ]
     },
     "execution_count": 100,
     "metadata": {},
     "output_type": "execute_result"
    }
   ],
   "source": [
    "style_df"
   ]
  },
  {
   "cell_type": "code",
   "execution_count": 104,
   "metadata": {},
   "outputs": [],
   "source": [
    "array, index = pd.factorize(style_df[\"style\"])\n",
    "style_df[\"style\"] = array\n",
    "style_df.groupby(\"beer_id\")[\"style\"].apply(list).to_json(os.path.join(preprocessed_output_dir, \"rb_item2attributes.json\"))"
   ]
  },
  {
   "cell_type": "code",
   "execution_count": null,
   "metadata": {},
   "outputs": [],
   "source": []
  }
 ],
 "metadata": {
  "interpreter": {
   "hash": "1f987112d13c3a5109fc24d7b4f4d6f95510a722443984c5c3a93525168aad10"
  },
  "kernelspec": {
   "display_name": "Python 3.8.5 ('.final': venv)",
   "language": "python",
   "name": "python3"
  },
  "language_info": {
   "codemirror_mode": {
    "name": "ipython",
    "version": 3
   },
   "file_extension": ".py",
   "mimetype": "text/x-python",
   "name": "python",
   "nbconvert_exporter": "python",
   "pygments_lexer": "ipython3",
   "version": "3.8.5"
  },
  "orig_nbformat": 4
 },
 "nbformat": 4,
 "nbformat_minor": 2
}
