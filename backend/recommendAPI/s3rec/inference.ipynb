{
 "cells": [
  {
   "cell_type": "code",
   "execution_count": 1,
   "metadata": {},
   "outputs": [],
   "source": [
    "import os\n",
    "import torch\n",
    "from torch.utils.data import DataLoader, SequentialSampler\n",
    "\n",
    "from datasets import SASRecDataset\n",
    "from models import S3RecModel\n",
    "from trainers import FinetuneTrainer"
   ]
  },
  {
   "cell_type": "code",
   "execution_count": 2,
   "metadata": {},
   "outputs": [],
   "source": [
    "from utils import (\n",
    "    check_path,\n",
    "    generate_submission_file,\n",
    "    get_item2attribute_json,\n",
    "    get_user_seqs,\n",
    "    set_seed,\n",
    "    __save_labels\n",
    ")"
   ]
  },
  {
   "cell_type": "code",
   "execution_count": 3,
   "metadata": {},
   "outputs": [],
   "source": [
    "from collections import namedtuple\n",
    "args = namedtuple(\"Config\", [])"
   ]
  },
  {
   "cell_type": "code",
   "execution_count": 4,
   "metadata": {},
   "outputs": [],
   "source": [
    "args.data_dir = \"../../../data/train/\"\n",
    "args.output_dir = \"output/\"\n",
    "args.data_name  = \"rb\"\n",
    "args.model_name = \"Finetune_full\"\n",
    "args.hidden_size = 64 # hidden size of transformer model\n",
    "args.num_hidden_layers = 2 # number of layers\n",
    "args.num_attention_heads = 2 # num_attention_heads\n",
    "args.hidden_act = \"gelu\"\n",
    "args.attention_probs_dropout_prob = 0.5 # attention dropout p\n",
    "args.hidden_dropout_prob = 0.5 # hidden dropout p\n",
    "args.initializer_range=0.02\n",
    "args.max_seq_length=50\n",
    "\n",
    "# train args\n",
    "args.lr=0.001 # \"learning rate of adam\"\n",
    "args.batch_size=256 # number of batch_size\"\n",
    "args.epochs=200#\"number of epochs\")\n",
    "args.log_freq=1 #per epoch print res\")\n",
    "args.seed=42\n",
    "args.weight_decay=0.0 #, help=\"weight_decay of adam\"\n",
    "args.adam_beta1=0.9 #\"adam first beta value\"\n",
    "args.adam_beta2=0.999 #\"adam second beta value\"\n",
    "args.gpu_id=\"0\"#\"gpu_id\""
   ]
  },
  {
   "cell_type": "code",
   "execution_count": 5,
   "metadata": {},
   "outputs": [],
   "source": [
    "set_seed(args.seed)\n",
    "check_path(args.output_dir) # output_dir 로 설정한 경로가 없으면 생성"
   ]
  },
  {
   "cell_type": "code",
   "execution_count": 6,
   "metadata": {},
   "outputs": [],
   "source": [
    "args.no_cuda = False # gpu 있음\n",
    "os.environ[\"CUDA_VISIBLE_DEVICES\"] = args.gpu_id\n",
    "args.cuda_condition = torch.cuda.is_available() and not args.no_cuda"
   ]
  },
  {
   "cell_type": "code",
   "execution_count": 7,
   "metadata": {},
   "outputs": [],
   "source": [
    "args.data_file = args.data_dir + \"train_ratings.csv\"\n",
    "item2attribute_file = args.data_dir + args.data_name + \"_item2attributes.json\""
   ]
  },
  {
   "cell_type": "code",
   "execution_count": 8,
   "metadata": {},
   "outputs": [],
   "source": [
    "import pandas as pd\n",
    "# args.data_fil 여기경로를 지나쳐서 index에 관한 정보를 한 번 업데이트하고 지나가자.\n",
    "# def get_user_seqs(data_file):\n",
    "# 이거는 training 한정\n",
    "rating_df = pd.read_csv(args.data_file)\n",
    "\n",
    "\n",
    "\n",
    "\n",
    "\n",
    "\n",
    "\n",
    "\n",
    "# user_seq, max_item, _, _, submission_rating_matrix = get_user_seqs(args.data_file)\n",
    "# item2attribute, attribute_size = get_item2attribute_json(item2attribute_file)\n",
    "\n",
    "# args.item_size = max_item + 2\n",
    "# args.mask_id = max_item + 1\n",
    "# args.attribute_size = attribute_size + 1"
   ]
  },
  {
   "cell_type": "code",
   "execution_count": null,
   "metadata": {},
   "outputs": [],
   "source": [
    "# le = LabelEncoder()\n",
    "# if is_train:\n",
    "#     # For UNKNOWN class\n",
    "#     a = df[col].unique().tolist() + [\"unknown\"]\n",
    "#     le.fit(a)\n",
    "#     self.__save_labels(le, col)\n",
    "# else:\n",
    "#     label_path = os.path.join(self.args.asset_dir, col + \"_classes.npy\")\n",
    "#     le.classes_ = np.load(label_path)\n",
    "\n",
    "#     df[col] = np.where(df[col].isin(le.classes_), df[col], \"unknown\")\n"
   ]
  },
  {
   "cell_type": "code",
   "execution_count": 9,
   "metadata": {},
   "outputs": [
    {
     "ename": "TypeError",
     "evalue": "__save_labels() missing 1 required positional argument: 'name'",
     "output_type": "error",
     "traceback": [
      "\u001b[0;31m---------------------------------------------------------------------------\u001b[0m",
      "\u001b[0;31mTypeError\u001b[0m                                 Traceback (most recent call last)",
      "\u001b[0;32m<ipython-input-9-681cb9c03823>\u001b[0m in \u001b[0;36m<module>\u001b[0;34m\u001b[0m\n\u001b[1;32m      4\u001b[0m \u001b[0mraw_item_list\u001b[0m \u001b[0;34m=\u001b[0m \u001b[0mrating_df\u001b[0m\u001b[0;34m[\u001b[0m\u001b[0;34m\"item\"\u001b[0m\u001b[0;34m]\u001b[0m\u001b[0;34m.\u001b[0m\u001b[0munique\u001b[0m\u001b[0;34m(\u001b[0m\u001b[0;34m)\u001b[0m\u001b[0;34m.\u001b[0m\u001b[0mtolist\u001b[0m\u001b[0;34m(\u001b[0m\u001b[0;34m)\u001b[0m\u001b[0;34m\u001b[0m\u001b[0;34m\u001b[0m\u001b[0m\n\u001b[1;32m      5\u001b[0m \u001b[0mle\u001b[0m\u001b[0;34m.\u001b[0m\u001b[0mfit\u001b[0m\u001b[0;34m(\u001b[0m\u001b[0mraw_item_list\u001b[0m\u001b[0;34m)\u001b[0m\u001b[0;34m\u001b[0m\u001b[0;34m\u001b[0m\u001b[0m\n\u001b[0;32m----> 6\u001b[0;31m \u001b[0m__save_labels\u001b[0m\u001b[0;34m(\u001b[0m\u001b[0mle\u001b[0m\u001b[0;34m,\u001b[0m \u001b[0;34m\"item\"\u001b[0m\u001b[0;34m)\u001b[0m\u001b[0;34m\u001b[0m\u001b[0;34m\u001b[0m\u001b[0m\n\u001b[0m",
      "\u001b[0;31mTypeError\u001b[0m: __save_labels() missing 1 required positional argument: 'name'"
     ]
    }
   ],
   "source": [
    "rating_df[\"item\"].nunique()\n",
    "from sklearn.preprocessing import LabelEncoder\n",
    "le = LabelEncoder()\n",
    "raw_item_list = rating_df[\"item\"].unique().tolist()\n",
    "le.fit(raw_item_list)\n",
    "__save_labels(le, \"item\")"
   ]
  },
  {
   "cell_type": "code",
   "execution_count": 25,
   "metadata": {},
   "outputs": [
    {
     "name": "stdout",
     "output_type": "stream",
     "text": [
      "<class '__main__.Config'>\n"
     ]
    }
   ],
   "source": [
    "# save model args\n",
    "args_str = f\"{args.model_name}-{args.data_name}\"\n",
    "\n",
    "# print(args)\n",
    "\n",
    "# args.item2attribute = item2attribute\n",
    "\n",
    "# args.train_matrix = submission_rating_matrix\n",
    "\n",
    "checkpoint = args_str + \".pt\"\n",
    "args.checkpoint_path = os.path.join(args.output_dir, checkpoint)\n",
    "\n",
    "# submission_dataset = SASRecDataset(args, user_seq, data_type=\"submission\")\n",
    "# submission_sampler = SequentialSampler(submission_dataset)\n",
    "# submission_dataloader = DataLoader(\n",
    "#     submission_dataset, sampler=submission_sampler, batch_size=args.batch_size\n",
    "# )"
   ]
  },
  {
   "cell_type": "code",
   "execution_count": null,
   "metadata": {},
   "outputs": [],
   "source": [
    "# 따로 저장해야하는 것들\n",
    "# max_item # "
   ]
  },
  {
   "cell_type": "code",
   "execution_count": 28,
   "metadata": {},
   "outputs": [
    {
     "ename": "AttributeError",
     "evalue": "type object 'Config' has no attribute 'item_size'",
     "output_type": "error",
     "traceback": [
      "\u001b[0;31m---------------------------------------------------------------------------\u001b[0m",
      "\u001b[0;31mAttributeError\u001b[0m                            Traceback (most recent call last)",
      "\u001b[0;32m<ipython-input-28-483304666d9b>\u001b[0m in \u001b[0;36m<module>\u001b[0;34m\u001b[0m\n\u001b[0;32m----> 1\u001b[0;31m \u001b[0mmodel\u001b[0m \u001b[0;34m=\u001b[0m \u001b[0mS3RecModel\u001b[0m\u001b[0;34m(\u001b[0m\u001b[0margs\u001b[0m\u001b[0;34m=\u001b[0m\u001b[0margs\u001b[0m\u001b[0;34m)\u001b[0m\u001b[0;34m\u001b[0m\u001b[0;34m\u001b[0m\u001b[0m\n\u001b[0m",
      "\u001b[0;32m~/workspace/final-project-level3-recsys-10/backend/recommendAPI/s3rec/models.py\u001b[0m in \u001b[0;36m__init__\u001b[0;34m(self, args)\u001b[0m\n\u001b[1;32m      9\u001b[0m         \u001b[0msuper\u001b[0m\u001b[0;34m(\u001b[0m\u001b[0mS3RecModel\u001b[0m\u001b[0;34m,\u001b[0m \u001b[0mself\u001b[0m\u001b[0;34m)\u001b[0m\u001b[0;34m.\u001b[0m\u001b[0m__init__\u001b[0m\u001b[0;34m(\u001b[0m\u001b[0;34m)\u001b[0m\u001b[0;34m\u001b[0m\u001b[0;34m\u001b[0m\u001b[0m\n\u001b[1;32m     10\u001b[0m         self.item_embeddings = nn.Embedding(\n\u001b[0;32m---> 11\u001b[0;31m             \u001b[0margs\u001b[0m\u001b[0;34m.\u001b[0m\u001b[0mitem_size\u001b[0m\u001b[0;34m,\u001b[0m \u001b[0margs\u001b[0m\u001b[0;34m.\u001b[0m\u001b[0mhidden_size\u001b[0m\u001b[0;34m,\u001b[0m \u001b[0mpadding_idx\u001b[0m\u001b[0;34m=\u001b[0m\u001b[0;36m0\u001b[0m\u001b[0;34m\u001b[0m\u001b[0;34m\u001b[0m\u001b[0m\n\u001b[0m\u001b[1;32m     12\u001b[0m         )\n\u001b[1;32m     13\u001b[0m         self.attribute_embeddings = nn.Embedding(\n",
      "\u001b[0;31mAttributeError\u001b[0m: type object 'Config' has no attribute 'item_size'"
     ]
    }
   ],
   "source": [
    "model = S3RecModel(args=args)"
   ]
  }
 ],
 "metadata": {
  "interpreter": {
   "hash": "1f987112d13c3a5109fc24d7b4f4d6f95510a722443984c5c3a93525168aad10"
  },
  "kernelspec": {
   "display_name": "Python 3.8.5 ('.final': venv)",
   "language": "python",
   "name": "python3"
  },
  "language_info": {
   "codemirror_mode": {
    "name": "ipython",
    "version": 3
   },
   "file_extension": ".py",
   "mimetype": "text/x-python",
   "name": "python",
   "nbconvert_exporter": "python",
   "pygments_lexer": "ipython3",
   "version": "3.8.5"
  },
  "orig_nbformat": 4
 },
 "nbformat": 4,
 "nbformat_minor": 2
}
