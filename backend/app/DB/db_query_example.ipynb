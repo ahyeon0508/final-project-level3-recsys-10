{
 "cells": [
  {
   "cell_type": "code",
   "execution_count": 10,
   "metadata": {},
   "outputs": [],
   "source": [
    "from typing import List\n",
    "# from fastapi import Depends, FastAPI, HTTPException\n",
    "import pandas as pd\n",
    "import test_models as models\n",
    "from test_database import SessionLocal, engine\n",
    "\n",
    "from sqlalchemy.orm import Session\n",
    "from sqlalchemy import func"
   ]
  },
  {
   "cell_type": "code",
   "execution_count": 2,
   "metadata": {},
   "outputs": [],
   "source": [
    "models.Base.metadata.create_all(bind=engine)"
   ]
  },
  {
   "cell_type": "code",
   "execution_count": 3,
   "metadata": {},
   "outputs": [
    {
     "name": "stdout",
     "output_type": "stream",
     "text": [
      "17164\n"
     ]
    }
   ],
   "source": [
    "with SessionLocal() as db:\n",
    "    print(db.query(func.max(models.User.user_id)).scalar())\n",
    "    db.close()"
   ]
  },
  {
   "cell_type": "code",
   "execution_count": 28,
   "metadata": {},
   "outputs": [
    {
     "data": {
      "text/html": [
       "<div>\n",
       "<style scoped>\n",
       "    .dataframe tbody tr th:only-of-type {\n",
       "        vertical-align: middle;\n",
       "    }\n",
       "\n",
       "    .dataframe tbody tr th {\n",
       "        vertical-align: top;\n",
       "    }\n",
       "\n",
       "    .dataframe thead th {\n",
       "        text-align: right;\n",
       "    }\n",
       "</style>\n",
       "<table border=\"1\" class=\"dataframe\">\n",
       "  <thead>\n",
       "    <tr style=\"text-align: right;\">\n",
       "      <th></th>\n",
       "      <th>beer_id</th>\n",
       "      <th>count</th>\n",
       "      <th>revieScore_avg</th>\n",
       "    </tr>\n",
       "  </thead>\n",
       "  <tbody>\n",
       "    <tr>\n",
       "      <th>0</th>\n",
       "      <td>580686</td>\n",
       "      <td>1</td>\n",
       "      <td>4.100000</td>\n",
       "    </tr>\n",
       "    <tr>\n",
       "      <th>1</th>\n",
       "      <td>135361</td>\n",
       "      <td>2796</td>\n",
       "      <td>3.732940</td>\n",
       "    </tr>\n",
       "    <tr>\n",
       "      <th>2</th>\n",
       "      <td>1088</td>\n",
       "      <td>3664</td>\n",
       "      <td>3.622817</td>\n",
       "    </tr>\n",
       "    <tr>\n",
       "      <th>3</th>\n",
       "      <td>647</td>\n",
       "      <td>3517</td>\n",
       "      <td>3.604834</td>\n",
       "    </tr>\n",
       "    <tr>\n",
       "      <th>4</th>\n",
       "      <td>814</td>\n",
       "      <td>2910</td>\n",
       "      <td>3.524811</td>\n",
       "    </tr>\n",
       "    <tr>\n",
       "      <th>...</th>\n",
       "      <td>...</td>\n",
       "      <td>...</td>\n",
       "      <td>...</td>\n",
       "    </tr>\n",
       "    <tr>\n",
       "      <th>76</th>\n",
       "      <td>4007</td>\n",
       "      <td>902</td>\n",
       "      <td>1.814745</td>\n",
       "    </tr>\n",
       "    <tr>\n",
       "      <th>77</th>\n",
       "      <td>10726</td>\n",
       "      <td>165</td>\n",
       "      <td>1.800606</td>\n",
       "    </tr>\n",
       "    <tr>\n",
       "      <th>78</th>\n",
       "      <td>742</td>\n",
       "      <td>4076</td>\n",
       "      <td>1.797816</td>\n",
       "    </tr>\n",
       "    <tr>\n",
       "      <th>79</th>\n",
       "      <td>405</td>\n",
       "      <td>2403</td>\n",
       "      <td>1.687765</td>\n",
       "    </tr>\n",
       "    <tr>\n",
       "      <th>80</th>\n",
       "      <td>473</td>\n",
       "      <td>4429</td>\n",
       "      <td>1.545044</td>\n",
       "    </tr>\n",
       "  </tbody>\n",
       "</table>\n",
       "<p>81 rows × 3 columns</p>\n",
       "</div>"
      ],
      "text/plain": [
       "    beer_id  count  revieScore_avg\n",
       "0    580686      1        4.100000\n",
       "1    135361   2796        3.732940\n",
       "2      1088   3664        3.622817\n",
       "3       647   3517        3.604834\n",
       "4       814   2910        3.524811\n",
       "..      ...    ...             ...\n",
       "76     4007    902        1.814745\n",
       "77    10726    165        1.800606\n",
       "78      742   4076        1.797816\n",
       "79      405   2403        1.687765\n",
       "80      473   4429        1.545044\n",
       "\n",
       "[81 rows x 3 columns]"
      ]
     },
     "metadata": {},
     "output_type": "display_data"
    }
   ],
   "source": [
    "with SessionLocal() as db:\n",
    "    # reviewScore\n",
    "    # reviewNum\n",
    "    s= \"\"\"\n",
    "    select beer_id, count(beer_id), avg(reviewScore)\n",
    "    from review\n",
    "    group by beer_id\n",
    "    order by avg(reviewScore) desc\n",
    "    \"\"\"\n",
    "\n",
    "    # # steam_Rating\n",
    "    # s=\"\"\"\n",
    "    \n",
    "    # \"\"\"\n",
    "    # \n",
    "    # display(db.execute(s).all())\n",
    "    display(pd.DataFrame(db.execute(s).all(), columns=['beer_id', 'count','revieScore_avg']))\n",
    "    db.close()"
   ]
  },
  {
   "cell_type": "code",
   "execution_count": null,
   "metadata": {},
   "outputs": [],
   "source": []
  }
 ],
 "metadata": {
  "interpreter": {
   "hash": "69ccd8b2b1793234eb7e397f21e18a6106f70dc52ce4f918b9d4e80ae8ba7681"
  },
  "kernelspec": {
   "display_name": "Python 3.8.5 ('4beer-fastapi-hM_wqFjO-py3.8')",
   "language": "python",
   "name": "python3"
  },
  "language_info": {
   "codemirror_mode": {
    "name": "ipython",
    "version": 3
   },
   "file_extension": ".py",
   "mimetype": "text/x-python",
   "name": "python",
   "nbconvert_exporter": "python",
   "pygments_lexer": "ipython3",
   "version": "3.8.5"
  },
  "orig_nbformat": 4
 },
 "nbformat": 4,
 "nbformat_minor": 2
}
